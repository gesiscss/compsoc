{
 "cells": [
  {
   "cell_type": "markdown",
   "metadata": {},
   "source": [
    "[Home](index.ipynb) > [Data Collections](data_collections.ipynb) > Elite families"
   ]
  },
  {
   "cell_type": "markdown",
   "metadata": {},
   "source": [
    "<img style='float: left;' src='https://www.gesis.org/fileadmin/styles/img/gs_home_logo_en.svg'>"
   ]
  },
  {
   "cell_type": "markdown",
   "metadata": {},
   "source": [
    "### ``compsoc`` – *Notebooks for Computational Sociology* (alpha)"
   ]
  },
  {
   "cell_type": "markdown",
   "metadata": {},
   "source": [
    "# Copenhagen Networks Study: Multiplex interactions among more than 700 university students\n",
    "Authors: [Haiko Lietz](https://www.gesis.org/person/haiko.lietz)\n",
    "\n",
    "Version: 0.91 (14.09.2020)\n",
    "\n",
    "Please cite as: Lietz, Haiko (2020). Copenhagen Networks Study: Multiplex interactions among more than 700 university students. Version 0.91 (14.09.2020). *compsoc – Notebooks for Computational Sociology*. GESIS. url:[github.com/gesiscss/compsoc](https://github.com/gesiscss/compsoc)"
   ]
  },
  {
   "cell_type": "markdown",
   "metadata": {},
   "source": [
    "<div class=\"alert alert-info\">\n",
    "<big><b>Significance</b></big>\n",
    "\n",
    "Bla.\n",
    "</div>"
   ]
  },
  {
   "cell_type": "markdown",
   "metadata": {},
   "source": [
    "## Introduction\n",
    "Bla.\n",
    "\n",
    "**In this notebook**, bla."
   ]
  },
  {
   "cell_type": "markdown",
   "metadata": {},
   "source": [
    "## Dependencies and settings"
   ]
  },
  {
   "cell_type": "code",
   "execution_count": 66,
   "metadata": {},
   "outputs": [],
   "source": [
    "import compsoc as cs\n",
    "import itertools\n",
    "#import matplotlib.pyplot as plt\n",
    "import networkx as nx\n",
    "import pandas as pd\n",
    "#import warnings"
   ]
  },
  {
   "cell_type": "code",
   "execution_count": 2,
   "metadata": {},
   "outputs": [],
   "source": [
    "#warnings.filterwarnings('ignore')"
   ]
  },
  {
   "cell_type": "code",
   "execution_count": null,
   "metadata": {},
   "outputs": [],
   "source": []
  },
  {
   "cell_type": "code",
   "execution_count": null,
   "metadata": {},
   "outputs": [],
   "source": []
  },
  {
   "cell_type": "markdown",
   "metadata": {},
   "source": [
    "Sapiezynski, P., Stopczynski, A., Lassen, D.D. et al. Interaction data from the Copenhagen Networks Study. Sci Data 6, 315 (2019). https://doi.org/10.1038/s41597-019-0325-x\n",
    "\n",
    "The Copenhagen Networks Study interaction data\n",
    "https://doi.org/10.6084/m9.figshare.7267433"
   ]
  },
  {
   "cell_type": "markdown",
   "metadata": {},
   "source": [
    "## Copenhagen Networks Study interaction data\n",
    "The dataset contains four types of tie and a user attribute.\n",
    "\n",
    "First type of tie: **Network of physical proximity** among the participants (estimated via Bluetooth signal strength)."
   ]
  },
  {
   "cell_type": "code",
   "execution_count": 3,
   "metadata": {},
   "outputs": [],
   "source": [
    "bluetooth = pd.read_csv('data/copenhagen/bt_symmetric.csv')"
   ]
  },
  {
   "cell_type": "code",
   "execution_count": 4,
   "metadata": {},
   "outputs": [
    {
     "name": "stdout",
     "output_type": "stream",
     "text": [
      "Index(['# timestamp', 'user_a', 'user_b', 'rssi'], dtype='object')\n"
     ]
    }
   ],
   "source": [
    "print(bluetooth.columns)"
   ]
  },
  {
   "cell_type": "code",
   "execution_count": 5,
   "metadata": {},
   "outputs": [
    {
     "name": "stdout",
     "output_type": "stream",
     "text": [
      "column names:\n",
      "\t- timestamp\n",
      "\t- user A \n",
      "\t- user B \n",
      "\t- received signal strength\n",
      "\n",
      "Notes:\n",
      "Empty scans are marked with user B = -1 and RSSI = 0\n",
      "Scans of devices outside of the experiment are marked with user B = -2. All non-experiment devices are given the same ID.\n",
      "\n"
     ]
    }
   ],
   "source": [
    "print(open('data/copenhagen/bt_symmetric.README', 'r').read())"
   ]
  },
  {
   "cell_type": "markdown",
   "metadata": {},
   "source": [
    "Second type of tie: **Network of phone calls** (start time, duration, no content)."
   ]
  },
  {
   "cell_type": "code",
   "execution_count": 6,
   "metadata": {},
   "outputs": [],
   "source": [
    "calls = pd.read_csv('data/copenhagen/calls.csv')"
   ]
  },
  {
   "cell_type": "code",
   "execution_count": 7,
   "metadata": {},
   "outputs": [
    {
     "name": "stdout",
     "output_type": "stream",
     "text": [
      "Index(['timestamp', 'caller', 'callee', 'duration'], dtype='object')\n"
     ]
    }
   ],
   "source": [
    "print(calls.columns)"
   ]
  },
  {
   "cell_type": "code",
   "execution_count": 8,
   "metadata": {},
   "outputs": [
    {
     "name": "stdout",
     "output_type": "stream",
     "text": [
      "column names:\n",
      "\t- timestamp\n",
      "\t- calling user\n",
      "\t- call recipient\n",
      "\t- duration (-1 means a missed call)\n",
      "\n",
      "\n"
     ]
    }
   ],
   "source": [
    "print(open('data/copenhagen/calls.README', 'r').read())"
   ]
  },
  {
   "cell_type": "markdown",
   "metadata": {},
   "source": [
    "Third type of tie: **Network of text messages** (time of message, no content)."
   ]
  },
  {
   "cell_type": "code",
   "execution_count": 9,
   "metadata": {},
   "outputs": [],
   "source": [
    "sms = pd.read_csv('data/copenhagen/sms.csv')"
   ]
  },
  {
   "cell_type": "code",
   "execution_count": 10,
   "metadata": {},
   "outputs": [
    {
     "name": "stdout",
     "output_type": "stream",
     "text": [
      "Index(['timestamp', 'sender', 'recipient'], dtype='object')\n"
     ]
    }
   ],
   "source": [
    "print(sms.columns)"
   ]
  },
  {
   "cell_type": "code",
   "execution_count": 11,
   "metadata": {},
   "outputs": [
    {
     "name": "stdout",
     "output_type": "stream",
     "text": [
      "column names:\n",
      "\t- timestamp\n",
      "\t- sender\n",
      "\t- recipient\n",
      "\n"
     ]
    }
   ],
   "source": [
    "print(open('data/copenhagen/sms.README', 'r').read())"
   ]
  },
  {
   "cell_type": "markdown",
   "metadata": {},
   "source": [
    "Fourth type of tie: **network of Facebook friendships**."
   ]
  },
  {
   "cell_type": "code",
   "execution_count": 12,
   "metadata": {},
   "outputs": [],
   "source": [
    "facebook_friends = pd.read_csv('data/copenhagen/fb_friends.csv')"
   ]
  },
  {
   "cell_type": "code",
   "execution_count": 13,
   "metadata": {},
   "outputs": [
    {
     "name": "stdout",
     "output_type": "stream",
     "text": [
      "Index(['# user_a', 'user_b'], dtype='object')\n"
     ]
    }
   ],
   "source": [
    "print(facebook_friends.columns)"
   ]
  },
  {
   "cell_type": "code",
   "execution_count": 14,
   "metadata": {},
   "outputs": [
    {
     "name": "stdout",
     "output_type": "stream",
     "text": [
      "column names:\n",
      "\t- user A\n",
      "\t- user B\n",
      "\n",
      "Edge lists of all declared facebook friendships which were formed before the end of the observation and not dissolved until after the end of the observation.\n",
      "\n"
     ]
    }
   ],
   "source": [
    "print(open('data/copenhagen/fb_friends.README', 'r').read())"
   ]
  },
  {
   "cell_type": "markdown",
   "metadata": {},
   "source": [
    "User attribute:"
   ]
  },
  {
   "cell_type": "code",
   "execution_count": 15,
   "metadata": {},
   "outputs": [],
   "source": [
    "attributes = pd.read_csv('data/copenhagen/genders.csv')"
   ]
  },
  {
   "cell_type": "code",
   "execution_count": 16,
   "metadata": {},
   "outputs": [
    {
     "name": "stdout",
     "output_type": "stream",
     "text": [
      "Index(['# user', 'female'], dtype='object')\n"
     ]
    }
   ],
   "source": [
    "print(attributes.columns)"
   ]
  },
  {
   "cell_type": "markdown",
   "metadata": {},
   "source": [
    "## Normalization\n",
    "The goal of normalization is to bring this data into a standard form which is needed for methods to be applicable.\n",
    "### ``users`` dataframe\n",
    "The ``genders`` dataframe is not a complete list of users as some users that participated in relational data collection did not answer the gender question or did not participate in the survey. We must construct a ``users`` dataframe by finding the set of unique users, ..."
   ]
  },
  {
   "cell_type": "code",
   "execution_count": 17,
   "metadata": {},
   "outputs": [],
   "source": [
    "users = set(itertools.chain(*[\n",
    "    bluetooth['user_a'].to_list(), \n",
    "    bluetooth['user_b'].to_list(), \n",
    "    calls['caller'].to_list(), \n",
    "    calls['callee'].to_list(), \n",
    "    sms['sender'].to_list(), \n",
    "    sms['recipient'].to_list(), \n",
    "    facebook_friends['# user_a'].to_list(), \n",
    "    facebook_friends['user_b'].to_list(), \n",
    "    attributes['# user'].to_list()\n",
    "]))"
   ]
  },
  {
   "cell_type": "code",
   "execution_count": 18,
   "metadata": {},
   "outputs": [],
   "source": [
    "users = pd.DataFrame(list(users), columns=['user'])\n",
    "users = users[users['user'] >= 0] # remove artifact users from bluetooth dataframe"
   ]
  },
  {
   "cell_type": "markdown",
   "metadata": {},
   "source": [
    "... merging user ``attributes`` into it, ..."
   ]
  },
  {
   "cell_type": "code",
   "execution_count": 19,
   "metadata": {},
   "outputs": [],
   "source": [
    "users = pd.merge(left=users, right=attributes, left_on='user', right_on='# user', how='left')"
   ]
  },
  {
   "cell_type": "markdown",
   "metadata": {},
   "source": [
    "... coding missing gender as 2, ..."
   ]
  },
  {
   "cell_type": "code",
   "execution_count": 20,
   "metadata": {},
   "outputs": [],
   "source": [
    "users.fillna(2, inplace=True)"
   ]
  },
  {
   "cell_type": "markdown",
   "metadata": {},
   "source": [
    "... and cleaning up:"
   ]
  },
  {
   "cell_type": "code",
   "execution_count": 21,
   "metadata": {},
   "outputs": [],
   "source": [
    "users.rename(columns={'female': 'gender_id'}, inplace=True)\n",
    "users['gender_id'] = users['gender_id'].astype(int)\n",
    "users.drop(['# user'], axis=1, inplace=True)\n",
    "users['user_id'] = users.index\n",
    "users = users[['user_id', 'user', 'gender_id']]"
   ]
  },
  {
   "cell_type": "code",
   "execution_count": 22,
   "metadata": {},
   "outputs": [
    {
     "data": {
      "text/html": [
       "<div>\n",
       "<style scoped>\n",
       "    .dataframe tbody tr th:only-of-type {\n",
       "        vertical-align: middle;\n",
       "    }\n",
       "\n",
       "    .dataframe tbody tr th {\n",
       "        vertical-align: top;\n",
       "    }\n",
       "\n",
       "    .dataframe thead th {\n",
       "        text-align: right;\n",
       "    }\n",
       "</style>\n",
       "<table border=\"1\" class=\"dataframe\">\n",
       "  <thead>\n",
       "    <tr style=\"text-align: right;\">\n",
       "      <th></th>\n",
       "      <th>user_id</th>\n",
       "      <th>user</th>\n",
       "      <th>gender_id</th>\n",
       "    </tr>\n",
       "  </thead>\n",
       "  <tbody>\n",
       "    <tr>\n",
       "      <th>840</th>\n",
       "      <td>840</td>\n",
       "      <td>845</td>\n",
       "      <td>0</td>\n",
       "    </tr>\n",
       "    <tr>\n",
       "      <th>841</th>\n",
       "      <td>841</td>\n",
       "      <td>846</td>\n",
       "      <td>0</td>\n",
       "    </tr>\n",
       "    <tr>\n",
       "      <th>842</th>\n",
       "      <td>842</td>\n",
       "      <td>847</td>\n",
       "      <td>1</td>\n",
       "    </tr>\n",
       "    <tr>\n",
       "      <th>843</th>\n",
       "      <td>843</td>\n",
       "      <td>848</td>\n",
       "      <td>2</td>\n",
       "    </tr>\n",
       "    <tr>\n",
       "      <th>844</th>\n",
       "      <td>844</td>\n",
       "      <td>850</td>\n",
       "      <td>2</td>\n",
       "    </tr>\n",
       "  </tbody>\n",
       "</table>\n",
       "</div>"
      ],
      "text/plain": [
       "     user_id  user  gender_id\n",
       "840      840   845          0\n",
       "841      841   846          0\n",
       "842      842   847          1\n",
       "843      843   848          2\n",
       "844      844   850          2"
      ]
     },
     "execution_count": 22,
     "metadata": {},
     "output_type": "execute_result"
    }
   ],
   "source": [
    "users.tail()"
   ]
  },
  {
   "cell_type": "markdown",
   "metadata": {},
   "source": [
    "The observation that the largest normalized user identifier (``user_id``) is six user shorter than the unnormalized identifier (``user``) means that we avoid dragging along six users for which we do not have any data at all. Since we have created a ``gender_id``, we must also create a dataframe with descriptions of these identifiers:"
   ]
  },
  {
   "cell_type": "code",
   "execution_count": 23,
   "metadata": {},
   "outputs": [],
   "source": [
    "genders = pd.DataFrame([[0, 'male'], [1, 'female'], [2, 'unknown']], columns=['gender_id', 'gender'])"
   ]
  },
  {
   "cell_type": "code",
   "execution_count": 24,
   "metadata": {},
   "outputs": [
    {
     "data": {
      "text/html": [
       "<div>\n",
       "<style scoped>\n",
       "    .dataframe tbody tr th:only-of-type {\n",
       "        vertical-align: middle;\n",
       "    }\n",
       "\n",
       "    .dataframe tbody tr th {\n",
       "        vertical-align: top;\n",
       "    }\n",
       "\n",
       "    .dataframe thead th {\n",
       "        text-align: right;\n",
       "    }\n",
       "</style>\n",
       "<table border=\"1\" class=\"dataframe\">\n",
       "  <thead>\n",
       "    <tr style=\"text-align: right;\">\n",
       "      <th></th>\n",
       "      <th>gender_id</th>\n",
       "      <th>gender</th>\n",
       "    </tr>\n",
       "  </thead>\n",
       "  <tbody>\n",
       "    <tr>\n",
       "      <th>0</th>\n",
       "      <td>0</td>\n",
       "      <td>male</td>\n",
       "    </tr>\n",
       "    <tr>\n",
       "      <th>1</th>\n",
       "      <td>1</td>\n",
       "      <td>female</td>\n",
       "    </tr>\n",
       "    <tr>\n",
       "      <th>2</th>\n",
       "      <td>2</td>\n",
       "      <td>unknown</td>\n",
       "    </tr>\n",
       "  </tbody>\n",
       "</table>\n",
       "</div>"
      ],
      "text/plain": [
       "   gender_id   gender\n",
       "0          0     male\n",
       "1          1   female\n",
       "2          2  unknown"
      ]
     },
     "execution_count": 24,
     "metadata": {},
     "output_type": "execute_result"
    }
   ],
   "source": [
    "genders"
   ]
  },
  {
   "cell_type": "markdown",
   "metadata": {},
   "source": [
    "### Relations dataframes\n",
    "#### Bluetooth\n",
    "The network of physical proximity is the only undirected network."
   ]
  },
  {
   "cell_type": "code",
   "execution_count": 25,
   "metadata": {},
   "outputs": [
    {
     "data": {
      "text/html": [
       "<div>\n",
       "<style scoped>\n",
       "    .dataframe tbody tr th:only-of-type {\n",
       "        vertical-align: middle;\n",
       "    }\n",
       "\n",
       "    .dataframe tbody tr th {\n",
       "        vertical-align: top;\n",
       "    }\n",
       "\n",
       "    .dataframe thead th {\n",
       "        text-align: right;\n",
       "    }\n",
       "</style>\n",
       "<table border=\"1\" class=\"dataframe\">\n",
       "  <thead>\n",
       "    <tr style=\"text-align: right;\">\n",
       "      <th></th>\n",
       "      <th># timestamp</th>\n",
       "      <th>user_a</th>\n",
       "      <th>user_b</th>\n",
       "      <th>rssi</th>\n",
       "    </tr>\n",
       "  </thead>\n",
       "  <tbody>\n",
       "    <tr>\n",
       "      <th>0</th>\n",
       "      <td>0</td>\n",
       "      <td>0</td>\n",
       "      <td>-1</td>\n",
       "      <td>0</td>\n",
       "    </tr>\n",
       "    <tr>\n",
       "      <th>1</th>\n",
       "      <td>0</td>\n",
       "      <td>1</td>\n",
       "      <td>-1</td>\n",
       "      <td>0</td>\n",
       "    </tr>\n",
       "    <tr>\n",
       "      <th>2</th>\n",
       "      <td>0</td>\n",
       "      <td>2</td>\n",
       "      <td>-1</td>\n",
       "      <td>0</td>\n",
       "    </tr>\n",
       "    <tr>\n",
       "      <th>3</th>\n",
       "      <td>0</td>\n",
       "      <td>3</td>\n",
       "      <td>-2</td>\n",
       "      <td>-88</td>\n",
       "    </tr>\n",
       "    <tr>\n",
       "      <th>4</th>\n",
       "      <td>0</td>\n",
       "      <td>5</td>\n",
       "      <td>-1</td>\n",
       "      <td>0</td>\n",
       "    </tr>\n",
       "  </tbody>\n",
       "</table>\n",
       "</div>"
      ],
      "text/plain": [
       "   # timestamp  user_a  user_b  rssi\n",
       "0            0       0      -1     0\n",
       "1            0       1      -1     0\n",
       "2            0       2      -1     0\n",
       "3            0       3      -2   -88\n",
       "4            0       5      -1     0"
      ]
     },
     "execution_count": 25,
     "metadata": {},
     "output_type": "execute_result"
    }
   ],
   "source": [
    "bluetooth.head()"
   ]
  },
  {
   "cell_type": "markdown",
   "metadata": {},
   "source": [
    "The ``# timestamp`` column is a counter of seconds over four weeks. This function replaces such a timestamp column with ``['day', 'hour', 'minute', 'second']`` columns:"
   ]
  },
  {
   "cell_type": "code",
   "execution_count": 26,
   "metadata": {},
   "outputs": [],
   "source": [
    "def replace_timestamp(df, timestamp):\n",
    "    minute = (df[timestamp]/60).astype(int)\n",
    "    hour = (minute/60).astype(int)\n",
    "    day = (hour/24).astype(int).rename('day')\n",
    "    hour = (hour-day*24).rename('hour')\n",
    "    minute = (minute-day*24*60-hour*60).rename('minute')\n",
    "    second = (df[timestamp]-day*24*60*60-hour*60*60-minute*60).rename('second')\n",
    "    df.rename(columns={timestamp: 'time'}, inplace=True)\n",
    "    df = pd.concat([df, day, hour, minute, second], axis=1)\n",
    "    return df"
   ]
  },
  {
   "cell_type": "code",
   "execution_count": 27,
   "metadata": {},
   "outputs": [],
   "source": [
    "bluetooth = replace_timestamp(bluetooth, '# timestamp')"
   ]
  },
  {
   "cell_type": "markdown",
   "metadata": {},
   "source": [
    "Preprocess signal strength:"
   ]
  },
  {
   "cell_type": "code",
   "execution_count": 28,
   "metadata": {},
   "outputs": [
    {
     "data": {
      "text/plain": [
       "<matplotlib.axes._subplots.AxesSubplot at 0x224a2c58160>"
      ]
     },
     "execution_count": 28,
     "metadata": {},
     "output_type": "execute_result"
    },
    {
     "data": {
      "image/png": "[encoded data removed]",
      "text/plain": [
       "<Figure size 432x288 with 1 Axes>"
      ]
     },
     "metadata": {
      "needs_background": "light"
     },
     "output_type": "display_data"
    }
   ],
   "source": [
    "bluetooth['rssi'].hist()"
   ]
  },
  {
   "cell_type": "code",
   "execution_count": 29,
   "metadata": {},
   "outputs": [],
   "source": [
    "bluetooth = bluetooth[bluetooth['rssi'] < 0]"
   ]
  },
  {
   "cell_type": "markdown",
   "metadata": {},
   "source": [
    "Transform signal strength to more intuitive values:"
   ]
  },
  {
   "cell_type": "code",
   "execution_count": 30,
   "metadata": {},
   "outputs": [],
   "source": [
    "bluetooth['rssi'] = bluetooth['rssi']+100"
   ]
  },
  {
   "cell_type": "code",
   "execution_count": 31,
   "metadata": {},
   "outputs": [],
   "source": [
    "bluetooth.rename(columns={'rssi': 'strength'}, inplace=True)"
   ]
  },
  {
   "cell_type": "markdown",
   "metadata": {},
   "source": [
    "Remove ties where no other study participant is found in the bluetooth range:"
   ]
  },
  {
   "cell_type": "code",
   "execution_count": 32,
   "metadata": {},
   "outputs": [],
   "source": [
    "bluetooth = bluetooth[~bluetooth['user_b'].isin([-1, -2])]"
   ]
  },
  {
   "cell_type": "markdown",
   "metadata": {},
   "source": [
    "The edge list still uses the unnormalized node identifiers. To replace them with the normalized ones, use this function:"
   ]
  },
  {
   "cell_type": "code",
   "execution_count": 33,
   "metadata": {},
   "outputs": [],
   "source": [
    "def replace_identifier(df, old_identifier, new_identifier):\n",
    "    df = pd.merge(left=df, right=users[['user', 'user_id']], left_on=old_identifier, right_on='user')\n",
    "    df.rename(columns={'user_id': new_identifier}, inplace=True)\n",
    "    df.drop([old_identifier, 'user'], axis=1, inplace=True)\n",
    "    return df"
   ]
  },
  {
   "cell_type": "code",
   "execution_count": 34,
   "metadata": {},
   "outputs": [],
   "source": [
    "bluetooth = replace_identifier(bluetooth, 'user_a', 'user_id_from')\n",
    "bluetooth = replace_identifier(bluetooth, 'user_b', 'user_id_to')"
   ]
  },
  {
   "cell_type": "markdown",
   "metadata": {},
   "source": [
    "Since ``bluetooth`` is the only undirected network but we may use it as a layer in a multiplex graph, we create a duplicate tie in the reverse direction:"
   ]
  },
  {
   "cell_type": "code",
   "execution_count": 35,
   "metadata": {},
   "outputs": [],
   "source": [
    "bluetooth_reversed = bluetooth.copy()[['time', 'strength', 'day', 'hour', 'minute', 'second', 'user_id_to', 'user_id_from']]\n",
    "bluetooth_reversed.columns = bluetooth.columns\n",
    "bluetooth = bluetooth.append(bluetooth_reversed)"
   ]
  },
  {
   "cell_type": "markdown",
   "metadata": {},
   "source": [
    "Now clean up:"
   ]
  },
  {
   "cell_type": "code",
   "execution_count": 36,
   "metadata": {},
   "outputs": [],
   "source": [
    "bluetooth.sort_values(['time', 'user_id_from', 'user_id_to'], inplace=True)\n",
    "bluetooth.reset_index(drop=True, inplace=True)\n",
    "bluetooth = bluetooth[['user_id_from', 'user_id_to', 'strength', 'time', 'day', 'hour', 'minute', 'second']]"
   ]
  },
  {
   "cell_type": "code",
   "execution_count": 37,
   "metadata": {},
   "outputs": [
    {
     "data": {
      "text/html": [
       "<div>\n",
       "<style scoped>\n",
       "    .dataframe tbody tr th:only-of-type {\n",
       "        vertical-align: middle;\n",
       "    }\n",
       "\n",
       "    .dataframe tbody tr th {\n",
       "        vertical-align: top;\n",
       "    }\n",
       "\n",
       "    .dataframe thead th {\n",
       "        text-align: right;\n",
       "    }\n",
       "</style>\n",
       "<table border=\"1\" class=\"dataframe\">\n",
       "  <thead>\n",
       "    <tr style=\"text-align: right;\">\n",
       "      <th></th>\n",
       "      <th>user_id_from</th>\n",
       "      <th>user_id_to</th>\n",
       "      <th>strength</th>\n",
       "      <th>time</th>\n",
       "      <th>day</th>\n",
       "      <th>hour</th>\n",
       "      <th>minute</th>\n",
       "      <th>second</th>\n",
       "    </tr>\n",
       "  </thead>\n",
       "  <tbody>\n",
       "    <tr>\n",
       "      <th>0</th>\n",
       "      <td>12</td>\n",
       "      <td>244</td>\n",
       "      <td>30</td>\n",
       "      <td>0</td>\n",
       "      <td>0</td>\n",
       "      <td>0</td>\n",
       "      <td>0</td>\n",
       "      <td>0</td>\n",
       "    </tr>\n",
       "    <tr>\n",
       "      <th>1</th>\n",
       "      <td>12</td>\n",
       "      <td>454</td>\n",
       "      <td>25</td>\n",
       "      <td>0</td>\n",
       "      <td>0</td>\n",
       "      <td>0</td>\n",
       "      <td>0</td>\n",
       "      <td>0</td>\n",
       "    </tr>\n",
       "    <tr>\n",
       "      <th>2</th>\n",
       "      <td>16</td>\n",
       "      <td>572</td>\n",
       "      <td>30</td>\n",
       "      <td>0</td>\n",
       "      <td>0</td>\n",
       "      <td>0</td>\n",
       "      <td>0</td>\n",
       "      <td>0</td>\n",
       "    </tr>\n",
       "    <tr>\n",
       "      <th>3</th>\n",
       "      <td>19</td>\n",
       "      <td>47</td>\n",
       "      <td>14</td>\n",
       "      <td>0</td>\n",
       "      <td>0</td>\n",
       "      <td>0</td>\n",
       "      <td>0</td>\n",
       "      <td>0</td>\n",
       "    </tr>\n",
       "    <tr>\n",
       "      <th>4</th>\n",
       "      <td>20</td>\n",
       "      <td>21</td>\n",
       "      <td>27</td>\n",
       "      <td>0</td>\n",
       "      <td>0</td>\n",
       "      <td>0</td>\n",
       "      <td>0</td>\n",
       "      <td>0</td>\n",
       "    </tr>\n",
       "  </tbody>\n",
       "</table>\n",
       "</div>"
      ],
      "text/plain": [
       "   user_id_from  user_id_to  strength  time  day  hour  minute  second\n",
       "0            12         244        30     0    0     0       0       0\n",
       "1            12         454        25     0    0     0       0       0\n",
       "2            16         572        30     0    0     0       0       0\n",
       "3            19          47        14     0    0     0       0       0\n",
       "4            20          21        27     0    0     0       0       0"
      ]
     },
     "execution_count": 37,
     "metadata": {},
     "output_type": "execute_result"
    }
   ],
   "source": [
    "bluetooth.head()"
   ]
  },
  {
   "cell_type": "markdown",
   "metadata": {},
   "source": [
    "The edge list for the network of physical proximity is now in the normalized form. The edges are defined in the first two columns, the edge weight is in the third column, and temporal columns can be used for slicing and filtering."
   ]
  },
  {
   "cell_type": "markdown",
   "metadata": {},
   "source": [
    "### Calls\n",
    "The network of phone clls encodes who calls whom."
   ]
  },
  {
   "cell_type": "code",
   "execution_count": 38,
   "metadata": {},
   "outputs": [
    {
     "data": {
      "text/html": [
       "<div>\n",
       "<style scoped>\n",
       "    .dataframe tbody tr th:only-of-type {\n",
       "        vertical-align: middle;\n",
       "    }\n",
       "\n",
       "    .dataframe tbody tr th {\n",
       "        vertical-align: top;\n",
       "    }\n",
       "\n",
       "    .dataframe thead th {\n",
       "        text-align: right;\n",
       "    }\n",
       "</style>\n",
       "<table border=\"1\" class=\"dataframe\">\n",
       "  <thead>\n",
       "    <tr style=\"text-align: right;\">\n",
       "      <th></th>\n",
       "      <th>timestamp</th>\n",
       "      <th>caller</th>\n",
       "      <th>callee</th>\n",
       "      <th>duration</th>\n",
       "    </tr>\n",
       "  </thead>\n",
       "  <tbody>\n",
       "    <tr>\n",
       "      <th>0</th>\n",
       "      <td>184</td>\n",
       "      <td>300</td>\n",
       "      <td>301</td>\n",
       "      <td>121</td>\n",
       "    </tr>\n",
       "    <tr>\n",
       "      <th>1</th>\n",
       "      <td>3920</td>\n",
       "      <td>512</td>\n",
       "      <td>299</td>\n",
       "      <td>670</td>\n",
       "    </tr>\n",
       "    <tr>\n",
       "      <th>2</th>\n",
       "      <td>5623</td>\n",
       "      <td>301</td>\n",
       "      <td>300</td>\n",
       "      <td>504</td>\n",
       "    </tr>\n",
       "    <tr>\n",
       "      <th>3</th>\n",
       "      <td>9252</td>\n",
       "      <td>401</td>\n",
       "      <td>457</td>\n",
       "      <td>-1</td>\n",
       "    </tr>\n",
       "    <tr>\n",
       "      <th>4</th>\n",
       "      <td>15466</td>\n",
       "      <td>512</td>\n",
       "      <td>0</td>\n",
       "      <td>5</td>\n",
       "    </tr>\n",
       "  </tbody>\n",
       "</table>\n",
       "</div>"
      ],
      "text/plain": [
       "   timestamp  caller  callee  duration\n",
       "0        184     300     301       121\n",
       "1       3920     512     299       670\n",
       "2       5623     301     300       504\n",
       "3       9252     401     457        -1\n",
       "4      15466     512       0         5"
      ]
     },
     "execution_count": 38,
     "metadata": {},
     "output_type": "execute_result"
    }
   ],
   "source": [
    "calls.head()"
   ]
  },
  {
   "cell_type": "markdown",
   "metadata": {},
   "source": [
    "Replace the timestamps:"
   ]
  },
  {
   "cell_type": "code",
   "execution_count": 39,
   "metadata": {},
   "outputs": [],
   "source": [
    "calls = replace_timestamp(calls, 'timestamp')"
   ]
  },
  {
   "cell_type": "markdown",
   "metadata": {},
   "source": [
    "Replace the user identifiers:"
   ]
  },
  {
   "cell_type": "code",
   "execution_count": 40,
   "metadata": {},
   "outputs": [],
   "source": [
    "calls = replace_identifier(calls, 'caller', 'user_id_from')\n",
    "calls = replace_identifier(calls, 'callee', 'user_id_to')"
   ]
  },
  {
   "cell_type": "markdown",
   "metadata": {},
   "source": [
    "Missed calls are coded as -1. Since negative values cannot be used as edge weights, we recode -1 to 0. Missed calls are then indistinguishable from clls that lasted 0 seconds."
   ]
  },
  {
   "cell_type": "code",
   "execution_count": 41,
   "metadata": {},
   "outputs": [],
   "source": [
    "calls['duration'].replace(-1, 0, inplace=True)"
   ]
  },
  {
   "cell_type": "markdown",
   "metadata": {},
   "source": [
    "Clean up:"
   ]
  },
  {
   "cell_type": "code",
   "execution_count": 42,
   "metadata": {},
   "outputs": [],
   "source": [
    "calls.sort_values(['time', 'user_id_from', 'user_id_to'], inplace=True)\n",
    "calls.reset_index(drop=True, inplace=True)\n",
    "calls = calls[['user_id_from', 'user_id_to', 'duration', 'time', 'day', 'hour', 'minute', 'second']]"
   ]
  },
  {
   "cell_type": "code",
   "execution_count": 43,
   "metadata": {},
   "outputs": [
    {
     "data": {
      "text/html": [
       "<div>\n",
       "<style scoped>\n",
       "    .dataframe tbody tr th:only-of-type {\n",
       "        vertical-align: middle;\n",
       "    }\n",
       "\n",
       "    .dataframe tbody tr th {\n",
       "        vertical-align: top;\n",
       "    }\n",
       "\n",
       "    .dataframe thead th {\n",
       "        text-align: right;\n",
       "    }\n",
       "</style>\n",
       "<table border=\"1\" class=\"dataframe\">\n",
       "  <thead>\n",
       "    <tr style=\"text-align: right;\">\n",
       "      <th></th>\n",
       "      <th>user_id_from</th>\n",
       "      <th>user_id_to</th>\n",
       "      <th>duration</th>\n",
       "      <th>time</th>\n",
       "      <th>day</th>\n",
       "      <th>hour</th>\n",
       "      <th>minute</th>\n",
       "      <th>second</th>\n",
       "    </tr>\n",
       "  </thead>\n",
       "  <tbody>\n",
       "    <tr>\n",
       "      <th>0</th>\n",
       "      <td>300</td>\n",
       "      <td>301</td>\n",
       "      <td>121</td>\n",
       "      <td>184</td>\n",
       "      <td>0</td>\n",
       "      <td>0</td>\n",
       "      <td>3</td>\n",
       "      <td>4</td>\n",
       "    </tr>\n",
       "    <tr>\n",
       "      <th>1</th>\n",
       "      <td>512</td>\n",
       "      <td>299</td>\n",
       "      <td>670</td>\n",
       "      <td>3920</td>\n",
       "      <td>0</td>\n",
       "      <td>1</td>\n",
       "      <td>5</td>\n",
       "      <td>20</td>\n",
       "    </tr>\n",
       "    <tr>\n",
       "      <th>2</th>\n",
       "      <td>301</td>\n",
       "      <td>300</td>\n",
       "      <td>504</td>\n",
       "      <td>5623</td>\n",
       "      <td>0</td>\n",
       "      <td>1</td>\n",
       "      <td>33</td>\n",
       "      <td>43</td>\n",
       "    </tr>\n",
       "    <tr>\n",
       "      <th>3</th>\n",
       "      <td>401</td>\n",
       "      <td>457</td>\n",
       "      <td>0</td>\n",
       "      <td>9252</td>\n",
       "      <td>0</td>\n",
       "      <td>2</td>\n",
       "      <td>34</td>\n",
       "      <td>12</td>\n",
       "    </tr>\n",
       "    <tr>\n",
       "      <th>4</th>\n",
       "      <td>512</td>\n",
       "      <td>0</td>\n",
       "      <td>5</td>\n",
       "      <td>15466</td>\n",
       "      <td>0</td>\n",
       "      <td>4</td>\n",
       "      <td>17</td>\n",
       "      <td>46</td>\n",
       "    </tr>\n",
       "  </tbody>\n",
       "</table>\n",
       "</div>"
      ],
      "text/plain": [
       "   user_id_from  user_id_to  duration   time  day  hour  minute  second\n",
       "0           300         301       121    184    0     0       3       4\n",
       "1           512         299       670   3920    0     1       5      20\n",
       "2           301         300       504   5623    0     1      33      43\n",
       "3           401         457         0   9252    0     2      34      12\n",
       "4           512           0         5  15466    0     4      17      46"
      ]
     },
     "execution_count": 43,
     "metadata": {},
     "output_type": "execute_result"
    }
   ],
   "source": [
    "calls.head()"
   ]
  },
  {
   "cell_type": "markdown",
   "metadata": {},
   "source": [
    "### SMS\n",
    "The network of text messages encodes who sends whom a short message."
   ]
  },
  {
   "cell_type": "code",
   "execution_count": 44,
   "metadata": {},
   "outputs": [
    {
     "data": {
      "text/html": [
       "<div>\n",
       "<style scoped>\n",
       "    .dataframe tbody tr th:only-of-type {\n",
       "        vertical-align: middle;\n",
       "    }\n",
       "\n",
       "    .dataframe tbody tr th {\n",
       "        vertical-align: top;\n",
       "    }\n",
       "\n",
       "    .dataframe thead th {\n",
       "        text-align: right;\n",
       "    }\n",
       "</style>\n",
       "<table border=\"1\" class=\"dataframe\">\n",
       "  <thead>\n",
       "    <tr style=\"text-align: right;\">\n",
       "      <th></th>\n",
       "      <th>timestamp</th>\n",
       "      <th>sender</th>\n",
       "      <th>recipient</th>\n",
       "    </tr>\n",
       "  </thead>\n",
       "  <tbody>\n",
       "    <tr>\n",
       "      <th>0</th>\n",
       "      <td>18</td>\n",
       "      <td>370</td>\n",
       "      <td>512</td>\n",
       "    </tr>\n",
       "    <tr>\n",
       "      <th>1</th>\n",
       "      <td>37</td>\n",
       "      <td>512</td>\n",
       "      <td>370</td>\n",
       "    </tr>\n",
       "    <tr>\n",
       "      <th>2</th>\n",
       "      <td>126</td>\n",
       "      <td>370</td>\n",
       "      <td>512</td>\n",
       "    </tr>\n",
       "    <tr>\n",
       "      <th>3</th>\n",
       "      <td>134</td>\n",
       "      <td>0</td>\n",
       "      <td>512</td>\n",
       "    </tr>\n",
       "    <tr>\n",
       "      <th>4</th>\n",
       "      <td>312</td>\n",
       "      <td>137</td>\n",
       "      <td>136</td>\n",
       "    </tr>\n",
       "  </tbody>\n",
       "</table>\n",
       "</div>"
      ],
      "text/plain": [
       "   timestamp  sender  recipient\n",
       "0         18     370        512\n",
       "1         37     512        370\n",
       "2        126     370        512\n",
       "3        134       0        512\n",
       "4        312     137        136"
      ]
     },
     "execution_count": 44,
     "metadata": {},
     "output_type": "execute_result"
    }
   ],
   "source": [
    "sms.head()"
   ]
  },
  {
   "cell_type": "markdown",
   "metadata": {},
   "source": [
    "Replace the timestamps:"
   ]
  },
  {
   "cell_type": "code",
   "execution_count": 45,
   "metadata": {},
   "outputs": [],
   "source": [
    "sms = replace_timestamp(sms, 'timestamp')"
   ]
  },
  {
   "cell_type": "markdown",
   "metadata": {},
   "source": [
    "Replace the user identifiers:"
   ]
  },
  {
   "cell_type": "code",
   "execution_count": 46,
   "metadata": {},
   "outputs": [],
   "source": [
    "sms = replace_identifier(sms, 'sender', 'user_id_from')\n",
    "sms = replace_identifier(sms, 'recipient', 'user_id_to')"
   ]
  },
  {
   "cell_type": "markdown",
   "metadata": {},
   "source": [
    "Clean up:"
   ]
  },
  {
   "cell_type": "code",
   "execution_count": 47,
   "metadata": {},
   "outputs": [],
   "source": [
    "sms.sort_values(['time', 'user_id_from', 'user_id_to'], inplace=True)\n",
    "sms.reset_index(drop=True, inplace=True)\n",
    "sms = sms[['user_id_from', 'user_id_to', 'time', 'day', 'hour', 'minute', 'second']]"
   ]
  },
  {
   "cell_type": "code",
   "execution_count": 48,
   "metadata": {},
   "outputs": [
    {
     "data": {
      "text/html": [
       "<div>\n",
       "<style scoped>\n",
       "    .dataframe tbody tr th:only-of-type {\n",
       "        vertical-align: middle;\n",
       "    }\n",
       "\n",
       "    .dataframe tbody tr th {\n",
       "        vertical-align: top;\n",
       "    }\n",
       "\n",
       "    .dataframe thead th {\n",
       "        text-align: right;\n",
       "    }\n",
       "</style>\n",
       "<table border=\"1\" class=\"dataframe\">\n",
       "  <thead>\n",
       "    <tr style=\"text-align: right;\">\n",
       "      <th></th>\n",
       "      <th>user_id_from</th>\n",
       "      <th>user_id_to</th>\n",
       "      <th>time</th>\n",
       "      <th>day</th>\n",
       "      <th>hour</th>\n",
       "      <th>minute</th>\n",
       "      <th>second</th>\n",
       "    </tr>\n",
       "  </thead>\n",
       "  <tbody>\n",
       "    <tr>\n",
       "      <th>0</th>\n",
       "      <td>370</td>\n",
       "      <td>512</td>\n",
       "      <td>18</td>\n",
       "      <td>0</td>\n",
       "      <td>0</td>\n",
       "      <td>0</td>\n",
       "      <td>18</td>\n",
       "    </tr>\n",
       "    <tr>\n",
       "      <th>1</th>\n",
       "      <td>512</td>\n",
       "      <td>370</td>\n",
       "      <td>37</td>\n",
       "      <td>0</td>\n",
       "      <td>0</td>\n",
       "      <td>0</td>\n",
       "      <td>37</td>\n",
       "    </tr>\n",
       "    <tr>\n",
       "      <th>2</th>\n",
       "      <td>370</td>\n",
       "      <td>512</td>\n",
       "      <td>126</td>\n",
       "      <td>0</td>\n",
       "      <td>0</td>\n",
       "      <td>2</td>\n",
       "      <td>6</td>\n",
       "    </tr>\n",
       "    <tr>\n",
       "      <th>3</th>\n",
       "      <td>0</td>\n",
       "      <td>512</td>\n",
       "      <td>134</td>\n",
       "      <td>0</td>\n",
       "      <td>0</td>\n",
       "      <td>2</td>\n",
       "      <td>14</td>\n",
       "    </tr>\n",
       "    <tr>\n",
       "      <th>4</th>\n",
       "      <td>137</td>\n",
       "      <td>136</td>\n",
       "      <td>312</td>\n",
       "      <td>0</td>\n",
       "      <td>0</td>\n",
       "      <td>5</td>\n",
       "      <td>12</td>\n",
       "    </tr>\n",
       "  </tbody>\n",
       "</table>\n",
       "</div>"
      ],
      "text/plain": [
       "   user_id_from  user_id_to  time  day  hour  minute  second\n",
       "0           370         512    18    0     0       0      18\n",
       "1           512         370    37    0     0       0      37\n",
       "2           370         512   126    0     0       2       6\n",
       "3             0         512   134    0     0       2      14\n",
       "4           137         136   312    0     0       5      12"
      ]
     },
     "execution_count": 48,
     "metadata": {},
     "output_type": "execute_result"
    }
   ],
   "source": [
    "sms.head()"
   ]
  },
  {
   "cell_type": "markdown",
   "metadata": {},
   "source": [
    "### Facebook friends\n",
    "The network of Facebook friendships encodes who (``user_id_from``) declares whom (``user_id_to``) as a friend."
   ]
  },
  {
   "cell_type": "code",
   "execution_count": 49,
   "metadata": {},
   "outputs": [
    {
     "data": {
      "text/html": [
       "<div>\n",
       "<style scoped>\n",
       "    .dataframe tbody tr th:only-of-type {\n",
       "        vertical-align: middle;\n",
       "    }\n",
       "\n",
       "    .dataframe tbody tr th {\n",
       "        vertical-align: top;\n",
       "    }\n",
       "\n",
       "    .dataframe thead th {\n",
       "        text-align: right;\n",
       "    }\n",
       "</style>\n",
       "<table border=\"1\" class=\"dataframe\">\n",
       "  <thead>\n",
       "    <tr style=\"text-align: right;\">\n",
       "      <th></th>\n",
       "      <th># user_a</th>\n",
       "      <th>user_b</th>\n",
       "    </tr>\n",
       "  </thead>\n",
       "  <tbody>\n",
       "    <tr>\n",
       "      <th>0</th>\n",
       "      <td>0</td>\n",
       "      <td>512</td>\n",
       "    </tr>\n",
       "    <tr>\n",
       "      <th>1</th>\n",
       "      <td>0</td>\n",
       "      <td>263</td>\n",
       "    </tr>\n",
       "    <tr>\n",
       "      <th>2</th>\n",
       "      <td>0</td>\n",
       "      <td>525</td>\n",
       "    </tr>\n",
       "    <tr>\n",
       "      <th>3</th>\n",
       "      <td>0</td>\n",
       "      <td>285</td>\n",
       "    </tr>\n",
       "    <tr>\n",
       "      <th>4</th>\n",
       "      <td>0</td>\n",
       "      <td>543</td>\n",
       "    </tr>\n",
       "  </tbody>\n",
       "</table>\n",
       "</div>"
      ],
      "text/plain": [
       "   # user_a  user_b\n",
       "0         0     512\n",
       "1         0     263\n",
       "2         0     525\n",
       "3         0     285\n",
       "4         0     543"
      ]
     },
     "execution_count": 49,
     "metadata": {},
     "output_type": "execute_result"
    }
   ],
   "source": [
    "facebook_friends.head()"
   ]
  },
  {
   "cell_type": "code",
   "execution_count": 50,
   "metadata": {},
   "outputs": [],
   "source": [
    "facebook_friends = replace_identifier(facebook_friends, '# user_a', 'user_id_from')\n",
    "facebook_friends = replace_identifier(facebook_friends, 'user_b', 'user_id_to')"
   ]
  },
  {
   "cell_type": "code",
   "execution_count": 51,
   "metadata": {},
   "outputs": [],
   "source": [
    "facebook_friends.sort_values(['user_id_from', 'user_id_to'], inplace=True)\n",
    "facebook_friends.reset_index(drop=True, inplace=True)"
   ]
  },
  {
   "cell_type": "code",
   "execution_count": 52,
   "metadata": {},
   "outputs": [
    {
     "data": {
      "text/html": [
       "<div>\n",
       "<style scoped>\n",
       "    .dataframe tbody tr th:only-of-type {\n",
       "        vertical-align: middle;\n",
       "    }\n",
       "\n",
       "    .dataframe tbody tr th {\n",
       "        vertical-align: top;\n",
       "    }\n",
       "\n",
       "    .dataframe thead th {\n",
       "        text-align: right;\n",
       "    }\n",
       "</style>\n",
       "<table border=\"1\" class=\"dataframe\">\n",
       "  <thead>\n",
       "    <tr style=\"text-align: right;\">\n",
       "      <th></th>\n",
       "      <th>user_id_from</th>\n",
       "      <th>user_id_to</th>\n",
       "    </tr>\n",
       "  </thead>\n",
       "  <tbody>\n",
       "    <tr>\n",
       "      <th>0</th>\n",
       "      <td>0</td>\n",
       "      <td>104</td>\n",
       "    </tr>\n",
       "    <tr>\n",
       "      <th>1</th>\n",
       "      <td>0</td>\n",
       "      <td>107</td>\n",
       "    </tr>\n",
       "    <tr>\n",
       "      <th>2</th>\n",
       "      <td>0</td>\n",
       "      <td>108</td>\n",
       "    </tr>\n",
       "    <tr>\n",
       "      <th>3</th>\n",
       "      <td>0</td>\n",
       "      <td>208</td>\n",
       "    </tr>\n",
       "    <tr>\n",
       "      <th>4</th>\n",
       "      <td>0</td>\n",
       "      <td>263</td>\n",
       "    </tr>\n",
       "  </tbody>\n",
       "</table>\n",
       "</div>"
      ],
      "text/plain": [
       "   user_id_from  user_id_to\n",
       "0             0         104\n",
       "1             0         107\n",
       "2             0         108\n",
       "3             0         208\n",
       "4             0         263"
      ]
     },
     "execution_count": 52,
     "metadata": {},
     "output_type": "execute_result"
    }
   ],
   "source": [
    "facebook_friends.head()"
   ]
  },
  {
   "cell_type": "markdown",
   "metadata": {},
   "source": [
    "## Function\n",
    "This function loads all data in one step:"
   ]
  },
  {
   "cell_type": "code",
   "execution_count": 53,
   "metadata": {},
   "outputs": [],
   "source": [
    "def copenhagen_collection(path='data/copenhagen/'):\n",
    "    '''\n",
    "    Description: Loads the normalized Copenhagen Networks Study data collection.\n",
    "    \n",
    "    Output: Six dataframes in this order: users, genders, bluetooth, calls, sms, facebook_friends\n",
    "    '''\n",
    "    # functions\n",
    "    def replace_timestamp(df, timestamp):\n",
    "        minute = (df[timestamp]/60).astype(int)\n",
    "        hour = (minute/60).astype(int)\n",
    "        day = (hour/24).astype(int).rename('day')\n",
    "        hour = (hour-day*24).rename('hour')\n",
    "        minute = (minute-day*24*60-hour*60).rename('minute')\n",
    "        second = (df[timestamp]-day*24*60*60-hour*60*60-minute*60).rename('second')\n",
    "        df.rename(columns={timestamp: 'time'}, inplace=True)\n",
    "        df = pd.concat([df, day, hour, minute, second], axis=1)\n",
    "        return df\n",
    "    \n",
    "    def replace_identifier(df, old_identifier, new_identifier):\n",
    "        df = pd.merge(left=df, right=users[['user', 'user_id']], left_on=old_identifier, right_on='user')\n",
    "        df.rename(columns={'user_id': new_identifier}, inplace=True)\n",
    "        df.drop([old_identifier, 'user'], axis=1, inplace=True)\n",
    "        return df\n",
    "    \n",
    "    # load data\n",
    "    import os\n",
    "    import pandas as pd\n",
    "    bluetooth = pd.read_csv(os.path.join(path, 'bt_symmetric.csv'))\n",
    "    calls = pd.read_csv(os.path.join(path, 'calls.csv'))\n",
    "    sms = pd.read_csv(os.path.join(path, 'sms.csv'))\n",
    "    facebook_friends = pd.read_csv(os.path.join(path, 'fb_friends.csv'))\n",
    "    attributes = pd.read_csv(os.path.join(path, 'genders.csv'))\n",
    "    \n",
    "    # create ``users`` dataframe\n",
    "    import itertools\n",
    "    users = set(itertools.chain(*[\n",
    "        bluetooth['user_a'].to_list(), \n",
    "        bluetooth['user_b'].to_list(), \n",
    "        calls['caller'].to_list(), \n",
    "        calls['callee'].to_list(), \n",
    "        sms['sender'].to_list(), \n",
    "        sms['recipient'].to_list(), \n",
    "        facebook_friends['# user_a'].to_list(), \n",
    "        facebook_friends['user_b'].to_list(), \n",
    "        attributes['# user'].to_list()\n",
    "    ]))\n",
    "    users = pd.DataFrame(list(users), columns=['user'])\n",
    "    users = users[users['user'] >= 0]\n",
    "    users = pd.merge(left=users, right=attributes, left_on='user', right_on='# user', how='left')\n",
    "    users.fillna(2, inplace=True)\n",
    "    users.rename(columns={'female': 'gender_id'}, inplace=True)\n",
    "    users['gender_id'] = users['gender_id'].astype(int)\n",
    "    users.drop(['# user'], axis=1, inplace=True)\n",
    "    users['user_id'] = users.index\n",
    "    users = users[['user_id', 'user', 'gender_id']]\n",
    "    \n",
    "    # create ``genders`` dataframe\n",
    "    genders = pd.DataFrame([[0, 'male'], [1, 'female'], [2, 'unknown']], columns=['gender_id', 'gender'])\n",
    "    \n",
    "    # create ``bluetooth`` dataframe\n",
    "    bluetooth = replace_timestamp(bluetooth, '# timestamp')\n",
    "    bluetooth = bluetooth[bluetooth['rssi'] < 0]\n",
    "    bluetooth['rssi'] = bluetooth['rssi']+100\n",
    "    bluetooth.rename(columns={'rssi': 'strength'}, inplace=True)\n",
    "    bluetooth = bluetooth[~bluetooth['user_b'].isin([-1, -2])]\n",
    "    bluetooth = replace_identifier(bluetooth, 'user_a', 'user_id_from')\n",
    "    bluetooth = replace_identifier(bluetooth, 'user_b', 'user_id_to')\n",
    "    \n",
    "    bluetooth_reversed = bluetooth.copy()[['time', 'strength', 'day', 'hour', 'minute', 'second', 'user_id_to', 'user_id_from']]\n",
    "    bluetooth_reversed.columns = bluetooth.columns\n",
    "    \n",
    "    bluetooth = bluetooth.append(bluetooth_reversed)\n",
    "    bluetooth.sort_values(['time', 'user_id_from', 'user_id_to'], inplace=True)\n",
    "    bluetooth.reset_index(drop=True, inplace=True)\n",
    "    bluetooth = bluetooth[['user_id_from', 'user_id_to', 'strength', 'time', 'day', 'hour', 'minute', 'second']]\n",
    "    \n",
    "    # create ``calls`` dataframe\n",
    "    calls = replace_timestamp(calls, 'timestamp')\n",
    "    calls = replace_identifier(calls, 'caller', 'user_id_from')\n",
    "    calls = replace_identifier(calls, 'callee', 'user_id_to')\n",
    "    calls['duration'].replace(-1, 0, inplace=True)\n",
    "    calls.sort_values(['time', 'user_id_from', 'user_id_to'], inplace=True)\n",
    "    calls.reset_index(drop=True, inplace=True)\n",
    "    calls = calls[['user_id_from', 'user_id_to', 'duration', 'time', 'day', 'hour', 'minute', 'second']]\n",
    "    \n",
    "    # create ``sms`` dataframe\n",
    "    sms = replace_timestamp(sms, 'timestamp')\n",
    "    sms = replace_identifier(sms, 'sender', 'user_id_from')\n",
    "    sms = replace_identifier(sms, 'recipient', 'user_id_to')\n",
    "    sms.sort_values(['time', 'user_id_from', 'user_id_to'], inplace=True)\n",
    "    sms.reset_index(drop=True, inplace=True)\n",
    "    sms = sms[['user_id_from', 'user_id_to', 'time', 'day', 'hour', 'minute', 'second']]\n",
    "    \n",
    "    # create ``facebook_friends`` dataframe\n",
    "    facebook_friends = replace_identifier(facebook_friends, '# user_a', 'user_id_from')\n",
    "    facebook_friends = replace_identifier(facebook_friends, 'user_b', 'user_id_to')\n",
    "    facebook_friends.sort_values(['user_id_from', 'user_id_to'], inplace=True)\n",
    "    facebook_friends.reset_index(drop=True, inplace=True)\n",
    "    \n",
    "    return users, genders, bluetooth, calls, sms, facebook_friends"
   ]
  },
  {
   "cell_type": "markdown",
   "metadata": {},
   "source": [
    "## Data exploration"
   ]
  },
  {
   "cell_type": "code",
   "execution_count": 54,
   "metadata": {},
   "outputs": [],
   "source": [
    "users, genders, bluetooth, calls, sms, facebook_friends = cs.copenhagen_collection()"
   ]
  },
  {
   "cell_type": "code",
   "execution_count": 61,
   "metadata": {},
   "outputs": [],
   "source": [
    "facebook_friends['weight'] = 1"
   ]
  },
  {
   "cell_type": "code",
   "execution_count": 62,
   "metadata": {},
   "outputs": [],
   "source": [
    "g = cs.construct_graph(\n",
    "    directed=True, \n",
    "    multiplex=False, \n",
    "    graph_name='copenhagen_facebook_friends', \n",
    "    node_list=users, \n",
    "    edge_list=facebook_friends, \n",
    "    node_label='user'\n",
    ")"
   ]
  },
  {
   "cell_type": "code",
   "execution_count": 71,
   "metadata": {},
   "outputs": [],
   "source": [
    "vp_node_color = cs.id_to_vertex_property(users['gender_id'], {0: '#e41a1c', 1: '#377eb8', 2: '#4daf4a'})"
   ]
  },
  {
   "cell_type": "code",
   "execution_count": 84,
   "metadata": {},
   "outputs": [],
   "source": [
    "vp_node_pos = nx.spring_layout(g, iterations=500, k=.5)"
   ]
  },
  {
   "cell_type": "code",
   "execution_count": 89,
   "metadata": {},
   "outputs": [
    {
     "ename": "TypeError",
     "evalue": "kamada_kawai_layout() got an unexpected keyword argument 'k'",
     "output_type": "error",
     "traceback": [
      "\u001b[1;31m---------------------------------------------------------------------------\u001b[0m",
      "\u001b[1;31mTypeError\u001b[0m                                 Traceback (most recent call last)",
      "\u001b[1;32m<ipython-input-89-8932f0ed7784>\u001b[0m in \u001b[0;36m<module>\u001b[1;34m\u001b[0m\n\u001b[1;32m----> 1\u001b[1;33m \u001b[0mvp_node_pos_kk\u001b[0m \u001b[1;33m=\u001b[0m \u001b[0mnx\u001b[0m\u001b[1;33m.\u001b[0m\u001b[0mkamada_kawai_layout\u001b[0m\u001b[1;33m(\u001b[0m\u001b[0mg\u001b[0m\u001b[1;33m,\u001b[0m \u001b[0mk\u001b[0m\u001b[1;33m=\u001b[0m\u001b[1;36m.5\u001b[0m\u001b[1;33m)\u001b[0m\u001b[1;33m\u001b[0m\u001b[1;33m\u001b[0m\u001b[0m\n\u001b[0m",
      "\u001b[1;31mTypeError\u001b[0m: kamada_kawai_layout() got an unexpected keyword argument 'k'"
     ]
    }
   ],
   "source": [
    "vp_node_pos_kk = nx.kamada_kawai_layout(g)"
   ]
  },
  {
   "cell_type": "code",
   "execution_count": 87,
   "metadata": {},
   "outputs": [
    {
     "data": {
      "image/png": "[encoded data removed]",
      "text/plain": [
       "<Figure size 864x864 with 1 Axes>"
      ]
     },
     "metadata": {},
     "output_type": "display_data"
    }
   ],
   "source": [
    "cs.draw_graph(\n",
    "    g, \n",
    "    node_pos=vp_node_pos_kk, \n",
    "    #node_size=None, \n",
    "    #node_size_factor=.2, \n",
    "    node_color=vp_node_color, \n",
    "    #node_shape=None, \n",
    "    #node_border_color=None, \n",
    "    node_border_width=1, \n",
    "    #edge_width=2, \n",
    "    edge_width_factor=.2, \n",
    "    #edge_color=None, \n",
    "    #edge_transparency=.5, \n",
    "    #curved_edges=True, \n",
    "    #arrow_size=30, \n",
    "    labels=None, \n",
    "    #font_size=None, \n",
    "    #font_size_factor=.0002, \n",
    "    #label_transparency=.75, \n",
    "    figsize='large'\n",
    ")"
   ]
  },
  {
   "cell_type": "code",
   "execution_count": null,
   "metadata": {},
   "outputs": [],
   "source": []
  },
  {
   "cell_type": "code",
   "execution_count": null,
   "metadata": {},
   "outputs": [],
   "source": []
  }
 ],
 "metadata": {
  "kernelspec": {
   "display_name": "Python 3",
   "language": "python",
   "name": "python3"
  },
  "language_info": {
   "codemirror_mode": {
    "name": "ipython",
    "version": 3
   },
   "file_extension": ".py",
   "mimetype": "text/x-python",
   "name": "python",
   "nbconvert_exporter": "python",
   "pygments_lexer": "ipython3",
   "version": "3.8.3"
  }
 },
 "nbformat": 4,
 "nbformat_minor": 2
}
