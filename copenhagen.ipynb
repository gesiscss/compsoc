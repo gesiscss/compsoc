{
 "cells": [
  {
   "cell_type": "markdown",
   "metadata": {},
   "source": [
    "[Home](index.ipynb) > [Data Collections](data_collections.ipynb) > Elite families"
   ]
  },
  {
   "cell_type": "markdown",
   "metadata": {},
   "source": [
    "<img style='float: left;' src='https://www.gesis.org/fileadmin/styles/img/gs_home_logo_en.svg'>"
   ]
  },
  {
   "cell_type": "markdown",
   "metadata": {},
   "source": [
    "### ``compsoc`` – *Notebooks for Computational Sociology* (alpha)"
   ]
  },
  {
   "cell_type": "markdown",
   "metadata": {},
   "source": [
    "# Copenhagen Networks Study: Multiplex interactions among 845 university students\n",
    "Authors: [Haiko Lietz](https://www.gesis.org/person/haiko.lietz)\n",
    "\n",
    "Version: 0.91 (14.09.2020)\n",
    "\n",
    "Please cite as: Lietz, Haiko (2020). Copenhagen Networks Study: Multiplex interactions among 845 university students. Version 0.91 (14.09.2020). *compsoc – Notebooks for Computational Sociology*. GESIS. url:[github.com/gesiscss/compsoc](https://github.com/gesiscss/compsoc)"
   ]
  },
  {
   "cell_type": "markdown",
   "metadata": {},
   "source": [
    "<div class=\"alert alert-info\">\n",
    "<big><b>Significance</b></big>\n",
    "\n",
    "The Copenhagen Networks Study collection is a prime source of digital behavioral data. It provides four types of tie (physical proximity, calls, short messages, and Facebook friendships) among a fixed set of almost 1000 persons. The availability of a gender attribute allows for additional analyses and modeling approaches.\n",
    "</div>"
   ]
  },
  {
   "cell_type": "markdown",
   "metadata": {},
   "source": [
    "## Introduction\n",
    "This data is describes by Sapiezynski et al. ([2019](https://doi.org/10.1038/s41597-019-0325-x)). It is made freely available under an MIT License at [figshare](https://doi.org/10.6084/m9.figshare.7267433).\n",
    "\n",
    "**In this notebook**, we develop a function that loads and normalizes all data of the Copenhagen Networks Study. Bringing it to the standard form makes it compatible with the `compsoc` tools."
   ]
  },
  {
   "cell_type": "markdown",
   "metadata": {},
   "source": [
    "## Dependencies and settings"
   ]
  },
  {
   "cell_type": "code",
   "execution_count": null,
   "metadata": {},
   "outputs": [],
   "source": [
    "import compsoc as cs\n",
    "import itertools\n",
    "import networkx as nx\n",
    "import pandas as pd"
   ]
  },
  {
   "cell_type": "markdown",
   "metadata": {},
   "source": [
    "## Copenhagen Networks Study interaction data\n",
    "The dataset contains four types of tie and a user attribute.\n",
    "\n",
    "First type of tie: **Network of physical proximity** among the participants (estimated via Bluetooth signal strength)."
   ]
  },
  {
   "cell_type": "code",
   "execution_count": null,
   "metadata": {},
   "outputs": [],
   "source": [
    "bluetooth = pd.read_csv('data/copenhagen/bt_symmetric.csv')"
   ]
  },
  {
   "cell_type": "code",
   "execution_count": null,
   "metadata": {},
   "outputs": [],
   "source": [
    "print(bluetooth.columns)"
   ]
  },
  {
   "cell_type": "code",
   "execution_count": null,
   "metadata": {},
   "outputs": [],
   "source": [
    "print(open('data/copenhagen/bt_symmetric.README', 'r').read())"
   ]
  },
  {
   "cell_type": "markdown",
   "metadata": {},
   "source": [
    "Second type of tie: **Network of phone calls** (start time, duration, no content)."
   ]
  },
  {
   "cell_type": "code",
   "execution_count": null,
   "metadata": {},
   "outputs": [],
   "source": [
    "calls = pd.read_csv('data/copenhagen/calls.csv')"
   ]
  },
  {
   "cell_type": "code",
   "execution_count": null,
   "metadata": {},
   "outputs": [],
   "source": [
    "print(calls.columns)"
   ]
  },
  {
   "cell_type": "code",
   "execution_count": null,
   "metadata": {},
   "outputs": [],
   "source": [
    "print(open('data/copenhagen/calls.README', 'r').read())"
   ]
  },
  {
   "cell_type": "markdown",
   "metadata": {},
   "source": [
    "Third type of tie: **Network of text messages** (time of message, no content)."
   ]
  },
  {
   "cell_type": "code",
   "execution_count": null,
   "metadata": {},
   "outputs": [],
   "source": [
    "sms = pd.read_csv('data/copenhagen/sms.csv')"
   ]
  },
  {
   "cell_type": "code",
   "execution_count": null,
   "metadata": {},
   "outputs": [],
   "source": [
    "print(sms.columns)"
   ]
  },
  {
   "cell_type": "code",
   "execution_count": null,
   "metadata": {},
   "outputs": [],
   "source": [
    "print(open('data/copenhagen/sms.README', 'r').read())"
   ]
  },
  {
   "cell_type": "markdown",
   "metadata": {},
   "source": [
    "Fourth type of tie: **network of Facebook friendships**."
   ]
  },
  {
   "cell_type": "code",
   "execution_count": null,
   "metadata": {},
   "outputs": [],
   "source": [
    "facebook_friends = pd.read_csv('data/copenhagen/fb_friends.csv')"
   ]
  },
  {
   "cell_type": "code",
   "execution_count": null,
   "metadata": {},
   "outputs": [],
   "source": [
    "print(facebook_friends.columns)"
   ]
  },
  {
   "cell_type": "code",
   "execution_count": null,
   "metadata": {},
   "outputs": [],
   "source": [
    "print(open('data/copenhagen/fb_friends.README', 'r').read())"
   ]
  },
  {
   "cell_type": "markdown",
   "metadata": {},
   "source": [
    "User attribute:"
   ]
  },
  {
   "cell_type": "code",
   "execution_count": null,
   "metadata": {},
   "outputs": [],
   "source": [
    "attributes = pd.read_csv('data/copenhagen/genders.csv')"
   ]
  },
  {
   "cell_type": "code",
   "execution_count": null,
   "metadata": {},
   "outputs": [],
   "source": [
    "print(attributes.columns)"
   ]
  },
  {
   "cell_type": "markdown",
   "metadata": {},
   "source": [
    "## Normalization\n",
    "The goal of normalization is to bring this data into a standard form which is needed for methods to be applicable.\n",
    "### ``users`` dataframe\n",
    "The ``genders`` dataframe is not a complete list of users as some users that participated in relational data collection did not answer the gender question or did not participate in the survey. We must construct a ``users`` dataframe by finding the set of unique users, ..."
   ]
  },
  {
   "cell_type": "code",
   "execution_count": null,
   "metadata": {},
   "outputs": [],
   "source": [
    "users = set(itertools.chain(*[\n",
    "    bluetooth['user_a'].to_list(), \n",
    "    bluetooth['user_b'].to_list(), \n",
    "    calls['caller'].to_list(), \n",
    "    calls['callee'].to_list(), \n",
    "    sms['sender'].to_list(), \n",
    "    sms['recipient'].to_list(), \n",
    "    facebook_friends['# user_a'].to_list(), \n",
    "    facebook_friends['user_b'].to_list(), \n",
    "    attributes['# user'].to_list()\n",
    "]))"
   ]
  },
  {
   "cell_type": "code",
   "execution_count": null,
   "metadata": {},
   "outputs": [],
   "source": [
    "users = pd.DataFrame(list(users), columns=['user'])\n",
    "users = users[users['user'] >= 0] # remove artifact users from bluetooth dataframe"
   ]
  },
  {
   "cell_type": "markdown",
   "metadata": {},
   "source": [
    "... merging user ``attributes`` into it, ..."
   ]
  },
  {
   "cell_type": "code",
   "execution_count": null,
   "metadata": {},
   "outputs": [],
   "source": [
    "users = pd.merge(left=users, right=attributes, left_on='user', right_on='# user', how='left')"
   ]
  },
  {
   "cell_type": "markdown",
   "metadata": {},
   "source": [
    "... coding missing gender as 2, ..."
   ]
  },
  {
   "cell_type": "code",
   "execution_count": null,
   "metadata": {},
   "outputs": [],
   "source": [
    "users.fillna(2, inplace=True)"
   ]
  },
  {
   "cell_type": "markdown",
   "metadata": {},
   "source": [
    "... and cleaning up:"
   ]
  },
  {
   "cell_type": "code",
   "execution_count": null,
   "metadata": {},
   "outputs": [],
   "source": [
    "users.rename(columns={'female': 'gender_id'}, inplace=True)\n",
    "users['gender_id'] = users['gender_id'].astype(int)\n",
    "users.drop(['# user'], axis=1, inplace=True)\n",
    "users['user_id'] = users.index\n",
    "users = users[['user_id', 'user', 'gender_id']]"
   ]
  },
  {
   "cell_type": "code",
   "execution_count": null,
   "metadata": {},
   "outputs": [],
   "source": [
    "users.tail()"
   ]
  },
  {
   "cell_type": "markdown",
   "metadata": {},
   "source": [
    "The observation that the largest normalized user identifier (``user_id``) is six user shorter than the unnormalized identifier (``user``) means that we avoid dragging along six users for which we do not have any data at all. Since we have created a ``gender_id``, we must also create a dataframe with descriptions of these identifiers:"
   ]
  },
  {
   "cell_type": "code",
   "execution_count": null,
   "metadata": {},
   "outputs": [],
   "source": [
    "genders = pd.DataFrame([[0, 'male'], [1, 'female'], [2, 'unknown']], columns=['gender_id', 'gender'])"
   ]
  },
  {
   "cell_type": "code",
   "execution_count": null,
   "metadata": {},
   "outputs": [],
   "source": [
    "genders"
   ]
  },
  {
   "cell_type": "markdown",
   "metadata": {},
   "source": [
    "### Relations dataframes\n",
    "#### Bluetooth\n",
    "The network of physical proximity is the only undirected network."
   ]
  },
  {
   "cell_type": "code",
   "execution_count": null,
   "metadata": {},
   "outputs": [],
   "source": [
    "bluetooth.head()"
   ]
  },
  {
   "cell_type": "markdown",
   "metadata": {},
   "source": [
    "The ``# timestamp`` column is a counter of seconds over four weeks. This function replaces such a timestamp column with ``['day', 'hour', 'minute', 'second']`` columns:"
   ]
  },
  {
   "cell_type": "code",
   "execution_count": null,
   "metadata": {},
   "outputs": [],
   "source": [
    "def replace_timestamp(df, timestamp):\n",
    "    minute = (df[timestamp]/60).astype(int)\n",
    "    hour = (minute/60).astype(int)\n",
    "    day = (hour/24).astype(int).rename('day')\n",
    "    hour = (hour-day*24).rename('hour')\n",
    "    minute = (minute-day*24*60-hour*60).rename('minute')\n",
    "    second = (df[timestamp]-day*24*60*60-hour*60*60-minute*60).rename('second')\n",
    "    df.rename(columns={timestamp: 'time'}, inplace=True)\n",
    "    df = pd.concat([df, day, hour, minute, second], axis=1)\n",
    "    return df"
   ]
  },
  {
   "cell_type": "code",
   "execution_count": null,
   "metadata": {},
   "outputs": [],
   "source": [
    "bluetooth = replace_timestamp(bluetooth, '# timestamp')"
   ]
  },
  {
   "cell_type": "markdown",
   "metadata": {},
   "source": [
    "Preprocess signal strength:"
   ]
  },
  {
   "cell_type": "code",
   "execution_count": null,
   "metadata": {},
   "outputs": [],
   "source": [
    "bluetooth['rssi'].hist()"
   ]
  },
  {
   "cell_type": "code",
   "execution_count": null,
   "metadata": {},
   "outputs": [],
   "source": [
    "bluetooth = bluetooth[bluetooth['rssi'] < 0]"
   ]
  },
  {
   "cell_type": "markdown",
   "metadata": {},
   "source": [
    "Transform signal strength to more intuitive values:"
   ]
  },
  {
   "cell_type": "code",
   "execution_count": null,
   "metadata": {},
   "outputs": [],
   "source": [
    "bluetooth['rssi'] = bluetooth['rssi']+100"
   ]
  },
  {
   "cell_type": "code",
   "execution_count": null,
   "metadata": {},
   "outputs": [],
   "source": [
    "bluetooth.rename(columns={'rssi': 'strength'}, inplace=True)"
   ]
  },
  {
   "cell_type": "markdown",
   "metadata": {},
   "source": [
    "Remove ties where no other study participant is found in the bluetooth range:"
   ]
  },
  {
   "cell_type": "code",
   "execution_count": null,
   "metadata": {},
   "outputs": [],
   "source": [
    "bluetooth = bluetooth[~bluetooth['user_b'].isin([-1, -2])]"
   ]
  },
  {
   "cell_type": "markdown",
   "metadata": {},
   "source": [
    "The edge list still uses the unnormalized node identifiers. To replace them with the normalized ones, use this function:"
   ]
  },
  {
   "cell_type": "code",
   "execution_count": null,
   "metadata": {},
   "outputs": [],
   "source": [
    "def replace_identifier(df, old_identifier, new_identifier):\n",
    "    df = pd.merge(left=df, right=users[['user', 'user_id']], left_on=old_identifier, right_on='user')\n",
    "    df.rename(columns={'user_id': new_identifier}, inplace=True)\n",
    "    df.drop([old_identifier, 'user'], axis=1, inplace=True)\n",
    "    return df"
   ]
  },
  {
   "cell_type": "code",
   "execution_count": null,
   "metadata": {},
   "outputs": [],
   "source": [
    "bluetooth = replace_identifier(bluetooth, 'user_a', 'user_id_from')\n",
    "bluetooth = replace_identifier(bluetooth, 'user_b', 'user_id_to')"
   ]
  },
  {
   "cell_type": "markdown",
   "metadata": {},
   "source": [
    "Since ``bluetooth`` is the only undirected network but we may use it as a layer in a multiplex graph, we create a duplicate tie in the reverse direction:"
   ]
  },
  {
   "cell_type": "code",
   "execution_count": null,
   "metadata": {},
   "outputs": [],
   "source": [
    "bluetooth_reversed = bluetooth.copy()[['time', 'strength', 'day', 'hour', 'minute', 'second', 'user_id_to', 'user_id_from']]\n",
    "bluetooth_reversed.columns = bluetooth.columns\n",
    "bluetooth = bluetooth.append(bluetooth_reversed)"
   ]
  },
  {
   "cell_type": "markdown",
   "metadata": {},
   "source": [
    "Now clean up:"
   ]
  },
  {
   "cell_type": "code",
   "execution_count": null,
   "metadata": {},
   "outputs": [],
   "source": [
    "bluetooth.sort_values(['time', 'user_id_from', 'user_id_to'], inplace=True)\n",
    "bluetooth.reset_index(drop=True, inplace=True)\n",
    "bluetooth = bluetooth[['user_id_from', 'user_id_to', 'strength', 'time', 'day', 'hour', 'minute', 'second']]"
   ]
  },
  {
   "cell_type": "code",
   "execution_count": null,
   "metadata": {},
   "outputs": [],
   "source": [
    "bluetooth.head()"
   ]
  },
  {
   "cell_type": "markdown",
   "metadata": {},
   "source": [
    "The edge list for the network of physical proximity is now in the normalized form. The edges are defined in the first two columns, the edge weight is in the third column, and temporal columns can be used for slicing and filtering."
   ]
  },
  {
   "cell_type": "markdown",
   "metadata": {},
   "source": [
    "### Calls\n",
    "The network of phone clls encodes who calls whom."
   ]
  },
  {
   "cell_type": "code",
   "execution_count": null,
   "metadata": {},
   "outputs": [],
   "source": [
    "calls.head()"
   ]
  },
  {
   "cell_type": "markdown",
   "metadata": {},
   "source": [
    "Replace the timestamps:"
   ]
  },
  {
   "cell_type": "code",
   "execution_count": null,
   "metadata": {},
   "outputs": [],
   "source": [
    "calls = replace_timestamp(calls, 'timestamp')"
   ]
  },
  {
   "cell_type": "markdown",
   "metadata": {},
   "source": [
    "Replace the user identifiers:"
   ]
  },
  {
   "cell_type": "code",
   "execution_count": null,
   "metadata": {},
   "outputs": [],
   "source": [
    "calls = replace_identifier(calls, 'caller', 'user_id_from')\n",
    "calls = replace_identifier(calls, 'callee', 'user_id_to')"
   ]
  },
  {
   "cell_type": "markdown",
   "metadata": {},
   "source": [
    "Missed calls are coded as -1. Since negative values cannot be used as edge weights, we recode -1 to 0. Missed calls are then indistinguishable from clls that lasted 0 seconds."
   ]
  },
  {
   "cell_type": "code",
   "execution_count": null,
   "metadata": {},
   "outputs": [],
   "source": [
    "calls['duration'].replace(-1, 0, inplace=True)"
   ]
  },
  {
   "cell_type": "markdown",
   "metadata": {},
   "source": [
    "Clean up:"
   ]
  },
  {
   "cell_type": "code",
   "execution_count": null,
   "metadata": {},
   "outputs": [],
   "source": [
    "calls.sort_values(['time', 'user_id_from', 'user_id_to'], inplace=True)\n",
    "calls.reset_index(drop=True, inplace=True)\n",
    "calls = calls[['user_id_from', 'user_id_to', 'duration', 'time', 'day', 'hour', 'minute', 'second']]"
   ]
  },
  {
   "cell_type": "code",
   "execution_count": null,
   "metadata": {},
   "outputs": [],
   "source": [
    "calls.head()"
   ]
  },
  {
   "cell_type": "markdown",
   "metadata": {},
   "source": [
    "### SMS\n",
    "The network of text messages encodes who sends whom a short message."
   ]
  },
  {
   "cell_type": "code",
   "execution_count": null,
   "metadata": {},
   "outputs": [],
   "source": [
    "sms.head()"
   ]
  },
  {
   "cell_type": "markdown",
   "metadata": {},
   "source": [
    "Replace the timestamps:"
   ]
  },
  {
   "cell_type": "code",
   "execution_count": null,
   "metadata": {},
   "outputs": [],
   "source": [
    "sms = replace_timestamp(sms, 'timestamp')"
   ]
  },
  {
   "cell_type": "markdown",
   "metadata": {},
   "source": [
    "Replace the user identifiers:"
   ]
  },
  {
   "cell_type": "code",
   "execution_count": null,
   "metadata": {},
   "outputs": [],
   "source": [
    "sms = replace_identifier(sms, 'sender', 'user_id_from')\n",
    "sms = replace_identifier(sms, 'recipient', 'user_id_to')"
   ]
  },
  {
   "cell_type": "markdown",
   "metadata": {},
   "source": [
    "Clean up:"
   ]
  },
  {
   "cell_type": "code",
   "execution_count": null,
   "metadata": {},
   "outputs": [],
   "source": [
    "sms.sort_values(['time', 'user_id_from', 'user_id_to'], inplace=True)\n",
    "sms.reset_index(drop=True, inplace=True)\n",
    "sms = sms[['user_id_from', 'user_id_to', 'time', 'day', 'hour', 'minute', 'second']]"
   ]
  },
  {
   "cell_type": "code",
   "execution_count": null,
   "metadata": {},
   "outputs": [],
   "source": [
    "sms.head()"
   ]
  },
  {
   "cell_type": "markdown",
   "metadata": {},
   "source": [
    "### Facebook friends\n",
    "The network of Facebook friendships encodes who (``user_id_from``) declares whom (``user_id_to``) as a friend."
   ]
  },
  {
   "cell_type": "code",
   "execution_count": null,
   "metadata": {},
   "outputs": [],
   "source": [
    "facebook_friends.head()"
   ]
  },
  {
   "cell_type": "code",
   "execution_count": null,
   "metadata": {},
   "outputs": [],
   "source": [
    "facebook_friends = replace_identifier(facebook_friends, '# user_a', 'user_id_from')\n",
    "facebook_friends = replace_identifier(facebook_friends, 'user_b', 'user_id_to')"
   ]
  },
  {
   "cell_type": "code",
   "execution_count": null,
   "metadata": {},
   "outputs": [],
   "source": [
    "facebook_friends.sort_values(['user_id_from', 'user_id_to'], inplace=True)\n",
    "facebook_friends.reset_index(drop=True, inplace=True)"
   ]
  },
  {
   "cell_type": "code",
   "execution_count": null,
   "metadata": {},
   "outputs": [],
   "source": [
    "facebook_friends.head()"
   ]
  },
  {
   "cell_type": "markdown",
   "metadata": {},
   "source": [
    "## Function\n",
    "This function loads all data in one step:"
   ]
  },
  {
   "cell_type": "code",
   "execution_count": null,
   "metadata": {},
   "outputs": [],
   "source": [
    "def copenhagen_collection(path='data/copenhagen/'):\n",
    "    '''\n",
    "    Description: Loads the normalized Copenhagen Networks Study data collection.\n",
    "    \n",
    "    Output: Six dataframes in this order: users, genders, bluetooth, calls, sms, facebook_friends\n",
    "    '''\n",
    "    # functions\n",
    "    def replace_timestamp(df, timestamp):\n",
    "        minute = (df[timestamp]/60).astype(int)\n",
    "        hour = (minute/60).astype(int)\n",
    "        day = (hour/24).astype(int).rename('day')\n",
    "        hour = (hour-day*24).rename('hour')\n",
    "        minute = (minute-day*24*60-hour*60).rename('minute')\n",
    "        second = (df[timestamp]-day*24*60*60-hour*60*60-minute*60).rename('second')\n",
    "        df.rename(columns={timestamp: 'time'}, inplace=True)\n",
    "        df = pd.concat([df, day, hour, minute, second], axis=1)\n",
    "        return df\n",
    "    \n",
    "    def replace_identifier(df, old_identifier, new_identifier):\n",
    "        df = pd.merge(left=df, right=users[['user', 'user_id']], left_on=old_identifier, right_on='user')\n",
    "        df.rename(columns={'user_id': new_identifier}, inplace=True)\n",
    "        df.drop([old_identifier, 'user'], axis=1, inplace=True)\n",
    "        return df\n",
    "    \n",
    "    # load data\n",
    "    import os\n",
    "    import pandas as pd\n",
    "    bluetooth = pd.read_csv(os.path.join(path, 'bt_symmetric.csv'))\n",
    "    calls = pd.read_csv(os.path.join(path, 'calls.csv'))\n",
    "    sms = pd.read_csv(os.path.join(path, 'sms.csv'))\n",
    "    facebook_friends = pd.read_csv(os.path.join(path, 'fb_friends.csv'))\n",
    "    attributes = pd.read_csv(os.path.join(path, 'genders.csv'))\n",
    "    \n",
    "    # create ``users`` dataframe\n",
    "    import itertools\n",
    "    users = set(itertools.chain(*[\n",
    "        bluetooth['user_a'].to_list(), \n",
    "        bluetooth['user_b'].to_list(), \n",
    "        calls['caller'].to_list(), \n",
    "        calls['callee'].to_list(), \n",
    "        sms['sender'].to_list(), \n",
    "        sms['recipient'].to_list(), \n",
    "        facebook_friends['# user_a'].to_list(), \n",
    "        facebook_friends['user_b'].to_list(), \n",
    "        attributes['# user'].to_list()\n",
    "    ]))\n",
    "    users = pd.DataFrame(list(users), columns=['user'])\n",
    "    users = users[users['user'] >= 0]\n",
    "    users = pd.merge(left=users, right=attributes, left_on='user', right_on='# user', how='left')\n",
    "    users.fillna(2, inplace=True)\n",
    "    users.rename(columns={'female': 'gender_id'}, inplace=True)\n",
    "    users['gender_id'] = users['gender_id'].astype(int)\n",
    "    users.drop(['# user'], axis=1, inplace=True)\n",
    "    users['user_id'] = users.index\n",
    "    users = users[['user_id', 'user', 'gender_id']]\n",
    "    \n",
    "    # create ``genders`` dataframe\n",
    "    genders = pd.DataFrame([[0, 'male'], [1, 'female'], [2, 'unknown']], columns=['gender_id', 'gender'])\n",
    "    \n",
    "    # create ``bluetooth`` dataframe\n",
    "    bluetooth = replace_timestamp(bluetooth, '# timestamp')\n",
    "    bluetooth = bluetooth[bluetooth['rssi'] < 0]\n",
    "    bluetooth['rssi'] = bluetooth['rssi']+100\n",
    "    bluetooth.rename(columns={'rssi': 'strength'}, inplace=True)\n",
    "    bluetooth = bluetooth[~bluetooth['user_b'].isin([-1, -2])]\n",
    "    bluetooth = replace_identifier(bluetooth, 'user_a', 'user_id_from')\n",
    "    bluetooth = replace_identifier(bluetooth, 'user_b', 'user_id_to')\n",
    "    \n",
    "    bluetooth_reversed = bluetooth.copy()[['time', 'strength', 'day', 'hour', 'minute', 'second', 'user_id_to', 'user_id_from']]\n",
    "    bluetooth_reversed.columns = bluetooth.columns\n",
    "    \n",
    "    bluetooth = bluetooth.append(bluetooth_reversed)\n",
    "    bluetooth.sort_values(['time', 'user_id_from', 'user_id_to'], inplace=True)\n",
    "    bluetooth.reset_index(drop=True, inplace=True)\n",
    "    bluetooth = bluetooth[['user_id_from', 'user_id_to', 'strength', 'time', 'day', 'hour', 'minute', 'second']]\n",
    "    \n",
    "    # create ``calls`` dataframe\n",
    "    calls = replace_timestamp(calls, 'timestamp')\n",
    "    calls = replace_identifier(calls, 'caller', 'user_id_from')\n",
    "    calls = replace_identifier(calls, 'callee', 'user_id_to')\n",
    "    calls['duration'].replace(-1, 0, inplace=True)\n",
    "    calls.sort_values(['time', 'user_id_from', 'user_id_to'], inplace=True)\n",
    "    calls.reset_index(drop=True, inplace=True)\n",
    "    calls = calls[['user_id_from', 'user_id_to', 'duration', 'time', 'day', 'hour', 'minute', 'second']]\n",
    "    \n",
    "    # create ``sms`` dataframe\n",
    "    sms = replace_timestamp(sms, 'timestamp')\n",
    "    sms = replace_identifier(sms, 'sender', 'user_id_from')\n",
    "    sms = replace_identifier(sms, 'recipient', 'user_id_to')\n",
    "    sms.sort_values(['time', 'user_id_from', 'user_id_to'], inplace=True)\n",
    "    sms.reset_index(drop=True, inplace=True)\n",
    "    sms = sms[['user_id_from', 'user_id_to', 'time', 'day', 'hour', 'minute', 'second']]\n",
    "    \n",
    "    # create ``facebook_friends`` dataframe\n",
    "    facebook_friends = replace_identifier(facebook_friends, '# user_a', 'user_id_from')\n",
    "    facebook_friends = replace_identifier(facebook_friends, 'user_b', 'user_id_to')\n",
    "    facebook_friends.sort_values(['user_id_from', 'user_id_to'], inplace=True)\n",
    "    facebook_friends.reset_index(drop=True, inplace=True)\n",
    "    \n",
    "    return users, genders, bluetooth, calls, sms, facebook_friends"
   ]
  },
  {
   "cell_type": "markdown",
   "metadata": {},
   "source": [
    "## Data exploration\n",
    "Supply the data:"
   ]
  },
  {
   "cell_type": "code",
   "execution_count": null,
   "metadata": {},
   "outputs": [],
   "source": [
    "users, genders, bluetooth, calls, sms, facebook_friends = cs.copenhagen_collection()"
   ]
  },
  {
   "cell_type": "markdown",
   "metadata": {},
   "source": [
    "Provide node color as a vertex property for all four types of tie:"
   ]
  },
  {
   "cell_type": "code",
   "execution_count": null,
   "metadata": {},
   "outputs": [],
   "source": [
    "vp_node_color = cs.partition_to_vertex_property(users['gender_id'], {0: '#e41a1c', 1: '#377eb8', 2: '#4daf4a'})"
   ]
  },
  {
   "cell_type": "markdown",
   "metadata": {},
   "source": [
    "### Network of physical proximity\n",
    "Using relations of the first day, take the maximum signal strangth:"
   ]
  },
  {
   "cell_type": "code",
   "execution_count": null,
   "metadata": {},
   "outputs": [],
   "source": [
    "bluetooth_first_day = bluetooth[bluetooth['day'] == 0]"
   ]
  },
  {
   "cell_type": "code",
   "execution_count": null,
   "metadata": {},
   "outputs": [],
   "source": [
    "bluetooth_first_day_max = bluetooth_first_day[['user_id_from', 'user_id_to', 'strength']].groupby(['user_id_from', 'user_id_to']).max().reset_index()"
   ]
  },
  {
   "cell_type": "code",
   "execution_count": null,
   "metadata": {},
   "outputs": [],
   "source": [
    "G_bluetooth_first_day_max = cs.construct_graph(\n",
    "    directed=True, \n",
    "    multiplex=False, \n",
    "    graph_name='bluetooth_first_day_max', \n",
    "    node_list=users, \n",
    "    edge_list=bluetooth_first_day_max, \n",
    "    node_label='user'\n",
    ")"
   ]
  },
  {
   "cell_type": "markdown",
   "metadata": {},
   "source": [
    "Extract the largest connected component:"
   ]
  },
  {
   "cell_type": "code",
   "execution_count": null,
   "metadata": {},
   "outputs": [],
   "source": [
    "G_bluetooth_first_day_max = G_bluetooth_first_day_max.subgraph(max(nx.connected_components(nx.to_undirected(G_bluetooth_first_day_max)), key=len))"
   ]
  },
  {
   "cell_type": "markdown",
   "metadata": {},
   "source": [
    "Provide node positions by tuning `iterations` or using a different layout algorithm:"
   ]
  },
  {
   "cell_type": "code",
   "execution_count": null,
   "metadata": {},
   "outputs": [],
   "source": [
    "vp_bluetooth_first_day_max_node_pos = nx.spring_layout(G_bluetooth_first_day_max, iterations=50)"
   ]
  },
  {
   "cell_type": "code",
   "execution_count": null,
   "metadata": {},
   "outputs": [],
   "source": [
    "cs.draw_graph(\n",
    "    G_bluetooth_first_day_max, \n",
    "    node_pos=vp_bluetooth_first_day_max_node_pos, \n",
    "    node_color=vp_node_color, \n",
    "    node_border_width=1, \n",
    "    edge_width_factor=.05, \n",
    "    figsize='large'\n",
    ")"
   ]
  },
  {
   "cell_type": "markdown",
   "metadata": {},
   "source": [
    "### Network of phone calls\n",
    "Using all relations over four weeks, sum the durations:"
   ]
  },
  {
   "cell_type": "code",
   "execution_count": null,
   "metadata": {},
   "outputs": [],
   "source": [
    "calls_sum = calls[['user_id_from', 'user_id_to', 'duration']].groupby(['user_id_from', 'user_id_to']).sum().reset_index()"
   ]
  },
  {
   "cell_type": "code",
   "execution_count": null,
   "metadata": {},
   "outputs": [],
   "source": [
    "G_calls_sum = cs.construct_graph(\n",
    "    directed=True, \n",
    "    multiplex=False, \n",
    "    graph_name='calls_sum', \n",
    "    node_list=users, \n",
    "    edge_list=calls_sum, \n",
    "    node_label='user'\n",
    ")"
   ]
  },
  {
   "cell_type": "code",
   "execution_count": null,
   "metadata": {},
   "outputs": [],
   "source": [
    "G_calls_sum = G_calls_sum.subgraph(max(nx.connected_components(nx.to_undirected(G_calls_sum)), key=len))"
   ]
  },
  {
   "cell_type": "code",
   "execution_count": null,
   "metadata": {},
   "outputs": [],
   "source": [
    "vp_calls_sum_node_pos = nx.spring_layout(G_calls_sum, iterations=50)"
   ]
  },
  {
   "cell_type": "code",
   "execution_count": null,
   "metadata": {},
   "outputs": [],
   "source": [
    "cs.draw_graph(\n",
    "    G_calls_sum, \n",
    "    node_pos=vp_calls_sum_node_pos, \n",
    "    node_color=vp_node_color, \n",
    "    node_border_width=1, \n",
    "    edge_width_factor=.005, \n",
    "    figsize='large'\n",
    ")"
   ]
  },
  {
   "cell_type": "markdown",
   "metadata": {},
   "source": [
    "### Network of text messages\n",
    "Using all relations over four weeks, count the messages:"
   ]
  },
  {
   "cell_type": "code",
   "execution_count": null,
   "metadata": {},
   "outputs": [],
   "source": [
    "sms_size = calls.groupby(['user_id_from', 'user_id_to']).size().reset_index()\n",
    "sms_size.rename(columns={0: 'size'}, inplace=True)"
   ]
  },
  {
   "cell_type": "code",
   "execution_count": null,
   "metadata": {},
   "outputs": [],
   "source": [
    "G_sms_size = cs.construct_graph(\n",
    "    directed=True, \n",
    "    multiplex=False, \n",
    "    graph_name='sms_size', \n",
    "    node_list=users, \n",
    "    edge_list=sms_size, \n",
    "    node_label='user'\n",
    ")"
   ]
  },
  {
   "cell_type": "code",
   "execution_count": null,
   "metadata": {},
   "outputs": [],
   "source": [
    "G_sms_size = G_sms_size.subgraph(max(nx.connected_components(nx.to_undirected(G_sms_size)), key=len))"
   ]
  },
  {
   "cell_type": "code",
   "execution_count": null,
   "metadata": {},
   "outputs": [],
   "source": [
    "vp_sms_size_node_pos = nx.spring_layout(G_sms_size, iterations=100)"
   ]
  },
  {
   "cell_type": "code",
   "execution_count": null,
   "metadata": {},
   "outputs": [],
   "source": [
    "cs.draw_graph(\n",
    "    G_sms_size, \n",
    "    node_pos=vp_sms_size_node_pos, \n",
    "    node_color=vp_node_color, \n",
    "    node_border_width=1, \n",
    "    edge_width_factor=.5, \n",
    "    figsize='large'\n",
    ")"
   ]
  },
  {
   "cell_type": "markdown",
   "metadata": {},
   "source": [
    "### Network of Facebook friendships\n",
    "the `construct_graph()` function needs weighted edge lists as an input:"
   ]
  },
  {
   "cell_type": "code",
   "execution_count": null,
   "metadata": {},
   "outputs": [],
   "source": [
    "facebook_friends['weight'] = 1"
   ]
  },
  {
   "cell_type": "code",
   "execution_count": null,
   "metadata": {},
   "outputs": [],
   "source": [
    "G_facebook_friends = cs.construct_graph(\n",
    "    directed=True, \n",
    "    multiplex=False, \n",
    "    graph_name='facebook_friends', \n",
    "    node_list=users, \n",
    "    edge_list=facebook_friends, \n",
    "    node_label='user'\n",
    ")"
   ]
  },
  {
   "cell_type": "code",
   "execution_count": null,
   "metadata": {},
   "outputs": [],
   "source": [
    "G_facebook_friends = G_facebook_friends.subgraph(max(nx.connected_components(nx.to_undirected(G_facebook_friends)), key=len))"
   ]
  },
  {
   "cell_type": "code",
   "execution_count": null,
   "metadata": {},
   "outputs": [],
   "source": [
    "vp_facebook_friends_node_pos = nx.spring_layout(G_facebook_friends, iterations=100)"
   ]
  },
  {
   "cell_type": "code",
   "execution_count": null,
   "metadata": {},
   "outputs": [],
   "source": [
    "cs.draw_graph(\n",
    "    G_facebook_friends, \n",
    "    node_pos=vp_facebook_friends_node_pos, \n",
    "    node_color=vp_node_color, \n",
    "    node_border_width=1, \n",
    "    edge_width_factor=.2, \n",
    "    figsize='large'\n",
    ")"
   ]
  }
 ],
 "metadata": {
  "kernelspec": {
   "display_name": "Python 3",
   "language": "python",
   "name": "python3"
  },
  "language_info": {
   "codemirror_mode": {
    "name": "ipython",
    "version": 3
   },
   "file_extension": ".py",
   "mimetype": "text/x-python",
   "name": "python",
   "nbconvert_exporter": "python",
   "pygments_lexer": "ipython3",
   "version": "3.8.3"
  }
 },
 "nbformat": 4,
 "nbformat_minor": 2
}
