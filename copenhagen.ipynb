{
 "cells": [
  {
   "cell_type": "markdown",
   "metadata": {},
   "source": [
    "[Home](index.ipynb) > [Notebooks](notebooks.ipynb) > Copenhagen Network Study"
   ]
  },
  {
   "cell_type": "markdown",
   "metadata": {},
   "source": [
    "<img style='float: left;' src='https://www.gesis.org/typo3conf/ext/gesis_web_ext/Resources/Public/webpack/dist/img/logo_gesis_en.svg' width='150'>"
   ]
  },
  {
   "cell_type": "markdown",
   "metadata": {},
   "source": [
    "### ``compsoc`` – Computational Social Methods in Python"
   ]
  },
  {
   "cell_type": "markdown",
   "metadata": {},
   "source": [
    "# Copenhagen Networks Study: Multiplex interactions among 845 university students\n",
    "\n",
    "**Author**: [Haiko Lietz](https://www.gesis.org/person/haiko.lietz)\n",
    "\n",
    "**Affiliation**: [GESIS - Leibniz Institute for the Social Sciences](https://www.gesis.org/), Cologne, Germany\n",
    "\n",
    "**Publication date**: XX.XX.XXXX (version 1.0)"
   ]
  },
  {
   "cell_type": "markdown",
   "metadata": {},
   "source": [
    "***"
   ]
  },
  {
   "cell_type": "markdown",
   "metadata": {},
   "source": [
    "## Introduction\n",
    "\n",
    "The Copenhagen Networks Study is a beacon in demonstrating the power of a mix of digital behavioral data and survey data as well as mixed methods. In 2013, researchers handed out 1,000 cell phones to students at the Technical University of Denmark and recorded their physical location (via the cell phone’s GPS sensor), who was proximate to whom (via the Bluetooth sensor), who called whom, and who texted whom. In addition, their transactions on Facebook were collected, and their demographic and psychological traits were surveyed. Parts of this data are described by Sapiezynski et al. ([2019](https://doi.org/10.1038/s41597-019-0325-x)). They are made [freely available](https://doi.org/10.6084/m9.figshare.7267433) under an MIT License at figshare. Four types social relations are depicted in Figure 1.\n",
    "\n",
    "|<img src='images/copenhagen.png' style='float: none; width: 480px'>|\n",
    "|:--|\n",
    "|<em style='float: center'>**Figure 1**: Social relations from the Copenhagen Networks Study</em>|\n",
    "\n",
    "**In this notebook**, we develop a function that loads and normalizes all data of the Copenhagen Networks Study. Normalizing variables and unifying names makes it compatible with the `compsoc` tools."
   ]
  },
  {
   "cell_type": "markdown",
   "metadata": {},
   "source": [
    "## Dependencies and settings"
   ]
  },
  {
   "cell_type": "code",
   "execution_count": 1,
   "metadata": {},
   "outputs": [],
   "source": [
    "import compsoc as cs\n",
    "import itertools\n",
    "import numpy as np\n",
    "import os\n",
    "import pandas as pd"
   ]
  },
  {
   "cell_type": "code",
   "execution_count": 2,
   "metadata": {},
   "outputs": [],
   "source": [
    "path = 'data/copenhagen/'"
   ]
  },
  {
   "cell_type": "markdown",
   "metadata": {},
   "source": [
    "## Copenhagen Networks Study interaction data\n",
    "The dataset contains four types of tie and a user attribute.\n",
    "\n",
    "First type of tie: **Network of physical proximity** among the participants (estimated via Bluetooth signal strength)."
   ]
  },
  {
   "cell_type": "code",
   "execution_count": 3,
   "metadata": {},
   "outputs": [],
   "source": [
    "bluetooth = pd.read_csv(os.path.join(path, 'bt_symmetric.csv'))"
   ]
  },
  {
   "cell_type": "code",
   "execution_count": 4,
   "metadata": {},
   "outputs": [
    {
     "name": "stdout",
     "output_type": "stream",
     "text": [
      "Index(['# timestamp', 'user_a', 'user_b', 'rssi'], dtype='object')\n"
     ]
    }
   ],
   "source": [
    "print(bluetooth.columns)"
   ]
  },
  {
   "cell_type": "code",
   "execution_count": 5,
   "metadata": {},
   "outputs": [
    {
     "name": "stdout",
     "output_type": "stream",
     "text": [
      "column names:\n",
      "\t- timestamp\n",
      "\t- user A \n",
      "\t- user B \n",
      "\t- received signal strength\n",
      "\n",
      "Notes:\n",
      "Empty scans are marked with user B = -1 and RSSI = 0\n",
      "Scans of devices outside of the experiment are marked with user B = -2. All non-experiment devices are given the same ID.\n",
      "\n"
     ]
    }
   ],
   "source": [
    "print(open(os.path.join(path, 'bt_symmetric.README'), 'r').read())"
   ]
  },
  {
   "cell_type": "markdown",
   "metadata": {},
   "source": [
    "Second type of tie: **Network of phone calls** (start time, duration, no content)."
   ]
  },
  {
   "cell_type": "code",
   "execution_count": 6,
   "metadata": {},
   "outputs": [],
   "source": [
    "calls = pd.read_csv(os.path.join(path, 'calls.csv'))"
   ]
  },
  {
   "cell_type": "code",
   "execution_count": 7,
   "metadata": {},
   "outputs": [
    {
     "name": "stdout",
     "output_type": "stream",
     "text": [
      "Index(['timestamp', 'caller', 'callee', 'duration'], dtype='object')\n"
     ]
    }
   ],
   "source": [
    "print(calls.columns)"
   ]
  },
  {
   "cell_type": "code",
   "execution_count": 8,
   "metadata": {},
   "outputs": [
    {
     "name": "stdout",
     "output_type": "stream",
     "text": [
      "column names:\n",
      "\t- timestamp\n",
      "\t- calling user\n",
      "\t- call recipient\n",
      "\t- duration (-1 means a missed call)\n",
      "\n",
      "\n"
     ]
    }
   ],
   "source": [
    "print(open(os.path.join(path, 'calls.README'), 'r').read())"
   ]
  },
  {
   "cell_type": "markdown",
   "metadata": {},
   "source": [
    "Third type of tie: **Network of text messages** (time of message, no content)."
   ]
  },
  {
   "cell_type": "code",
   "execution_count": 9,
   "metadata": {},
   "outputs": [],
   "source": [
    "sms = pd.read_csv(os.path.join(path, 'sms.csv'))"
   ]
  },
  {
   "cell_type": "code",
   "execution_count": 10,
   "metadata": {},
   "outputs": [
    {
     "name": "stdout",
     "output_type": "stream",
     "text": [
      "Index(['timestamp', 'sender', 'recipient'], dtype='object')\n"
     ]
    }
   ],
   "source": [
    "print(sms.columns)"
   ]
  },
  {
   "cell_type": "code",
   "execution_count": 11,
   "metadata": {},
   "outputs": [
    {
     "name": "stdout",
     "output_type": "stream",
     "text": [
      "column names:\n",
      "\t- timestamp\n",
      "\t- sender\n",
      "\t- recipient\n",
      "\n"
     ]
    }
   ],
   "source": [
    "print(open(os.path.join(path, 'sms.README'), 'r').read())"
   ]
  },
  {
   "cell_type": "markdown",
   "metadata": {},
   "source": [
    "Fourth type of tie: **network of Facebook friendships**."
   ]
  },
  {
   "cell_type": "code",
   "execution_count": 12,
   "metadata": {},
   "outputs": [],
   "source": [
    "fb_friends = pd.read_csv(os.path.join(path, 'fb_friends.csv'))"
   ]
  },
  {
   "cell_type": "code",
   "execution_count": 13,
   "metadata": {},
   "outputs": [
    {
     "name": "stdout",
     "output_type": "stream",
     "text": [
      "Index(['# user_a', 'user_b'], dtype='object')\n"
     ]
    }
   ],
   "source": [
    "print(fb_friends.columns)"
   ]
  },
  {
   "cell_type": "code",
   "execution_count": 14,
   "metadata": {},
   "outputs": [
    {
     "name": "stdout",
     "output_type": "stream",
     "text": [
      "column names:\n",
      "\t- user A\n",
      "\t- user B\n",
      "\n",
      "Edge lists of all declared facebook friendships which were formed before the end of the observation and not dissolved until after the end of the observation.\n",
      "\n"
     ]
    }
   ],
   "source": [
    "print(open(os.path.join(path, 'fb_friends.README'), 'r').read())"
   ]
  },
  {
   "cell_type": "markdown",
   "metadata": {},
   "source": [
    "User attribute:"
   ]
  },
  {
   "cell_type": "code",
   "execution_count": 15,
   "metadata": {},
   "outputs": [],
   "source": [
    "attributes = pd.read_csv(os.path.join(path, 'genders.csv'))"
   ]
  },
  {
   "cell_type": "code",
   "execution_count": 16,
   "metadata": {},
   "outputs": [
    {
     "name": "stdout",
     "output_type": "stream",
     "text": [
      "Index(['# user', 'female'], dtype='object')\n"
     ]
    }
   ],
   "source": [
    "print(attributes.columns)"
   ]
  },
  {
   "cell_type": "markdown",
   "metadata": {},
   "source": [
    "## Normalization\n",
    "The goal of normalization is to bring this data into a standard form which is needed for methods to be applicable.\n",
    "### ``users`` dataframe\n",
    "The ``genders`` dataframe is not a complete list of users as some users that participated in relational data collection did not answer the gender question or did not participate in the survey. We must construct a ``users`` dataframe by finding the set of unique users, ..."
   ]
  },
  {
   "cell_type": "code",
   "execution_count": 17,
   "metadata": {},
   "outputs": [],
   "source": [
    "users = set(itertools.chain(*[\n",
    "    bluetooth['user_a'].to_list(), \n",
    "    bluetooth['user_b'].to_list(), \n",
    "    calls['caller'].to_list(), \n",
    "    calls['callee'].to_list(), \n",
    "    sms['sender'].to_list(), \n",
    "    sms['recipient'].to_list(), \n",
    "    fb_friends['# user_a'].to_list(), \n",
    "    fb_friends['user_b'].to_list(), \n",
    "    attributes['# user'].to_list()\n",
    "]))"
   ]
  },
  {
   "cell_type": "code",
   "execution_count": 18,
   "metadata": {},
   "outputs": [],
   "source": [
    "users = pd.DataFrame(list(users), columns=['user'])\n",
    "users = users[users['user'] >= 0] # remove artifact users from bluetooth dataframe"
   ]
  },
  {
   "cell_type": "markdown",
   "metadata": {},
   "source": [
    "... merging user ``attributes`` into it, ..."
   ]
  },
  {
   "cell_type": "code",
   "execution_count": 19,
   "metadata": {},
   "outputs": [],
   "source": [
    "users = pd.merge(left=users, right=attributes, left_on='user', right_on='# user', how='left')"
   ]
  },
  {
   "cell_type": "markdown",
   "metadata": {},
   "source": [
    "... coding missing gender as 2, ..."
   ]
  },
  {
   "cell_type": "code",
   "execution_count": 20,
   "metadata": {},
   "outputs": [],
   "source": [
    "users.fillna(2, inplace=True)"
   ]
  },
  {
   "cell_type": "markdown",
   "metadata": {},
   "source": [
    "... and cleaning up:"
   ]
  },
  {
   "cell_type": "code",
   "execution_count": 21,
   "metadata": {},
   "outputs": [],
   "source": [
    "users.rename(columns={'female': 'gender_id'}, inplace=True)\n",
    "users['gender_id'] = users['gender_id'].astype(int)\n",
    "users.drop(['# user'], axis=1, inplace=True)\n",
    "users['user_id'] = users.index\n",
    "users = users[['user_id', 'user', 'gender_id']]"
   ]
  },
  {
   "cell_type": "code",
   "execution_count": 22,
   "metadata": {},
   "outputs": [
    {
     "data": {
      "text/html": [
       "<div>\n",
       "<style scoped>\n",
       "    .dataframe tbody tr th:only-of-type {\n",
       "        vertical-align: middle;\n",
       "    }\n",
       "\n",
       "    .dataframe tbody tr th {\n",
       "        vertical-align: top;\n",
       "    }\n",
       "\n",
       "    .dataframe thead th {\n",
       "        text-align: right;\n",
       "    }\n",
       "</style>\n",
       "<table border=\"1\" class=\"dataframe\">\n",
       "  <thead>\n",
       "    <tr style=\"text-align: right;\">\n",
       "      <th></th>\n",
       "      <th>user_id</th>\n",
       "      <th>user</th>\n",
       "      <th>gender_id</th>\n",
       "    </tr>\n",
       "  </thead>\n",
       "  <tbody>\n",
       "    <tr>\n",
       "      <th>840</th>\n",
       "      <td>840</td>\n",
       "      <td>845</td>\n",
       "      <td>0</td>\n",
       "    </tr>\n",
       "    <tr>\n",
       "      <th>841</th>\n",
       "      <td>841</td>\n",
       "      <td>846</td>\n",
       "      <td>0</td>\n",
       "    </tr>\n",
       "    <tr>\n",
       "      <th>842</th>\n",
       "      <td>842</td>\n",
       "      <td>847</td>\n",
       "      <td>1</td>\n",
       "    </tr>\n",
       "    <tr>\n",
       "      <th>843</th>\n",
       "      <td>843</td>\n",
       "      <td>848</td>\n",
       "      <td>2</td>\n",
       "    </tr>\n",
       "    <tr>\n",
       "      <th>844</th>\n",
       "      <td>844</td>\n",
       "      <td>850</td>\n",
       "      <td>2</td>\n",
       "    </tr>\n",
       "  </tbody>\n",
       "</table>\n",
       "</div>"
      ],
      "text/plain": [
       "     user_id  user  gender_id\n",
       "840      840   845          0\n",
       "841      841   846          0\n",
       "842      842   847          1\n",
       "843      843   848          2\n",
       "844      844   850          2"
      ]
     },
     "execution_count": 22,
     "metadata": {},
     "output_type": "execute_result"
    }
   ],
   "source": [
    "users.tail()"
   ]
  },
  {
   "cell_type": "markdown",
   "metadata": {},
   "source": [
    "The observation that the largest normalized user identifier (``user_id``) is six numbers shorter than the unnormalized identifier (``user``) means that we avoid dragging along six users for which we do not have any data at all. Since we have created a ``gender_id``, we must also create a dataframe with descriptions of these identifiers:"
   ]
  },
  {
   "cell_type": "code",
   "execution_count": 23,
   "metadata": {},
   "outputs": [],
   "source": [
    "genders = pd.DataFrame([[0, 'male'], [1, 'female'], [2, 'unknown']], columns=['gender_id', 'gender'])"
   ]
  },
  {
   "cell_type": "code",
   "execution_count": 24,
   "metadata": {},
   "outputs": [
    {
     "data": {
      "text/html": [
       "<div>\n",
       "<style scoped>\n",
       "    .dataframe tbody tr th:only-of-type {\n",
       "        vertical-align: middle;\n",
       "    }\n",
       "\n",
       "    .dataframe tbody tr th {\n",
       "        vertical-align: top;\n",
       "    }\n",
       "\n",
       "    .dataframe thead th {\n",
       "        text-align: right;\n",
       "    }\n",
       "</style>\n",
       "<table border=\"1\" class=\"dataframe\">\n",
       "  <thead>\n",
       "    <tr style=\"text-align: right;\">\n",
       "      <th></th>\n",
       "      <th>gender_id</th>\n",
       "      <th>gender</th>\n",
       "    </tr>\n",
       "  </thead>\n",
       "  <tbody>\n",
       "    <tr>\n",
       "      <th>0</th>\n",
       "      <td>0</td>\n",
       "      <td>male</td>\n",
       "    </tr>\n",
       "    <tr>\n",
       "      <th>1</th>\n",
       "      <td>1</td>\n",
       "      <td>female</td>\n",
       "    </tr>\n",
       "    <tr>\n",
       "      <th>2</th>\n",
       "      <td>2</td>\n",
       "      <td>unknown</td>\n",
       "    </tr>\n",
       "  </tbody>\n",
       "</table>\n",
       "</div>"
      ],
      "text/plain": [
       "   gender_id   gender\n",
       "0          0     male\n",
       "1          1   female\n",
       "2          2  unknown"
      ]
     },
     "execution_count": 24,
     "metadata": {},
     "output_type": "execute_result"
    }
   ],
   "source": [
    "genders"
   ]
  },
  {
   "cell_type": "markdown",
   "metadata": {},
   "source": [
    "### Relations dataframes\n",
    "#### Bluetooth\n",
    "The network of physical proximity is an undirected network. The `# timestamp` column is a counter of seconds over four weeks, quantized into bins of five minutes. Within each time bin, all instances of users A and B discovering each other were identified, and the larger signal strength (`rssi`) is reported ([Sapiezynski et al., 2019](https://doi.org/10.1038/s41597-019-0325-x)):"
   ]
  },
  {
   "cell_type": "code",
   "execution_count": 25,
   "metadata": {},
   "outputs": [
    {
     "data": {
      "text/html": [
       "<div>\n",
       "<style scoped>\n",
       "    .dataframe tbody tr th:only-of-type {\n",
       "        vertical-align: middle;\n",
       "    }\n",
       "\n",
       "    .dataframe tbody tr th {\n",
       "        vertical-align: top;\n",
       "    }\n",
       "\n",
       "    .dataframe thead th {\n",
       "        text-align: right;\n",
       "    }\n",
       "</style>\n",
       "<table border=\"1\" class=\"dataframe\">\n",
       "  <thead>\n",
       "    <tr style=\"text-align: right;\">\n",
       "      <th></th>\n",
       "      <th># timestamp</th>\n",
       "      <th>user_a</th>\n",
       "      <th>user_b</th>\n",
       "      <th>rssi</th>\n",
       "    </tr>\n",
       "  </thead>\n",
       "  <tbody>\n",
       "    <tr>\n",
       "      <th>0</th>\n",
       "      <td>0</td>\n",
       "      <td>0</td>\n",
       "      <td>-1</td>\n",
       "      <td>0</td>\n",
       "    </tr>\n",
       "    <tr>\n",
       "      <th>1</th>\n",
       "      <td>0</td>\n",
       "      <td>1</td>\n",
       "      <td>-1</td>\n",
       "      <td>0</td>\n",
       "    </tr>\n",
       "    <tr>\n",
       "      <th>2</th>\n",
       "      <td>0</td>\n",
       "      <td>2</td>\n",
       "      <td>-1</td>\n",
       "      <td>0</td>\n",
       "    </tr>\n",
       "    <tr>\n",
       "      <th>3</th>\n",
       "      <td>0</td>\n",
       "      <td>3</td>\n",
       "      <td>-2</td>\n",
       "      <td>-88</td>\n",
       "    </tr>\n",
       "    <tr>\n",
       "      <th>4</th>\n",
       "      <td>0</td>\n",
       "      <td>5</td>\n",
       "      <td>-1</td>\n",
       "      <td>0</td>\n",
       "    </tr>\n",
       "  </tbody>\n",
       "</table>\n",
       "</div>"
      ],
      "text/plain": [
       "   # timestamp  user_a  user_b  rssi\n",
       "0            0       0      -1     0\n",
       "1            0       1      -1     0\n",
       "2            0       2      -1     0\n",
       "3            0       3      -2   -88\n",
       "4            0       5      -1     0"
      ]
     },
     "execution_count": 25,
     "metadata": {},
     "output_type": "execute_result"
    }
   ],
   "source": [
    "bluetooth.head()"
   ]
  },
  {
   "cell_type": "markdown",
   "metadata": {},
   "source": [
    "These relations need cleaning. Remove ties where no other study participant is found in the bluetooth range ..."
   ]
  },
  {
   "cell_type": "code",
   "execution_count": 26,
   "metadata": {},
   "outputs": [],
   "source": [
    "bluetooth = bluetooth[~bluetooth['user_b'].isin([-1, -2])]"
   ]
  },
  {
   "cell_type": "markdown",
   "metadata": {},
   "source": [
    "... and remove ties with anomalous signal strengths:"
   ]
  },
  {
   "cell_type": "code",
   "execution_count": 27,
   "metadata": {},
   "outputs": [],
   "source": [
    "bluetooth = bluetooth[bluetooth['rssi'] < 0]"
   ]
  },
  {
   "cell_type": "markdown",
   "metadata": {},
   "source": [
    "The ``# timestamp`` column is a counter of seconds over four weeks. We add a column with a `datetime` type. The information on the year '1970' and the month '01' can be discarded but is necessary for filtering on days, hours, minutes, and seconds:"
   ]
  },
  {
   "cell_type": "code",
   "execution_count": 28,
   "metadata": {},
   "outputs": [],
   "source": [
    "bluetooth['time'] = pd.to_datetime(bluetooth['# timestamp'], unit='s')"
   ]
  },
  {
   "cell_type": "markdown",
   "metadata": {},
   "source": [
    "In addition, we divide the `# timestamp` by 300 to obtain 5 minute time bins:"
   ]
  },
  {
   "cell_type": "code",
   "execution_count": 29,
   "metadata": {},
   "outputs": [],
   "source": [
    "bluetooth['time_bin'] = (bluetooth['# timestamp'] / 300).astype(int)"
   ]
  },
  {
   "cell_type": "markdown",
   "metadata": {},
   "source": [
    "The `rssi` signal strength is measured in the logarithmic power unit of decibel-milliwatts. The larger the value, the closer two devices are:"
   ]
  },
  {
   "cell_type": "code",
   "execution_count": 30,
   "metadata": {},
   "outputs": [
    {
     "data": {
      "text/plain": [
       "<Axes: >"
      ]
     },
     "execution_count": 30,
     "metadata": {},
     "output_type": "execute_result"
    },
    {
     "data": {
      "image/png": "[encoded data removed]",
      "text/plain": [
       "<Figure size 640x480 with 1 Axes>"
      ]
     },
     "metadata": {},
     "output_type": "display_data"
    }
   ],
   "source": [
    "bluetooth['rssi'].hist()"
   ]
  },
  {
   "cell_type": "markdown",
   "metadata": {},
   "source": [
    "It is desirable to transform signal strength into metric distance. The [formula](https://beingcoders.9mood.com/formula-to-convert-the-rssi-value-of-the-ble-bluetooth-low-energy-beacons-to-meters-12a2fa426a2e) is $distance = 10^{(p-rssi)/10^n}$ where $p$ is the expected power at a distance of 1 meter and $n$ is the broadcasting power. From Mones et al. ([2017](https://doi.org/10.1140/epjds/s13688-017-0103-y)) we can infer $p=-75$ and $n=2$. With these values we can compute the approximate distance of two devices:"
   ]
  },
  {
   "cell_type": "code",
   "execution_count": 31,
   "metadata": {},
   "outputs": [],
   "source": [
    "bluetooth.loc[:, 'distance'] = round(10**((-75 - bluetooth['rssi']) / 10**2), 2)"
   ]
  },
  {
   "cell_type": "markdown",
   "metadata": {},
   "source": [
    "After these transformations, the average distance and standard deviation are:"
   ]
  },
  {
   "cell_type": "code",
   "execution_count": 32,
   "metadata": {},
   "outputs": [
    {
     "data": {
      "text/plain": [
       "<Axes: >"
      ]
     },
     "execution_count": 32,
     "metadata": {},
     "output_type": "execute_result"
    },
    {
     "data": {
      "image/png": "[encoded data removed]",
      "text/plain": [
       "<Figure size 640x480 with 1 Axes>"
      ]
     },
     "metadata": {},
     "output_type": "display_data"
    }
   ],
   "source": [
    "bluetooth['distance'].hist()"
   ]
  },
  {
   "cell_type": "code",
   "execution_count": 33,
   "metadata": {},
   "outputs": [
    {
     "name": "stdout",
     "output_type": "stream",
     "text": [
      "mean: 1.2808650462128153\n",
      "std: 0.27000182233379405\n"
     ]
    }
   ],
   "source": [
    "print('mean:', bluetooth['distance'].mean())\n",
    "print('std:', bluetooth['distance'].std())"
   ]
  },
  {
   "cell_type": "markdown",
   "metadata": {},
   "source": [
    "The edge list still uses the unnormalized node identifiers. To replace them with the normalized ones, we need this dictionary which maps the unnormalized to normalized identifiers:"
   ]
  },
  {
   "cell_type": "code",
   "execution_count": 34,
   "metadata": {},
   "outputs": [],
   "source": [
    "map = users.set_index('user').to_dict()['user_id']"
   ]
  },
  {
   "cell_type": "markdown",
   "metadata": {},
   "source": [
    "Use the dictionary for mapping:"
   ]
  },
  {
   "cell_type": "code",
   "execution_count": 35,
   "metadata": {},
   "outputs": [],
   "source": [
    "bluetooth['user_id_from'] = bluetooth['user_a'].map(map)\n",
    "bluetooth['user_id_to'] = bluetooth['user_b'].map(map)"
   ]
  },
  {
   "cell_type": "markdown",
   "metadata": {},
   "source": [
    "Now clean up:"
   ]
  },
  {
   "cell_type": "code",
   "execution_count": 36,
   "metadata": {},
   "outputs": [],
   "source": [
    "bluetooth.sort_values(['time', 'user_id_from', 'user_id_to'], inplace=True)\n",
    "bluetooth.reset_index(drop=True, inplace=True)\n",
    "bluetooth = bluetooth[['user_id_from', 'user_id_to', 'rssi', 'distance', 'time', 'time_bin']]"
   ]
  },
  {
   "cell_type": "code",
   "execution_count": 37,
   "metadata": {},
   "outputs": [
    {
     "data": {
      "text/html": [
       "<div>\n",
       "<style scoped>\n",
       "    .dataframe tbody tr th:only-of-type {\n",
       "        vertical-align: middle;\n",
       "    }\n",
       "\n",
       "    .dataframe tbody tr th {\n",
       "        vertical-align: top;\n",
       "    }\n",
       "\n",
       "    .dataframe thead th {\n",
       "        text-align: right;\n",
       "    }\n",
       "</style>\n",
       "<table border=\"1\" class=\"dataframe\">\n",
       "  <thead>\n",
       "    <tr style=\"text-align: right;\">\n",
       "      <th></th>\n",
       "      <th>user_id_from</th>\n",
       "      <th>user_id_to</th>\n",
       "      <th>rssi</th>\n",
       "      <th>distance</th>\n",
       "      <th>time</th>\n",
       "      <th>time_bin</th>\n",
       "    </tr>\n",
       "  </thead>\n",
       "  <tbody>\n",
       "    <tr>\n",
       "      <th>0</th>\n",
       "      <td>21</td>\n",
       "      <td>20</td>\n",
       "      <td>-73</td>\n",
       "      <td>0.95</td>\n",
       "      <td>1970-01-01</td>\n",
       "      <td>0</td>\n",
       "    </tr>\n",
       "    <tr>\n",
       "      <th>1</th>\n",
       "      <td>47</td>\n",
       "      <td>19</td>\n",
       "      <td>-86</td>\n",
       "      <td>1.29</td>\n",
       "      <td>1970-01-01</td>\n",
       "      <td>0</td>\n",
       "    </tr>\n",
       "    <tr>\n",
       "      <th>2</th>\n",
       "      <td>49</td>\n",
       "      <td>48</td>\n",
       "      <td>-62</td>\n",
       "      <td>0.74</td>\n",
       "      <td>1970-01-01</td>\n",
       "      <td>0</td>\n",
       "    </tr>\n",
       "    <tr>\n",
       "      <th>3</th>\n",
       "      <td>69</td>\n",
       "      <td>44</td>\n",
       "      <td>-87</td>\n",
       "      <td>1.32</td>\n",
       "      <td>1970-01-01</td>\n",
       "      <td>0</td>\n",
       "    </tr>\n",
       "    <tr>\n",
       "      <th>4</th>\n",
       "      <td>90</td>\n",
       "      <td>64</td>\n",
       "      <td>-96</td>\n",
       "      <td>1.62</td>\n",
       "      <td>1970-01-01</td>\n",
       "      <td>0</td>\n",
       "    </tr>\n",
       "  </tbody>\n",
       "</table>\n",
       "</div>"
      ],
      "text/plain": [
       "   user_id_from  user_id_to  rssi  distance       time  time_bin\n",
       "0            21          20   -73      0.95 1970-01-01         0\n",
       "1            47          19   -86      1.29 1970-01-01         0\n",
       "2            49          48   -62      0.74 1970-01-01         0\n",
       "3            69          44   -87      1.32 1970-01-01         0\n",
       "4            90          64   -96      1.62 1970-01-01         0"
      ]
     },
     "execution_count": 37,
     "metadata": {},
     "output_type": "execute_result"
    }
   ],
   "source": [
    "bluetooth.head()"
   ]
  },
  {
   "cell_type": "markdown",
   "metadata": {},
   "source": [
    "The edge list for the network of physical proximity is now in the normalized form. The edges are defined in the first two columns, and the other columns can be used for slicing and filtering."
   ]
  },
  {
   "cell_type": "markdown",
   "metadata": {},
   "source": [
    "### Calls\n",
    "The network of phone calls is directed and encodes who calls whom."
   ]
  },
  {
   "cell_type": "code",
   "execution_count": 38,
   "metadata": {},
   "outputs": [
    {
     "data": {
      "text/html": [
       "<div>\n",
       "<style scoped>\n",
       "    .dataframe tbody tr th:only-of-type {\n",
       "        vertical-align: middle;\n",
       "    }\n",
       "\n",
       "    .dataframe tbody tr th {\n",
       "        vertical-align: top;\n",
       "    }\n",
       "\n",
       "    .dataframe thead th {\n",
       "        text-align: right;\n",
       "    }\n",
       "</style>\n",
       "<table border=\"1\" class=\"dataframe\">\n",
       "  <thead>\n",
       "    <tr style=\"text-align: right;\">\n",
       "      <th></th>\n",
       "      <th>timestamp</th>\n",
       "      <th>caller</th>\n",
       "      <th>callee</th>\n",
       "      <th>duration</th>\n",
       "    </tr>\n",
       "  </thead>\n",
       "  <tbody>\n",
       "    <tr>\n",
       "      <th>0</th>\n",
       "      <td>184</td>\n",
       "      <td>300</td>\n",
       "      <td>301</td>\n",
       "      <td>121</td>\n",
       "    </tr>\n",
       "    <tr>\n",
       "      <th>1</th>\n",
       "      <td>3920</td>\n",
       "      <td>512</td>\n",
       "      <td>299</td>\n",
       "      <td>670</td>\n",
       "    </tr>\n",
       "    <tr>\n",
       "      <th>2</th>\n",
       "      <td>5623</td>\n",
       "      <td>301</td>\n",
       "      <td>300</td>\n",
       "      <td>504</td>\n",
       "    </tr>\n",
       "    <tr>\n",
       "      <th>3</th>\n",
       "      <td>9252</td>\n",
       "      <td>401</td>\n",
       "      <td>457</td>\n",
       "      <td>-1</td>\n",
       "    </tr>\n",
       "    <tr>\n",
       "      <th>4</th>\n",
       "      <td>15466</td>\n",
       "      <td>512</td>\n",
       "      <td>0</td>\n",
       "      <td>5</td>\n",
       "    </tr>\n",
       "  </tbody>\n",
       "</table>\n",
       "</div>"
      ],
      "text/plain": [
       "   timestamp  caller  callee  duration\n",
       "0        184     300     301       121\n",
       "1       3920     512     299       670\n",
       "2       5623     301     300       504\n",
       "3       9252     401     457        -1\n",
       "4      15466     512       0         5"
      ]
     },
     "execution_count": 38,
     "metadata": {},
     "output_type": "execute_result"
    }
   ],
   "source": [
    "calls.head()"
   ]
  },
  {
   "cell_type": "markdown",
   "metadata": {},
   "source": [
    "Process the timestamps, re-using the 5-min bins from physical proximity:"
   ]
  },
  {
   "cell_type": "code",
   "execution_count": 39,
   "metadata": {},
   "outputs": [],
   "source": [
    "calls['time'] = pd.to_datetime(calls['timestamp'], unit='s')\n",
    "calls['time_bin'] = (calls['timestamp'] / 300).astype(int)"
   ]
  },
  {
   "cell_type": "markdown",
   "metadata": {},
   "source": [
    "Replace the user identifiers:"
   ]
  },
  {
   "cell_type": "code",
   "execution_count": 40,
   "metadata": {},
   "outputs": [],
   "source": [
    "calls['user_id_from'] = calls['caller'].map(map)\n",
    "calls['user_id_to'] = calls['callee'].map(map)"
   ]
  },
  {
   "cell_type": "markdown",
   "metadata": {},
   "source": [
    "Missed calls are coded as -1. Since negative values cannot be used as edge weights, we recode -1 to 0. Missed calls are then indistinguishable from calls that lasted 0 seconds."
   ]
  },
  {
   "cell_type": "code",
   "execution_count": 41,
   "metadata": {},
   "outputs": [],
   "source": [
    "calls['duration'].replace(-1, 0, inplace=True)"
   ]
  },
  {
   "cell_type": "markdown",
   "metadata": {},
   "source": [
    "Clean up:"
   ]
  },
  {
   "cell_type": "code",
   "execution_count": 42,
   "metadata": {},
   "outputs": [],
   "source": [
    "calls.sort_values(['time', 'user_id_from', 'user_id_to'], inplace=True)\n",
    "calls.reset_index(drop=True, inplace=True)\n",
    "calls = calls[['user_id_from', 'user_id_to', 'duration', 'time', 'time_bin']]"
   ]
  },
  {
   "cell_type": "code",
   "execution_count": 43,
   "metadata": {},
   "outputs": [
    {
     "data": {
      "text/html": [
       "<div>\n",
       "<style scoped>\n",
       "    .dataframe tbody tr th:only-of-type {\n",
       "        vertical-align: middle;\n",
       "    }\n",
       "\n",
       "    .dataframe tbody tr th {\n",
       "        vertical-align: top;\n",
       "    }\n",
       "\n",
       "    .dataframe thead th {\n",
       "        text-align: right;\n",
       "    }\n",
       "</style>\n",
       "<table border=\"1\" class=\"dataframe\">\n",
       "  <thead>\n",
       "    <tr style=\"text-align: right;\">\n",
       "      <th></th>\n",
       "      <th>user_id_from</th>\n",
       "      <th>user_id_to</th>\n",
       "      <th>duration</th>\n",
       "      <th>time</th>\n",
       "      <th>time_bin</th>\n",
       "    </tr>\n",
       "  </thead>\n",
       "  <tbody>\n",
       "    <tr>\n",
       "      <th>0</th>\n",
       "      <td>300</td>\n",
       "      <td>301</td>\n",
       "      <td>121</td>\n",
       "      <td>1970-01-01 00:03:04</td>\n",
       "      <td>0</td>\n",
       "    </tr>\n",
       "    <tr>\n",
       "      <th>1</th>\n",
       "      <td>512</td>\n",
       "      <td>299</td>\n",
       "      <td>670</td>\n",
       "      <td>1970-01-01 01:05:20</td>\n",
       "      <td>13</td>\n",
       "    </tr>\n",
       "    <tr>\n",
       "      <th>2</th>\n",
       "      <td>301</td>\n",
       "      <td>300</td>\n",
       "      <td>504</td>\n",
       "      <td>1970-01-01 01:33:43</td>\n",
       "      <td>18</td>\n",
       "    </tr>\n",
       "    <tr>\n",
       "      <th>3</th>\n",
       "      <td>401</td>\n",
       "      <td>457</td>\n",
       "      <td>0</td>\n",
       "      <td>1970-01-01 02:34:12</td>\n",
       "      <td>30</td>\n",
       "    </tr>\n",
       "    <tr>\n",
       "      <th>4</th>\n",
       "      <td>512</td>\n",
       "      <td>0</td>\n",
       "      <td>5</td>\n",
       "      <td>1970-01-01 04:17:46</td>\n",
       "      <td>51</td>\n",
       "    </tr>\n",
       "  </tbody>\n",
       "</table>\n",
       "</div>"
      ],
      "text/plain": [
       "   user_id_from  user_id_to  duration                time  time_bin\n",
       "0           300         301       121 1970-01-01 00:03:04         0\n",
       "1           512         299       670 1970-01-01 01:05:20        13\n",
       "2           301         300       504 1970-01-01 01:33:43        18\n",
       "3           401         457         0 1970-01-01 02:34:12        30\n",
       "4           512           0         5 1970-01-01 04:17:46        51"
      ]
     },
     "execution_count": 43,
     "metadata": {},
     "output_type": "execute_result"
    }
   ],
   "source": [
    "calls.head()"
   ]
  },
  {
   "cell_type": "markdown",
   "metadata": {},
   "source": [
    "### SMS\n",
    "The network of text messages is directed and encodes who sends whom a short message."
   ]
  },
  {
   "cell_type": "code",
   "execution_count": 44,
   "metadata": {},
   "outputs": [
    {
     "data": {
      "text/html": [
       "<div>\n",
       "<style scoped>\n",
       "    .dataframe tbody tr th:only-of-type {\n",
       "        vertical-align: middle;\n",
       "    }\n",
       "\n",
       "    .dataframe tbody tr th {\n",
       "        vertical-align: top;\n",
       "    }\n",
       "\n",
       "    .dataframe thead th {\n",
       "        text-align: right;\n",
       "    }\n",
       "</style>\n",
       "<table border=\"1\" class=\"dataframe\">\n",
       "  <thead>\n",
       "    <tr style=\"text-align: right;\">\n",
       "      <th></th>\n",
       "      <th>timestamp</th>\n",
       "      <th>sender</th>\n",
       "      <th>recipient</th>\n",
       "    </tr>\n",
       "  </thead>\n",
       "  <tbody>\n",
       "    <tr>\n",
       "      <th>0</th>\n",
       "      <td>18</td>\n",
       "      <td>370</td>\n",
       "      <td>512</td>\n",
       "    </tr>\n",
       "    <tr>\n",
       "      <th>1</th>\n",
       "      <td>37</td>\n",
       "      <td>512</td>\n",
       "      <td>370</td>\n",
       "    </tr>\n",
       "    <tr>\n",
       "      <th>2</th>\n",
       "      <td>126</td>\n",
       "      <td>370</td>\n",
       "      <td>512</td>\n",
       "    </tr>\n",
       "    <tr>\n",
       "      <th>3</th>\n",
       "      <td>134</td>\n",
       "      <td>0</td>\n",
       "      <td>512</td>\n",
       "    </tr>\n",
       "    <tr>\n",
       "      <th>4</th>\n",
       "      <td>312</td>\n",
       "      <td>137</td>\n",
       "      <td>136</td>\n",
       "    </tr>\n",
       "  </tbody>\n",
       "</table>\n",
       "</div>"
      ],
      "text/plain": [
       "   timestamp  sender  recipient\n",
       "0         18     370        512\n",
       "1         37     512        370\n",
       "2        126     370        512\n",
       "3        134       0        512\n",
       "4        312     137        136"
      ]
     },
     "execution_count": 44,
     "metadata": {},
     "output_type": "execute_result"
    }
   ],
   "source": [
    "sms.head()"
   ]
  },
  {
   "cell_type": "markdown",
   "metadata": {},
   "source": [
    "Process the timestamps:"
   ]
  },
  {
   "cell_type": "code",
   "execution_count": 45,
   "metadata": {},
   "outputs": [],
   "source": [
    "sms['time'] = pd.to_datetime(sms['timestamp'], unit='s')\n",
    "sms['time_bin'] = (sms['timestamp'] / 300).astype(int)"
   ]
  },
  {
   "cell_type": "markdown",
   "metadata": {},
   "source": [
    "Replace the user identifiers:"
   ]
  },
  {
   "cell_type": "code",
   "execution_count": 46,
   "metadata": {},
   "outputs": [],
   "source": [
    "sms['user_id_from'] = sms['sender'].map(map)\n",
    "sms['user_id_to'] = sms['recipient'].map(map)"
   ]
  },
  {
   "cell_type": "markdown",
   "metadata": {},
   "source": [
    "Clean up:"
   ]
  },
  {
   "cell_type": "code",
   "execution_count": 47,
   "metadata": {},
   "outputs": [],
   "source": [
    "sms.sort_values(['time', 'user_id_from', 'user_id_to'], inplace=True)\n",
    "sms.reset_index(drop=True, inplace=True)\n",
    "sms = sms[['user_id_from', 'user_id_to', 'time', 'time_bin']]"
   ]
  },
  {
   "cell_type": "code",
   "execution_count": 48,
   "metadata": {},
   "outputs": [
    {
     "data": {
      "text/html": [
       "<div>\n",
       "<style scoped>\n",
       "    .dataframe tbody tr th:only-of-type {\n",
       "        vertical-align: middle;\n",
       "    }\n",
       "\n",
       "    .dataframe tbody tr th {\n",
       "        vertical-align: top;\n",
       "    }\n",
       "\n",
       "    .dataframe thead th {\n",
       "        text-align: right;\n",
       "    }\n",
       "</style>\n",
       "<table border=\"1\" class=\"dataframe\">\n",
       "  <thead>\n",
       "    <tr style=\"text-align: right;\">\n",
       "      <th></th>\n",
       "      <th>user_id_from</th>\n",
       "      <th>user_id_to</th>\n",
       "      <th>time</th>\n",
       "      <th>time_bin</th>\n",
       "    </tr>\n",
       "  </thead>\n",
       "  <tbody>\n",
       "    <tr>\n",
       "      <th>0</th>\n",
       "      <td>370</td>\n",
       "      <td>512</td>\n",
       "      <td>1970-01-01 00:00:18</td>\n",
       "      <td>0</td>\n",
       "    </tr>\n",
       "    <tr>\n",
       "      <th>1</th>\n",
       "      <td>512</td>\n",
       "      <td>370</td>\n",
       "      <td>1970-01-01 00:00:37</td>\n",
       "      <td>0</td>\n",
       "    </tr>\n",
       "    <tr>\n",
       "      <th>2</th>\n",
       "      <td>370</td>\n",
       "      <td>512</td>\n",
       "      <td>1970-01-01 00:02:06</td>\n",
       "      <td>0</td>\n",
       "    </tr>\n",
       "    <tr>\n",
       "      <th>3</th>\n",
       "      <td>0</td>\n",
       "      <td>512</td>\n",
       "      <td>1970-01-01 00:02:14</td>\n",
       "      <td>0</td>\n",
       "    </tr>\n",
       "    <tr>\n",
       "      <th>4</th>\n",
       "      <td>137</td>\n",
       "      <td>136</td>\n",
       "      <td>1970-01-01 00:05:12</td>\n",
       "      <td>1</td>\n",
       "    </tr>\n",
       "  </tbody>\n",
       "</table>\n",
       "</div>"
      ],
      "text/plain": [
       "   user_id_from  user_id_to                time  time_bin\n",
       "0           370         512 1970-01-01 00:00:18         0\n",
       "1           512         370 1970-01-01 00:00:37         0\n",
       "2           370         512 1970-01-01 00:02:06         0\n",
       "3             0         512 1970-01-01 00:02:14         0\n",
       "4           137         136 1970-01-01 00:05:12         1"
      ]
     },
     "execution_count": 48,
     "metadata": {},
     "output_type": "execute_result"
    }
   ],
   "source": [
    "sms.head()"
   ]
  },
  {
   "cell_type": "markdown",
   "metadata": {},
   "source": [
    "### Facebook friendships\n",
    "The network of Facebook friendships encodes which two users are friends. Since one has to accept a friendship request at Facebook, the tie is undirected."
   ]
  },
  {
   "cell_type": "code",
   "execution_count": 49,
   "metadata": {},
   "outputs": [
    {
     "data": {
      "text/html": [
       "<div>\n",
       "<style scoped>\n",
       "    .dataframe tbody tr th:only-of-type {\n",
       "        vertical-align: middle;\n",
       "    }\n",
       "\n",
       "    .dataframe tbody tr th {\n",
       "        vertical-align: top;\n",
       "    }\n",
       "\n",
       "    .dataframe thead th {\n",
       "        text-align: right;\n",
       "    }\n",
       "</style>\n",
       "<table border=\"1\" class=\"dataframe\">\n",
       "  <thead>\n",
       "    <tr style=\"text-align: right;\">\n",
       "      <th></th>\n",
       "      <th># user_a</th>\n",
       "      <th>user_b</th>\n",
       "    </tr>\n",
       "  </thead>\n",
       "  <tbody>\n",
       "    <tr>\n",
       "      <th>0</th>\n",
       "      <td>0</td>\n",
       "      <td>512</td>\n",
       "    </tr>\n",
       "    <tr>\n",
       "      <th>1</th>\n",
       "      <td>0</td>\n",
       "      <td>263</td>\n",
       "    </tr>\n",
       "    <tr>\n",
       "      <th>2</th>\n",
       "      <td>0</td>\n",
       "      <td>525</td>\n",
       "    </tr>\n",
       "    <tr>\n",
       "      <th>3</th>\n",
       "      <td>0</td>\n",
       "      <td>285</td>\n",
       "    </tr>\n",
       "    <tr>\n",
       "      <th>4</th>\n",
       "      <td>0</td>\n",
       "      <td>543</td>\n",
       "    </tr>\n",
       "  </tbody>\n",
       "</table>\n",
       "</div>"
      ],
      "text/plain": [
       "   # user_a  user_b\n",
       "0         0     512\n",
       "1         0     263\n",
       "2         0     525\n",
       "3         0     285\n",
       "4         0     543"
      ]
     },
     "execution_count": 49,
     "metadata": {},
     "output_type": "execute_result"
    }
   ],
   "source": [
    "fb_friends.head()"
   ]
  },
  {
   "cell_type": "code",
   "execution_count": 50,
   "metadata": {},
   "outputs": [],
   "source": [
    "fb_friends['user_id_from'] = fb_friends['# user_a'].map(map)\n",
    "fb_friends['user_id_to'] = fb_friends['user_b'].map(map)"
   ]
  },
  {
   "cell_type": "code",
   "execution_count": 51,
   "metadata": {},
   "outputs": [],
   "source": [
    "fb_friends.sort_values(['user_id_from', 'user_id_to'], inplace=True)\n",
    "fb_friends.reset_index(drop=True, inplace=True)\n",
    "fb_friends = fb_friends[['user_id_from', 'user_id_to']]"
   ]
  },
  {
   "cell_type": "code",
   "execution_count": 52,
   "metadata": {},
   "outputs": [
    {
     "data": {
      "text/html": [
       "<div>\n",
       "<style scoped>\n",
       "    .dataframe tbody tr th:only-of-type {\n",
       "        vertical-align: middle;\n",
       "    }\n",
       "\n",
       "    .dataframe tbody tr th {\n",
       "        vertical-align: top;\n",
       "    }\n",
       "\n",
       "    .dataframe thead th {\n",
       "        text-align: right;\n",
       "    }\n",
       "</style>\n",
       "<table border=\"1\" class=\"dataframe\">\n",
       "  <thead>\n",
       "    <tr style=\"text-align: right;\">\n",
       "      <th></th>\n",
       "      <th>user_id_from</th>\n",
       "      <th>user_id_to</th>\n",
       "    </tr>\n",
       "  </thead>\n",
       "  <tbody>\n",
       "    <tr>\n",
       "      <th>0</th>\n",
       "      <td>0</td>\n",
       "      <td>104</td>\n",
       "    </tr>\n",
       "    <tr>\n",
       "      <th>1</th>\n",
       "      <td>0</td>\n",
       "      <td>107</td>\n",
       "    </tr>\n",
       "    <tr>\n",
       "      <th>2</th>\n",
       "      <td>0</td>\n",
       "      <td>108</td>\n",
       "    </tr>\n",
       "    <tr>\n",
       "      <th>3</th>\n",
       "      <td>0</td>\n",
       "      <td>208</td>\n",
       "    </tr>\n",
       "    <tr>\n",
       "      <th>4</th>\n",
       "      <td>0</td>\n",
       "      <td>263</td>\n",
       "    </tr>\n",
       "  </tbody>\n",
       "</table>\n",
       "</div>"
      ],
      "text/plain": [
       "   user_id_from  user_id_to\n",
       "0             0         104\n",
       "1             0         107\n",
       "2             0         108\n",
       "3             0         208\n",
       "4             0         263"
      ]
     },
     "execution_count": 52,
     "metadata": {},
     "output_type": "execute_result"
    }
   ],
   "source": [
    "fb_friends.head()"
   ]
  },
  {
   "cell_type": "markdown",
   "metadata": {},
   "source": [
    "## Function\n",
    "This function loads all data in one step:"
   ]
  },
  {
   "cell_type": "code",
   "execution_count": 53,
   "metadata": {},
   "outputs": [],
   "source": [
    "def copenhagen_collection(\n",
    "    path = 'data/copenhagen/'\n",
    "):\n",
    "    '''\n",
    "    Description: Loads the normalized Copenhagen Networks Study data collection.\n",
    "    \n",
    "    Input:\n",
    "        path: relative directory where the data is; set to 'data/copenhagen/' by default.\n",
    "    \n",
    "    Output: Six dataframes in this order: users, genders, bluetooth, calls, sms, fb_friends\n",
    "    '''\n",
    "    # load data\n",
    "    import os\n",
    "    import pandas as pd\n",
    "    \n",
    "    attributes = pd.read_csv(os.path.join(path, 'genders.csv'))\n",
    "    bluetooth = pd.read_csv(os.path.join(path, 'bt_symmetric.csv'))\n",
    "    calls = pd.read_csv(os.path.join(path, 'calls.csv'))\n",
    "    sms = pd.read_csv(os.path.join(path, 'sms.csv'))\n",
    "    fb_friends = pd.read_csv(os.path.join(path, 'fb_friends.csv'))\n",
    "    \n",
    "    # create users dataframe\n",
    "    import itertools\n",
    "    \n",
    "    users = set(itertools.chain(*[\n",
    "        bluetooth['user_a'].to_list(), \n",
    "        bluetooth['user_b'].to_list(), \n",
    "        calls['caller'].to_list(), \n",
    "        calls['callee'].to_list(), \n",
    "        sms['sender'].to_list(), \n",
    "        sms['recipient'].to_list(), \n",
    "        fb_friends['# user_a'].to_list(), \n",
    "        fb_friends['user_b'].to_list(), \n",
    "        attributes['# user'].to_list()\n",
    "    ]))\n",
    "    users = pd.DataFrame(list(users), columns=['user'])\n",
    "    users = users[users['user'] >= 0]\n",
    "    users = pd.merge(left=users, right=attributes, left_on='user', right_on='# user', how='left')\n",
    "    users.fillna(2, inplace=True)\n",
    "    users.rename(columns={'female': 'gender_id'}, inplace=True)\n",
    "    users['gender_id'] = users['gender_id'].astype(int)\n",
    "    users.drop(['# user'], axis=1, inplace=True)\n",
    "    users['user_id'] = users.index\n",
    "    users = users[['user_id', 'user', 'gender_id']]\n",
    "    map = users.set_index('user').to_dict()['user_id']\n",
    "    \n",
    "    # create genders dataframe\n",
    "    genders = pd.DataFrame([[0, 'male'], [1, 'female'], [2, 'unknown']], columns=['gender_id', 'gender'])\n",
    "    \n",
    "    # create bluetooth dataframe\n",
    "    bluetooth = bluetooth[~bluetooth['user_b'].isin([-1, -2])]\n",
    "    bluetooth = bluetooth[bluetooth['rssi'] < 0]\n",
    "    bluetooth['time'] = pd.to_datetime(bluetooth['# timestamp'], unit='s')\n",
    "    bluetooth['time_bin'] = (bluetooth['# timestamp'] / 300).astype(int)\n",
    "    bluetooth.loc[:, 'distance'] = 10**((-75 - bluetooth['rssi']) / 10**2)\n",
    "    bluetooth['user_id_from'] = bluetooth['user_a'].map(map)\n",
    "    bluetooth['user_id_to'] = bluetooth['user_b'].map(map)\n",
    "    bluetooth.sort_values(['time', 'user_id_from', 'user_id_to'], inplace=True)\n",
    "    bluetooth.reset_index(drop=True, inplace=True)\n",
    "    bluetooth = bluetooth[['user_id_from', 'user_id_to', 'rssi', 'distance', 'time', 'time_bin']]\n",
    "    \n",
    "    # create calls dataframe\n",
    "    calls['time'] = pd.to_datetime(calls['timestamp'], unit='s')\n",
    "    calls['time_bin'] = (calls['timestamp'] / 300).astype(int)\n",
    "    calls['user_id_from'] = calls['caller'].map(map)\n",
    "    calls['user_id_to'] = calls['callee'].map(map)\n",
    "    calls['duration'].replace(-1, 0, inplace=True)\n",
    "    calls.sort_values(['time', 'user_id_from', 'user_id_to'], inplace=True)\n",
    "    calls.reset_index(drop=True, inplace=True)\n",
    "    calls = calls[['user_id_from', 'user_id_to', 'duration', 'time', 'time_bin']]\n",
    "    \n",
    "    # create sms dataframe\n",
    "    sms['time'] = pd.to_datetime(sms['timestamp'], unit='s')\n",
    "    sms['time_bin'] = (sms['timestamp'] / 300).astype(int)\n",
    "    sms['user_id_from'] = sms['sender'].map(map)\n",
    "    sms['user_id_to'] = sms['recipient'].map(map)\n",
    "    sms.sort_values(['time', 'user_id_from', 'user_id_to'], inplace=True)\n",
    "    sms.reset_index(drop=True, inplace=True)\n",
    "    sms = sms[['user_id_from', 'user_id_to', 'time', 'time_bin']]\n",
    "    \n",
    "    # create fb_friends dataframe\n",
    "    fb_friends['user_id_from'] = fb_friends['# user_a'].map(map)\n",
    "    fb_friends['user_id_to'] = fb_friends['user_b'].map(map)\n",
    "    fb_friends.sort_values(['user_id_from', 'user_id_to'], inplace=True)\n",
    "    fb_friends.reset_index(drop=True, inplace=True)\n",
    "    \n",
    "    return users, genders, bluetooth, calls, sms, fb_friends"
   ]
  },
  {
   "cell_type": "markdown",
   "metadata": {},
   "source": [
    "## Using the function\n",
    "\n",
    "Load the collection like this:"
   ]
  },
  {
   "cell_type": "code",
   "execution_count": 54,
   "metadata": {},
   "outputs": [],
   "source": [
    "users, genders, bluetooth, calls, sms, fb_friends = cs.copenhagen_collection()"
   ]
  },
  {
   "cell_type": "markdown",
   "metadata": {},
   "source": [
    "## References\n",
    "\n",
    "Mones, E., Stopczynski, A., & Lehmann, S. (2017). Contact activity and dynamics of the social core. *EPJ Data Science*, 6, 6. https://doi.org/10.1140/epjds/s13688-017-0103-y\n",
    "\n",
    "Sapiezynski, P., Stopczynski, A., Lassen, D. D., & Lehmann, S. (2019). Interaction data from the Copenhagen Networks Study. *Scientific Data*, 6(1), 315. https://doi.org/10.1038/s41597-019-0325-x"
   ]
  },
  {
   "cell_type": "markdown",
   "metadata": {},
   "source": [
    "***"
   ]
  },
  {
   "cell_type": "markdown",
   "metadata": {},
   "source": [
    "## About this notebook\n",
    "\n",
    "**License**: CC BY 4.0. Distribute, remix, adapt, and build upon ``compsoc``, even commercially, as long as you credit us for the original creation.\n",
    "\n",
    "**Suggested citation**: Lietz, H. (2025). Copenhagen Networks Study: Multiplex interactions among 845 university students. Version 1.0 (XX.XX.XXXX). *compsoc – Computational Social Methods in Python*. Cologne: GESIS – Leibniz Institute for the Social Sciences. https://github.com/gesiscss/compsoc"
   ]
  }
 ],
 "metadata": {
  "kernelspec": {
   "display_name": "compsoc",
   "language": "python",
   "name": "compsoc"
  },
  "language_info": {
   "codemirror_mode": {
    "name": "ipython",
    "version": 3
   },
   "file_extension": ".py",
   "mimetype": "text/x-python",
   "name": "python",
   "nbconvert_exporter": "python",
   "pygments_lexer": "ipython3",
   "version": "3.11.5"
  }
 },
 "nbformat": 4,
 "nbformat_minor": 4
}
