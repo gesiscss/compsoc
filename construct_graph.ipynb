{
 "cells": [
  {
   "cell_type": "markdown",
   "metadata": {},
   "source": [
    "[Home](index.ipynb) > [Data Transformation](data_transformation.ipynb) > Construct graph"
   ]
  },
  {
   "cell_type": "markdown",
   "metadata": {},
   "source": [
    "<img style='float: left;' src='https://www.gesis.org/fileadmin/styles/img/gs_home_logo_en.svg'>"
   ]
  },
  {
   "cell_type": "markdown",
   "metadata": {},
   "source": [
    "### ``compsoc`` – *Notebooks for Computational Sociology* (alpha)"
   ]
  },
  {
   "cell_type": "markdown",
   "metadata": {},
   "source": [
    "# Construct graph: Build networks from standardized data\n",
    "Authors: [Haiko Lietz](https://www.gesis.org/person/haiko.lietz)\n",
    "\n",
    "Version: 0.91 (14.09.2020)\n",
    "\n",
    "Please cite as: Lietz, Haiko (2020). Construct graph: Build networks from standardized data. Version 0.91 (14.09.2020). *compsoc – Notebooks for Computational Sociology*. GESIS. url:[github.com/gesiscss/compsoc](https://github.com/gesiscss/compsoc)"
   ]
  },
  {
   "cell_type": "markdown",
   "metadata": {},
   "source": [
    "<div class='alert alert-info'>\n",
    "<big><b>Significance</b></big>\n",
    "\n",
    "Bla.\n",
    "</div>"
   ]
  },
  {
   "cell_type": "markdown",
   "metadata": {},
   "source": [
    "## Introduction\n",
    "Bla.\n",
    "\n",
    "**In this notebook**, bla."
   ]
  },
  {
   "cell_type": "markdown",
   "metadata": {},
   "source": [
    "## Dependencies and settings"
   ]
  },
  {
   "cell_type": "code",
   "execution_count": 1,
   "metadata": {},
   "outputs": [],
   "source": [
    "import compsoc as cs\n",
    "import networkx as nx\n",
    "import numpy as np\n",
    "import pandas as pd"
   ]
  },
  {
   "cell_type": "code",
   "execution_count": 2,
   "metadata": {},
   "outputs": [],
   "source": [
    "#import warnings"
   ]
  },
  {
   "cell_type": "code",
   "execution_count": 3,
   "metadata": {},
   "outputs": [],
   "source": [
    "#warnings.filterwarnings('ignore')"
   ]
  },
  {
   "cell_type": "markdown",
   "metadata": {},
   "source": [
    "## Bla"
   ]
  },
  {
   "cell_type": "code",
   "execution_count": null,
   "metadata": {},
   "outputs": [],
   "source": []
  },
  {
   "cell_type": "code",
   "execution_count": null,
   "metadata": {},
   "outputs": [],
   "source": [
    "def construct_graph(\n",
    "    directed, \n",
    "    multiplex, \n",
    "    graph_name, \n",
    "    node_list, \n",
    "    edge_list, \n",
    "    node_pos=None, \n",
    "    node_size=None, \n",
    "    node_color=None, \n",
    "    node_shape=None, \n",
    "    node_border_color=None, \n",
    "    node_label=None, \n",
    "    attribute_shape={0: 's', 1: 'o', 2: '^', 3: '>', 4: 'v', 5: '<', 6: 'd', 7: 'p', 8: 'h', 9: '8'}, \n",
    "    layer_color={0: '#e41a1c', 1: '#377eb8', 2: '#4daf4a', 3: '#984ea3', 4: '#ff7f00', 5: '#ffff33', 6: '#a65628', 7: '#f781bf', 8: '#999999'}\n",
    "):\n",
    "    '''\n",
    "    Description: Constructs a graph from a node list and an edge list\n",
    "    \n",
    "    Inputs:\n",
    "        directed: Boolean parameter specifying if graph should be directed.\n",
    "        multiplex: Boolean parameter specifying if graph should be multiplex.\n",
    "        graph_name: Name of the graph (string); must be specified.\n",
    "        node_list: Dataframe containing the node properties; must contain a continuous \n",
    "            index from 0 to N-1 where N is the number of vertices; must contain a column \n",
    "            holding the name of each vertex; must contain a column holding an integer that \n",
    "            codes the class a vertex belongs to (used to color the vertices).\n",
    "        node_pos: List of two columns of the dataframe ``node_list`` that hold the x and y \n",
    "            positions of each node; must be numerical variables; set to ``None`` by default.\n",
    "        node_size: Name of the column of the dataframe ``node_list`` that holds the size \n",
    "            of each node; must be a numerical variable; set to ``None`` by default.\n",
    "        node_color: Name of the column of the dataframe ``node_list`` that holds the color \n",
    "            of each node; must be a hexadecimal color variable; set to ``None`` by default.\n",
    "        node_shape: Name of the column of the dataframe ``node_list`` that codes the shape \n",
    "            of each node; must be an integer between 0 and 9; set to ``None`` by default.\n",
    "        node_border_color: Name of the column of the dataframe ``node_list`` that holds \n",
    "            the color of each node border; must be a hexadecimal color variable; set to \n",
    "            ``None`` by default.\n",
    "        node_label: Name of the column of the dataframe ``node_list`` that holds the name \n",
    "            of each node; must be a string variable; set to ``None`` by default.\n",
    "        attribute_shape: Dictionary containing the mapping from the integer stored in the \n",
    "            'node_shape' column to a shape; matplotlib.scatter markers 'so^>v<dph8' are \n",
    "            used by default.\n",
    "        edge_list: Dataframe with exactly three columns (source node id, target node id, \n",
    "            edge weight; in that order) containing the edges of the graph; if the graph is \n",
    "            multiplex, a fourth column must contain an integer between 0 and N-1 where N \n",
    "            is the number of edge layers; must be specified.\n",
    "        layer_color: Dictionary containing the mapping from the layer integer stored in \n",
    "            the fourth column of the ``edge_list`` to a hexadecimal color; a dictionary of \n",
    "            nine colors that are qualitatively distinguishable is used by default.\n",
    "    \n",
    "    Output: networkx graph object, potentially with graph, node, and edge attributes.\n",
    "    '''\n",
    "    # create graph object\n",
    "    import networkx as nx\n",
    "    if directed:\n",
    "        if multiplex: g = nx.MultiDiGraph(name=graph_name)\n",
    "        else: g = nx.DiGraph(name=graph_name)\n",
    "    else:\n",
    "        if multiplex: g = nx.MultiGraph(name=graph_name)\n",
    "        else: g = nx.Graph(name=graph_name)\n",
    "    \n",
    "    # populate graph with vertices and their properties\n",
    "    for i in node_list.index:\n",
    "        g.add_node(i)\n",
    "        if node_pos: g.nodes[i]['node_pos'] = node_list[node_pos].values[i]\n",
    "        if node_size: g.nodes[i]['node_size'] = node_list[node_size][i]\n",
    "        if node_color: g.nodes[i]['node_color'] = node_list[node_color][i]\n",
    "        if node_shape: g.nodes[i]['node_shape'] = attribute_shape[node_list[node_shape][i]]\n",
    "        if node_border_color: g.nodes[i]['node_border_color'] = node_list[node_border_color][i]\n",
    "        if node_label: g.nodes[i]['node_label'] = node_list[node_label][i]\n",
    "    \n",
    "    # populate graph with edges and their properties\n",
    "    if multiplex == True:\n",
    "        edge_list = edge_list[edge_list.columns[:4]]\n",
    "        edge_list.loc[:, 'color'] = [layer_color[identifier] for identifier in edge_list[edge_list.columns[3]].values]\n",
    "        edge_list.loc[:, 'dict'] = edge_list[[edge_list.columns[2], 'color']].to_dict(orient='records')\n",
    "        edge_list.drop([edge_list.columns[2], 'color'], axis=1, inplace=True)\n",
    "        g.add_edges_from(edge_list.values)\n",
    "    else:\n",
    "        g.add_weighted_edges_from(edge_list[edge_list.columns[:3]].values)\n",
    "    \n",
    "    return g"
   ]
  },
  {
   "cell_type": "code",
   "execution_count": null,
   "metadata": {},
   "outputs": [],
   "source": []
  },
  {
   "cell_type": "code",
   "execution_count": null,
   "metadata": {},
   "outputs": [],
   "source": []
  }
 ],
 "metadata": {
  "kernelspec": {
   "display_name": "Python 3",
   "language": "python",
   "name": "python3"
  },
  "language_info": {
   "codemirror_mode": {
    "name": "ipython",
    "version": 3
   },
   "file_extension": ".py",
   "mimetype": "text/x-python",
   "name": "python",
   "nbconvert_exporter": "python",
   "pygments_lexer": "ipython3",
   "version": "3.8.3"
  }
 },
 "nbformat": 4,
 "nbformat_minor": 2
}
