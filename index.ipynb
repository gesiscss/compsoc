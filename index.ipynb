{
 "cells": [
  {
   "cell_type": "markdown",
   "metadata": {},
   "source": [
    "Home"
   ]
  },
  {
   "cell_type": "markdown",
   "metadata": {},
   "source": [
    "<img style='float: left;' src='https://www.gesis.org/fileadmin/styles/img/gs_home_logo_en.svg'>"
   ]
  },
  {
   "cell_type": "markdown",
   "metadata": {},
   "source": [
    "# ``compsoc`` – *Notebooks for Computational Sociology* (alpha)"
   ]
  },
  {
   "cell_type": "markdown",
   "metadata": {},
   "source": [
    "[Notebooks](notebooks.ipynb) | [Infrastructure](infrastructure.ipynb) | [People](people.ipynb)"
   ]
  },
  {
   "cell_type": "markdown",
   "metadata": {},
   "source": [
    "***"
   ]
  },
  {
   "cell_type": "markdown",
   "metadata": {},
   "source": [
    "## What is ``compsoc``?\n",
    "``compsoc`` – *Notebooks for Computational Sociology* is a web-based toolkit that tries to lower the hurdles of using digital behavioral data and computational methods for social scientists. Behavioral data is transactional in nature which makes it a prime source for studies of social and cultural structures and dynamics. Provided tools aim at fostering mechanistic understanding of observed behaviors and patterns. Currently, the kit is restricted to the Python programming language."
   ]
  },
  {
   "cell_type": "markdown",
   "metadata": {},
   "source": [
    "<div class='alert alert-info' style='height:240px'>\n",
    "<img src='images/elite_families_compsoc.png' width=240 style='float: left; margin-right: 0px'>\n",
    "<big><b>Demo</b></big>\n",
    "\n",
    "[Transactional analysis of socio-cultural systems](demo.ipynb)\n",
    "\n",
    "`compsoc` aims at user friendliness. This notebooks demonstrates how far the amount of programming a user needs to know is currently reduced. Core `compsoc` tools for network construction and drawing are applied to three data collections and simple analyses are performed.\n",
    "\n",
    "Author: Haiko Lietz\n",
    "</div>"
   ]
  },
  {
   "cell_type": "markdown",
   "metadata": {},
   "source": [
    "### It's virtual\n",
    "``compsoc`` is web-based, *i.e.*, all operations are performed on the virtual machines of the [GESIS Notebooks](https://notebooks.gesis.org) service infrastructure. There is no need to install Python or any of its libraries. Chose one of the available [notebooks](notebooks.ipynb) and start scientific computing right away!\n",
    "### It's open\n",
    "``compsoc`` is dedicated to open science. The toolkit provides a growing [collection](data_collections.ipynb) of openly accessible datasets: digital behavioral data ready for analysis and unpolished data from web interfaces. The [Jupyter](https://jupyter.org) technology makes it easy to edit existing material, include a new dataset or method, and share the results – all under a [creative commons](https://creativecommons.org) license. [Contact us](people.ipynb) if you want to contribute!\n",
    "### It's educational\n",
    "``compsoc`` helps users learning scientific computing while doing it. Proven methods of data [transformation]((data_transformation.ipynb)) and [analysis](data_analysis.ipynb) from Computational Social Science are explained step by step and in context: stating their sociological relevance and making the connection to the a network theory of socio-cultural systems. Learn from examples and build your own [agent-based models](abm.ipynb)!\n",
    "### It's flexible\n",
    "``compsoc`` does justice to the fact that all computational analyses are different. All data is normalized to a standardized entity–relationship format, allowing the user to creatively combine data and methods. All methods are available via a code library. Simply combine code modules to solve your problems!\n",
    "## License and Citation\n",
    "<img src='images/logo_cc-by.png' style='float: left; margin-right: 20px'>Distribute, remix, adapt, and build upon ``compsoc``, even commercially, as long as you credit us for the original creation. You can cite this toolkit as follows:\n",
    "\n",
    "Lietz, Haiko (ed.) (2020). *compsoc – Notebooks for Computational Sociology*. GESIS. url:[github.com/gesiscss/compsoc](https://github.com/gesiscss/compsoc)"
   ]
  },
  {
   "cell_type": "markdown",
   "metadata": {},
   "source": [
    "***"
   ]
  },
  {
   "cell_type": "markdown",
   "metadata": {},
   "source": [
    "Powered by:\n",
    "\n",
    "<img src='images/logo_gesis_notebooks.png' style='height: 50px; float: left'>\n",
    "<img src='images/logo_jupyter.png' style='height: 50px; float: left; margin-left: 40px'>\n",
    "<img src='images/logo_python.png' style='height: 50px; float: left; margin-left: 20px'>\n",
    "<img src='images/logo_pandas.png' style='height: 50px; float: left; margin-left: 20px'>"
   ]
  }
 ],
 "metadata": {
  "kernelspec": {
   "display_name": "Python 3",
   "language": "python",
   "name": "python3"
  },
  "language_info": {
   "codemirror_mode": {
    "name": "ipython",
    "version": 3
   },
   "file_extension": ".py",
   "mimetype": "text/x-python",
   "name": "python",
   "nbconvert_exporter": "python",
   "pygments_lexer": "ipython3",
   "version": "3.8.3"
  }
 },
 "nbformat": 4,
 "nbformat_minor": 2
}
