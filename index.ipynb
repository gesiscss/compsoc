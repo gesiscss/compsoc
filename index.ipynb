{
 "cells": [
  {
   "cell_type": "markdown",
   "metadata": {},
   "source": [
    "Home"
   ]
  },
  {
   "cell_type": "markdown",
   "metadata": {},
   "source": [
    "<img style='float: left;' src='https://www.gesis.org/typo3conf/ext/gesis_web_ext/Resources/Public/webpack/dist/img/logo_gesis_en.svg' width='150'>"
   ]
  },
  {
   "cell_type": "markdown",
   "metadata": {},
   "source": [
    "# ``compsoc`` – Computational Social Methods in Python"
   ]
  },
  {
   "cell_type": "markdown",
   "metadata": {},
   "source": [
    "[Notebooks](notebooks.ipynb) | [Package](package.ipynb) | [Infrastructure](infrastructure.ipynb) | [People](people.ipynb)"
   ]
  },
  {
   "cell_type": "markdown",
   "metadata": {},
   "source": [
    "***"
   ]
  },
  {
   "cell_type": "markdown",
   "metadata": {},
   "source": [
    "## What is ``compsoc``?\n",
    "\n",
    "``compsoc`` – *Notebooks for Computational Sociology* is a toolkit that tries to lower the hurdles of using digital behavioral data and computational methods. Digital behavioral data (e.g., from digital platforms or recorded via social sensors) provides new opportunities for computational social science because it is voluminous, dynamic, and rich. The tools provided are aimed at unlocking this potential."
   ]
  },
  {
   "cell_type": "markdown",
   "metadata": {},
   "source": [
    "### It's virtual\n",
    "<img style='float: left;' src='images/virtual.png' width='45'>``compsoc`` is web-based, which means, operations are performed on the virtual machines of the [mybinder.org](https://mybinder.org/) service infrastructure. There is no need to install Python or any of its packages. Chose one of the available [notebooks](notebooks.ipynb) and start scientific computing right away!\n",
    "\n",
    "### It's open\n",
    "<img style='float: left;' src='images/open.png' width='45'>``compsoc`` is dedicated to open science. The toolkit provides a collection of openly accessible datasets: digital behavioral data ready for analysis. The [Jupyter](https://jupyter.org) technology makes it easy to edit existing material, include a new dataset or method, and share the results – all under a [creative commons](https://creativecommons.org) license.\n",
    "\n",
    "### It's educational\n",
    "<img style='float: left;' src='images/educational.png' width='45'>``compsoc`` helps users learn scientific computing while doing it. Proven methods of data processing and analysis from computational social science are explained step by step and in context: stating their sociological relevance and making the connection to theoretical underpinnings.\n",
    "\n",
    "### It's flexible\n",
    "<img style='float: left;' src='images/flexible.png' width='45'>``compsoc`` does justice to the fact that all computational analyses are different. All data is normalized to a standardized entity–relationship format, allowing the user to creatively combine data and methods. All methods are available via a code package. Simply combine code modules to solve your problems!\n",
    "\n",
    "## License and Citation\n",
    "<img src='images/logo_cc-by.png' style='float: left; margin-right: 20px'>Distribute, remix, adapt, and build upon ``compsoc``, even commercially, as long as you credit us for the original creation. You can cite this toolkit as follows:\n",
    "\n",
    "Lietz, H. (ed.) (2025). *compsoc – Computational Social Methods in Python*. Cologne: GESIS – Leibniz Institute for the Social Sciences. https://github.com/gesiscss/compsoc"
   ]
  },
  {
   "cell_type": "markdown",
   "metadata": {
    "tags": []
   },
   "source": [
    "***"
   ]
  }
 ],
 "metadata": {
  "kernelspec": {
   "display_name": "Python 3 (ipykernel)",
   "language": "python",
   "name": "python3"
  },
  "language_info": {
   "codemirror_mode": {
    "name": "ipython",
    "version": 3
   },
   "file_extension": ".py",
   "mimetype": "text/x-python",
   "name": "python",
   "nbconvert_exporter": "python",
   "pygments_lexer": "ipython3",
   "version": "3.10.12"
  }
 },
 "nbformat": 4,
 "nbformat_minor": 4
}
