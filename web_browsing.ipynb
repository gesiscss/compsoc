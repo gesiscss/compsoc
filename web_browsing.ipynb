{
 "cells": [
  {
   "cell_type": "markdown",
   "metadata": {},
   "source": [
    "[Home](index.ipynb) > [Notebooks](notebooks.ipynb) > Web browsing"
   ]
  },
  {
   "cell_type": "markdown",
   "metadata": {},
   "source": [
    "<img style='float: left;' src='https://www.gesis.org/typo3conf/ext/gesis_web_ext/Resources/Public/webpack/dist/img/logo_gesis_en.svg' width='150'>"
   ]
  },
  {
   "cell_type": "markdown",
   "metadata": {},
   "source": [
    "### ``compsoc`` – Computational Social Methods in Python"
   ]
  },
  {
   "cell_type": "markdown",
   "metadata": {},
   "source": [
    "# Web browsing: Sequential URL visits over a month\n",
    "\n",
    "**Author**: [Haiko Lietz](https://www.gesis.org/person/haiko.lietz)\n",
    "\n",
    "**Affiliation**: [GESIS - Leibniz Institute for the Social Sciences](https://www.gesis.org/), Cologne, Germany\n",
    "\n",
    "**Publication date**: XX.XX.XXXX (version 1.0)"
   ]
  },
  {
   "cell_type": "markdown",
   "metadata": {},
   "source": [
    "***"
   ]
  },
  {
   "cell_type": "markdown",
   "metadata": {},
   "source": [
    "## Introduction\n",
    "\n",
    "...\n",
    "\n",
    "**In this notebook**, ...\n",
    "\n",
    "https://zenodo.org/records/4757574"
   ]
  },
  {
   "cell_type": "markdown",
   "metadata": {},
   "source": [
    "## Dependencies and Settings"
   ]
  },
  {
   "cell_type": "code",
   "execution_count": 1,
   "metadata": {},
   "outputs": [],
   "source": [
    "import compsoc as cs\n",
    "import os\n",
    "import pandas as pd"
   ]
  },
  {
   "cell_type": "code",
   "execution_count": 2,
   "metadata": {},
   "outputs": [],
   "source": [
    "path = 'data/web_browsing/'"
   ]
  },
  {
   "cell_type": "markdown",
   "metadata": {},
   "source": [
    "## Unified data structure"
   ]
  },
  {
   "cell_type": "code",
   "execution_count": 3,
   "metadata": {},
   "outputs": [],
   "source": [
    "browsing = pd.read_csv(os.path.join(path, 'browsing_with_gap.csv.gz'))\n",
    "browsing['category_names_top'] = browsing['category_names_top'].str.split(',')"
   ]
  },
  {
   "cell_type": "code",
   "execution_count": 4,
   "metadata": {},
   "outputs": [
    {
     "data": {
      "text/html": [
       "<div>\n",
       "<style scoped>\n",
       "    .dataframe tbody tr th:only-of-type {\n",
       "        vertical-align: middle;\n",
       "    }\n",
       "\n",
       "    .dataframe tbody tr th {\n",
       "        vertical-align: top;\n",
       "    }\n",
       "\n",
       "    .dataframe thead th {\n",
       "        text-align: right;\n",
       "    }\n",
       "</style>\n",
       "<table border=\"1\" class=\"dataframe\">\n",
       "  <thead>\n",
       "    <tr style=\"text-align: right;\">\n",
       "      <th></th>\n",
       "      <th>id</th>\n",
       "      <th>prev_id</th>\n",
       "      <th>panelist_id</th>\n",
       "      <th>used_at</th>\n",
       "      <th>left_at</th>\n",
       "      <th>active_seconds</th>\n",
       "      <th>gap_seconds</th>\n",
       "      <th>top_level_domain</th>\n",
       "      <th>category_names_top</th>\n",
       "      <th>sub_level_domain</th>\n",
       "      <th>subdomain</th>\n",
       "      <th>category_names_sub</th>\n",
       "      <th>domain</th>\n",
       "      <th>category_names</th>\n",
       "    </tr>\n",
       "  </thead>\n",
       "  <tbody>\n",
       "    <tr>\n",
       "      <th>0</th>\n",
       "      <td>1009076504</td>\n",
       "      <td>0</td>\n",
       "      <td>0</td>\n",
       "      <td>2018-10-01 00:03:29</td>\n",
       "      <td>2018-10-01 00:03:31</td>\n",
       "      <td>2</td>\n",
       "      <td>0</td>\n",
       "      <td>youtube.com</td>\n",
       "      <td>[entertainment, streaming-media]</td>\n",
       "      <td>NaN</td>\n",
       "      <td>NaN</td>\n",
       "      <td>NaN</td>\n",
       "      <td>youtube.com</td>\n",
       "      <td>entertainment,streaming-media</td>\n",
       "    </tr>\n",
       "    <tr>\n",
       "      <th>1</th>\n",
       "      <td>1009076508</td>\n",
       "      <td>1009076504</td>\n",
       "      <td>0</td>\n",
       "      <td>2018-10-01 00:03:31</td>\n",
       "      <td>2018-10-01 00:03:37</td>\n",
       "      <td>6</td>\n",
       "      <td>0</td>\n",
       "      <td>youtube.com</td>\n",
       "      <td>[entertainment, streaming-media]</td>\n",
       "      <td>NaN</td>\n",
       "      <td>NaN</td>\n",
       "      <td>NaN</td>\n",
       "      <td>youtube.com</td>\n",
       "      <td>entertainment,streaming-media</td>\n",
       "    </tr>\n",
       "    <tr>\n",
       "      <th>2</th>\n",
       "      <td>1009076512</td>\n",
       "      <td>1009076508</td>\n",
       "      <td>0</td>\n",
       "      <td>2018-10-01 00:03:37</td>\n",
       "      <td>2018-10-01 00:03:43</td>\n",
       "      <td>6</td>\n",
       "      <td>0</td>\n",
       "      <td>youtube.com</td>\n",
       "      <td>[entertainment, streaming-media]</td>\n",
       "      <td>NaN</td>\n",
       "      <td>NaN</td>\n",
       "      <td>NaN</td>\n",
       "      <td>youtube.com</td>\n",
       "      <td>entertainment,streaming-media</td>\n",
       "    </tr>\n",
       "    <tr>\n",
       "      <th>3</th>\n",
       "      <td>1009076516</td>\n",
       "      <td>1009076512</td>\n",
       "      <td>0</td>\n",
       "      <td>2018-10-01 00:03:43</td>\n",
       "      <td>2018-10-01 00:03:49</td>\n",
       "      <td>6</td>\n",
       "      <td>0</td>\n",
       "      <td>youtube.com</td>\n",
       "      <td>[entertainment, streaming-media]</td>\n",
       "      <td>NaN</td>\n",
       "      <td>NaN</td>\n",
       "      <td>NaN</td>\n",
       "      <td>youtube.com</td>\n",
       "      <td>entertainment,streaming-media</td>\n",
       "    </tr>\n",
       "    <tr>\n",
       "      <th>4</th>\n",
       "      <td>1009076520</td>\n",
       "      <td>1009076516</td>\n",
       "      <td>0</td>\n",
       "      <td>2018-10-01 00:03:49</td>\n",
       "      <td>2018-10-01 00:03:53</td>\n",
       "      <td>4</td>\n",
       "      <td>0</td>\n",
       "      <td>youtube.com</td>\n",
       "      <td>[entertainment, streaming-media]</td>\n",
       "      <td>NaN</td>\n",
       "      <td>NaN</td>\n",
       "      <td>NaN</td>\n",
       "      <td>youtube.com</td>\n",
       "      <td>entertainment,streaming-media</td>\n",
       "    </tr>\n",
       "  </tbody>\n",
       "</table>\n",
       "</div>"
      ],
      "text/plain": [
       "           id     prev_id  panelist_id              used_at  \\\n",
       "0  1009076504           0            0  2018-10-01 00:03:29   \n",
       "1  1009076508  1009076504            0  2018-10-01 00:03:31   \n",
       "2  1009076512  1009076508            0  2018-10-01 00:03:37   \n",
       "3  1009076516  1009076512            0  2018-10-01 00:03:43   \n",
       "4  1009076520  1009076516            0  2018-10-01 00:03:49   \n",
       "\n",
       "               left_at  active_seconds  gap_seconds top_level_domain  \\\n",
       "0  2018-10-01 00:03:31               2            0      youtube.com   \n",
       "1  2018-10-01 00:03:37               6            0      youtube.com   \n",
       "2  2018-10-01 00:03:43               6            0      youtube.com   \n",
       "3  2018-10-01 00:03:49               6            0      youtube.com   \n",
       "4  2018-10-01 00:03:53               4            0      youtube.com   \n",
       "\n",
       "                 category_names_top sub_level_domain subdomain  \\\n",
       "0  [entertainment, streaming-media]              NaN       NaN   \n",
       "1  [entertainment, streaming-media]              NaN       NaN   \n",
       "2  [entertainment, streaming-media]              NaN       NaN   \n",
       "3  [entertainment, streaming-media]              NaN       NaN   \n",
       "4  [entertainment, streaming-media]              NaN       NaN   \n",
       "\n",
       "  category_names_sub       domain                 category_names  \n",
       "0                NaN  youtube.com  entertainment,streaming-media  \n",
       "1                NaN  youtube.com  entertainment,streaming-media  \n",
       "2                NaN  youtube.com  entertainment,streaming-media  \n",
       "3                NaN  youtube.com  entertainment,streaming-media  \n",
       "4                NaN  youtube.com  entertainment,streaming-media  "
      ]
     },
     "execution_count": 4,
     "metadata": {},
     "output_type": "execute_result"
    }
   ],
   "source": [
    "browsing.head()"
   ]
  },
  {
   "cell_type": "code",
   "execution_count": 5,
   "metadata": {},
   "outputs": [
    {
     "data": {
      "text/plain": [
       "'2018-10-01 00:00:00'"
      ]
     },
     "execution_count": 5,
     "metadata": {},
     "output_type": "execute_result"
    }
   ],
   "source": [
    "min(browsing.used_at)"
   ]
  },
  {
   "cell_type": "code",
   "execution_count": 6,
   "metadata": {},
   "outputs": [
    {
     "data": {
      "text/plain": [
       "'2018-11-01 00:14:15'"
      ]
     },
     "execution_count": 6,
     "metadata": {},
     "output_type": "execute_result"
    }
   ],
   "source": [
    "max(browsing.left_at)"
   ]
  },
  {
   "cell_type": "markdown",
   "metadata": {},
   "source": [
    "### Node lists"
   ]
  },
  {
   "cell_type": "code",
   "execution_count": 7,
   "metadata": {},
   "outputs": [],
   "source": [
    "panelists = pd.DataFrame(browsing['panelist_id'].drop_duplicates()).reset_index(drop=True)"
   ]
  },
  {
   "cell_type": "code",
   "execution_count": 8,
   "metadata": {},
   "outputs": [],
   "source": [
    "browsing['top_level_domain'] = browsing['top_level_domain'].astype('category')"
   ]
  },
  {
   "cell_type": "code",
   "execution_count": 9,
   "metadata": {},
   "outputs": [],
   "source": [
    "top_level_domains = pd.DataFrame(browsing['top_level_domain'].cat.categories).reset_index()\n",
    "top_level_domains.columns = ['top_level_domain_id', 'top_level_domain']"
   ]
  },
  {
   "cell_type": "code",
   "execution_count": 10,
   "metadata": {},
   "outputs": [],
   "source": [
    "browsing['top_level_domain'] = browsing['top_level_domain'].cat.codes\n",
    "browsing.rename(columns={'top_level_domain': 'top_level_domain_id'}, inplace=True)"
   ]
  },
  {
   "cell_type": "markdown",
   "metadata": {},
   "source": [
    "### Aggregates"
   ]
  },
  {
   "cell_type": "code",
   "execution_count": 11,
   "metadata": {},
   "outputs": [],
   "source": [
    "browsing_sum = browsing[['panelist_id', 'top_level_domain_id', 'active_seconds']].groupby(['panelist_id', 'top_level_domain_id']).sum().reset_index()"
   ]
  },
  {
   "cell_type": "code",
   "execution_count": 12,
   "metadata": {},
   "outputs": [
    {
     "data": {
      "text/html": [
       "<div>\n",
       "<style scoped>\n",
       "    .dataframe tbody tr th:only-of-type {\n",
       "        vertical-align: middle;\n",
       "    }\n",
       "\n",
       "    .dataframe tbody tr th {\n",
       "        vertical-align: top;\n",
       "    }\n",
       "\n",
       "    .dataframe thead th {\n",
       "        text-align: right;\n",
       "    }\n",
       "</style>\n",
       "<table border=\"1\" class=\"dataframe\">\n",
       "  <thead>\n",
       "    <tr style=\"text-align: right;\">\n",
       "      <th></th>\n",
       "      <th>panelist_id</th>\n",
       "      <th>top_level_domain_id</th>\n",
       "      <th>active_seconds</th>\n",
       "    </tr>\n",
       "  </thead>\n",
       "  <tbody>\n",
       "    <tr>\n",
       "      <th>0</th>\n",
       "      <td>0</td>\n",
       "      <td>154</td>\n",
       "      <td>558</td>\n",
       "    </tr>\n",
       "    <tr>\n",
       "      <th>1</th>\n",
       "      <td>0</td>\n",
       "      <td>325</td>\n",
       "      <td>64</td>\n",
       "    </tr>\n",
       "    <tr>\n",
       "      <th>2</th>\n",
       "      <td>0</td>\n",
       "      <td>349</td>\n",
       "      <td>22</td>\n",
       "    </tr>\n",
       "    <tr>\n",
       "      <th>3</th>\n",
       "      <td>0</td>\n",
       "      <td>429</td>\n",
       "      <td>108</td>\n",
       "    </tr>\n",
       "    <tr>\n",
       "      <th>4</th>\n",
       "      <td>0</td>\n",
       "      <td>997</td>\n",
       "      <td>58</td>\n",
       "    </tr>\n",
       "  </tbody>\n",
       "</table>\n",
       "</div>"
      ],
      "text/plain": [
       "   panelist_id  top_level_domain_id  active_seconds\n",
       "0            0                  154             558\n",
       "1            0                  325              64\n",
       "2            0                  349              22\n",
       "3            0                  429             108\n",
       "4            0                  997              58"
      ]
     },
     "execution_count": 12,
     "metadata": {},
     "output_type": "execute_result"
    }
   ],
   "source": [
    "browsing_sum.head()"
   ]
  },
  {
   "cell_type": "markdown",
   "metadata": {},
   "source": [
    "### Categories"
   ]
  },
  {
   "cell_type": "code",
   "execution_count": 13,
   "metadata": {},
   "outputs": [],
   "source": [
    "browsing_cat = browsing.copy()"
   ]
  },
  {
   "cell_type": "code",
   "execution_count": 14,
   "metadata": {},
   "outputs": [],
   "source": [
    "browsing_cat = browsing_cat.explode('category_names_top').reset_index(drop=True)\n",
    "browsing_cat.rename(columns={'category_names_top': 'category_name_top'}, inplace=True)"
   ]
  },
  {
   "cell_type": "code",
   "execution_count": 15,
   "metadata": {},
   "outputs": [
    {
     "data": {
      "text/html": [
       "<div>\n",
       "<style scoped>\n",
       "    .dataframe tbody tr th:only-of-type {\n",
       "        vertical-align: middle;\n",
       "    }\n",
       "\n",
       "    .dataframe tbody tr th {\n",
       "        vertical-align: top;\n",
       "    }\n",
       "\n",
       "    .dataframe thead th {\n",
       "        text-align: right;\n",
       "    }\n",
       "</style>\n",
       "<table border=\"1\" class=\"dataframe\">\n",
       "  <thead>\n",
       "    <tr style=\"text-align: right;\">\n",
       "      <th></th>\n",
       "      <th>id</th>\n",
       "      <th>prev_id</th>\n",
       "      <th>panelist_id</th>\n",
       "      <th>used_at</th>\n",
       "      <th>left_at</th>\n",
       "      <th>active_seconds</th>\n",
       "      <th>gap_seconds</th>\n",
       "      <th>top_level_domain_id</th>\n",
       "      <th>category_name_top</th>\n",
       "      <th>sub_level_domain</th>\n",
       "      <th>subdomain</th>\n",
       "      <th>category_names_sub</th>\n",
       "      <th>domain</th>\n",
       "      <th>category_names</th>\n",
       "    </tr>\n",
       "  </thead>\n",
       "  <tbody>\n",
       "    <tr>\n",
       "      <th>0</th>\n",
       "      <td>1009076504</td>\n",
       "      <td>0</td>\n",
       "      <td>0</td>\n",
       "      <td>2018-10-01 00:03:29</td>\n",
       "      <td>2018-10-01 00:03:31</td>\n",
       "      <td>2</td>\n",
       "      <td>0</td>\n",
       "      <td>33042</td>\n",
       "      <td>entertainment</td>\n",
       "      <td>NaN</td>\n",
       "      <td>NaN</td>\n",
       "      <td>NaN</td>\n",
       "      <td>youtube.com</td>\n",
       "      <td>entertainment,streaming-media</td>\n",
       "    </tr>\n",
       "    <tr>\n",
       "      <th>1</th>\n",
       "      <td>1009076504</td>\n",
       "      <td>0</td>\n",
       "      <td>0</td>\n",
       "      <td>2018-10-01 00:03:29</td>\n",
       "      <td>2018-10-01 00:03:31</td>\n",
       "      <td>2</td>\n",
       "      <td>0</td>\n",
       "      <td>33042</td>\n",
       "      <td>streaming-media</td>\n",
       "      <td>NaN</td>\n",
       "      <td>NaN</td>\n",
       "      <td>NaN</td>\n",
       "      <td>youtube.com</td>\n",
       "      <td>entertainment,streaming-media</td>\n",
       "    </tr>\n",
       "    <tr>\n",
       "      <th>2</th>\n",
       "      <td>1009076508</td>\n",
       "      <td>1009076504</td>\n",
       "      <td>0</td>\n",
       "      <td>2018-10-01 00:03:31</td>\n",
       "      <td>2018-10-01 00:03:37</td>\n",
       "      <td>6</td>\n",
       "      <td>0</td>\n",
       "      <td>33042</td>\n",
       "      <td>entertainment</td>\n",
       "      <td>NaN</td>\n",
       "      <td>NaN</td>\n",
       "      <td>NaN</td>\n",
       "      <td>youtube.com</td>\n",
       "      <td>entertainment,streaming-media</td>\n",
       "    </tr>\n",
       "    <tr>\n",
       "      <th>3</th>\n",
       "      <td>1009076508</td>\n",
       "      <td>1009076504</td>\n",
       "      <td>0</td>\n",
       "      <td>2018-10-01 00:03:31</td>\n",
       "      <td>2018-10-01 00:03:37</td>\n",
       "      <td>6</td>\n",
       "      <td>0</td>\n",
       "      <td>33042</td>\n",
       "      <td>streaming-media</td>\n",
       "      <td>NaN</td>\n",
       "      <td>NaN</td>\n",
       "      <td>NaN</td>\n",
       "      <td>youtube.com</td>\n",
       "      <td>entertainment,streaming-media</td>\n",
       "    </tr>\n",
       "    <tr>\n",
       "      <th>4</th>\n",
       "      <td>1009076512</td>\n",
       "      <td>1009076508</td>\n",
       "      <td>0</td>\n",
       "      <td>2018-10-01 00:03:37</td>\n",
       "      <td>2018-10-01 00:03:43</td>\n",
       "      <td>6</td>\n",
       "      <td>0</td>\n",
       "      <td>33042</td>\n",
       "      <td>entertainment</td>\n",
       "      <td>NaN</td>\n",
       "      <td>NaN</td>\n",
       "      <td>NaN</td>\n",
       "      <td>youtube.com</td>\n",
       "      <td>entertainment,streaming-media</td>\n",
       "    </tr>\n",
       "  </tbody>\n",
       "</table>\n",
       "</div>"
      ],
      "text/plain": [
       "           id     prev_id  panelist_id              used_at  \\\n",
       "0  1009076504           0            0  2018-10-01 00:03:29   \n",
       "1  1009076504           0            0  2018-10-01 00:03:29   \n",
       "2  1009076508  1009076504            0  2018-10-01 00:03:31   \n",
       "3  1009076508  1009076504            0  2018-10-01 00:03:31   \n",
       "4  1009076512  1009076508            0  2018-10-01 00:03:37   \n",
       "\n",
       "               left_at  active_seconds  gap_seconds  top_level_domain_id  \\\n",
       "0  2018-10-01 00:03:31               2            0                33042   \n",
       "1  2018-10-01 00:03:31               2            0                33042   \n",
       "2  2018-10-01 00:03:37               6            0                33042   \n",
       "3  2018-10-01 00:03:37               6            0                33042   \n",
       "4  2018-10-01 00:03:43               6            0                33042   \n",
       "\n",
       "  category_name_top sub_level_domain subdomain category_names_sub  \\\n",
       "0     entertainment              NaN       NaN                NaN   \n",
       "1   streaming-media              NaN       NaN                NaN   \n",
       "2     entertainment              NaN       NaN                NaN   \n",
       "3   streaming-media              NaN       NaN                NaN   \n",
       "4     entertainment              NaN       NaN                NaN   \n",
       "\n",
       "        domain                 category_names  \n",
       "0  youtube.com  entertainment,streaming-media  \n",
       "1  youtube.com  entertainment,streaming-media  \n",
       "2  youtube.com  entertainment,streaming-media  \n",
       "3  youtube.com  entertainment,streaming-media  \n",
       "4  youtube.com  entertainment,streaming-media  "
      ]
     },
     "execution_count": 15,
     "metadata": {},
     "output_type": "execute_result"
    }
   ],
   "source": [
    "browsing_cat.head()"
   ]
  },
  {
   "cell_type": "code",
   "execution_count": 16,
   "metadata": {},
   "outputs": [],
   "source": [
    "browsing_cat['category_name_top'] = browsing_cat['category_name_top'].astype('category')"
   ]
  },
  {
   "cell_type": "code",
   "execution_count": 17,
   "metadata": {},
   "outputs": [],
   "source": [
    "category_names_top = pd.DataFrame(browsing_cat['category_name_top'].cat.categories).reset_index()\n",
    "category_names_top.columns = ['category_name_top_id', 'category_name_top']"
   ]
  },
  {
   "cell_type": "code",
   "execution_count": 18,
   "metadata": {},
   "outputs": [
    {
     "data": {
      "text/html": [
       "<div>\n",
       "<style scoped>\n",
       "    .dataframe tbody tr th:only-of-type {\n",
       "        vertical-align: middle;\n",
       "    }\n",
       "\n",
       "    .dataframe tbody tr th {\n",
       "        vertical-align: top;\n",
       "    }\n",
       "\n",
       "    .dataframe thead th {\n",
       "        text-align: right;\n",
       "    }\n",
       "</style>\n",
       "<table border=\"1\" class=\"dataframe\">\n",
       "  <thead>\n",
       "    <tr style=\"text-align: right;\">\n",
       "      <th></th>\n",
       "      <th>category_name_top_id</th>\n",
       "      <th>category_name_top</th>\n",
       "    </tr>\n",
       "  </thead>\n",
       "  <tbody>\n",
       "    <tr>\n",
       "      <th>0</th>\n",
       "      <td>0</td>\n",
       "      <td>adult</td>\n",
       "    </tr>\n",
       "    <tr>\n",
       "      <th>1</th>\n",
       "      <td>1</td>\n",
       "      <td>advertising</td>\n",
       "    </tr>\n",
       "    <tr>\n",
       "      <th>2</th>\n",
       "      <td>2</td>\n",
       "      <td>alcohol and tobacco</td>\n",
       "    </tr>\n",
       "    <tr>\n",
       "      <th>3</th>\n",
       "      <td>3</td>\n",
       "      <td>black-list</td>\n",
       "    </tr>\n",
       "    <tr>\n",
       "      <th>4</th>\n",
       "      <td>4</td>\n",
       "      <td>blogs and personal</td>\n",
       "    </tr>\n",
       "  </tbody>\n",
       "</table>\n",
       "</div>"
      ],
      "text/plain": [
       "   category_name_top_id    category_name_top\n",
       "0                     0                adult\n",
       "1                     1          advertising\n",
       "2                     2  alcohol and tobacco\n",
       "3                     3           black-list\n",
       "4                     4   blogs and personal"
      ]
     },
     "execution_count": 18,
     "metadata": {},
     "output_type": "execute_result"
    }
   ],
   "source": [
    "category_names_top.head()"
   ]
  },
  {
   "cell_type": "code",
   "execution_count": 19,
   "metadata": {},
   "outputs": [],
   "source": [
    "browsing_cat['category_name_top'] = browsing_cat['category_name_top'].cat.codes\n",
    "browsing_cat.rename(columns={'category_name_top': 'category_name_top_id'}, inplace=True)"
   ]
  },
  {
   "cell_type": "code",
   "execution_count": 20,
   "metadata": {},
   "outputs": [
    {
     "data": {
      "text/html": [
       "<div>\n",
       "<style scoped>\n",
       "    .dataframe tbody tr th:only-of-type {\n",
       "        vertical-align: middle;\n",
       "    }\n",
       "\n",
       "    .dataframe tbody tr th {\n",
       "        vertical-align: top;\n",
       "    }\n",
       "\n",
       "    .dataframe thead th {\n",
       "        text-align: right;\n",
       "    }\n",
       "</style>\n",
       "<table border=\"1\" class=\"dataframe\">\n",
       "  <thead>\n",
       "    <tr style=\"text-align: right;\">\n",
       "      <th></th>\n",
       "      <th>id</th>\n",
       "      <th>prev_id</th>\n",
       "      <th>panelist_id</th>\n",
       "      <th>used_at</th>\n",
       "      <th>left_at</th>\n",
       "      <th>active_seconds</th>\n",
       "      <th>gap_seconds</th>\n",
       "      <th>top_level_domain_id</th>\n",
       "      <th>category_name_top_id</th>\n",
       "      <th>sub_level_domain</th>\n",
       "      <th>subdomain</th>\n",
       "      <th>category_names_sub</th>\n",
       "      <th>domain</th>\n",
       "      <th>category_names</th>\n",
       "    </tr>\n",
       "  </thead>\n",
       "  <tbody>\n",
       "    <tr>\n",
       "      <th>0</th>\n",
       "      <td>1009076504</td>\n",
       "      <td>0</td>\n",
       "      <td>0</td>\n",
       "      <td>2018-10-01 00:03:29</td>\n",
       "      <td>2018-10-01 00:03:31</td>\n",
       "      <td>2</td>\n",
       "      <td>0</td>\n",
       "      <td>33042</td>\n",
       "      <td>13</td>\n",
       "      <td>NaN</td>\n",
       "      <td>NaN</td>\n",
       "      <td>NaN</td>\n",
       "      <td>youtube.com</td>\n",
       "      <td>entertainment,streaming-media</td>\n",
       "    </tr>\n",
       "    <tr>\n",
       "      <th>1</th>\n",
       "      <td>1009076504</td>\n",
       "      <td>0</td>\n",
       "      <td>0</td>\n",
       "      <td>2018-10-01 00:03:29</td>\n",
       "      <td>2018-10-01 00:03:31</td>\n",
       "      <td>2</td>\n",
       "      <td>0</td>\n",
       "      <td>33042</td>\n",
       "      <td>34</td>\n",
       "      <td>NaN</td>\n",
       "      <td>NaN</td>\n",
       "      <td>NaN</td>\n",
       "      <td>youtube.com</td>\n",
       "      <td>entertainment,streaming-media</td>\n",
       "    </tr>\n",
       "    <tr>\n",
       "      <th>2</th>\n",
       "      <td>1009076508</td>\n",
       "      <td>1009076504</td>\n",
       "      <td>0</td>\n",
       "      <td>2018-10-01 00:03:31</td>\n",
       "      <td>2018-10-01 00:03:37</td>\n",
       "      <td>6</td>\n",
       "      <td>0</td>\n",
       "      <td>33042</td>\n",
       "      <td>13</td>\n",
       "      <td>NaN</td>\n",
       "      <td>NaN</td>\n",
       "      <td>NaN</td>\n",
       "      <td>youtube.com</td>\n",
       "      <td>entertainment,streaming-media</td>\n",
       "    </tr>\n",
       "    <tr>\n",
       "      <th>3</th>\n",
       "      <td>1009076508</td>\n",
       "      <td>1009076504</td>\n",
       "      <td>0</td>\n",
       "      <td>2018-10-01 00:03:31</td>\n",
       "      <td>2018-10-01 00:03:37</td>\n",
       "      <td>6</td>\n",
       "      <td>0</td>\n",
       "      <td>33042</td>\n",
       "      <td>34</td>\n",
       "      <td>NaN</td>\n",
       "      <td>NaN</td>\n",
       "      <td>NaN</td>\n",
       "      <td>youtube.com</td>\n",
       "      <td>entertainment,streaming-media</td>\n",
       "    </tr>\n",
       "    <tr>\n",
       "      <th>4</th>\n",
       "      <td>1009076512</td>\n",
       "      <td>1009076508</td>\n",
       "      <td>0</td>\n",
       "      <td>2018-10-01 00:03:37</td>\n",
       "      <td>2018-10-01 00:03:43</td>\n",
       "      <td>6</td>\n",
       "      <td>0</td>\n",
       "      <td>33042</td>\n",
       "      <td>13</td>\n",
       "      <td>NaN</td>\n",
       "      <td>NaN</td>\n",
       "      <td>NaN</td>\n",
       "      <td>youtube.com</td>\n",
       "      <td>entertainment,streaming-media</td>\n",
       "    </tr>\n",
       "  </tbody>\n",
       "</table>\n",
       "</div>"
      ],
      "text/plain": [
       "           id     prev_id  panelist_id              used_at  \\\n",
       "0  1009076504           0            0  2018-10-01 00:03:29   \n",
       "1  1009076504           0            0  2018-10-01 00:03:29   \n",
       "2  1009076508  1009076504            0  2018-10-01 00:03:31   \n",
       "3  1009076508  1009076504            0  2018-10-01 00:03:31   \n",
       "4  1009076512  1009076508            0  2018-10-01 00:03:37   \n",
       "\n",
       "               left_at  active_seconds  gap_seconds  top_level_domain_id  \\\n",
       "0  2018-10-01 00:03:31               2            0                33042   \n",
       "1  2018-10-01 00:03:31               2            0                33042   \n",
       "2  2018-10-01 00:03:37               6            0                33042   \n",
       "3  2018-10-01 00:03:37               6            0                33042   \n",
       "4  2018-10-01 00:03:43               6            0                33042   \n",
       "\n",
       "   category_name_top_id sub_level_domain subdomain category_names_sub  \\\n",
       "0                    13              NaN       NaN                NaN   \n",
       "1                    34              NaN       NaN                NaN   \n",
       "2                    13              NaN       NaN                NaN   \n",
       "3                    34              NaN       NaN                NaN   \n",
       "4                    13              NaN       NaN                NaN   \n",
       "\n",
       "        domain                 category_names  \n",
       "0  youtube.com  entertainment,streaming-media  \n",
       "1  youtube.com  entertainment,streaming-media  \n",
       "2  youtube.com  entertainment,streaming-media  \n",
       "3  youtube.com  entertainment,streaming-media  \n",
       "4  youtube.com  entertainment,streaming-media  "
      ]
     },
     "execution_count": 20,
     "metadata": {},
     "output_type": "execute_result"
    }
   ],
   "source": [
    "browsing_cat.head()"
   ]
  },
  {
   "cell_type": "code",
   "execution_count": 21,
   "metadata": {},
   "outputs": [],
   "source": [
    "browsing_cat_sum = browsing_cat[['panelist_id', 'top_level_domain_id', 'category_name_top_id', 'active_seconds']].groupby(['panelist_id', 'top_level_domain_id', 'category_name_top_id']).sum().reset_index()"
   ]
  },
  {
   "cell_type": "code",
   "execution_count": 22,
   "metadata": {},
   "outputs": [
    {
     "data": {
      "text/html": [
       "<div>\n",
       "<style scoped>\n",
       "    .dataframe tbody tr th:only-of-type {\n",
       "        vertical-align: middle;\n",
       "    }\n",
       "\n",
       "    .dataframe tbody tr th {\n",
       "        vertical-align: top;\n",
       "    }\n",
       "\n",
       "    .dataframe thead th {\n",
       "        text-align: right;\n",
       "    }\n",
       "</style>\n",
       "<table border=\"1\" class=\"dataframe\">\n",
       "  <thead>\n",
       "    <tr style=\"text-align: right;\">\n",
       "      <th></th>\n",
       "      <th>panelist_id</th>\n",
       "      <th>top_level_domain_id</th>\n",
       "      <th>category_name_top_id</th>\n",
       "      <th>active_seconds</th>\n",
       "    </tr>\n",
       "  </thead>\n",
       "  <tbody>\n",
       "    <tr>\n",
       "      <th>0</th>\n",
       "      <td>0</td>\n",
       "      <td>154</td>\n",
       "      <td>13</td>\n",
       "      <td>558</td>\n",
       "    </tr>\n",
       "    <tr>\n",
       "      <th>1</th>\n",
       "      <td>0</td>\n",
       "      <td>325</td>\n",
       "      <td>0</td>\n",
       "      <td>64</td>\n",
       "    </tr>\n",
       "    <tr>\n",
       "      <th>2</th>\n",
       "      <td>0</td>\n",
       "      <td>349</td>\n",
       "      <td>5</td>\n",
       "      <td>22</td>\n",
       "    </tr>\n",
       "    <tr>\n",
       "      <th>3</th>\n",
       "      <td>0</td>\n",
       "      <td>429</td>\n",
       "      <td>13</td>\n",
       "      <td>108</td>\n",
       "    </tr>\n",
       "    <tr>\n",
       "      <th>4</th>\n",
       "      <td>0</td>\n",
       "      <td>997</td>\n",
       "      <td>5</td>\n",
       "      <td>58</td>\n",
       "    </tr>\n",
       "  </tbody>\n",
       "</table>\n",
       "</div>"
      ],
      "text/plain": [
       "   panelist_id  top_level_domain_id  category_name_top_id  active_seconds\n",
       "0            0                  154                    13             558\n",
       "1            0                  325                     0              64\n",
       "2            0                  349                     5              22\n",
       "3            0                  429                    13             108\n",
       "4            0                  997                     5              58"
      ]
     },
     "execution_count": 22,
     "metadata": {},
     "output_type": "execute_result"
    }
   ],
   "source": [
    "browsing_cat_sum.head()"
   ]
  },
  {
   "cell_type": "code",
   "execution_count": null,
   "metadata": {},
   "outputs": [],
   "source": []
  },
  {
   "cell_type": "markdown",
   "metadata": {},
   "source": [
    "## Function\n",
    "This function loads all data in one step:"
   ]
  },
  {
   "cell_type": "code",
   "execution_count": 23,
   "metadata": {},
   "outputs": [],
   "source": [
    "def web_browsing_collection(\n",
    "    path = 'data/web_browsing/'\n",
    "):\n",
    "    '''\n",
    "    Description: ...\n",
    "    \n",
    "    Input:\n",
    "        path: relative directory where the data is; set to 'data/web_browsing/' by default.\n",
    "    \n",
    "    Output: ...\n",
    "    '''\n",
    "    import os\n",
    "    import pandas as pd\n",
    "    \n",
    "    browsing = pd.read_csv(os.path.join(path, 'browsing_with_gap.csv.gz'))\n",
    "    browsing['category_names_top'] = browsing['category_names_top'].str.split(',')\n",
    "    panelists = pd.DataFrame(browsing['panelist_id'].drop_duplicates()).reset_index(drop=True)\n",
    "    browsing['top_level_domain'] = browsing['top_level_domain'].astype('category')\n",
    "    top_level_domains = pd.DataFrame(browsing['top_level_domain'].cat.categories).reset_index()\n",
    "    top_level_domains.columns = ['top_level_domain_id', 'top_level_domain']\n",
    "    browsing['top_level_domain'] = browsing['top_level_domain'].cat.codes\n",
    "    browsing.rename(columns={'top_level_domain': 'top_level_domain_id'}, inplace=True)\n",
    "    #browsing_sum = browsing[['panelist_id', 'top_level_domain_id', 'active_seconds']].groupby(['panelist_id', 'top_level_domain_id']).sum().reset_index()\n",
    "    browsing_cat = browsing.copy()\n",
    "    browsing_cat = browsing_cat.explode('category_names_top').reset_index(drop=True)\n",
    "    browsing_cat.rename(columns={'category_names_top': 'category_name_top'}, inplace=True)\n",
    "    browsing_cat['category_name_top'] = browsing_cat['category_name_top'].astype('category')\n",
    "    category_names_top = pd.DataFrame(browsing_cat['category_name_top'].cat.categories).reset_index()\n",
    "    category_names_top.columns = ['category_name_top_id', 'category_name_top']\n",
    "    browsing_cat['category_name_top'] = browsing_cat['category_name_top'].cat.codes\n",
    "    browsing_cat.rename(columns={'category_name_top': 'category_name_top_id'}, inplace=True)\n",
    "    #browsing_cat_sum = browsing_cat[['panelist_id', 'top_level_domain_id', 'category_name_top_id', 'active_seconds']].groupby(['panelist_id', 'top_level_domain_id', 'category_name_top_id']).sum().reset_index()\n",
    "    \n",
    "    return panelists, browsing_cat, top_level_domains, category_names_top"
   ]
  },
  {
   "cell_type": "code",
   "execution_count": 24,
   "metadata": {},
   "outputs": [],
   "source": [
    "panelists, browsing, top_level_domains, category_names_top = cs.web_browsing_collection()"
   ]
  },
  {
   "cell_type": "code",
   "execution_count": null,
   "metadata": {},
   "outputs": [],
   "source": []
  },
  {
   "cell_type": "markdown",
   "metadata": {},
   "source": [
    "***"
   ]
  },
  {
   "cell_type": "markdown",
   "metadata": {},
   "source": [
    "## About this notebook\n",
    "\n",
    "**License**: CC BY 4.0. Distribute, remix, adapt, and build upon ``compsoc``, even commercially, as long as you credit us for the original creation.\n",
    "\n",
    "**Suggested citation**: Lietz, H. (2025). Web browsing: Sequential URL visits over a month. Version 1.0 (XX.XX.XXXX). *compsoc – Computational Social Methods in Python*. Cologne: GESIS – Leibniz Institute for the Social Sciences. https://github.com/gesiscss/compsoc"
   ]
  }
 ],
 "metadata": {
  "kernelspec": {
   "display_name": "compsoc",
   "language": "python",
   "name": "compsoc"
  },
  "language_info": {
   "codemirror_mode": {
    "name": "ipython",
    "version": 3
   },
   "file_extension": ".py",
   "mimetype": "text/x-python",
   "name": "python",
   "nbconvert_exporter": "python",
   "pygments_lexer": "ipython3",
   "version": "3.11.5"
  }
 },
 "nbformat": 4,
 "nbformat_minor": 4
}
