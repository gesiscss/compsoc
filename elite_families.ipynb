{
 "cells": [
  {
   "cell_type": "markdown",
   "metadata": {},
   "source": [
    "[Home](index.ipynb) > [Data Collections](data_collections.ipynb) > Elite families"
   ]
  },
  {
   "cell_type": "markdown",
   "metadata": {},
   "source": [
    "<img style='float: left;' src='https://www.gesis.org/fileadmin/styles/img/gs_home_logo_en.svg'>"
   ]
  },
  {
   "cell_type": "markdown",
   "metadata": {},
   "source": [
    "### ``compsoc`` – *Notebooks for Computational Sociology* (alpha)"
   ]
  },
  {
   "cell_type": "markdown",
   "metadata": {},
   "source": [
    "# Elite families: Multiplex ties in Renaissance Florence\n",
    "Authors: [Haiko Lietz](https://www.gesis.org/person/haiko.lietz)\n",
    "\n",
    "Version: 0.91 (14.09.2020)\n",
    "\n",
    "Please cite as: Lietz, Haiko (2020). Elite families: Multiplex ties in Renaissance Florence. Version 0.91 (14.09.2020). *compsoc – Notebooks for Computational Sociology*. GESIS. url:[github.com/gesiscss/compsoc](https://github.com/gesiscss/compsoc)"
   ]
  },
  {
   "cell_type": "markdown",
   "metadata": {},
   "source": [
    "<div class=\"alert alert-info\">\n",
    "<big><b>Significance</b></big>\n",
    "\n",
    "This is a classical dataset of Social Network Analysis. It is suitable for educational purposes because it resembles a still exceptionable example of rich data. As such it is a role model for how to design digital behavioral data sets.\n",
    "</div>"
   ]
  },
  {
   "cell_type": "markdown",
   "metadata": {},
   "source": [
    "## Introduction\n",
    "The setting is Renaissance Florence, 1400-1434, a time and space where the political power structure in Italy experienced a phase transition and capitalism was invented. In the aftermath of the so-called [Compi Revolt](https://en.wikipedia.org/wiki/Ciompi_Revolt), the old system of the oligarchs declined and a new system took the stage: the Medici party. What were the inner workings of the \"rise of the Medici\"? How did the new system emerge?\n",
    "\n",
    "These questions can only be answered if social relations are taken into account, argue Padgett & Ansell (1993) in a classical study of Social Network Analysis. They collected data on the marriage, economic, political, and friendship relationships among 92 elite families, enriched families with multiple attributes, and constructed what is still an exceptionable network data collection. Only if this complete data is taken into account can we understand how the Medici rose to power – by ambiguous \"robust action\" and taking a central position in the multiplex network of family relations. This line of research continuous until today in what is one of the most exciting strands of network analysis and theory (Padgett & Powell, 2012)."
   ]
  },
  {
   "cell_type": "markdown",
   "metadata": {},
   "source": [
    "|<img src='images/elite_families.png' style='float: none; width: 720px'>|\n",
    "|:--|\n",
    "|<em style='float: center'>**Figure 1**: Nine types of tie among elite families in Renaissance Florence</em>|"
   ]
  },
  {
   "cell_type": "markdown",
   "metadata": {},
   "source": [
    "**In this notebook**, we provide relational and attribute data as it is reported in figure 2 (our figure 1) of the paper by Padgett & Ansell (1993). Relations have been carefully copied from paper to data. The 92 families are only reported in the paper. Padgett & Ansell have blocked them into 33 building blocks constituted by multiple families. Attributes are taken from table B1 of the paper. The result is a small but very revealing example of **rich data**, i.e., of network ties in multiple domains of social life plus node attributes (visualized in figure 2). It is supposed to exemplify a data structure that is also desird for collections of digital behavioral data and to enable a multi-layer analysis of a turbulent field. Note that it is not identical to the \"florentine families\" graph of Breiger & Pattison (1987) which older, smaller, and not multiplex."
   ]
  },
  {
   "cell_type": "markdown",
   "metadata": {},
   "source": [
    "|<img src='images/elite_families.jpg' style='float: none; width: 640px'>|\n",
    "|:--|\n",
    "|<em style='float: center'>**Figure 2**: Visualization that communicates much of the richness of the elite familes collection</em>|"
   ]
  },
  {
   "cell_type": "markdown",
   "metadata": {},
   "source": [
    "## Dependencies and settings"
   ]
  },
  {
   "cell_type": "code",
   "execution_count": null,
   "metadata": {},
   "outputs": [],
   "source": [
    "import compsoc as cs\n",
    "import pandas as pd"
   ]
  },
  {
   "cell_type": "markdown",
   "metadata": {},
   "source": [
    "## Entity and relationship tables\n",
    "The data is already in a form that can be used for network analysis and the functions provided by `compsoc`. Read it via pandas:"
   ]
  },
  {
   "cell_type": "code",
   "execution_count": null,
   "metadata": {},
   "outputs": [],
   "source": [
    "families = pd.read_csv('data/elite_families/families.txt', sep='\\t', encoding='utf-8')\n",
    "families.head()"
   ]
  },
  {
   "cell_type": "code",
   "execution_count": null,
   "metadata": {},
   "outputs": [],
   "source": [
    "parties = pd.read_csv('data/elite_families/parties.txt', sep='\\t', encoding='utf-8')\n",
    "parties.head()"
   ]
  },
  {
   "cell_type": "code",
   "execution_count": null,
   "metadata": {},
   "outputs": [],
   "source": [
    "relations = pd.read_csv('data/elite_families/relations.txt', sep='\\t', encoding='utf-8')\n",
    "relations.head()"
   ]
  },
  {
   "cell_type": "code",
   "execution_count": null,
   "metadata": {},
   "outputs": [],
   "source": [
    "domains = pd.read_csv('data/elite_families/domains.txt', sep='\\t', encoding='utf-8')\n",
    "domains.head()"
   ]
  },
  {
   "cell_type": "markdown",
   "metadata": {},
   "source": [
    "Marriage ties are directed, they point from the family that provided the marrying female to the family that provided the marrying male:"
   ]
  },
  {
   "cell_type": "code",
   "execution_count": null,
   "metadata": {},
   "outputs": [],
   "source": [
    "relations[relations['domain_id'] == 0].head()"
   ]
  },
  {
   "cell_type": "markdown",
   "metadata": {},
   "source": [
    "Economic ties are a supercategory for directed joint ownerships or partnerships, directed bank employment relations, directed real estate relations, and trading or business relations. The latter are undirected but stored as reciprocated directed ties:"
   ]
  },
  {
   "cell_type": "code",
   "execution_count": null,
   "metadata": {},
   "outputs": [],
   "source": [
    "relations[relations['domain_id'] == 1].head()"
   ]
  },
  {
   "cell_type": "markdown",
   "metadata": {},
   "source": [
    "Political ties are a supercategory for directed patronage and directed personal loans:"
   ]
  },
  {
   "cell_type": "code",
   "execution_count": null,
   "metadata": {},
   "outputs": [],
   "source": [
    "relations[relations['domain_id'] == 2].head()"
   ]
  },
  {
   "cell_type": "markdown",
   "metadata": {},
   "source": [
    "Friendship ties are a supercategory for directed surety relations (\"Mallevadori\") and personal friendships. The latter are undirected but stored as reciprocated directed ties:"
   ]
  },
  {
   "cell_type": "code",
   "execution_count": null,
   "metadata": {},
   "outputs": [],
   "source": [
    "relations[relations['domain_id'] == 3].head()"
   ]
  },
  {
   "cell_type": "markdown",
   "metadata": {},
   "source": [
    "## Using `compsoc`\n",
    "Supply the data:"
   ]
  },
  {
   "cell_type": "code",
   "execution_count": null,
   "metadata": {},
   "outputs": [],
   "source": [
    "families, parties, relations, domains = cs.elite_families_collection()"
   ]
  },
  {
   "cell_type": "markdown",
   "metadata": {},
   "source": [
    "Construct a graph:"
   ]
  },
  {
   "cell_type": "code",
   "execution_count": null,
   "metadata": {},
   "outputs": [],
   "source": [
    "G = cs.construct_graph(\n",
    "    directed=True, \n",
    "    multiplex=True, \n",
    "    graph_name='elite_families', \n",
    "    node_list=families, \n",
    "    edge_list=relations, \n",
    "    node_pos=['pos_x', 'pos_y'], \n",
    "    node_size='gross_wealth_mean', \n",
    "    node_color='partisanship_color', \n",
    "    node_shape='party_id', \n",
    "    node_border_color='status_color', \n",
    "    node_label='family', \n",
    "    layer_color={0: '#984ea3', 1: '#ff7f00', 2: '#4daf4a', 3: '#a65628'} # take colors from www.colorbrewer2.org\n",
    ")"
   ]
  },
  {
   "cell_type": "markdown",
   "metadata": {},
   "source": [
    "Draw the graph:"
   ]
  },
  {
   "cell_type": "code",
   "execution_count": null,
   "metadata": {},
   "outputs": [],
   "source": [
    "cs.draw_graph(\n",
    "    G, \n",
    "    node_size_factor=0.02, \n",
    "    node_border_width=4, \n",
    "    curved_edges=True, \n",
    "    labels='text', \n",
    "    font_size_factor=.0002, \n",
    "    label_transparency=.75, \n",
    "    figsize='large'\n",
    ")"
   ]
  }
 ],
 "metadata": {
  "kernelspec": {
   "display_name": "Python 3",
   "language": "python",
   "name": "python3"
  },
  "language_info": {
   "codemirror_mode": {
    "name": "ipython",
    "version": 3
   },
   "file_extension": ".py",
   "mimetype": "text/x-python",
   "name": "python",
   "nbconvert_exporter": "python",
   "pygments_lexer": "ipython3",
   "version": "3.8.3"
  }
 },
 "nbformat": 4,
 "nbformat_minor": 2
}
