{
 "cells": [
  {
   "cell_type": "markdown",
   "metadata": {},
   "source": [
    "[Home](index.ipynb) > [Data Collections](data_collections.ipynb) > Social Network Science"
   ]
  },
  {
   "cell_type": "markdown",
   "metadata": {},
   "source": [
    "<img style='float: left;' src='https://www.gesis.org/fileadmin/styles/img/gs_home_logo_en.svg'>"
   ]
  },
  {
   "cell_type": "markdown",
   "metadata": {},
   "source": [
    "### ``compsoc`` – *Notebooks for Computational Sociology* (alpha)"
   ]
  },
  {
   "cell_type": "markdown",
   "metadata": {},
   "source": [
    "# Social Network Science (1916-2012): Collaboration and language use in a scholarly field\n",
    "Authors: [Haiko Lietz](https://www.gesis.org/person/haiko.lietz)\n",
    "\n",
    "Version: 0.91 (14.09.2020)\n",
    "\n",
    "Please cite as: Lietz, Haiko (2020). Social Network Science (1916-2012): Collaboration and language use in a scholarly field. Version 0.91 (14.09.2020). *compsoc – Notebooks for Computational Sociology*. GESIS. url:[github.com/gesiscss/compsoc](https://github.com/gesiscss/compsoc)"
   ]
  },
  {
   "cell_type": "markdown",
   "metadata": {},
   "source": [
    "<div class=\"alert alert-info\">\n",
    "<big><b>Significance</b></big>\n",
    "\n",
    "Bla.\n",
    "</div>"
   ]
  },
  {
   "cell_type": "markdown",
   "metadata": {},
   "source": [
    "## Introduction\n",
    "Bla.\n",
    "\n",
    "Early case of behavioral data\n",
    "\n",
    "Example for traces of behavior harnessed by digital technology, in this case: collected by the company Clarivate Analytics and stored in a bibliographic database.\n",
    "\n",
    "Field delineated by Lietz (2020) for the purpose of... https://doi.org/10.1007/s11192-020-03527-0\n",
    "\n",
    "Makes full use of the data model... \"teaching example\" for the mapping of quantifiable things like publications to transactions and authors, cited references or words to facts\n",
    "\n",
    "\n",
    "\n",
    "**In this notebook**, bla."
   ]
  },
  {
   "cell_type": "markdown",
   "metadata": {},
   "source": [
    "## Dependencies and Settings"
   ]
  },
  {
   "cell_type": "code",
   "execution_count": null,
   "metadata": {},
   "outputs": [],
   "source": [
    "import compsoc as cs\n",
    "import networkx as nx\n",
    "import pandas as pd"
   ]
  },
  {
   "cell_type": "code",
   "execution_count": null,
   "metadata": {},
   "outputs": [],
   "source": []
  },
  {
   "cell_type": "markdown",
   "metadata": {},
   "source": [
    "Data is at: https://doi.org/10.7802/1.1954"
   ]
  },
  {
   "cell_type": "code",
   "execution_count": null,
   "metadata": {},
   "outputs": [],
   "source": [
    "publications = pd.read_csv('data/sns/publications.txt', sep='\\t', encoding='utf-8')\n",
    "authors = pd.read_csv('data/sns/authors.txt', sep='\\t', encoding='utf-8')\n",
    "authorships = pd.read_csv('data/sns/authorships.txt', sep='\\t', encoding='utf-8')\n",
    "words = pd.read_csv('data/sns/words.txt', sep='\\t', encoding='utf-8')\n",
    "usages = pd.read_csv('data/sns/usages.txt', sep='\\t', encoding='utf-8')\n",
    "subfields = pd.read_csv('data/sns/subfields.txt', sep='\\t', encoding='utf-8')"
   ]
  },
  {
   "cell_type": "markdown",
   "metadata": {},
   "source": [
    "Dataset is already normalized\n",
    "\n",
    "Tables with primary keys contain entities\n",
    "\n",
    "Their relationships are specified in tables that merely consist of foreign keys."
   ]
  },
  {
   "cell_type": "markdown",
   "metadata": {},
   "source": [
    "|<img src='images/data_model_sns.png' style='float: none; width: 640px'>|\n",
    "|:--|\n",
    "|<em style='float: center'>**Figure 1**: Entity-relationship model for the Social Network Science dataset</em>|"
   ]
  },
  {
   "cell_type": "markdown",
   "metadata": {},
   "source": [
    "Transactions as elementary pieces of communication"
   ]
  },
  {
   "cell_type": "code",
   "execution_count": null,
   "metadata": {},
   "outputs": [],
   "source": [
    "publications.head()"
   ]
  },
  {
   "cell_type": "markdown",
   "metadata": {},
   "source": [
    "In this academic case, a possible translation of \"transactions select facts\" is that \"publications are authored by authors\". Authors are the senders of communications to an unspecified set of receivers.\n",
    "\n",
    "The ``authors`` entity table is a mere list of which author has which identifier, where the identifier is an integer between $0$ and $N$. In case of an author network, $N$ is the number of nodes."
   ]
  },
  {
   "cell_type": "code",
   "execution_count": null,
   "metadata": {},
   "outputs": [],
   "source": [
    "authors.head()"
   ]
  },
  {
   "cell_type": "markdown",
   "metadata": {},
   "source": [
    "The information which publication is actually authored by which author is stored in the ``authorships`` relationship table. The beauty of these tables is that they can directly be used as edge lists for network construction:"
   ]
  },
  {
   "cell_type": "code",
   "execution_count": null,
   "metadata": {},
   "outputs": [],
   "source": [
    "authorships.head()"
   ]
  },
  {
   "cell_type": "code",
   "execution_count": null,
   "metadata": {},
   "outputs": [],
   "source": [
    "authorships_2010 = authorships[authorships['publication_id'].isin(publications[publications['time'].between(2010, 2012)]['publication_id'])]"
   ]
  },
  {
   "cell_type": "code",
   "execution_count": null,
   "metadata": {},
   "outputs": [],
   "source": [
    "authorships_2010['weight'] = 1"
   ]
  },
  {
   "cell_type": "code",
   "execution_count": null,
   "metadata": {},
   "outputs": [],
   "source": [
    "_, authors, co_authorships_2010, _ = cs.meaning_structures(\n",
    "    selections=authorships_2010, \n",
    "    transaction_id='publication_id', \n",
    "    fact_id='author_id', \n",
    "    multiplex=True, \n",
    "    transactions=publications, \n",
    "    domain_id='subfield_id', \n",
    "    facts=authors\n",
    ")"
   ]
  },
  {
   "cell_type": "code",
   "execution_count": null,
   "metadata": {},
   "outputs": [],
   "source": [
    "G = cs.construct_graph(\n",
    "    directed=False, \n",
    "    multiplex=True, \n",
    "    graph_name='co_authorships_2010', \n",
    "    node_list=authors, \n",
    "    node_size='degree', \n",
    "    edge_list=co_authorships_2010[['author_id_from', 'author_id_to', 'weight', 'subfield_id']], \n",
    "    node_label='author'\n",
    ")"
   ]
  },
  {
   "cell_type": "code",
   "execution_count": null,
   "metadata": {},
   "outputs": [],
   "source": [
    "G_lcc = G.subgraph(max(nx.connected_components(G), key=len))"
   ]
  },
  {
   "cell_type": "code",
   "execution_count": null,
   "metadata": {},
   "outputs": [],
   "source": [
    "vp_node_pos = nx.spring_layout(G_lcc)"
   ]
  },
  {
   "cell_type": "code",
   "execution_count": null,
   "metadata": {},
   "outputs": [],
   "source": [
    "cs.draw_graph(\n",
    "    G_lcc, \n",
    "    node_pos=vp_node_pos, \n",
    "    node_size_factor=5, \n",
    "    edge_width_factor=5, \n",
    "    edge_transparency=.5, \n",
    "    figsize='large'\n",
    ")"
   ]
  },
  {
   "cell_type": "code",
   "execution_count": null,
   "metadata": {},
   "outputs": [],
   "source": []
  }
 ],
 "metadata": {
  "kernelspec": {
   "display_name": "Python 3",
   "language": "python",
   "name": "python3"
  },
  "language_info": {
   "codemirror_mode": {
    "name": "ipython",
    "version": 3
   },
   "file_extension": ".py",
   "mimetype": "text/x-python",
   "name": "python",
   "nbconvert_exporter": "python",
   "pygments_lexer": "ipython3",
   "version": "3.8.3"
  }
 },
 "nbformat": 4,
 "nbformat_minor": 2
}
