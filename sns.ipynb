{
 "cells": [
  {
   "cell_type": "markdown",
   "metadata": {},
   "source": [
    "[Home](index.ipynb) > [Data Collections](data_collections.ipynb) > Social Network Science"
   ]
  },
  {
   "cell_type": "markdown",
   "metadata": {},
   "source": [
    "<img style='float: left;' src='https://www.gesis.org/fileadmin/styles/img/gs_home_logo_en.svg'>"
   ]
  },
  {
   "cell_type": "markdown",
   "metadata": {},
   "source": [
    "### ``compsoc`` – *Notebooks for Computational Sociology* (alpha)"
   ]
  },
  {
   "cell_type": "markdown",
   "metadata": {},
   "source": [
    "# Social Network Science (1916-2012): Collaboration and language use in a scholarly field\n",
    "Authors: [Haiko Lietz](https://www.gesis.org/person/haiko.lietz)\n",
    "\n",
    "Version: 0.91 (14.09.2020)\n",
    "\n",
    "Please cite as: Lietz, Haiko (2020). Social Network Science (1916-2012): Collaboration and language use in a scholarly field. Version 0.91 (14.09.2020). *compsoc – Notebooks for Computational Sociology*. GESIS. url:[github.com/gesiscss/compsoc](https://github.com/gesiscss/compsoc)"
   ]
  },
  {
   "cell_type": "markdown",
   "metadata": {},
   "source": [
    "<div class=\"alert alert-info\">\n",
    "<big><b>Significance</b></big>\n",
    "\n",
    "This data collection is a delineation of the multidisciplinary and very heterogeneous Social Network Science field using the Web of Science database. It has been produced to enable studies of network stability and change in both social and cultural dimensions. The field consists of 25,760 publications and has a historical dimension (1916–2012). Data is clean and disambiguated.\n",
    "</div>"
   ]
  },
  {
   "cell_type": "markdown",
   "metadata": {},
   "source": [
    "## Introduction\n",
    "Bibliographic data is an early case of behavioral data as it consists of traces of behavior that are collected by a database provider. Behavioral traces typically take the form of co-authorship, citation, and language use.\n",
    "\n",
    "**In this notebook**, the Social Network Science collection is introduced. It has been carefully retrieved from the Web of Science for the purpose of studying its historical socio-cultural evolution ([Lietz, 2020](https://doi.org/10.1007/s11192-020-03527-0)). Data is publically available under a CreativeCommons license ([Lietz, 2019](https://doi.org/10.7802/1.1954)). The dataset is normalized and fully mapped to `compsoc`'s unified data model. As such it is an idealtypical case of a mapping of quantifiable things like publications to transactions and authors, cited references, or words to facts."
   ]
  },
  {
   "cell_type": "markdown",
   "metadata": {},
   "source": [
    "## Dependencies and Settings"
   ]
  },
  {
   "cell_type": "code",
   "execution_count": null,
   "metadata": {},
   "outputs": [],
   "source": [
    "import compsoc as cs\n",
    "import networkx as nx\n",
    "import pandas as pd"
   ]
  },
  {
   "cell_type": "markdown",
   "metadata": {},
   "source": [
    "## Unified data structure"
   ]
  },
  {
   "cell_type": "code",
   "execution_count": null,
   "metadata": {},
   "outputs": [],
   "source": [
    "publications = pd.read_csv('data/sns/publications.txt', sep='\\t', encoding='utf-8')\n",
    "subfields = pd.read_csv('data/sns/subfields.txt', sep='\\t', encoding='utf-8')\n",
    "authors = pd.read_csv('data/sns/authors.txt', sep='\\t', encoding='utf-8')\n",
    "authorships = pd.read_csv('data/sns/authorships.txt', sep='\\t', encoding='utf-8')\n",
    "words = pd.read_csv('data/sns/words.txt', sep='\\t', encoding='utf-8')\n",
    "usages = pd.read_csv('data/sns/usages.txt', sep='\\t', encoding='utf-8')"
   ]
  },
  {
   "cell_type": "markdown",
   "metadata": {},
   "source": [
    "The Dataset is fully normalized. Tables with primary keys contain entities. Their relationships are specified in tables that merely consist of foreign keys."
   ]
  },
  {
   "cell_type": "markdown",
   "metadata": {},
   "source": [
    "|<img src='images/data_model_sns.png' style='float: none; width: 640px'>|\n",
    "|:--|\n",
    "|<em style='float: center'>**Figure 1**: Entity-relationship model for the Social Network Science collection</em>|"
   ]
  },
  {
   "cell_type": "markdown",
   "metadata": {},
   "source": [
    "Transactions as elementary pieces of communication:"
   ]
  },
  {
   "cell_type": "code",
   "execution_count": null,
   "metadata": {},
   "outputs": [],
   "source": [
    "publications.head()"
   ]
  },
  {
   "cell_type": "markdown",
   "metadata": {},
   "source": [
    "They contain important variables like the year the publication was produced or the subfield tha publication belongs to. There are five subfields:"
   ]
  },
  {
   "cell_type": "code",
   "execution_count": null,
   "metadata": {},
   "outputs": [],
   "source": [
    "subfields.head()"
   ]
  },
  {
   "cell_type": "markdown",
   "metadata": {},
   "source": [
    "### Authorship\n",
    "The unified data model states that \"transactions select facts\". The first translation of this modeling principle is that \"publications are authored by authors\". Authors are the senders of communications to an unspecified set of receivers. The `authors` entity table is a mere list of which author has which identifier, where the identifier is an integer between $0$ and $N$. In case of an author network, $N$ is the number of nodes."
   ]
  },
  {
   "cell_type": "code",
   "execution_count": null,
   "metadata": {},
   "outputs": [],
   "source": [
    "authors.head()"
   ]
  },
  {
   "cell_type": "markdown",
   "metadata": {},
   "source": [
    "The information which publication is actually authored by which author is stored in the `authorships` relationship table. The beauty of these tables is that they can directly be used as edge lists for network construction:"
   ]
  },
  {
   "cell_type": "code",
   "execution_count": null,
   "metadata": {},
   "outputs": [],
   "source": [
    "authorships.head()"
   ]
  },
  {
   "cell_type": "markdown",
   "metadata": {},
   "source": [
    "Authorship information is used to study the social dimension of identity dynamics.\n",
    "### Word usage\n",
    "The second translation of \"transactions select facts\" is that \"publications use words\". Words resemble concepts that, as part of emergent patterns, influence future transactions and give the field a direction. Entities in `words` are cultural facts:"
   ]
  },
  {
   "cell_type": "code",
   "execution_count": null,
   "metadata": {},
   "outputs": [],
   "source": [
    "words.head()"
   ]
  },
  {
   "cell_type": "markdown",
   "metadata": {},
   "source": [
    "The `usages` table tells which linguistic concept is used in which publication:"
   ]
  },
  {
   "cell_type": "code",
   "execution_count": null,
   "metadata": {},
   "outputs": [],
   "source": [
    "usages.head()"
   ]
  },
  {
   "cell_type": "markdown",
   "metadata": {},
   "source": [
    "Linguistic information is used to study the cultural dimension of identity dynamics.\n",
    "\n",
    "Unfortunately, the `references` and `citations` tables cannot be shared."
   ]
  },
  {
   "cell_type": "markdown",
   "metadata": {},
   "source": [
    "## Function\n",
    "This function loads all data in one step:"
   ]
  },
  {
   "cell_type": "code",
   "execution_count": null,
   "metadata": {},
   "outputs": [],
   "source": [
    "def sns_collection(path='data/sns/'):\n",
    "    '''\n",
    "    Description: Loads the normalized Social Network Science data collection.\n",
    "    \n",
    "    Output: Six dataframes in this order: publications, subfields, authors, authorships, \n",
    "        words, usages\n",
    "    '''\n",
    "    \n",
    "    import pandas as pd\n",
    "    \n",
    "    publications = pd.read_csv('data/sns/publications.txt', sep='\\t', encoding='utf-8')\n",
    "    subfields = pd.read_csv('data/sns/subfields.txt', sep='\\t', encoding='utf-8')\n",
    "    authors = pd.read_csv('data/sns/authors.txt', sep='\\t', encoding='utf-8')\n",
    "    authorships = pd.read_csv('data/sns/authorships.txt', sep='\\t', encoding='utf-8')\n",
    "    words = pd.read_csv('data/sns/words.txt', sep='\\t', encoding='utf-8')\n",
    "    usages = pd.read_csv('data/sns/usages.txt', sep='\\t', encoding='utf-8')\n",
    "    \n",
    "    return publications, subfields, authors, authorships, words, usages"
   ]
  },
  {
   "cell_type": "markdown",
   "metadata": {},
   "source": [
    "## Example analysis\n",
    "This is a standard workflow from loading the collection to drawing a network:"
   ]
  },
  {
   "cell_type": "code",
   "execution_count": null,
   "metadata": {},
   "outputs": [],
   "source": [
    "publications, subfields, authors, authorships, words, usages = cs.sns_collection()"
   ]
  },
  {
   "cell_type": "markdown",
   "metadata": {},
   "source": [
    "Define all publications published between 2010 and 2012:"
   ]
  },
  {
   "cell_type": "code",
   "execution_count": null,
   "metadata": {},
   "outputs": [],
   "source": [
    "publications_2010 = publications[publications['time'].between(2010, 2012)]['publication_id']"
   ]
  },
  {
   "cell_type": "markdown",
   "metadata": {},
   "source": [
    "Identify all authorships in which those publications were authored:"
   ]
  },
  {
   "cell_type": "code",
   "execution_count": null,
   "metadata": {},
   "outputs": [],
   "source": [
    "authorships_2010 = authorships[authorships['publication_id'].isin(publications_2010)].copy()"
   ]
  },
  {
   "cell_type": "markdown",
   "metadata": {},
   "source": [
    "Assign a unit weight:"
   ]
  },
  {
   "cell_type": "code",
   "execution_count": null,
   "metadata": {},
   "outputs": [],
   "source": [
    "authorships_2010.loc[:, 'weight'] = 1"
   ]
  },
  {
   "cell_type": "markdown",
   "metadata": {},
   "source": [
    "Project the `authorships_2010` selection matrix to the fact `co_authorships_2010` matrix using `compsoc`'s `meaning_structures()` function:"
   ]
  },
  {
   "cell_type": "code",
   "execution_count": null,
   "metadata": {},
   "outputs": [],
   "source": [
    "_, authors, co_authorships_2010, _ = cs.meaning_structures(\n",
    "    selections=authorships_2010, \n",
    "    transaction_id='publication_id', \n",
    "    fact_id='author_id', \n",
    "    multiplex=True, \n",
    "    transactions=publications, \n",
    "    domain_id='subfield_id', \n",
    "    facts=authors\n",
    ")"
   ]
  },
  {
   "cell_type": "markdown",
   "metadata": {},
   "source": [
    "Construct an undirected multiplex graph:"
   ]
  },
  {
   "cell_type": "code",
   "execution_count": null,
   "metadata": {},
   "outputs": [],
   "source": [
    "G = cs.construct_graph(\n",
    "    directed=False, \n",
    "    multiplex=True, \n",
    "    graph_name='co_authorships_2010', \n",
    "    node_list=authors, \n",
    "    node_size='degree', \n",
    "    edge_list=co_authorships_2010[['author_id_from', 'author_id_to', 'weight', 'subfield_id']], \n",
    "    node_label='author'\n",
    ")"
   ]
  },
  {
   "cell_type": "markdown",
   "metadata": {},
   "source": [
    "Extract the graph's largest connected component:"
   ]
  },
  {
   "cell_type": "code",
   "execution_count": null,
   "metadata": {},
   "outputs": [],
   "source": [
    "G_lcc = G.subgraph(max(nx.connected_components(G), key=len))"
   ]
  },
  {
   "cell_type": "markdown",
   "metadata": {},
   "source": [
    "Draw the graph:"
   ]
  },
  {
   "cell_type": "code",
   "execution_count": null,
   "metadata": {},
   "outputs": [],
   "source": [
    "cs.draw_graph(\n",
    "    G_lcc, \n",
    "    node_size_factor=5, \n",
    "    edge_width_factor=5, \n",
    "    edge_transparency=.5, \n",
    "    figsize='large'\n",
    ")"
   ]
  },
  {
   "cell_type": "markdown",
   "metadata": {},
   "source": [
    "Rank authors by the number of publications:"
   ]
  },
  {
   "cell_type": "code",
   "execution_count": null,
   "metadata": {},
   "outputs": [],
   "source": [
    "authors.sort_values('weight', ascending=False)[:20]"
   ]
  },
  {
   "cell_type": "code",
   "execution_count": null,
   "metadata": {},
   "outputs": [],
   "source": []
  }
 ],
 "metadata": {
  "kernelspec": {
   "display_name": "Python 3",
   "language": "python",
   "name": "python3"
  },
  "language_info": {
   "codemirror_mode": {
    "name": "ipython",
    "version": 3
   },
   "file_extension": ".py",
   "mimetype": "text/x-python",
   "name": "python",
   "nbconvert_exporter": "python",
   "pygments_lexer": "ipython3",
   "version": "3.8.3"
  }
 },
 "nbformat": 4,
 "nbformat_minor": 2
}
