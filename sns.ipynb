{
 "cells": [
  {
   "cell_type": "markdown",
   "metadata": {},
   "source": [
    "[Home](index.ipynb) > [Notebooks](notebooks.ipynb) > Social Network Science"
   ]
  },
  {
   "cell_type": "markdown",
   "metadata": {},
   "source": [
    "<img style='float: left;' src='https://www.gesis.org/typo3conf/ext/gesis_web_ext/Resources/Public/webpack/dist/img/logo_gesis_en.svg' width='150'>"
   ]
  },
  {
   "cell_type": "markdown",
   "metadata": {},
   "source": [
    "### ``compsoc`` – Computational Social Methods in Python"
   ]
  },
  {
   "cell_type": "markdown",
   "metadata": {},
   "source": [
    "# Social Network Science (1916-2012): Collaboration and language use in a research domain\n",
    "\n",
    "**Author**: [Haiko Lietz](https://www.gesis.org/person/haiko.lietz)\n",
    "\n",
    "**Affiliation**: [GESIS - Leibniz Institute for the Social Sciences](https://www.gesis.org/), Cologne, Germany\n",
    "\n",
    "**Publication date**: XX.XX.XXXX (version 1.0)"
   ]
  },
  {
   "cell_type": "markdown",
   "metadata": {},
   "source": [
    "***"
   ]
  },
  {
   "cell_type": "markdown",
   "metadata": {},
   "source": [
    "## Introduction\n",
    "\n",
    "Bibliographic data is digital behavioral data in the broader sense because it represents records of events, and it is voluminous, dynamic, and rich. The networks that can are typically constructed from it are co-authorship, citation, and word co-occurrence.\n",
    "\n",
    "**In this notebook**, the Social Network Science collection is introduced. It has been carefully retrieved from the Web of Science for the purpose of studying its historical socio-cultural evolution ([Lietz, 2020](https://doi.org/10.1007/s11192-020-03527-0)). Except for citations, data is publically available under a CreativeCommons license ([Lietz, 2019](https://doi.org/10.7802/1.1954)). The dataset is normalized and fully compatible with `compsoc`'s routines."
   ]
  },
  {
   "cell_type": "markdown",
   "metadata": {},
   "source": [
    "## Dependencies and Settings"
   ]
  },
  {
   "cell_type": "code",
   "execution_count": 1,
   "metadata": {},
   "outputs": [],
   "source": [
    "import compsoc as cs\n",
    "import graph_tool.all as gt\n",
    "import os\n",
    "import pandas as pd"
   ]
  },
  {
   "cell_type": "code",
   "execution_count": 2,
   "metadata": {},
   "outputs": [],
   "source": [
    "path = 'data/sns/'"
   ]
  },
  {
   "cell_type": "markdown",
   "metadata": {},
   "source": [
    "## Unified data structure"
   ]
  },
  {
   "cell_type": "code",
   "execution_count": 3,
   "metadata": {},
   "outputs": [],
   "source": [
    "publications = pd.read_csv(os.path.join(path, 'publications.txt'), sep='\\t')\n",
    "subfields = pd.read_csv(os.path.join(path, 'subfields.txt'), sep='\\t')\n",
    "authors = pd.read_csv(os.path.join(path, 'authors.txt'), sep='\\t')\n",
    "authorships = pd.read_csv(os.path.join(path, 'authorships.txt'), sep='\\t')\n",
    "words = pd.read_csv(os.path.join(path, 'words.txt'), sep='\\t')\n",
    "usages = pd.read_csv(os.path.join(path, 'usages.txt'), sep='\\t')"
   ]
  },
  {
   "cell_type": "markdown",
   "metadata": {},
   "source": [
    "The Dataset is fully normalized. Tables with primary keys contain entities. Their relationships are specified in tables that merely consist of foreign keys."
   ]
  },
  {
   "cell_type": "markdown",
   "metadata": {},
   "source": [
    "|<img src='images/data_model_sns.png' style='float: none; width: 640px'>|\n",
    "|:--|\n",
    "|<em style='float: center'>**Figure 1**: Entity-relationship model for the Social Network Science collection</em>|"
   ]
  },
  {
   "cell_type": "markdown",
   "metadata": {},
   "source": [
    "Publications are the elementary events of communication:"
   ]
  },
  {
   "cell_type": "code",
   "execution_count": 4,
   "metadata": {},
   "outputs": [
    {
     "data": {
      "text/html": [
       "<div>\n",
       "<style scoped>\n",
       "    .dataframe tbody tr th:only-of-type {\n",
       "        vertical-align: middle;\n",
       "    }\n",
       "\n",
       "    .dataframe tbody tr th {\n",
       "        vertical-align: top;\n",
       "    }\n",
       "\n",
       "    .dataframe thead th {\n",
       "        text-align: right;\n",
       "    }\n",
       "</style>\n",
       "<table border=\"1\" class=\"dataframe\">\n",
       "  <thead>\n",
       "    <tr style=\"text-align: right;\">\n",
       "      <th></th>\n",
       "      <th>publication_id</th>\n",
       "      <th>publication</th>\n",
       "      <th>time</th>\n",
       "      <th>type</th>\n",
       "      <th>subfield_id</th>\n",
       "    </tr>\n",
       "  </thead>\n",
       "  <tbody>\n",
       "    <tr>\n",
       "      <th>0</th>\n",
       "      <td>0</td>\n",
       "      <td>HANIFAN_1916_A_130</td>\n",
       "      <td>1916</td>\n",
       "      <td>ARTICLE</td>\n",
       "      <td>0</td>\n",
       "    </tr>\n",
       "    <tr>\n",
       "      <th>1</th>\n",
       "      <td>1</td>\n",
       "      <td>YULE_1925_P_21</td>\n",
       "      <td>1925</td>\n",
       "      <td>ARTICLE</td>\n",
       "      <td>1</td>\n",
       "    </tr>\n",
       "    <tr>\n",
       "      <th>2</th>\n",
       "      <td>2</td>\n",
       "      <td>KERMACK_1927_P_700</td>\n",
       "      <td>1927</td>\n",
       "      <td>ARTICLE</td>\n",
       "      <td>1</td>\n",
       "    </tr>\n",
       "    <tr>\n",
       "      <th>3</th>\n",
       "      <td>3</td>\n",
       "      <td>ECKART_1936_P_211</td>\n",
       "      <td>1936</td>\n",
       "      <td>ARTICLE</td>\n",
       "      <td>2</td>\n",
       "    </tr>\n",
       "    <tr>\n",
       "      <th>4</th>\n",
       "      <td>4</td>\n",
       "      <td>COASE_1937_E_386</td>\n",
       "      <td>1937</td>\n",
       "      <td>ARTICLE</td>\n",
       "      <td>1</td>\n",
       "    </tr>\n",
       "  </tbody>\n",
       "</table>\n",
       "</div>"
      ],
      "text/plain": [
       "   publication_id         publication  time     type  subfield_id\n",
       "0               0  HANIFAN_1916_A_130  1916  ARTICLE            0\n",
       "1               1      YULE_1925_P_21  1925  ARTICLE            1\n",
       "2               2  KERMACK_1927_P_700  1927  ARTICLE            1\n",
       "3               3   ECKART_1936_P_211  1936  ARTICLE            2\n",
       "4               4    COASE_1937_E_386  1937  ARTICLE            1"
      ]
     },
     "execution_count": 4,
     "metadata": {},
     "output_type": "execute_result"
    }
   ],
   "source": [
    "publications.head()"
   ]
  },
  {
   "cell_type": "markdown",
   "metadata": {},
   "source": [
    "They contain important variables like the year the publication was produced or the subfield the publication belongs to. There are five subfields inferred from community detection:"
   ]
  },
  {
   "cell_type": "code",
   "execution_count": 5,
   "metadata": {},
   "outputs": [
    {
     "data": {
      "text/html": [
       "<div>\n",
       "<style scoped>\n",
       "    .dataframe tbody tr th:only-of-type {\n",
       "        vertical-align: middle;\n",
       "    }\n",
       "\n",
       "    .dataframe tbody tr th {\n",
       "        vertical-align: top;\n",
       "    }\n",
       "\n",
       "    .dataframe thead th {\n",
       "        text-align: right;\n",
       "    }\n",
       "</style>\n",
       "<table border=\"1\" class=\"dataframe\">\n",
       "  <thead>\n",
       "    <tr style=\"text-align: right;\">\n",
       "      <th></th>\n",
       "      <th>subfield_id</th>\n",
       "      <th>subfield</th>\n",
       "      <th>subfield_name</th>\n",
       "    </tr>\n",
       "  </thead>\n",
       "  <tbody>\n",
       "    <tr>\n",
       "      <th>0</th>\n",
       "      <td>0</td>\n",
       "      <td>CSS</td>\n",
       "      <td>Computational Social Science</td>\n",
       "    </tr>\n",
       "    <tr>\n",
       "      <th>1</th>\n",
       "      <td>1</td>\n",
       "      <td>ES</td>\n",
       "      <td>Economic Sociology</td>\n",
       "    </tr>\n",
       "    <tr>\n",
       "      <th>2</th>\n",
       "      <td>2</td>\n",
       "      <td>NS</td>\n",
       "      <td>Network Science</td>\n",
       "    </tr>\n",
       "    <tr>\n",
       "      <th>3</th>\n",
       "      <td>3</td>\n",
       "      <td>SNA</td>\n",
       "      <td>Social Network Analysis</td>\n",
       "    </tr>\n",
       "    <tr>\n",
       "      <th>4</th>\n",
       "      <td>4</td>\n",
       "      <td>SPE</td>\n",
       "      <td>Social Psychology &amp; Epidemiology</td>\n",
       "    </tr>\n",
       "  </tbody>\n",
       "</table>\n",
       "</div>"
      ],
      "text/plain": [
       "   subfield_id subfield                     subfield_name\n",
       "0            0      CSS      Computational Social Science\n",
       "1            1       ES                Economic Sociology\n",
       "2            2       NS                   Network Science\n",
       "3            3      SNA           Social Network Analysis\n",
       "4            4      SPE  Social Psychology & Epidemiology"
      ]
     },
     "execution_count": 5,
     "metadata": {},
     "output_type": "execute_result"
    }
   ],
   "source": [
    "subfields.head()"
   ]
  },
  {
   "cell_type": "markdown",
   "metadata": {},
   "source": [
    "### Authorship\n",
    "\n",
    "Publications are authored by authors. Authors are the senders of communications to an unspecified set of receivers. The `authors` entity table is a mere list of which author has which identifier, where the identifier is an integer between $0$ and $N-1$ where $N$ is the number of authors."
   ]
  },
  {
   "cell_type": "code",
   "execution_count": 6,
   "metadata": {},
   "outputs": [
    {
     "data": {
      "text/html": [
       "<div>\n",
       "<style scoped>\n",
       "    .dataframe tbody tr th:only-of-type {\n",
       "        vertical-align: middle;\n",
       "    }\n",
       "\n",
       "    .dataframe tbody tr th {\n",
       "        vertical-align: top;\n",
       "    }\n",
       "\n",
       "    .dataframe thead th {\n",
       "        text-align: right;\n",
       "    }\n",
       "</style>\n",
       "<table border=\"1\" class=\"dataframe\">\n",
       "  <thead>\n",
       "    <tr style=\"text-align: right;\">\n",
       "      <th></th>\n",
       "      <th>author_id</th>\n",
       "      <th>author</th>\n",
       "    </tr>\n",
       "  </thead>\n",
       "  <tbody>\n",
       "    <tr>\n",
       "      <th>0</th>\n",
       "      <td>0</td>\n",
       "      <td>HANIFAN,_L_J</td>\n",
       "    </tr>\n",
       "    <tr>\n",
       "      <th>1</th>\n",
       "      <td>1</td>\n",
       "      <td>YULE,_G_U</td>\n",
       "    </tr>\n",
       "    <tr>\n",
       "      <th>2</th>\n",
       "      <td>2</td>\n",
       "      <td>KERMACK,_W_O</td>\n",
       "    </tr>\n",
       "    <tr>\n",
       "      <th>3</th>\n",
       "      <td>3</td>\n",
       "      <td>MCKENDRICK,_A_G</td>\n",
       "    </tr>\n",
       "    <tr>\n",
       "      <th>4</th>\n",
       "      <td>4</td>\n",
       "      <td>ECKART,_CARL</td>\n",
       "    </tr>\n",
       "  </tbody>\n",
       "</table>\n",
       "</div>"
      ],
      "text/plain": [
       "   author_id           author\n",
       "0          0     HANIFAN,_L_J\n",
       "1          1        YULE,_G_U\n",
       "2          2     KERMACK,_W_O\n",
       "3          3  MCKENDRICK,_A_G\n",
       "4          4     ECKART,_CARL"
      ]
     },
     "execution_count": 6,
     "metadata": {},
     "output_type": "execute_result"
    }
   ],
   "source": [
    "authors.head()"
   ]
  },
  {
   "cell_type": "markdown",
   "metadata": {},
   "source": [
    "The information which publication is actually authored by which author is stored in the `authorships` relationship table. The beauty of these tables is that they can directly be used as bipartite edge lists for construction co-occurrence networks:"
   ]
  },
  {
   "cell_type": "code",
   "execution_count": 7,
   "metadata": {},
   "outputs": [
    {
     "data": {
      "text/html": [
       "<div>\n",
       "<style scoped>\n",
       "    .dataframe tbody tr th:only-of-type {\n",
       "        vertical-align: middle;\n",
       "    }\n",
       "\n",
       "    .dataframe tbody tr th {\n",
       "        vertical-align: top;\n",
       "    }\n",
       "\n",
       "    .dataframe thead th {\n",
       "        text-align: right;\n",
       "    }\n",
       "</style>\n",
       "<table border=\"1\" class=\"dataframe\">\n",
       "  <thead>\n",
       "    <tr style=\"text-align: right;\">\n",
       "      <th></th>\n",
       "      <th>publication_id</th>\n",
       "      <th>author_id</th>\n",
       "    </tr>\n",
       "  </thead>\n",
       "  <tbody>\n",
       "    <tr>\n",
       "      <th>0</th>\n",
       "      <td>0</td>\n",
       "      <td>0</td>\n",
       "    </tr>\n",
       "    <tr>\n",
       "      <th>1</th>\n",
       "      <td>1</td>\n",
       "      <td>1</td>\n",
       "    </tr>\n",
       "    <tr>\n",
       "      <th>2</th>\n",
       "      <td>2</td>\n",
       "      <td>2</td>\n",
       "    </tr>\n",
       "    <tr>\n",
       "      <th>3</th>\n",
       "      <td>2</td>\n",
       "      <td>3</td>\n",
       "    </tr>\n",
       "    <tr>\n",
       "      <th>4</th>\n",
       "      <td>3</td>\n",
       "      <td>4</td>\n",
       "    </tr>\n",
       "  </tbody>\n",
       "</table>\n",
       "</div>"
      ],
      "text/plain": [
       "   publication_id  author_id\n",
       "0               0          0\n",
       "1               1          1\n",
       "2               2          2\n",
       "3               2          3\n",
       "4               3          4"
      ]
     },
     "execution_count": 7,
     "metadata": {},
     "output_type": "execute_result"
    }
   ],
   "source": [
    "authorships.head()"
   ]
  },
  {
   "cell_type": "markdown",
   "metadata": {},
   "source": [
    "Authorship information can be used to study the social dimension of socio-cultural structures and dynamics."
   ]
  },
  {
   "cell_type": "markdown",
   "metadata": {},
   "source": [
    "### Word usage\n",
    "\n",
    "Publications, that is, the authors of them, also use words. These can be $n$-grams, linguistic concepts that consist of $n$ tokens ('RURAL_SCHOOL' is a 2-gram):"
   ]
  },
  {
   "cell_type": "code",
   "execution_count": 8,
   "metadata": {},
   "outputs": [
    {
     "data": {
      "text/html": [
       "<div>\n",
       "<style scoped>\n",
       "    .dataframe tbody tr th:only-of-type {\n",
       "        vertical-align: middle;\n",
       "    }\n",
       "\n",
       "    .dataframe tbody tr th {\n",
       "        vertical-align: top;\n",
       "    }\n",
       "\n",
       "    .dataframe thead th {\n",
       "        text-align: right;\n",
       "    }\n",
       "</style>\n",
       "<table border=\"1\" class=\"dataframe\">\n",
       "  <thead>\n",
       "    <tr style=\"text-align: right;\">\n",
       "      <th></th>\n",
       "      <th>word_id</th>\n",
       "      <th>word</th>\n",
       "    </tr>\n",
       "  </thead>\n",
       "  <tbody>\n",
       "    <tr>\n",
       "      <th>0</th>\n",
       "      <td>0</td>\n",
       "      <td>COMMUNITY</td>\n",
       "    </tr>\n",
       "    <tr>\n",
       "      <th>1</th>\n",
       "      <td>1</td>\n",
       "      <td>RURAL_SCHOOL</td>\n",
       "    </tr>\n",
       "    <tr>\n",
       "      <th>2</th>\n",
       "      <td>2</td>\n",
       "      <td>WAY_OF_LIFE</td>\n",
       "    </tr>\n",
       "    <tr>\n",
       "      <th>3</th>\n",
       "      <td>3</td>\n",
       "      <td>GROUP_STRUCTURE</td>\n",
       "    </tr>\n",
       "    <tr>\n",
       "      <th>4</th>\n",
       "      <td>4</td>\n",
       "      <td>THEORY_OF_COMMUNICATION</td>\n",
       "    </tr>\n",
       "  </tbody>\n",
       "</table>\n",
       "</div>"
      ],
      "text/plain": [
       "   word_id                     word\n",
       "0        0                COMMUNITY\n",
       "1        1             RURAL_SCHOOL\n",
       "2        2              WAY_OF_LIFE\n",
       "3        3          GROUP_STRUCTURE\n",
       "4        4  THEORY_OF_COMMUNICATION"
      ]
     },
     "execution_count": 8,
     "metadata": {},
     "output_type": "execute_result"
    }
   ],
   "source": [
    "words.head()"
   ]
  },
  {
   "cell_type": "markdown",
   "metadata": {},
   "source": [
    "The `usages` table tells which publication uses which word:"
   ]
  },
  {
   "cell_type": "code",
   "execution_count": 9,
   "metadata": {},
   "outputs": [
    {
     "data": {
      "text/html": [
       "<div>\n",
       "<style scoped>\n",
       "    .dataframe tbody tr th:only-of-type {\n",
       "        vertical-align: middle;\n",
       "    }\n",
       "\n",
       "    .dataframe tbody tr th {\n",
       "        vertical-align: top;\n",
       "    }\n",
       "\n",
       "    .dataframe thead th {\n",
       "        text-align: right;\n",
       "    }\n",
       "</style>\n",
       "<table border=\"1\" class=\"dataframe\">\n",
       "  <thead>\n",
       "    <tr style=\"text-align: right;\">\n",
       "      <th></th>\n",
       "      <th>publication_id</th>\n",
       "      <th>word_id</th>\n",
       "    </tr>\n",
       "  </thead>\n",
       "  <tbody>\n",
       "    <tr>\n",
       "      <th>0</th>\n",
       "      <td>0</td>\n",
       "      <td>0</td>\n",
       "    </tr>\n",
       "    <tr>\n",
       "      <th>1</th>\n",
       "      <td>0</td>\n",
       "      <td>1</td>\n",
       "    </tr>\n",
       "    <tr>\n",
       "      <th>2</th>\n",
       "      <td>7</td>\n",
       "      <td>2</td>\n",
       "    </tr>\n",
       "    <tr>\n",
       "      <th>3</th>\n",
       "      <td>8</td>\n",
       "      <td>0</td>\n",
       "    </tr>\n",
       "    <tr>\n",
       "      <th>4</th>\n",
       "      <td>12</td>\n",
       "      <td>3</td>\n",
       "    </tr>\n",
       "  </tbody>\n",
       "</table>\n",
       "</div>"
      ],
      "text/plain": [
       "   publication_id  word_id\n",
       "0               0        0\n",
       "1               0        1\n",
       "2               7        2\n",
       "3               8        0\n",
       "4              12        3"
      ]
     },
     "execution_count": 9,
     "metadata": {},
     "output_type": "execute_result"
    }
   ],
   "source": [
    "usages.head()"
   ]
  },
  {
   "cell_type": "markdown",
   "metadata": {},
   "source": [
    "Linguistic information can be used to study the cultural dimension of socio-cultural structures and dynamics.\n",
    "\n",
    "Unfortunately, the `references` and `citations` tables cannot be shared."
   ]
  },
  {
   "cell_type": "markdown",
   "metadata": {},
   "source": [
    "## Function\n",
    "This function loads all data in one step:"
   ]
  },
  {
   "cell_type": "code",
   "execution_count": 10,
   "metadata": {},
   "outputs": [],
   "source": [
    "def sns_collection(\n",
    "    path = 'data/sns/'\n",
    "):\n",
    "    '''\n",
    "    Description: Loads the normalized Social Network Science data collection.\n",
    "    \n",
    "    Input:\n",
    "        path: relative directory where the data is; set to 'data/sns/' by default.\n",
    "    \n",
    "    Output: Six dataframes in this order: publications, subfields, authors, authorships, \n",
    "        words, usages\n",
    "    '''\n",
    "    import os\n",
    "    import pandas as pd\n",
    "    \n",
    "    publications = pd.read_csv(os.path.join(path, 'publications.txt'), sep='\\t')\n",
    "    subfields = pd.read_csv(os.path.join(path, 'subfields.txt'), sep='\\t')\n",
    "    authors = pd.read_csv(os.path.join(path, 'authors.txt'), sep='\\t')\n",
    "    authorships = pd.read_csv(os.path.join(path, 'authorships.txt'), sep='\\t')\n",
    "    words = pd.read_csv(os.path.join(path, 'words.txt'), sep='\\t')\n",
    "    usages = pd.read_csv(os.path.join(path, 'usages.txt'), sep='\\t')\n",
    "    \n",
    "    return publications, subfields, authors, authorships, words, usages"
   ]
  },
  {
   "cell_type": "markdown",
   "metadata": {},
   "source": [
    "## Data exploration\n",
    "\n",
    "Apply the function:"
   ]
  },
  {
   "cell_type": "code",
   "execution_count": 11,
   "metadata": {},
   "outputs": [],
   "source": [
    "publications, subfields, authors, authorships, words, usages = cs.sns_collection()"
   ]
  },
  {
   "cell_type": "markdown",
   "metadata": {},
   "source": [
    "These are the ten most productive authors:"
   ]
  },
  {
   "cell_type": "code",
   "execution_count": 21,
   "metadata": {},
   "outputs": [
    {
     "data": {
      "text/plain": [
       "author\n",
       "LATKIN,_CARL            74\n",
       "CARLEY,_KATHLEEN        49\n",
       "BARABASI,_ALBERT        48\n",
       "NEWMAN,_M_E_J           46\n",
       "BERKMAN,_LISA           44\n",
       "VALENTE,_THOMAS         39\n",
       "KAZIENKO,_PRZEMYSLAW    38\n",
       "WELLMAN,_BARRY          38\n",
       "LEYDESDORFF,_LOET       38\n",
       "DUNBAR,_ROBIN_I_M       38\n",
       "Name: count, dtype: int64"
      ]
     },
     "execution_count": 21,
     "metadata": {},
     "output_type": "execute_result"
    }
   ],
   "source": [
    "pd.merge(left=authorships, right=authors, on='author_id').value_counts('author').head(10)"
   ]
  },
  {
   "cell_type": "markdown",
   "metadata": {},
   "source": [
    "These are the ten most used words:"
   ]
  },
  {
   "cell_type": "code",
   "execution_count": 22,
   "metadata": {},
   "outputs": [
    {
     "data": {
      "text/plain": [
       "word\n",
       "COMMUNITY                  3091\n",
       "USER                       2806\n",
       "SOCIAL_NETWORK_ANALYSIS    2239\n",
       "SOCIAL_CAPITAL             1681\n",
       "FRIEND                     1598\n",
       "SOCIAL_SUPPORT             1452\n",
       "INTERNET                   1310\n",
       "OPPORTUNITY                1185\n",
       "TRUST                      1170\n",
       "WEB                         993\n",
       "Name: count, dtype: int64"
      ]
     },
     "execution_count": 22,
     "metadata": {},
     "output_type": "execute_result"
    }
   ],
   "source": [
    "pd.merge(left=usages, right=words, on='word_id').value_counts('word').head(10)"
   ]
  },
  {
   "cell_type": "markdown",
   "metadata": {},
   "source": [
    "***"
   ]
  },
  {
   "cell_type": "markdown",
   "metadata": {},
   "source": [
    "## About this notebook\n",
    "\n",
    "**License**: CC BY 4.0. Distribute, remix, adapt, and build upon ``compsoc``, even commercially, as long as you credit us for the original creation.\n",
    "\n",
    "**Suggested citation**: Lietz, H. (2025). Social Network Science (1916-2012): Collaboration and language use in a research domain. Version 1.0 (XX.XX.XXXX). *compsoc – Computational Social Methods in Python*. Cologne: GESIS – Leibniz Institute for the Social Sciences. https://github.com/gesiscss/compsoc"
   ]
  }
 ],
 "metadata": {
  "kernelspec": {
   "display_name": "compsoc",
   "language": "python",
   "name": "compsoc"
  },
  "language_info": {
   "codemirror_mode": {
    "name": "ipython",
    "version": 3
   },
   "file_extension": ".py",
   "mimetype": "text/x-python",
   "name": "python",
   "nbconvert_exporter": "python",
   "pygments_lexer": "ipython3",
   "version": "3.11.5"
  }
 },
 "nbformat": 4,
 "nbformat_minor": 4
}
