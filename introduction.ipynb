{
 "cells": [
  {
   "cell_type": "markdown",
   "metadata": {},
   "source": [
    "[Home](index.ipynb) > [Notebooks](notebooks.ipynb) > Introduction"
   ]
  },
  {
   "cell_type": "markdown",
   "metadata": {},
   "source": [
    "<img style='float: left;' src='https://www.gesis.org/fileadmin/styles/img/gs_home_logo_en.svg'>"
   ]
  },
  {
   "cell_type": "markdown",
   "metadata": {},
   "source": [
    "# ``compsoc`` – *Notebooks for Computational Sociology* (alpha)"
   ]
  },
  {
   "cell_type": "markdown",
   "metadata": {},
   "source": [
    "[Notebooks](notebooks.ipynb) | [Infrastructure](infrastructure.ipynb) | [People](people.ipynb)"
   ]
  },
  {
   "cell_type": "markdown",
   "metadata": {},
   "source": [
    "***"
   ]
  },
  {
   "cell_type": "markdown",
   "metadata": {},
   "source": [
    "## Introduction\n",
    "\n",
    "For a long time, the social sciences, and sociology in particular, have been relying upon the person as the central unit of observation and the survey as the central data collection method. This approach enables a kind of research that we may call **individual analytics**. By asking a representative sample of a population about their **attitudes and attributes** XXX MOTIVES XXX, we can gain insights about average properties of the population.\n",
    "\n",
    "With digitalization, this supremacy of the representativity paradigm is coming to an end (Salganik, 2017). Social life is increasingly leaving digital traces that are increasingly leveraged for social research. \"[W]e have finally found our telescope,\" writes computational sociologist Duncan Watts (2011, p.266). This telescope is the simultaneous availability of digital behavioral data and the computational methods to analyze it. By **digital behavioral data** we understand traces of behavior left by uses of, or harnessed by, digital technology. These traces can be accounts of, e.g., the persons we meet in institutionalized environments, the citations we make in our daily academic work, or the hashtags we use in social media. It is the goal of the ``compsoc`` toolkit to lower the hurdles of using our new telescope for a new kind of social research."
   ]
  },
  {
   "cell_type": "markdown",
   "metadata": {},
   "source": [
    "|<img src='images/analytics.png' style='float: none; width: 460px'>|\n",
    "|:--|\n",
    "|<em style='float: center'>**Figure 1**: Digital behavioral data as transactions and the kinds of analytics associated with it</em>|"
   ]
  },
  {
   "cell_type": "markdown",
   "metadata": {},
   "source": [
    "Using digital behavioral data means transcending the person as the central unit of observation. Digital traces are **transactions**, i.e., pieces of communication. A *trans*action has two dimensions. In the social dimension, it is a **social relation** between the sender and one or many receivers of a communication. In the cultural dimension, it is a **story**, i.e., the content of the communication. Transactions are units of microbehavior that can directly be observed as digital behavioral data (figure 1). They are of a completely different kind than the *inter*actions among the variables obtained from surveys. And as explicit measurements of behavior, they allow new insights into the causes of human behavior very different from the *self*actions ascribed to rationally behaving individuals (Emirbayer, 1997).\n",
    "\n",
    "These new insights into human behavior derive from the fact that transactions resemble the building blocks of socio-cultural systems. By a **system** we understand something that exhibits a behavior which is more complex than the behavior of its parts (Holland, 1998). Digital behavioral data is often complete in the sense that it comprises all the transactions –– all the parts –– of a system. Regarding systems, think of an institutionalized enviroment like a university, an academic field, or a social media platform. Systems exhibit a macrobehavior that is not encoded in the micromotives of the identities making transactions (Schelling, 2006 [1978]). The phenomenon that a system's macrostate is \"more\" than the sum of its parts but comes into existence from transactions among the parts is known as **emergence** (Anderson, 1972) and has always been one of sociology's most fundamental concepts (Sawyer, 2005). Emergence is intimately connected to the concept of **pattern**, that is, an emergent regularity that yields some kind of behavioral predictability (Holland, 1998).\n",
    "\n",
    "Emergent patterns of macrobehavior are easy to measure with digital behavioral data. They can take the form of groups in social networks, a nontrivial distribution of how many citations a reference gets, or a structured cloud of hashtags. Such patterns self-organize, i.e., emergence is an endogenous process (Cederman, 2005). But this is not all they do. Macrobehavior is **functional** in that it sets expectations for the future microbehavior of the system parts (Page, 2015). This is why digital behavioral data is catalyzing new social research into human behavior. The telescope allows us to study \"culture's causal role in shaping action\" (Swidler, 1986)."
   ]
  },
  {
   "cell_type": "markdown",
   "metadata": {},
   "source": [
    "### Rich data: Bringing it all together\n",
    "\n",
    "Scholars in Social Network Analysis have been doing a relational **social analytics** for decades with great success (Freeman, 2004). Network data is a form of behavioral data when it is collected in unobtrusive observation. But the field had also drawn criticism for neglecting the cultural dimension of transactions. Language is a window into culture (Carley, 1994), and **cultural analytics** in the sense of content analyses of transactions had long been practiced apart from Social Network Analysis. Since the so-called cultural turn, however, relational sociology is well equipped to study the duality of connectivity and culture (White, 2008) and is, therefore, well positioned to contributing to digital behavioral research.\n",
    "\n",
    "That said, digital behavioral data is not the magic bullet that solves all problems in the social sciences. It is certainly a formidable source of unobtrusive behavioral observations at high spatial and temporal resolution. But typically it resembles traces of behavior in a particular domain of life, e.g., in academia or a social media platform. As such it does not allow inferences about persons but about aspects of personal life (XXX). Survey data, on the other hand, while it is only indicative of reported behavior, does inform about the attitudes and attributes of persons. The two data types **complement** each other."
   ]
  },
  {
   "cell_type": "markdown",
   "metadata": {},
   "source": [
    "|<img src='images/elite_families.jpg' style='float: none; width: 640px'>|\n",
    "|:--|\n",
    "|<em style='float: center'>**Figure 2**: Network of elite families in Renaissance Florence according to Padgett \\& Ansell (1993)</em>|"
   ]
  },
  {
   "cell_type": "markdown",
   "metadata": {},
   "source": [
    "One of the biggest opportunities in computational sociology is to study **rich data** that consists of social relations in multiple domains of life (e.g., family, work, hobby), the content of transactions in those domains, as well as survey responses. The ideal dataset is still very hard to collect and has not been collected yet. But there are steps toward it. These are not necessarily new. The network of transactions among elite families in Renaissance Florence used to explain the \"rise of the Medici\" (figure 2) is an early example (Padgett & Ansell, 1993). The Copenhagen Networks Study has provided another rich dataset (Sapiezynski et al., 2019)."
   ]
  },
  {
   "cell_type": "markdown",
   "metadata": {},
   "source": [
    "### General model of complex socio-cultural systems"
   ]
  },
  {
   "cell_type": "markdown",
   "metadata": {},
   "source": [
    "|<img src='images/system_model.png' style='float: none; width: 400px'>|\n",
    "|:--|\n",
    "|<em style='float: center'>**Figure 3**: Model of complex socio-cultural system based on reproductive feedback mechanism</em>|"
   ]
  },
  {
   "cell_type": "markdown",
   "metadata": {},
   "source": [
    "``compsoc`` aims at fostering analytical understanding of the behavior of socio-cultural systems. To this end, the notebooks presented here make reference to a general model of complex socio-cultural systems. This model, sketched in figure 3, is formulated using the concepts of network theory. Define a **social network** as a set of nodes that are identities which are connected by a set of links that are stories. By **identities** we mean any kind of agent that is capable of spawning transactions or actively engaging into social action, e.g., persons, groups, organizations, and so on. From the sum of all transactions, patterns of macrobehavior emerge which set expectations for future microbehavior (White, 2008; Fuhse, 2009).\n",
    "\n",
    "This basic model resonates with core concepts in sociology. First, in social networks of persons, patterns at increasingly large length scales can indicate groups and organizations. That means, identity is a scale-free concept (Lietz, 2016). Groups set expectations for persons, organizations set expectations for groups and persons, and so on. By setting expectations, the higher-level identities –– those at larger length scales –– provide **meaning** (e.g., an end, purpose, or significance) for the behavior of lower-level identities. Meaning is both a necessity of trans*actions* (Weber, Wirtschaft und Gesellschaft) as well as what socio-cultural systems process (Luhmann, 1995). With digital behavioral data, we can better study meaning quantitatively, e.g., in the form of meaning structures (Mohr, xxxx). Both social and cultural networks provide meaning for microbehavior, and both are built from observations of transactions. In a crude way, the difference is that, in a **cultural network**, the stories are in the nodes and the identities are in the links (McLean, 2017).\n",
    "\n",
    "Second, the model and the things we can do with it benefit from a field theoretic perspective. A **field** is a set of positions (e.g., core and periphery) that are collectively constructed by individuals. Simultaneously, as positions are equipped with different amounts of power, the field affects the individuals by providing a space of possible habituated behavior (Bourdieu & Wacquant, 1992). **Network domain** is the equivalent concept in network theory (White, 2008). It signals the essential property that fields are relational and domain-specific systems, i.e., there are fields of cultural, economic, political, etc. production."
   ]
  },
  {
   "cell_type": "markdown",
   "metadata": {},
   "source": [
    "### Taking a mechanistic approach\n",
    "\n",
    "The model just introduced is supposed to facilitate analytical understanding of the behavior of socio-cultural systems by providing a general mechanism of social life. The **mechanistic approach** is a style of theorizing that consists of identifying the nuts and bolts that can generate, i.e., causally explain, an observed system behavior (Elster, Schelling). At the heart of our systems model is a **feedback mechanism** that is a cycle of downward causation, action formation, and emergence (Hedström & Swedberg, xxxx). **Downward causation** is cognitive in nature, a top-down hypothesis how the patterned meaning of macrobehavior (macrocognition) creates micromotives (microcognition). It is the macro-micro causal part of the feedback cycle (Flack, 2017). Action formation is psychological in nature, an hypothesis how micromotives create microbehavior. It is the micro-micro causal part of the feedback cycle. Motives do not leave explicit digital traces but can be surveyed. Hence, it is not depicted in figure 3. Emergence is collective in nature, a bottom-up hypothesis how microbehavior creates macrobehavior. The micro-macro part of the cycle is not causal because patterns emerge instantaneously (Hedström & Bearman, xxxx).\n",
    "\n",
    "Theories strongly relying on downward causation, e.g., structural functionalism (Parsons, 1937), or on emergence, e.g., methodological individualism and rational choice theory, have been criticized of an oversocialized or undersocialized, respectively, conception of human behavior (Granovetter, 1985). In the systems process, lower and higher-level identities, e.g., persons and groups, dualistically constitute each other (Breiger, 1974), and multiple mesolevels can be formed (Little, xxxx).\n",
    "\n",
    "Luhmann (1995) has made this feedback cycle the central explanation how systems reproduce themselves in self-organization. Other than Luhmann, Padgett & Powell (2012) recognize that reproductive feedback is not only informationally open but also operationally open to its environment. This is an important theoretical step because it allows the model to explain both **stability and change**. It harmonizes our sociological systems model with the complexity theoretical definition of complex adaptive systems (Holland, 1998) and leads to an understanding of continuous but open feedback processes as **social life** (Padgett & Powell, 2012). This openness is schematized in figure 3 by the input/output arrows that pierce through the system/environment boundary."
   ]
  },
  {
   "cell_type": "markdown",
   "metadata": {},
   "source": [
    "### Content of ``compsoc``\n",
    "\n",
    "Coleman's boat as special case. dynamic: Coleman is silent about time (Page). difficulty to translate model used in variable research: what are the explnanans and explanandum in network science? take example from Bearman and explain the model. mention BA model.\n",
    "\n",
    "multiplex models. persons and switching. dbd. A digital behavioral dataset is typically also domain-specific: it resembles all the transactions from one field or network domain like a university, the publication system of science, or a social media platform. Again, it becomes clear that digital behavioral data is not ... the **person** is a very complex phenomenon. A person embeds into many fields –– more complex than the group or the organization: \n",
    "\n",
    "arrive at structural individualism as digital epistemology (Hedström). explain the feedback mechanism as foundation for the ABModels. matthew effect. self-fulfilling prophecy. analytical sociology (Hedström)\n",
    "\n",
    "facilitates analysis and modeling by integrating a data model and a systems model of human behavior. \n",
    "\n",
    "Sawyer institutionalizations\n",
    "\n",
    "Padgett time scales (Palla)"
   ]
  },
  {
   "cell_type": "markdown",
   "metadata": {},
   "source": [
    "Individual, social, and cultural analytics coming together as computational sociology\n",
    "\n",
    "We've come a long way: computational sociology, relational sociology, analytical sociology, complexity theory. connectivity and emergence ... **systems paradigm**\n",
    "\n",
    "\n",
    "\n",
    "``compsoc`` provides notebooks and tools in four categories that build on top of each other. [Data collections](data_collections.ipynb) are chosen to represent a large size spectrum –– from small systems that enable quick computation and easy interpretation to large systems that allow the identification of emergent patterns. To facilitate comprehensive analyses, collections are rich in meta information. [Data transformations](data_transformation.ipynb) prepare collections for analysis and basically consist of tools for constructing different kinds of tabular and relational data objects. [Data analyses](data_analyses.ipynb) then build on these objects, focusing on tools for network analysis and fitting functions to data. NO THIS MUST GO TO THE INTROS END"
   ]
  },
  {
   "cell_type": "markdown",
   "metadata": {},
   "source": [
    "<!--bibtex\n",
    "\n",
    "@book{calicoww2:2,\n",
    "    title = {Rebuilding Calico After Japanese Occupation},\n",
    "    author = {Kepps, Milo },\n",
    "    year = {2002},\n",
    "    publisher = {Python Books}\n",
    "}\n",
    "-->\n",
    "\n",
    "Rebuilding Calico took many years [(Kepps, 2002)](#cite-calicoww2:2)."
   ]
  },
  {
   "cell_type": "markdown",
   "metadata": {},
   "source": [
    "https://jupyter.brynmawr.edu/services/public/dblank/Jupyter%20Notebook%20Users%20Manual.ipynb#5.-Bibliographic-Support\n",
    "\n",
    "http://blog.juliusschulz.de/blog/ultimate-ipython-notebook"
   ]
  },
  {
   "cell_type": "markdown",
   "metadata": {},
   "source": [
    "### References\n",
    "Salganik, M. J. (2017). *Bit by Bit: Social Research in the Digital Age*. Princeton, NJ: Princeton University Press.\n",
    "\n",
    "Watts, D. J. (2011). *Overything Is Obvious: Once You Know the Answer*. New York, NY: Crown Business.\n",
    "\n",
    "\n",
    "\n",
    "Stumpf, Michael P. H. & Porter, Mason A. (2012). Critical truths about power laws. *Science*, *335*, 665–666. doi:[10.1126/science.1216142](https://doi.org/10.1126/science.1216142)"
   ]
  },
  {
   "cell_type": "markdown",
   "metadata": {},
   "source": [
    "***"
   ]
  },
  {
   "cell_type": "markdown",
   "metadata": {},
   "source": [
    "Powered by:\n",
    "\n",
    "<img src='images/logo_gesis_notebooks.png' style='height: 50px; float: left'>\n",
    "<img src='images/logo_jupyter.png' style='height: 50px; float: left; margin-left: 40px'>\n",
    "<img src='images/logo_python.png' style='height: 50px; float: left; margin-left: 20px'>\n",
    "<img src='images/logo_pandas.png' style='height: 50px; float: left; margin-left: 20px'>"
   ]
  }
 ],
 "metadata": {
  "kernelspec": {
   "display_name": "Python 3",
   "language": "python",
   "name": "python3"
  },
  "language_info": {
   "codemirror_mode": {
    "name": "ipython",
    "version": 3
   },
   "file_extension": ".py",
   "mimetype": "text/x-python",
   "name": "python",
   "nbconvert_exporter": "python",
   "pygments_lexer": "ipython3",
   "version": "3.8.3"
  }
 },
 "nbformat": 4,
 "nbformat_minor": 2
}
