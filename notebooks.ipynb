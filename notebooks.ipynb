{
 "cells": [
  {
   "cell_type": "markdown",
   "metadata": {},
   "source": [
    "[Home](index.ipynb) > Notebooks"
   ]
  },
  {
   "cell_type": "markdown",
   "metadata": {},
   "source": [
    "<img style='float: left;' src='https://www.gesis.org/fileadmin/styles/img/gs_home_logo_en.svg'>"
   ]
  },
  {
   "cell_type": "markdown",
   "metadata": {},
   "source": [
    "# ``compsoc`` – *Notebooks for Computational Sociology* (alpha)"
   ]
  },
  {
   "cell_type": "markdown",
   "metadata": {},
   "source": [
    "Notebooks | [Infrastructure](infrastructure.ipynb) | [People](people.ipynb)"
   ]
  },
  {
   "cell_type": "markdown",
   "metadata": {},
   "source": [
    "***"
   ]
  },
  {
   "cell_type": "markdown",
   "metadata": {},
   "source": [
    "## Notebooks\n",
    "### Introduction\n",
    "The goal of the ``compsoc`` toolkit is to lower the hurdles of using digital behavioral data and computational methods for social scientists. This data is transactional in nature, i.e., it has a relational dimension and one with regards to content. To foster analytical understanding of the behavior of socio-cultural systems, notebooks make reference to a mechanistic model of transactions embedded into network domains. [Read more](introduction.ipynb)\n",
    "### 1. Data Collections\n",
    "Bla. [Read more](data_collections.ipynb)\n",
    "#### 1.1 Elite families\n",
    "Multiplex ties in Renaissance Florence. [Start notebook](elite_families.ipynb)\n",
    "#### 1.2 Social Network Science (1916-2012)\n",
    "Collaboration and language use in a scholarly field. [Start notebook](sns.ipynb)\n",
    "#### 1.3 Copenhagen Networks Study\n",
    "Multiplex interactions among more than 700 university students. [Start notebook](copenhagen.ipynb)\n",
    "### 2. Data Transformation\n",
    "Bla. [Read more](data_transformation.ipynb)\n",
    "#### 2.1 Meaning structures\n",
    "Bipartite matrix projection. [Start notebook](meaning_structures.ipynb)\n",
    "#### 2.2 Construct graph\n",
    "Build networks from standardized data. [Start notebook](construct_graph.ipynb)\n",
    "### 3. Data Analysis\n",
    "Provided tools aim at fostering analytical understanding of observed behaviors and patterns. [Read more](data_analysis.ipynb)\n",
    "#### 3.1 Draw graph\n",
    "Visualize networks with node and edge properties. [Start notebook](draw_graph.ipynb)"
   ]
  },
  {
   "cell_type": "markdown",
   "metadata": {},
   "source": [
    "***"
   ]
  },
  {
   "cell_type": "markdown",
   "metadata": {},
   "source": [
    "Powered by:\n",
    "\n",
    "<img src='images/logo_gesis_notebooks.png' style='height: 50px; float: left'>\n",
    "<img src='images/logo_jupyter.png' style='height: 50px; float: left; margin-left: 40px'>\n",
    "<img src='images/logo_python.png' style='height: 50px; float: left; margin-left: 20px'>\n",
    "<img src='images/logo_pandas.png' style='height: 50px; float: left; margin-left: 20px'>"
   ]
  }
 ],
 "metadata": {
  "kernelspec": {
   "display_name": "Python 3",
   "language": "python",
   "name": "python3"
  },
  "language_info": {
   "codemirror_mode": {
    "name": "ipython",
    "version": 3
   },
   "file_extension": ".py",
   "mimetype": "text/x-python",
   "name": "python",
   "nbconvert_exporter": "python",
   "pygments_lexer": "ipython3",
   "version": "3.8.3"
  }
 },
 "nbformat": 4,
 "nbformat_minor": 2
}
