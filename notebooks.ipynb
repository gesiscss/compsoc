{
 "cells": [
  {
   "cell_type": "markdown",
   "metadata": {},
   "source": [
    "[Home](index.ipynb) > Notebooks"
   ]
  },
  {
   "cell_type": "markdown",
   "metadata": {},
   "source": [
    "<img style='float: left;' src='https://www.gesis.org/typo3conf/ext/gesis_web_ext/Resources/Public/webpack/dist/img/logo_gesis_en.svg' width='150'>"
   ]
  },
  {
   "cell_type": "markdown",
   "metadata": {},
   "source": [
    "# ``compsoc`` – Computational Social Methods in Python"
   ]
  },
  {
   "cell_type": "markdown",
   "metadata": {},
   "source": [
    "Notebooks | [Package](package.ipynb) | [Infrastructure](infrastructure.ipynb) | [People](people.ipynb)"
   ]
  },
  {
   "cell_type": "markdown",
   "metadata": {},
   "source": [
    "***"
   ]
  },
  {
   "cell_type": "markdown",
   "metadata": {},
   "source": [
    "## Notebooks\n",
    "\n",
    "### Data Collections\n",
    "\n",
    "[Copenhagen Networks Study: Multiplex interactions among 845 university students](copenhagen.ipynb)\n",
    "\n",
    "[Social Network Science (1916-2012): Collaboration and language use in a research domain](sns.ipynb)\n",
    "\n",
    "[Web browsing: Sequential URL visits over a month](web_browsing.ipynb)\n",
    "\n",
    "### Data Processing\n",
    "\n",
    "[Projecting bipartite occurrences to co-occurrences](co_occurrence.ipynb)\n",
    "\n",
    "[Constructing networks from node and edge lists](construct_graph.ipynb)\n",
    "\n",
    "### Data Analysis\n",
    "\n",
    "..."
   ]
  },
  {
   "cell_type": "markdown",
   "metadata": {},
   "source": [
    "***"
   ]
  }
 ],
 "metadata": {
  "kernelspec": {
   "display_name": "Python 3 (ipykernel)",
   "language": "python",
   "name": "python3"
  },
  "language_info": {
   "codemirror_mode": {
    "name": "ipython",
    "version": 3
   },
   "file_extension": ".py",
   "mimetype": "text/x-python",
   "name": "python",
   "nbconvert_exporter": "python",
   "pygments_lexer": "ipython3",
   "version": "3.10.12"
  }
 },
 "nbformat": 4,
 "nbformat_minor": 4
}
