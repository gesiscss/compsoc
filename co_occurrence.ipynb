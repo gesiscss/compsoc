{
 "cells": [
  {
   "cell_type": "markdown",
   "metadata": {},
   "source": [
    "[Home](index.ipynb) > [Notebooks](notebooks.ipynb) > Co-occurrences"
   ]
  },
  {
   "cell_type": "markdown",
   "metadata": {},
   "source": [
    "<img style='float: left;' src='https://www.gesis.org/typo3conf/ext/gesis_web_ext/Resources/Public/webpack/dist/img/logo_gesis_en.svg' width='150'>"
   ]
  },
  {
   "cell_type": "markdown",
   "metadata": {},
   "source": [
    "### ``compsoc`` – Computational Social Methods in Python"
   ]
  },
  {
   "cell_type": "markdown",
   "metadata": {},
   "source": [
    "# Projecting bipartite occurrences to co-occurrences\n",
    "\n",
    "**Author**: [Haiko Lietz](https://www.gesis.org/person/haiko.lietz)\n",
    "\n",
    "**Affiliation**: [GESIS - Leibniz Institute for the Social Sciences](https://www.gesis.org/), Cologne, Germany\n",
    "\n",
    "**Publication date**: XX.XX.XXXX (version 1.0)"
   ]
  },
  {
   "cell_type": "markdown",
   "metadata": {},
   "source": [
    "***"
   ]
  },
  {
   "cell_type": "markdown",
   "metadata": {},
   "source": [
    "## Introduction\n",
    "\n",
    "Digital behavioral data is rich, which means, it offers many different ways to construct networks (e.g., persons or words as nodes). Sometimes, networks can be constructed directly from the data. Most often, this is the case when social relations are recorded, like a person calling another person. Often, things are not directly related but somehow occur in records of digital behavior, like words used in social media posts. **Occurrences** can be stored in a matrix and visualized as a bipartite network. Such a network is shown in the middle of **figure 1**. The network is bipartite because it consists of nodes of two types or modes: nodes from a set $U$ and nodes from a set $V$. The network shows how nodes from $V$ occur in nodes from $U$ and *vice versa*.\n",
    "\n",
    "In a bipartite network, nodes do not have edges to other nodes from the same set. Such edges can be created by projecting the bipartite matrix to either side. For example, in a projection to the right side, nodes from $V$ will be connected if they co-occur in nodes from $U$. The result is a **co-occurrence** network with a corresponding matrix. This way, we can obtain the information, for example, how many times \n",
    "\n",
    "|<img src='images/bipartite.png' style='float: none; width: 450px'>|\n",
    "|:--|\n",
    "|<em style='float: center'>**Figure 1**: Social relations from the Copenhagen Networks Study</em>|\n",
    "\n",
    "**In this notebook**, ..."
   ]
  },
  {
   "cell_type": "markdown",
   "metadata": {},
   "source": [
    "## Dependencies and settings"
   ]
  },
  {
   "cell_type": "code",
   "execution_count": 1,
   "metadata": {},
   "outputs": [],
   "source": [
    "import compsoc as cs\n",
    "import graph_tool.all as gt\n",
    "import numpy as np\n",
    "import pandas as pd"
   ]
  },
  {
   "cell_type": "code",
   "execution_count": 2,
   "metadata": {},
   "outputs": [],
   "source": [
    "#import warnings"
   ]
  },
  {
   "cell_type": "code",
   "execution_count": 3,
   "metadata": {},
   "outputs": [],
   "source": [
    "#warnings.filterwarnings('ignore')"
   ]
  },
  {
   "cell_type": "markdown",
   "metadata": {},
   "source": [
    "## Understanding the basic formalism\n",
    "\n",
    "### Notation\n",
    "\n",
    "Introduce example here\n",
    "\n",
    "It could also be uses or words in documents or selections of hashtags in tweets.\n",
    "\n",
    "..."
   ]
  },
  {
   "cell_type": "markdown",
   "metadata": {},
   "source": [
    "Node set $U$:"
   ]
  },
  {
   "cell_type": "code",
   "execution_count": 4,
   "metadata": {},
   "outputs": [
    {
     "data": {
      "text/html": [
       "<div>\n",
       "<style scoped>\n",
       "    .dataframe tbody tr th:only-of-type {\n",
       "        vertical-align: middle;\n",
       "    }\n",
       "\n",
       "    .dataframe tbody tr th {\n",
       "        vertical-align: top;\n",
       "    }\n",
       "\n",
       "    .dataframe thead th {\n",
       "        text-align: right;\n",
       "    }\n",
       "</style>\n",
       "<table border=\"1\" class=\"dataframe\">\n",
       "  <thead>\n",
       "    <tr style=\"text-align: right;\">\n",
       "      <th></th>\n",
       "      <th>number_id</th>\n",
       "      <th>number</th>\n",
       "    </tr>\n",
       "  </thead>\n",
       "  <tbody>\n",
       "    <tr>\n",
       "      <th>0</th>\n",
       "      <td>0</td>\n",
       "      <td>1</td>\n",
       "    </tr>\n",
       "    <tr>\n",
       "      <th>1</th>\n",
       "      <td>1</td>\n",
       "      <td>2</td>\n",
       "    </tr>\n",
       "    <tr>\n",
       "      <th>2</th>\n",
       "      <td>2</td>\n",
       "      <td>3</td>\n",
       "    </tr>\n",
       "    <tr>\n",
       "      <th>3</th>\n",
       "      <td>3</td>\n",
       "      <td>4</td>\n",
       "    </tr>\n",
       "    <tr>\n",
       "      <th>4</th>\n",
       "      <td>4</td>\n",
       "      <td>5</td>\n",
       "    </tr>\n",
       "  </tbody>\n",
       "</table>\n",
       "</div>"
      ],
      "text/plain": [
       "   number_id number\n",
       "0          0      1\n",
       "1          1      2\n",
       "2          2      3\n",
       "3          3      4\n",
       "4          4      5"
      ]
     },
     "execution_count": 4,
     "metadata": {},
     "output_type": "execute_result"
    }
   ],
   "source": [
    "numbers = [[0, '1'], [1, '2'], [2, '3'], [3, '4'], [4, '5']]\n",
    "numbers = pd.DataFrame(numbers, columns=['number_id', 'number'])\n",
    "numbers"
   ]
  },
  {
   "cell_type": "markdown",
   "metadata": {},
   "source": [
    "Node set $V$:"
   ]
  },
  {
   "cell_type": "code",
   "execution_count": 5,
   "metadata": {},
   "outputs": [
    {
     "data": {
      "text/html": [
       "<div>\n",
       "<style scoped>\n",
       "    .dataframe tbody tr th:only-of-type {\n",
       "        vertical-align: middle;\n",
       "    }\n",
       "\n",
       "    .dataframe tbody tr th {\n",
       "        vertical-align: top;\n",
       "    }\n",
       "\n",
       "    .dataframe thead th {\n",
       "        text-align: right;\n",
       "    }\n",
       "</style>\n",
       "<table border=\"1\" class=\"dataframe\">\n",
       "  <thead>\n",
       "    <tr style=\"text-align: right;\">\n",
       "      <th></th>\n",
       "      <th>letter_id</th>\n",
       "      <th>letter</th>\n",
       "    </tr>\n",
       "  </thead>\n",
       "  <tbody>\n",
       "    <tr>\n",
       "      <th>0</th>\n",
       "      <td>0</td>\n",
       "      <td>a</td>\n",
       "    </tr>\n",
       "    <tr>\n",
       "      <th>1</th>\n",
       "      <td>1</td>\n",
       "      <td>b</td>\n",
       "    </tr>\n",
       "    <tr>\n",
       "      <th>2</th>\n",
       "      <td>2</td>\n",
       "      <td>c</td>\n",
       "    </tr>\n",
       "    <tr>\n",
       "      <th>3</th>\n",
       "      <td>3</td>\n",
       "      <td>d</td>\n",
       "    </tr>\n",
       "    <tr>\n",
       "      <th>4</th>\n",
       "      <td>4</td>\n",
       "      <td>e</td>\n",
       "    </tr>\n",
       "    <tr>\n",
       "      <th>5</th>\n",
       "      <td>5</td>\n",
       "      <td>f</td>\n",
       "    </tr>\n",
       "    <tr>\n",
       "      <th>6</th>\n",
       "      <td>6</td>\n",
       "      <td>g</td>\n",
       "    </tr>\n",
       "    <tr>\n",
       "      <th>7</th>\n",
       "      <td>7</td>\n",
       "      <td>h</td>\n",
       "    </tr>\n",
       "    <tr>\n",
       "      <th>8</th>\n",
       "      <td>8</td>\n",
       "      <td>i</td>\n",
       "    </tr>\n",
       "  </tbody>\n",
       "</table>\n",
       "</div>"
      ],
      "text/plain": [
       "   letter_id letter\n",
       "0          0      a\n",
       "1          1      b\n",
       "2          2      c\n",
       "3          3      d\n",
       "4          4      e\n",
       "5          5      f\n",
       "6          6      g\n",
       "7          7      h\n",
       "8          8      i"
      ]
     },
     "execution_count": 5,
     "metadata": {},
     "output_type": "execute_result"
    }
   ],
   "source": [
    "letters = [[0, 'a'], [1, 'b'], [2, 'c'], [3, 'd'], [4, 'e'], [5, 'f'], [6, 'g'], [7, 'h'], [8, 'i']]\n",
    "letters = pd.DataFrame(letters, columns=['letter_id', 'letter'])\n",
    "letters"
   ]
  },
  {
   "cell_type": "markdown",
   "metadata": {},
   "source": [
    "Finally, there are 15 edges. Note that all nodes in $U$ are connected to a different number of nodes in $V$; ``number_id=0`` connects to five nodes in $V$ are selected; ``number_id=1`` to four nodes; etc. Each edge also has a `weight`. Here we set it to 1 to be able to discuss the properties of projected networks. But in principle, weights can be any positive numerical:"
   ]
  },
  {
   "cell_type": "code",
   "execution_count": 6,
   "metadata": {},
   "outputs": [
    {
     "data": {
      "text/html": [
       "<div>\n",
       "<style scoped>\n",
       "    .dataframe tbody tr th:only-of-type {\n",
       "        vertical-align: middle;\n",
       "    }\n",
       "\n",
       "    .dataframe tbody tr th {\n",
       "        vertical-align: top;\n",
       "    }\n",
       "\n",
       "    .dataframe thead th {\n",
       "        text-align: right;\n",
       "    }\n",
       "</style>\n",
       "<table border=\"1\" class=\"dataframe\">\n",
       "  <thead>\n",
       "    <tr style=\"text-align: right;\">\n",
       "      <th></th>\n",
       "      <th>number_id</th>\n",
       "      <th>letter_id</th>\n",
       "      <th>weight</th>\n",
       "    </tr>\n",
       "  </thead>\n",
       "  <tbody>\n",
       "    <tr>\n",
       "      <th>0</th>\n",
       "      <td>0</td>\n",
       "      <td>0</td>\n",
       "      <td>1</td>\n",
       "    </tr>\n",
       "    <tr>\n",
       "      <th>1</th>\n",
       "      <td>0</td>\n",
       "      <td>1</td>\n",
       "      <td>1</td>\n",
       "    </tr>\n",
       "    <tr>\n",
       "      <th>2</th>\n",
       "      <td>0</td>\n",
       "      <td>2</td>\n",
       "      <td>1</td>\n",
       "    </tr>\n",
       "    <tr>\n",
       "      <th>3</th>\n",
       "      <td>0</td>\n",
       "      <td>3</td>\n",
       "      <td>1</td>\n",
       "    </tr>\n",
       "    <tr>\n",
       "      <th>4</th>\n",
       "      <td>0</td>\n",
       "      <td>4</td>\n",
       "      <td>1</td>\n",
       "    </tr>\n",
       "    <tr>\n",
       "      <th>5</th>\n",
       "      <td>1</td>\n",
       "      <td>2</td>\n",
       "      <td>1</td>\n",
       "    </tr>\n",
       "    <tr>\n",
       "      <th>6</th>\n",
       "      <td>1</td>\n",
       "      <td>3</td>\n",
       "      <td>1</td>\n",
       "    </tr>\n",
       "    <tr>\n",
       "      <th>7</th>\n",
       "      <td>1</td>\n",
       "      <td>4</td>\n",
       "      <td>1</td>\n",
       "    </tr>\n",
       "    <tr>\n",
       "      <th>8</th>\n",
       "      <td>1</td>\n",
       "      <td>5</td>\n",
       "      <td>1</td>\n",
       "    </tr>\n",
       "    <tr>\n",
       "      <th>9</th>\n",
       "      <td>2</td>\n",
       "      <td>4</td>\n",
       "      <td>1</td>\n",
       "    </tr>\n",
       "    <tr>\n",
       "      <th>10</th>\n",
       "      <td>2</td>\n",
       "      <td>5</td>\n",
       "      <td>1</td>\n",
       "    </tr>\n",
       "    <tr>\n",
       "      <th>11</th>\n",
       "      <td>2</td>\n",
       "      <td>6</td>\n",
       "      <td>1</td>\n",
       "    </tr>\n",
       "    <tr>\n",
       "      <th>12</th>\n",
       "      <td>3</td>\n",
       "      <td>6</td>\n",
       "      <td>1</td>\n",
       "    </tr>\n",
       "    <tr>\n",
       "      <th>13</th>\n",
       "      <td>3</td>\n",
       "      <td>7</td>\n",
       "      <td>1</td>\n",
       "    </tr>\n",
       "    <tr>\n",
       "      <th>14</th>\n",
       "      <td>4</td>\n",
       "      <td>8</td>\n",
       "      <td>1</td>\n",
       "    </tr>\n",
       "  </tbody>\n",
       "</table>\n",
       "</div>"
      ],
      "text/plain": [
       "    number_id  letter_id  weight\n",
       "0           0          0       1\n",
       "1           0          1       1\n",
       "2           0          2       1\n",
       "3           0          3       1\n",
       "4           0          4       1\n",
       "5           1          2       1\n",
       "6           1          3       1\n",
       "7           1          4       1\n",
       "8           1          5       1\n",
       "9           2          4       1\n",
       "10          2          5       1\n",
       "11          2          6       1\n",
       "12          3          6       1\n",
       "13          3          7       1\n",
       "14          4          8       1"
      ]
     },
     "execution_count": 6,
     "metadata": {},
     "output_type": "execute_result"
    }
   ],
   "source": [
    "occurrences = [[0, 0, 1], [0, 1, 1], [0, 2, 1], [0, 3, 1], [0, 4, 1], [1, 2, 1], [1, 3, 1], [1, 4, 1], [1, 5, 1], [2, 4, 1], [2, 5, 1], [2, 6, 1], [3, 6, 1], [3, 7, 1], [4, 8, 1]]\n",
    "occurrences = pd.DataFrame(occurrences, columns=['number_id', 'letter_id', 'weight'])\n",
    "occurrences"
   ]
  },
  {
   "cell_type": "markdown",
   "metadata": {},
   "source": [
    "The ``occurrences`` dataframe is the sparse form of the **bipartite matrix** $B$ with dimensionality $m\\times n$. The bipartite matrix is an **occurrence matrix**. It is shown in the middle of figure 1.\n",
    "\n",
    "The sum of weighted occurrences or the **total occurrence** is:"
   ]
  },
  {
   "cell_type": "code",
   "execution_count": 7,
   "metadata": {},
   "outputs": [
    {
     "data": {
      "text/plain": [
       "15"
      ]
     },
     "execution_count": 7,
     "metadata": {},
     "output_type": "execute_result"
    }
   ],
   "source": [
    "occurrences['weight'].sum()"
   ]
  },
  {
   "cell_type": "markdown",
   "metadata": {},
   "source": [
    "The **occurrence** of nodes $i\\in V$ is:"
   ]
  },
  {
   "cell_type": "code",
   "execution_count": 8,
   "metadata": {},
   "outputs": [
    {
     "data": {
      "text/html": [
       "<div>\n",
       "<style scoped>\n",
       "    .dataframe tbody tr th:only-of-type {\n",
       "        vertical-align: middle;\n",
       "    }\n",
       "\n",
       "    .dataframe tbody tr th {\n",
       "        vertical-align: top;\n",
       "    }\n",
       "\n",
       "    .dataframe thead th {\n",
       "        text-align: right;\n",
       "    }\n",
       "</style>\n",
       "<table border=\"1\" class=\"dataframe\">\n",
       "  <thead>\n",
       "    <tr style=\"text-align: right;\">\n",
       "      <th></th>\n",
       "      <th>weight</th>\n",
       "    </tr>\n",
       "    <tr>\n",
       "      <th>letter_id</th>\n",
       "      <th></th>\n",
       "    </tr>\n",
       "  </thead>\n",
       "  <tbody>\n",
       "    <tr>\n",
       "      <th>0</th>\n",
       "      <td>1</td>\n",
       "    </tr>\n",
       "    <tr>\n",
       "      <th>1</th>\n",
       "      <td>1</td>\n",
       "    </tr>\n",
       "    <tr>\n",
       "      <th>2</th>\n",
       "      <td>2</td>\n",
       "    </tr>\n",
       "    <tr>\n",
       "      <th>3</th>\n",
       "      <td>2</td>\n",
       "    </tr>\n",
       "    <tr>\n",
       "      <th>4</th>\n",
       "      <td>3</td>\n",
       "    </tr>\n",
       "    <tr>\n",
       "      <th>5</th>\n",
       "      <td>2</td>\n",
       "    </tr>\n",
       "    <tr>\n",
       "      <th>6</th>\n",
       "      <td>2</td>\n",
       "    </tr>\n",
       "    <tr>\n",
       "      <th>7</th>\n",
       "      <td>1</td>\n",
       "    </tr>\n",
       "    <tr>\n",
       "      <th>8</th>\n",
       "      <td>1</td>\n",
       "    </tr>\n",
       "  </tbody>\n",
       "</table>\n",
       "</div>"
      ],
      "text/plain": [
       "           weight\n",
       "letter_id        \n",
       "0               1\n",
       "1               1\n",
       "2               2\n",
       "3               2\n",
       "4               3\n",
       "5               2\n",
       "6               2\n",
       "7               1\n",
       "8               1"
      ]
     },
     "execution_count": 8,
     "metadata": {},
     "output_type": "execute_result"
    }
   ],
   "source": [
    "occurrences[['letter_id', 'weight']].groupby('letter_id').sum()"
   ]
  },
  {
   "cell_type": "markdown",
   "metadata": {},
   "source": [
    "### Sparse matrices\n",
    "\n",
    "We use the ``scipy.sparse`` package to handle matrices. It uses different formats to store information that have advantages and drawbacks for certain tasks. First, extract three lists that contain the rows, columns, and cell information for the matrix:"
   ]
  },
  {
   "cell_type": "code",
   "execution_count": 9,
   "metadata": {},
   "outputs": [],
   "source": [
    "rows = occurrences['number_id'].tolist()\n",
    "columns = occurrences['letter_id'].tolist()\n",
    "weights = occurrences['weight'].tolist()"
   ]
  },
  {
   "cell_type": "markdown",
   "metadata": {},
   "source": [
    "Then, build the matrix. For matrix construction, the [COOrdinate](https://docs.scipy.org/doc/scipy/reference/generated/scipy.sparse.coo_matrix.html) format is intended:"
   ]
  },
  {
   "cell_type": "code",
   "execution_count": 10,
   "metadata": {},
   "outputs": [],
   "source": [
    "from scipy.sparse import coo_matrix"
   ]
  },
  {
   "cell_type": "code",
   "execution_count": 11,
   "metadata": {},
   "outputs": [],
   "source": [
    "B = coo_matrix((weights, (rows, columns)), shape=(len(numbers), len(letters)))"
   ]
  },
  {
   "cell_type": "code",
   "execution_count": 12,
   "metadata": {},
   "outputs": [
    {
     "data": {
      "text/plain": [
       "scipy.sparse._coo.coo_matrix"
      ]
     },
     "execution_count": 12,
     "metadata": {},
     "output_type": "execute_result"
    }
   ],
   "source": [
    "type(B)"
   ]
  },
  {
   "cell_type": "markdown",
   "metadata": {},
   "source": [
    "Technical summary of the matrix:"
   ]
  },
  {
   "cell_type": "code",
   "execution_count": 13,
   "metadata": {},
   "outputs": [
    {
     "data": {
      "text/plain": [
       "{'_shape': (5, 9),\n",
       " 'maxprint': 50,\n",
       " 'row': array([0, 0, 0, 0, 0, 1, 1, 1, 1, 2, 2, 2, 3, 3, 4], dtype=int32),\n",
       " 'col': array([0, 1, 2, 3, 4, 2, 3, 4, 5, 4, 5, 6, 6, 7, 8], dtype=int32),\n",
       " 'data': array([1, 1, 1, 1, 1, 1, 1, 1, 1, 1, 1, 1, 1, 1, 1]),\n",
       " 'has_canonical_format': False}"
      ]
     },
     "execution_count": 13,
     "metadata": {},
     "output_type": "execute_result"
    }
   ],
   "source": [
    "B.__dict__"
   ]
  },
  {
   "cell_type": "markdown",
   "metadata": {},
   "source": [
    "Easy-to-read summary:"
   ]
  },
  {
   "cell_type": "code",
   "execution_count": 14,
   "metadata": {},
   "outputs": [
    {
     "name": "stdout",
     "output_type": "stream",
     "text": [
      "  (0, 0)\t1\n",
      "  (0, 1)\t1\n",
      "  (0, 2)\t1\n",
      "  (0, 3)\t1\n",
      "  (0, 4)\t1\n",
      "  (1, 2)\t1\n",
      "  (1, 3)\t1\n",
      "  (1, 4)\t1\n",
      "  (1, 5)\t1\n",
      "  (2, 4)\t1\n",
      "  (2, 5)\t1\n",
      "  (2, 6)\t1\n",
      "  (3, 6)\t1\n",
      "  (3, 7)\t1\n",
      "  (4, 8)\t1\n"
     ]
    }
   ],
   "source": [
    "print(B)"
   ]
  },
  {
   "cell_type": "markdown",
   "metadata": {},
   "source": [
    "Row indices of selections can be accessed like this:"
   ]
  },
  {
   "cell_type": "code",
   "execution_count": 15,
   "metadata": {},
   "outputs": [
    {
     "data": {
      "text/plain": [
       "array([0, 0, 0, 0, 0, 1, 1, 1, 1, 2, 2, 2, 3, 3, 4], dtype=int32)"
      ]
     },
     "execution_count": 15,
     "metadata": {},
     "output_type": "execute_result"
    }
   ],
   "source": [
    "B.nonzero()[0]"
   ]
  },
  {
   "cell_type": "markdown",
   "metadata": {},
   "source": [
    "Column indices of selections can be accessed like this:"
   ]
  },
  {
   "cell_type": "code",
   "execution_count": 16,
   "metadata": {},
   "outputs": [
    {
     "data": {
      "text/plain": [
       "array([0, 1, 2, 3, 4, 2, 3, 4, 5, 4, 5, 6, 6, 7, 8], dtype=int32)"
      ]
     },
     "execution_count": 16,
     "metadata": {},
     "output_type": "execute_result"
    }
   ],
   "source": [
    "B.nonzero()[1]"
   ]
  },
  {
   "cell_type": "markdown",
   "metadata": {},
   "source": [
    "Weights of selections can be accessed like this:"
   ]
  },
  {
   "cell_type": "code",
   "execution_count": 17,
   "metadata": {},
   "outputs": [
    {
     "data": {
      "text/plain": [
       "array([1, 1, 1, 1, 1, 1, 1, 1, 1, 1, 1, 1, 1, 1, 1])"
      ]
     },
     "execution_count": 17,
     "metadata": {},
     "output_type": "execute_result"
    }
   ],
   "source": [
    "B.data"
   ]
  },
  {
   "cell_type": "markdown",
   "metadata": {},
   "source": [
    "Finally, a sparse matrix can be transformed into a dense array like this:"
   ]
  },
  {
   "cell_type": "code",
   "execution_count": 18,
   "metadata": {},
   "outputs": [
    {
     "data": {
      "text/plain": [
       "array([[1, 1, 1, 1, 1, 0, 0, 0, 0],\n",
       "       [0, 0, 1, 1, 1, 1, 0, 0, 0],\n",
       "       [0, 0, 0, 0, 1, 1, 1, 0, 0],\n",
       "       [0, 0, 0, 0, 0, 0, 1, 1, 0],\n",
       "       [0, 0, 0, 0, 0, 0, 0, 0, 1]])"
      ]
     },
     "execution_count": 18,
     "metadata": {},
     "output_type": "execute_result"
    }
   ],
   "source": [
    "B.toarray()"
   ]
  },
  {
   "cell_type": "markdown",
   "metadata": {},
   "source": [
    "And if we want a nicer design, we can plot this array as a dataframe with a multiindex:"
   ]
  },
  {
   "cell_type": "code",
   "execution_count": 19,
   "metadata": {},
   "outputs": [
    {
     "data": {
      "text/html": [
       "<div>\n",
       "<style scoped>\n",
       "    .dataframe tbody tr th:only-of-type {\n",
       "        vertical-align: middle;\n",
       "    }\n",
       "\n",
       "    .dataframe tbody tr th {\n",
       "        vertical-align: top;\n",
       "    }\n",
       "\n",
       "    .dataframe thead tr th {\n",
       "        text-align: left;\n",
       "    }\n",
       "</style>\n",
       "<table border=\"1\" class=\"dataframe\">\n",
       "  <thead>\n",
       "    <tr>\n",
       "      <th></th>\n",
       "      <th></th>\n",
       "      <th colspan=\"9\" halign=\"left\">v</th>\n",
       "    </tr>\n",
       "    <tr>\n",
       "      <th></th>\n",
       "      <th></th>\n",
       "      <th>0</th>\n",
       "      <th>1</th>\n",
       "      <th>2</th>\n",
       "      <th>3</th>\n",
       "      <th>4</th>\n",
       "      <th>5</th>\n",
       "      <th>6</th>\n",
       "      <th>7</th>\n",
       "      <th>8</th>\n",
       "    </tr>\n",
       "  </thead>\n",
       "  <tbody>\n",
       "    <tr>\n",
       "      <th rowspan=\"5\" valign=\"top\">u</th>\n",
       "      <th>0</th>\n",
       "      <td>1</td>\n",
       "      <td>1</td>\n",
       "      <td>1</td>\n",
       "      <td>1</td>\n",
       "      <td>1</td>\n",
       "      <td>0</td>\n",
       "      <td>0</td>\n",
       "      <td>0</td>\n",
       "      <td>0</td>\n",
       "    </tr>\n",
       "    <tr>\n",
       "      <th>1</th>\n",
       "      <td>0</td>\n",
       "      <td>0</td>\n",
       "      <td>1</td>\n",
       "      <td>1</td>\n",
       "      <td>1</td>\n",
       "      <td>1</td>\n",
       "      <td>0</td>\n",
       "      <td>0</td>\n",
       "      <td>0</td>\n",
       "    </tr>\n",
       "    <tr>\n",
       "      <th>2</th>\n",
       "      <td>0</td>\n",
       "      <td>0</td>\n",
       "      <td>0</td>\n",
       "      <td>0</td>\n",
       "      <td>1</td>\n",
       "      <td>1</td>\n",
       "      <td>1</td>\n",
       "      <td>0</td>\n",
       "      <td>0</td>\n",
       "    </tr>\n",
       "    <tr>\n",
       "      <th>3</th>\n",
       "      <td>0</td>\n",
       "      <td>0</td>\n",
       "      <td>0</td>\n",
       "      <td>0</td>\n",
       "      <td>0</td>\n",
       "      <td>0</td>\n",
       "      <td>1</td>\n",
       "      <td>1</td>\n",
       "      <td>0</td>\n",
       "    </tr>\n",
       "    <tr>\n",
       "      <th>4</th>\n",
       "      <td>0</td>\n",
       "      <td>0</td>\n",
       "      <td>0</td>\n",
       "      <td>0</td>\n",
       "      <td>0</td>\n",
       "      <td>0</td>\n",
       "      <td>0</td>\n",
       "      <td>0</td>\n",
       "      <td>1</td>\n",
       "    </tr>\n",
       "  </tbody>\n",
       "</table>\n",
       "</div>"
      ],
      "text/plain": [
       "     v                        \n",
       "     0  1  2  3  4  5  6  7  8\n",
       "u 0  1  1  1  1  1  0  0  0  0\n",
       "  1  0  0  1  1  1  1  0  0  0\n",
       "  2  0  0  0  0  1  1  1  0  0\n",
       "  3  0  0  0  0  0  0  1  1  0\n",
       "  4  0  0  0  0  0  0  0  0  1"
      ]
     },
     "execution_count": 19,
     "metadata": {},
     "output_type": "execute_result"
    }
   ],
   "source": [
    "pd.DataFrame(B.toarray(), index=[['u']*len(numbers.index), numbers.index], columns=[['v']*len(letters.index), letters.index])"
   ]
  },
  {
   "cell_type": "markdown",
   "metadata": {},
   "source": [
    "### Matrix normalization\n",
    "\n",
    "Consider an academic field where nodes in $U$ are **works**, nodes in $V$ are **authors**, and edges in $E$ are **authorships**. Further consider that the field is interdisciplinary: works in one discipline have 2 authors on average, and authors from another discipline have 5 authors on average. Intuitively, an author's contribution to a work is larger in the first discipline. By dividing an authorship by the number of authors of the corresponding work, this difference can be accounted for. Mathematically, this amounts to a row normalization of the bipartite matrix $B$. This way of normalizing selections has been proposed by Leydesdorff and Opthof (2010) for counting citations. Batagelj and Cerinšek (2013) have made it a pillar in their general (scientometric) matrix formalism that we use here.\n",
    "\n",
    "For fast row normalization, we first transform $B$ to the [Compressed Sparse Row](https://docs.scipy.org/doc/scipy/reference/generated/scipy.sparse.csr_matrix.html) format:"
   ]
  },
  {
   "cell_type": "code",
   "execution_count": 20,
   "metadata": {},
   "outputs": [
    {
     "data": {
      "text/plain": [
       "{'_shape': (5, 9),\n",
       " 'maxprint': 50,\n",
       " 'indices': array([0, 1, 2, 3, 4, 2, 3, 4, 5, 4, 5, 6, 6, 7, 8], dtype=int32),\n",
       " 'indptr': array([ 0,  5,  9, 12, 14, 15], dtype=int32),\n",
       " 'data': array([1, 1, 1, 1, 1, 1, 1, 1, 1, 1, 1, 1, 1, 1, 1]),\n",
       " '_has_canonical_format': True,\n",
       " '_has_sorted_indices': True}"
      ]
     },
     "execution_count": 20,
     "metadata": {},
     "output_type": "execute_result"
    }
   ],
   "source": [
    "B = B.tocsr()\n",
    "B.__dict__"
   ]
  },
  {
   "cell_type": "markdown",
   "metadata": {},
   "source": [
    "The row-normalized bipartite matrix is called $B^\\mathrm{N}$:"
   ]
  },
  {
   "cell_type": "code",
   "execution_count": 21,
   "metadata": {},
   "outputs": [],
   "source": [
    "from sklearn.preprocessing import normalize"
   ]
  },
  {
   "cell_type": "code",
   "execution_count": 22,
   "metadata": {},
   "outputs": [],
   "source": [
    "BN = normalize(B, norm='l1', axis=1)"
   ]
  },
  {
   "cell_type": "markdown",
   "metadata": {},
   "source": [
    "Display the normalized matrix:"
   ]
  },
  {
   "cell_type": "code",
   "execution_count": 23,
   "metadata": {},
   "outputs": [
    {
     "data": {
      "text/html": [
       "<div>\n",
       "<style scoped>\n",
       "    .dataframe tbody tr th:only-of-type {\n",
       "        vertical-align: middle;\n",
       "    }\n",
       "\n",
       "    .dataframe tbody tr th {\n",
       "        vertical-align: top;\n",
       "    }\n",
       "\n",
       "    .dataframe thead tr th {\n",
       "        text-align: left;\n",
       "    }\n",
       "</style>\n",
       "<table border=\"1\" class=\"dataframe\">\n",
       "  <thead>\n",
       "    <tr>\n",
       "      <th></th>\n",
       "      <th></th>\n",
       "      <th colspan=\"9\" halign=\"left\">v</th>\n",
       "    </tr>\n",
       "    <tr>\n",
       "      <th></th>\n",
       "      <th></th>\n",
       "      <th>0</th>\n",
       "      <th>1</th>\n",
       "      <th>2</th>\n",
       "      <th>3</th>\n",
       "      <th>4</th>\n",
       "      <th>5</th>\n",
       "      <th>6</th>\n",
       "      <th>7</th>\n",
       "      <th>8</th>\n",
       "    </tr>\n",
       "  </thead>\n",
       "  <tbody>\n",
       "    <tr>\n",
       "      <th rowspan=\"5\" valign=\"top\">u</th>\n",
       "      <th>0</th>\n",
       "      <td>0.2</td>\n",
       "      <td>0.2</td>\n",
       "      <td>0.20</td>\n",
       "      <td>0.20</td>\n",
       "      <td>0.200000</td>\n",
       "      <td>0.000000</td>\n",
       "      <td>0.000000</td>\n",
       "      <td>0.0</td>\n",
       "      <td>0.0</td>\n",
       "    </tr>\n",
       "    <tr>\n",
       "      <th>1</th>\n",
       "      <td>0.0</td>\n",
       "      <td>0.0</td>\n",
       "      <td>0.25</td>\n",
       "      <td>0.25</td>\n",
       "      <td>0.250000</td>\n",
       "      <td>0.250000</td>\n",
       "      <td>0.000000</td>\n",
       "      <td>0.0</td>\n",
       "      <td>0.0</td>\n",
       "    </tr>\n",
       "    <tr>\n",
       "      <th>2</th>\n",
       "      <td>0.0</td>\n",
       "      <td>0.0</td>\n",
       "      <td>0.00</td>\n",
       "      <td>0.00</td>\n",
       "      <td>0.333333</td>\n",
       "      <td>0.333333</td>\n",
       "      <td>0.333333</td>\n",
       "      <td>0.0</td>\n",
       "      <td>0.0</td>\n",
       "    </tr>\n",
       "    <tr>\n",
       "      <th>3</th>\n",
       "      <td>0.0</td>\n",
       "      <td>0.0</td>\n",
       "      <td>0.00</td>\n",
       "      <td>0.00</td>\n",
       "      <td>0.000000</td>\n",
       "      <td>0.000000</td>\n",
       "      <td>0.500000</td>\n",
       "      <td>0.5</td>\n",
       "      <td>0.0</td>\n",
       "    </tr>\n",
       "    <tr>\n",
       "      <th>4</th>\n",
       "      <td>0.0</td>\n",
       "      <td>0.0</td>\n",
       "      <td>0.00</td>\n",
       "      <td>0.00</td>\n",
       "      <td>0.000000</td>\n",
       "      <td>0.000000</td>\n",
       "      <td>0.000000</td>\n",
       "      <td>0.0</td>\n",
       "      <td>1.0</td>\n",
       "    </tr>\n",
       "  </tbody>\n",
       "</table>\n",
       "</div>"
      ],
      "text/plain": [
       "       v                                                         \n",
       "       0    1     2     3         4         5         6    7    8\n",
       "u 0  0.2  0.2  0.20  0.20  0.200000  0.000000  0.000000  0.0  0.0\n",
       "  1  0.0  0.0  0.25  0.25  0.250000  0.250000  0.000000  0.0  0.0\n",
       "  2  0.0  0.0  0.00  0.00  0.333333  0.333333  0.333333  0.0  0.0\n",
       "  3  0.0  0.0  0.00  0.00  0.000000  0.000000  0.500000  0.5  0.0\n",
       "  4  0.0  0.0  0.00  0.00  0.000000  0.000000  0.000000  0.0  1.0"
      ]
     },
     "execution_count": 23,
     "metadata": {},
     "output_type": "execute_result"
    }
   ],
   "source": [
    "pd.DataFrame(BN.toarray(), index=[['u']*len(numbers.index), numbers.index], columns=[['v']*len(letters.index), letters.index])"
   ]
  },
  {
   "cell_type": "markdown",
   "metadata": {},
   "source": [
    "## Matrix projection\n",
    "\n",
    "[Matrix multiplication](https://en.wikipedia.org/wiki/Matrix_multiplication) generally involves multiplications of the bipartite matrix with the transposed bipartite matrix which results in the cancellation of one mode of nodes. The **transposed matrix** of the bipartite matrix $B$ is called $B^\\mathrm{T}$ and has dimensionality $n\\times m$, which means, the rows (columns) of $B$ are its columns (rows). Similarly, the transpose of the normalized bipartite matrix $B^\\mathrm{N}$ is $(B^\\mathrm{N})^\\mathrm{T}$.\n",
    "\n",
    "Two projections can be obtained via matrix multiplication. When projecting $B$ to the $U$ mode, the information contained in $V$ is put into newly established edges among nodes in $U$. Similarly, when projecting $B$ to the $V$ mode, the information contained in $U$ is put into newly established edges among nodes in $V$.\n",
    "\n",
    "If no matrix normalization is used, the projection of $B$ to the $U$ mode is equal to the projection of $B^\\mathrm{T}$ to the $V$ mode. Here, we are only offering projections to the $V$ mode, some of which involve row normalizations, which have desirable mathematical properties (Batagelj and Cerinšek, 2013). Hence, it is up to the user to define the bipartite matrix $B$ in such a way that the desired projection is obtained."
   ]
  },
  {
   "cell_type": "markdown",
   "metadata": {},
   "source": [
    "### The first projection\n",
    "\n",
    "The first projection does not use matrix normalization:\n",
    "\n",
    "$G=B^\\mathrm{T}\\times B$\n",
    "\n",
    "To obtain $G$, first transpose the bipartite matrix:"
   ]
  },
  {
   "cell_type": "code",
   "execution_count": 24,
   "metadata": {},
   "outputs": [],
   "source": [
    "from scipy.sparse import csr_matrix"
   ]
  },
  {
   "cell_type": "code",
   "execution_count": 25,
   "metadata": {},
   "outputs": [],
   "source": [
    "BT = csr_matrix.transpose(B)"
   ]
  },
  {
   "cell_type": "markdown",
   "metadata": {},
   "source": [
    "Note that transposing a matrix in [Compressed Sparse Row](https://docs.scipy.org/doc/scipy/reference/generated/scipy.sparse.csr_matrix.html) format creates a matrix in [Compressed Sparse Column](https://docs.scipy.org/doc/scipy/reference/generated/scipy.sparse.csc_matrix.html) format:"
   ]
  },
  {
   "cell_type": "code",
   "execution_count": 26,
   "metadata": {},
   "outputs": [
    {
     "data": {
      "text/plain": [
       "scipy.sparse._csc.csc_matrix"
      ]
     },
     "execution_count": 26,
     "metadata": {},
     "output_type": "execute_result"
    }
   ],
   "source": [
    "type(BT)"
   ]
  },
  {
   "cell_type": "markdown",
   "metadata": {},
   "source": [
    "Then multiply the matrices to obtain the projection:"
   ]
  },
  {
   "cell_type": "code",
   "execution_count": 27,
   "metadata": {},
   "outputs": [],
   "source": [
    "G = BT * B"
   ]
  },
  {
   "cell_type": "markdown",
   "metadata": {},
   "source": [
    "The format of a projected matrix is determined by the format of the first factor:"
   ]
  },
  {
   "cell_type": "code",
   "execution_count": 28,
   "metadata": {},
   "outputs": [
    {
     "data": {
      "text/plain": [
       "scipy.sparse._csc.csc_matrix"
      ]
     },
     "execution_count": 28,
     "metadata": {},
     "output_type": "execute_result"
    }
   ],
   "source": [
    "type(G)"
   ]
  },
  {
   "cell_type": "markdown",
   "metadata": {},
   "source": [
    "To correctly access indices and weights of $G$, it must be transformed from [Compressed Sparse Column](https://docs.scipy.org/doc/scipy/reference/generated/scipy.sparse.csc_matrix.html) to [Compressed Sparse Row](https://docs.scipy.org/doc/scipy/reference/generated/scipy.sparse.csr_matrix.html) format:"
   ]
  },
  {
   "cell_type": "code",
   "execution_count": 29,
   "metadata": {},
   "outputs": [],
   "source": [
    "G = G.tocsr()"
   ]
  },
  {
   "cell_type": "markdown",
   "metadata": {},
   "source": [
    "Display $G$:"
   ]
  },
  {
   "cell_type": "code",
   "execution_count": 30,
   "metadata": {},
   "outputs": [
    {
     "data": {
      "text/html": [
       "<div>\n",
       "<style scoped>\n",
       "    .dataframe tbody tr th:only-of-type {\n",
       "        vertical-align: middle;\n",
       "    }\n",
       "\n",
       "    .dataframe tbody tr th {\n",
       "        vertical-align: top;\n",
       "    }\n",
       "\n",
       "    .dataframe thead tr th {\n",
       "        text-align: left;\n",
       "    }\n",
       "</style>\n",
       "<table border=\"1\" class=\"dataframe\">\n",
       "  <thead>\n",
       "    <tr>\n",
       "      <th></th>\n",
       "      <th></th>\n",
       "      <th colspan=\"9\" halign=\"left\">v</th>\n",
       "    </tr>\n",
       "    <tr>\n",
       "      <th></th>\n",
       "      <th></th>\n",
       "      <th>0</th>\n",
       "      <th>1</th>\n",
       "      <th>2</th>\n",
       "      <th>3</th>\n",
       "      <th>4</th>\n",
       "      <th>5</th>\n",
       "      <th>6</th>\n",
       "      <th>7</th>\n",
       "      <th>8</th>\n",
       "    </tr>\n",
       "  </thead>\n",
       "  <tbody>\n",
       "    <tr>\n",
       "      <th rowspan=\"9\" valign=\"top\">v</th>\n",
       "      <th>0</th>\n",
       "      <td>1</td>\n",
       "      <td>1</td>\n",
       "      <td>1</td>\n",
       "      <td>1</td>\n",
       "      <td>1</td>\n",
       "      <td>0</td>\n",
       "      <td>0</td>\n",
       "      <td>0</td>\n",
       "      <td>0</td>\n",
       "    </tr>\n",
       "    <tr>\n",
       "      <th>1</th>\n",
       "      <td>1</td>\n",
       "      <td>1</td>\n",
       "      <td>1</td>\n",
       "      <td>1</td>\n",
       "      <td>1</td>\n",
       "      <td>0</td>\n",
       "      <td>0</td>\n",
       "      <td>0</td>\n",
       "      <td>0</td>\n",
       "    </tr>\n",
       "    <tr>\n",
       "      <th>2</th>\n",
       "      <td>1</td>\n",
       "      <td>1</td>\n",
       "      <td>2</td>\n",
       "      <td>2</td>\n",
       "      <td>2</td>\n",
       "      <td>1</td>\n",
       "      <td>0</td>\n",
       "      <td>0</td>\n",
       "      <td>0</td>\n",
       "    </tr>\n",
       "    <tr>\n",
       "      <th>3</th>\n",
       "      <td>1</td>\n",
       "      <td>1</td>\n",
       "      <td>2</td>\n",
       "      <td>2</td>\n",
       "      <td>2</td>\n",
       "      <td>1</td>\n",
       "      <td>0</td>\n",
       "      <td>0</td>\n",
       "      <td>0</td>\n",
       "    </tr>\n",
       "    <tr>\n",
       "      <th>4</th>\n",
       "      <td>1</td>\n",
       "      <td>1</td>\n",
       "      <td>2</td>\n",
       "      <td>2</td>\n",
       "      <td>3</td>\n",
       "      <td>2</td>\n",
       "      <td>1</td>\n",
       "      <td>0</td>\n",
       "      <td>0</td>\n",
       "    </tr>\n",
       "    <tr>\n",
       "      <th>5</th>\n",
       "      <td>0</td>\n",
       "      <td>0</td>\n",
       "      <td>1</td>\n",
       "      <td>1</td>\n",
       "      <td>2</td>\n",
       "      <td>2</td>\n",
       "      <td>1</td>\n",
       "      <td>0</td>\n",
       "      <td>0</td>\n",
       "    </tr>\n",
       "    <tr>\n",
       "      <th>6</th>\n",
       "      <td>0</td>\n",
       "      <td>0</td>\n",
       "      <td>0</td>\n",
       "      <td>0</td>\n",
       "      <td>1</td>\n",
       "      <td>1</td>\n",
       "      <td>2</td>\n",
       "      <td>1</td>\n",
       "      <td>0</td>\n",
       "    </tr>\n",
       "    <tr>\n",
       "      <th>7</th>\n",
       "      <td>0</td>\n",
       "      <td>0</td>\n",
       "      <td>0</td>\n",
       "      <td>0</td>\n",
       "      <td>0</td>\n",
       "      <td>0</td>\n",
       "      <td>1</td>\n",
       "      <td>1</td>\n",
       "      <td>0</td>\n",
       "    </tr>\n",
       "    <tr>\n",
       "      <th>8</th>\n",
       "      <td>0</td>\n",
       "      <td>0</td>\n",
       "      <td>0</td>\n",
       "      <td>0</td>\n",
       "      <td>0</td>\n",
       "      <td>0</td>\n",
       "      <td>0</td>\n",
       "      <td>0</td>\n",
       "      <td>1</td>\n",
       "    </tr>\n",
       "  </tbody>\n",
       "</table>\n",
       "</div>"
      ],
      "text/plain": [
       "     v                        \n",
       "     0  1  2  3  4  5  6  7  8\n",
       "v 0  1  1  1  1  1  0  0  0  0\n",
       "  1  1  1  1  1  1  0  0  0  0\n",
       "  2  1  1  2  2  2  1  0  0  0\n",
       "  3  1  1  2  2  2  1  0  0  0\n",
       "  4  1  1  2  2  3  2  1  0  0\n",
       "  5  0  0  1  1  2  2  1  0  0\n",
       "  6  0  0  0  0  1  1  2  1  0\n",
       "  7  0  0  0  0  0  0  1  1  0\n",
       "  8  0  0  0  0  0  0  0  0  1"
      ]
     },
     "execution_count": 30,
     "metadata": {},
     "output_type": "execute_result"
    }
   ],
   "source": [
    "pd.DataFrame(G.toarray(), index=[['v']*len(letters.index), letters.index], columns=[['v']*len(letters.index), letters.index])"
   ]
  },
  {
   "cell_type": "markdown",
   "metadata": {},
   "source": [
    "$G$ is a **co-occurrence matrix** where weights $g_{ij}\\in \\mathbb{R}_{\\geq0}$ are equal to the number of times node $i$ co-occurrs with $j$. Using the authorship example given above, the weights are equal to the number of works that authors $i$ and $j$ wrote together – hence, the projected matrix is a **co-authorship matrix**.\n",
    "\n",
    "The diagonal of $G$ gives the number of times node $i$ co-occurrs with itself which is a node's occurrence as defined above. Regarding the example, the diagonal gives the number of works an author wrote in total (Batagelj and Cerinšek, 2013, pp. 850).\n",
    "\n",
    "Extract the diagonal:"
   ]
  },
  {
   "cell_type": "code",
   "execution_count": 31,
   "metadata": {},
   "outputs": [
    {
     "data": {
      "text/plain": [
       "[1, 1, 2, 2, 3, 2, 2, 1, 1]"
      ]
     },
     "execution_count": 31,
     "metadata": {},
     "output_type": "execute_result"
    }
   ],
   "source": [
    "G.diagonal().tolist()"
   ]
  },
  {
   "cell_type": "markdown",
   "metadata": {},
   "source": [
    "Since the matrix is symmetric, we can remove either triangular portion of the matrix. To remove a portion, transform the matrix into [COOrdinate](https://docs.scipy.org/doc/scipy/reference/generated/scipy.sparse.coo_matrix.html) format, ..."
   ]
  },
  {
   "cell_type": "code",
   "execution_count": 32,
   "metadata": {},
   "outputs": [],
   "source": [
    "G = G.tocoo()"
   ]
  },
  {
   "cell_type": "markdown",
   "metadata": {},
   "source": [
    "... remove the upper portion of the matrix using the ``triu()`` method (you could just as well use ``tril()`` to remove the lower portion), ..."
   ]
  },
  {
   "cell_type": "code",
   "execution_count": 33,
   "metadata": {},
   "outputs": [],
   "source": [
    "from scipy.sparse import triu"
   ]
  },
  {
   "cell_type": "code",
   "execution_count": 34,
   "metadata": {},
   "outputs": [],
   "source": [
    "G = triu(G)"
   ]
  },
  {
   "cell_type": "markdown",
   "metadata": {},
   "source": [
    "... and transform the matrix back into [Compressed Sparse Row](https://docs.scipy.org/doc/scipy/reference/generated/scipy.sparse.csr_matrix.html) format:"
   ]
  },
  {
   "cell_type": "code",
   "execution_count": 35,
   "metadata": {},
   "outputs": [],
   "source": [
    "G = G.tocsr()"
   ]
  },
  {
   "cell_type": "markdown",
   "metadata": {},
   "source": [
    "#### The second projection\n",
    "\n",
    "The second projection uses partial normalization:\n",
    "\n",
    "$G^\\mathrm{N1}=B^\\mathrm{T}\\times B^\\mathrm{N}$\n",
    "\n",
    "Construct $G^\\mathrm{N1}$, transform and display it:"
   ]
  },
  {
   "cell_type": "code",
   "execution_count": 36,
   "metadata": {},
   "outputs": [
    {
     "data": {
      "text/html": [
       "<div>\n",
       "<style scoped>\n",
       "    .dataframe tbody tr th:only-of-type {\n",
       "        vertical-align: middle;\n",
       "    }\n",
       "\n",
       "    .dataframe tbody tr th {\n",
       "        vertical-align: top;\n",
       "    }\n",
       "\n",
       "    .dataframe thead tr th {\n",
       "        text-align: left;\n",
       "    }\n",
       "</style>\n",
       "<table border=\"1\" class=\"dataframe\">\n",
       "  <thead>\n",
       "    <tr>\n",
       "      <th></th>\n",
       "      <th></th>\n",
       "      <th colspan=\"9\" halign=\"left\">v</th>\n",
       "    </tr>\n",
       "    <tr>\n",
       "      <th></th>\n",
       "      <th></th>\n",
       "      <th>0</th>\n",
       "      <th>1</th>\n",
       "      <th>2</th>\n",
       "      <th>3</th>\n",
       "      <th>4</th>\n",
       "      <th>5</th>\n",
       "      <th>6</th>\n",
       "      <th>7</th>\n",
       "      <th>8</th>\n",
       "    </tr>\n",
       "  </thead>\n",
       "  <tbody>\n",
       "    <tr>\n",
       "      <th rowspan=\"9\" valign=\"top\">v</th>\n",
       "      <th>0</th>\n",
       "      <td>0.2</td>\n",
       "      <td>0.2</td>\n",
       "      <td>0.20</td>\n",
       "      <td>0.20</td>\n",
       "      <td>0.200000</td>\n",
       "      <td>0.000000</td>\n",
       "      <td>0.000000</td>\n",
       "      <td>0.0</td>\n",
       "      <td>0.0</td>\n",
       "    </tr>\n",
       "    <tr>\n",
       "      <th>1</th>\n",
       "      <td>0.2</td>\n",
       "      <td>0.2</td>\n",
       "      <td>0.20</td>\n",
       "      <td>0.20</td>\n",
       "      <td>0.200000</td>\n",
       "      <td>0.000000</td>\n",
       "      <td>0.000000</td>\n",
       "      <td>0.0</td>\n",
       "      <td>0.0</td>\n",
       "    </tr>\n",
       "    <tr>\n",
       "      <th>2</th>\n",
       "      <td>0.2</td>\n",
       "      <td>0.2</td>\n",
       "      <td>0.45</td>\n",
       "      <td>0.45</td>\n",
       "      <td>0.450000</td>\n",
       "      <td>0.250000</td>\n",
       "      <td>0.000000</td>\n",
       "      <td>0.0</td>\n",
       "      <td>0.0</td>\n",
       "    </tr>\n",
       "    <tr>\n",
       "      <th>3</th>\n",
       "      <td>0.2</td>\n",
       "      <td>0.2</td>\n",
       "      <td>0.45</td>\n",
       "      <td>0.45</td>\n",
       "      <td>0.450000</td>\n",
       "      <td>0.250000</td>\n",
       "      <td>0.000000</td>\n",
       "      <td>0.0</td>\n",
       "      <td>0.0</td>\n",
       "    </tr>\n",
       "    <tr>\n",
       "      <th>4</th>\n",
       "      <td>0.2</td>\n",
       "      <td>0.2</td>\n",
       "      <td>0.45</td>\n",
       "      <td>0.45</td>\n",
       "      <td>0.783333</td>\n",
       "      <td>0.583333</td>\n",
       "      <td>0.333333</td>\n",
       "      <td>0.0</td>\n",
       "      <td>0.0</td>\n",
       "    </tr>\n",
       "    <tr>\n",
       "      <th>5</th>\n",
       "      <td>0.0</td>\n",
       "      <td>0.0</td>\n",
       "      <td>0.25</td>\n",
       "      <td>0.25</td>\n",
       "      <td>0.583333</td>\n",
       "      <td>0.583333</td>\n",
       "      <td>0.333333</td>\n",
       "      <td>0.0</td>\n",
       "      <td>0.0</td>\n",
       "    </tr>\n",
       "    <tr>\n",
       "      <th>6</th>\n",
       "      <td>0.0</td>\n",
       "      <td>0.0</td>\n",
       "      <td>0.00</td>\n",
       "      <td>0.00</td>\n",
       "      <td>0.333333</td>\n",
       "      <td>0.333333</td>\n",
       "      <td>0.833333</td>\n",
       "      <td>0.5</td>\n",
       "      <td>0.0</td>\n",
       "    </tr>\n",
       "    <tr>\n",
       "      <th>7</th>\n",
       "      <td>0.0</td>\n",
       "      <td>0.0</td>\n",
       "      <td>0.00</td>\n",
       "      <td>0.00</td>\n",
       "      <td>0.000000</td>\n",
       "      <td>0.000000</td>\n",
       "      <td>0.500000</td>\n",
       "      <td>0.5</td>\n",
       "      <td>0.0</td>\n",
       "    </tr>\n",
       "    <tr>\n",
       "      <th>8</th>\n",
       "      <td>0.0</td>\n",
       "      <td>0.0</td>\n",
       "      <td>0.00</td>\n",
       "      <td>0.00</td>\n",
       "      <td>0.000000</td>\n",
       "      <td>0.000000</td>\n",
       "      <td>0.000000</td>\n",
       "      <td>0.0</td>\n",
       "      <td>1.0</td>\n",
       "    </tr>\n",
       "  </tbody>\n",
       "</table>\n",
       "</div>"
      ],
      "text/plain": [
       "       v                                                         \n",
       "       0    1     2     3         4         5         6    7    8\n",
       "v 0  0.2  0.2  0.20  0.20  0.200000  0.000000  0.000000  0.0  0.0\n",
       "  1  0.2  0.2  0.20  0.20  0.200000  0.000000  0.000000  0.0  0.0\n",
       "  2  0.2  0.2  0.45  0.45  0.450000  0.250000  0.000000  0.0  0.0\n",
       "  3  0.2  0.2  0.45  0.45  0.450000  0.250000  0.000000  0.0  0.0\n",
       "  4  0.2  0.2  0.45  0.45  0.783333  0.583333  0.333333  0.0  0.0\n",
       "  5  0.0  0.0  0.25  0.25  0.583333  0.583333  0.333333  0.0  0.0\n",
       "  6  0.0  0.0  0.00  0.00  0.333333  0.333333  0.833333  0.5  0.0\n",
       "  7  0.0  0.0  0.00  0.00  0.000000  0.000000  0.500000  0.5  0.0\n",
       "  8  0.0  0.0  0.00  0.00  0.000000  0.000000  0.000000  0.0  1.0"
      ]
     },
     "execution_count": 36,
     "metadata": {},
     "output_type": "execute_result"
    }
   ],
   "source": [
    "GN1 = BT * BN\n",
    "GN1 = GN1.tocsr()\n",
    "pd.DataFrame(GN1.toarray(), index=[['v']*len(letters.index), letters.index], columns=[['v']*len(letters.index), letters.index])"
   ]
  },
  {
   "cell_type": "markdown",
   "metadata": {},
   "source": [
    "$G^\\mathrm{N1}$ is a **partially normalized co-occurrence matrix**. The sum of its weights is equal to the total occurrence:"
   ]
  },
  {
   "cell_type": "code",
   "execution_count": 37,
   "metadata": {},
   "outputs": [
    {
     "data": {
      "text/plain": [
       "15.0"
      ]
     },
     "execution_count": 37,
     "metadata": {},
     "output_type": "execute_result"
    }
   ],
   "source": [
    "GN1.sum()"
   ]
  },
  {
   "cell_type": "markdown",
   "metadata": {},
   "source": [
    "Weights $g_{ij}^\\mathrm{N1}\\in \\mathbb{R}_{\\geq0}$ are equal to the contribution of the corresponding edge to the total occurrence. In terms of the authorship example, weights give the contribution of a co-authorship relation to all authorships in the field, which is equal to the contribution of author $i$ to works co-authored with author $j$.\n",
    "\n",
    "The diagonal of $G^\\mathrm{N1}$ gives a node $i$'s contribution to its own occurrence, which we call its **self-occurrence**. In terms of the example, it's an author's contribution to the works he has authored (Batagelj and Cerinšek, 2013, pp. 854).\n",
    "\n",
    "The self-occurrence of nodes $i\\in V$ is:"
   ]
  },
  {
   "cell_type": "code",
   "execution_count": 38,
   "metadata": {},
   "outputs": [
    {
     "data": {
      "text/plain": [
       "[0.2,\n",
       " 0.2,\n",
       " 0.45,\n",
       " 0.45,\n",
       " 0.7833333333333333,\n",
       " 0.5833333333333333,\n",
       " 0.8333333333333333,\n",
       " 0.5,\n",
       " 1.0]"
      ]
     },
     "execution_count": 38,
     "metadata": {},
     "output_type": "execute_result"
    }
   ],
   "source": [
    "self_occurrence = GN1.diagonal()\n",
    "self_occurrence.tolist()"
   ]
  },
  {
   "cell_type": "markdown",
   "metadata": {},
   "source": [
    "The occurrence of nodes $i\\in V$ can be recoverd by taking the row sum of $G^\\mathrm{N1}$:"
   ]
  },
  {
   "cell_type": "code",
   "execution_count": 39,
   "metadata": {},
   "outputs": [
    {
     "data": {
      "text/plain": [
       "[1.0, 1.0, 2.0, 2.0, 3.0000000000000004, 1.9999999999999998, 2.0, 1.0, 1.0]"
      ]
     },
     "execution_count": 39,
     "metadata": {},
     "output_type": "execute_result"
    }
   ],
   "source": [
    "occurrence = GN1.sum(axis=0)\n",
    "occurrence.tolist()[0]"
   ]
  },
  {
   "cell_type": "markdown",
   "metadata": {},
   "source": [
    "The self-occurrence is always smaller or equal to the occurrence. Hence, we can construct an index that gives the **self-sufficiency** of nodes $i\\in V$ (Batagelj and Cerinšek, 2013, p. 854):"
   ]
  },
  {
   "cell_type": "code",
   "execution_count": 40,
   "metadata": {},
   "outputs": [
    {
     "data": {
      "text/plain": [
       "[0.2,\n",
       " 0.2,\n",
       " 0.225,\n",
       " 0.225,\n",
       " 0.26111111111111107,\n",
       " 0.2916666666666667,\n",
       " 0.41666666666666663,\n",
       " 0.5,\n",
       " 1.0]"
      ]
     },
     "execution_count": 40,
     "metadata": {},
     "output_type": "execute_result"
    }
   ],
   "source": [
    "self_sufficiency = self_occurrence / occurrence\n",
    "self_sufficiency.tolist()[0]"
   ]
  },
  {
   "cell_type": "markdown",
   "metadata": {},
   "source": [
    "The closer the self-sufficiency to 1, the more a node self-contributes to its occurrence. A self-sufficiency of 1 means that other nodes do not contribute to its occurrence. In the authorship example, this would be an author that does not have any co-authors. It is isolated and not embedded. Hence, we can construct an index of the **embeddedness** of nodes $i\\in V$, a measure of collaborativeness in the case of the authorship example (Batagelj and Cerinšek, 2013, p. 854):"
   ]
  },
  {
   "cell_type": "code",
   "execution_count": 41,
   "metadata": {},
   "outputs": [
    {
     "data": {
      "text/plain": [
       "[0.8,\n",
       " 0.8,\n",
       " 0.775,\n",
       " 0.775,\n",
       " 0.7388888888888889,\n",
       " 0.7083333333333333,\n",
       " 0.5833333333333334,\n",
       " 0.5,\n",
       " 0.0]"
      ]
     },
     "execution_count": 41,
     "metadata": {},
     "output_type": "execute_result"
    }
   ],
   "source": [
    "embeddedness = 1 - self_sufficiency\n",
    "embeddedness.tolist()[0]"
   ]
  },
  {
   "cell_type": "markdown",
   "metadata": {},
   "source": [
    "With these node attributes, we can enrich the ``node_list_v`` dataframe:"
   ]
  },
  {
   "cell_type": "code",
   "execution_count": 42,
   "metadata": {
    "scrolled": true
   },
   "outputs": [
    {
     "data": {
      "text/html": [
       "<div>\n",
       "<style scoped>\n",
       "    .dataframe tbody tr th:only-of-type {\n",
       "        vertical-align: middle;\n",
       "    }\n",
       "\n",
       "    .dataframe tbody tr th {\n",
       "        vertical-align: top;\n",
       "    }\n",
       "\n",
       "    .dataframe thead th {\n",
       "        text-align: right;\n",
       "    }\n",
       "</style>\n",
       "<table border=\"1\" class=\"dataframe\">\n",
       "  <thead>\n",
       "    <tr style=\"text-align: right;\">\n",
       "      <th></th>\n",
       "      <th>letter_id</th>\n",
       "      <th>letter</th>\n",
       "      <th>occurrence</th>\n",
       "      <th>self-occurrence</th>\n",
       "      <th>self-sufficiency</th>\n",
       "      <th>embeddedness</th>\n",
       "    </tr>\n",
       "  </thead>\n",
       "  <tbody>\n",
       "    <tr>\n",
       "      <th>0</th>\n",
       "      <td>0</td>\n",
       "      <td>a</td>\n",
       "      <td>1.0</td>\n",
       "      <td>0.200000</td>\n",
       "      <td>0.200000</td>\n",
       "      <td>0.800000</td>\n",
       "    </tr>\n",
       "    <tr>\n",
       "      <th>1</th>\n",
       "      <td>1</td>\n",
       "      <td>b</td>\n",
       "      <td>1.0</td>\n",
       "      <td>0.200000</td>\n",
       "      <td>0.200000</td>\n",
       "      <td>0.800000</td>\n",
       "    </tr>\n",
       "    <tr>\n",
       "      <th>2</th>\n",
       "      <td>2</td>\n",
       "      <td>c</td>\n",
       "      <td>2.0</td>\n",
       "      <td>0.450000</td>\n",
       "      <td>0.225000</td>\n",
       "      <td>0.775000</td>\n",
       "    </tr>\n",
       "    <tr>\n",
       "      <th>3</th>\n",
       "      <td>3</td>\n",
       "      <td>d</td>\n",
       "      <td>2.0</td>\n",
       "      <td>0.450000</td>\n",
       "      <td>0.225000</td>\n",
       "      <td>0.775000</td>\n",
       "    </tr>\n",
       "    <tr>\n",
       "      <th>4</th>\n",
       "      <td>4</td>\n",
       "      <td>e</td>\n",
       "      <td>3.0</td>\n",
       "      <td>0.783333</td>\n",
       "      <td>0.261111</td>\n",
       "      <td>0.738889</td>\n",
       "    </tr>\n",
       "    <tr>\n",
       "      <th>5</th>\n",
       "      <td>5</td>\n",
       "      <td>f</td>\n",
       "      <td>2.0</td>\n",
       "      <td>0.583333</td>\n",
       "      <td>0.291667</td>\n",
       "      <td>0.708333</td>\n",
       "    </tr>\n",
       "    <tr>\n",
       "      <th>6</th>\n",
       "      <td>6</td>\n",
       "      <td>g</td>\n",
       "      <td>2.0</td>\n",
       "      <td>0.833333</td>\n",
       "      <td>0.416667</td>\n",
       "      <td>0.583333</td>\n",
       "    </tr>\n",
       "    <tr>\n",
       "      <th>7</th>\n",
       "      <td>7</td>\n",
       "      <td>h</td>\n",
       "      <td>1.0</td>\n",
       "      <td>0.500000</td>\n",
       "      <td>0.500000</td>\n",
       "      <td>0.500000</td>\n",
       "    </tr>\n",
       "    <tr>\n",
       "      <th>8</th>\n",
       "      <td>8</td>\n",
       "      <td>i</td>\n",
       "      <td>1.0</td>\n",
       "      <td>1.000000</td>\n",
       "      <td>1.000000</td>\n",
       "      <td>0.000000</td>\n",
       "    </tr>\n",
       "  </tbody>\n",
       "</table>\n",
       "</div>"
      ],
      "text/plain": [
       "   letter_id letter  occurrence  self-occurrence  self-sufficiency  \\\n",
       "0          0      a         1.0         0.200000          0.200000   \n",
       "1          1      b         1.0         0.200000          0.200000   \n",
       "2          2      c         2.0         0.450000          0.225000   \n",
       "3          3      d         2.0         0.450000          0.225000   \n",
       "4          4      e         3.0         0.783333          0.261111   \n",
       "5          5      f         2.0         0.583333          0.291667   \n",
       "6          6      g         2.0         0.833333          0.416667   \n",
       "7          7      h         1.0         0.500000          0.500000   \n",
       "8          8      i         1.0         1.000000          1.000000   \n",
       "\n",
       "   embeddedness  \n",
       "0      0.800000  \n",
       "1      0.800000  \n",
       "2      0.775000  \n",
       "3      0.775000  \n",
       "4      0.738889  \n",
       "5      0.708333  \n",
       "6      0.583333  \n",
       "7      0.500000  \n",
       "8      0.000000  "
      ]
     },
     "execution_count": 42,
     "metadata": {},
     "output_type": "execute_result"
    }
   ],
   "source": [
    "letters_enriched = letters.copy()\n",
    "letters_enriched.loc[:, 'occurrence'] = occurrence.tolist()[0]\n",
    "letters_enriched.loc[:, 'self-occurrence'] = self_occurrence.tolist()\n",
    "letters_enriched.loc[:, 'self-sufficiency'] = self_sufficiency.tolist()[0]\n",
    "letters_enriched.loc[:, 'embeddedness'] = embeddedness.tolist()[0]\n",
    "letters_enriched"
   ]
  },
  {
   "cell_type": "markdown",
   "metadata": {},
   "source": [
    "#### The third projection\n",
    "\n",
    "The third projection uses full normalization:\n",
    "\n",
    "$G^\\mathrm{N2}=(B^\\mathrm{N})^\\mathrm{T}\\times B^\\mathrm{N}$\n",
    "\n",
    "Transpose the normalized bipartite matrix, construct $G^\\mathrm{N2}$, transform and display it:"
   ]
  },
  {
   "cell_type": "code",
   "execution_count": 43,
   "metadata": {},
   "outputs": [
    {
     "data": {
      "text/html": [
       "<div>\n",
       "<style scoped>\n",
       "    .dataframe tbody tr th:only-of-type {\n",
       "        vertical-align: middle;\n",
       "    }\n",
       "\n",
       "    .dataframe tbody tr th {\n",
       "        vertical-align: top;\n",
       "    }\n",
       "\n",
       "    .dataframe thead tr th {\n",
       "        text-align: left;\n",
       "    }\n",
       "</style>\n",
       "<table border=\"1\" class=\"dataframe\">\n",
       "  <thead>\n",
       "    <tr>\n",
       "      <th></th>\n",
       "      <th></th>\n",
       "      <th colspan=\"9\" halign=\"left\">v</th>\n",
       "    </tr>\n",
       "    <tr>\n",
       "      <th></th>\n",
       "      <th></th>\n",
       "      <th>0</th>\n",
       "      <th>1</th>\n",
       "      <th>2</th>\n",
       "      <th>3</th>\n",
       "      <th>4</th>\n",
       "      <th>5</th>\n",
       "      <th>6</th>\n",
       "      <th>7</th>\n",
       "      <th>8</th>\n",
       "    </tr>\n",
       "  </thead>\n",
       "  <tbody>\n",
       "    <tr>\n",
       "      <th rowspan=\"9\" valign=\"top\">v</th>\n",
       "      <th>0</th>\n",
       "      <td>0.04</td>\n",
       "      <td>0.04</td>\n",
       "      <td>0.0400</td>\n",
       "      <td>0.0400</td>\n",
       "      <td>0.040000</td>\n",
       "      <td>0.000000</td>\n",
       "      <td>0.000000</td>\n",
       "      <td>0.00</td>\n",
       "      <td>0.0</td>\n",
       "    </tr>\n",
       "    <tr>\n",
       "      <th>1</th>\n",
       "      <td>0.04</td>\n",
       "      <td>0.04</td>\n",
       "      <td>0.0400</td>\n",
       "      <td>0.0400</td>\n",
       "      <td>0.040000</td>\n",
       "      <td>0.000000</td>\n",
       "      <td>0.000000</td>\n",
       "      <td>0.00</td>\n",
       "      <td>0.0</td>\n",
       "    </tr>\n",
       "    <tr>\n",
       "      <th>2</th>\n",
       "      <td>0.04</td>\n",
       "      <td>0.04</td>\n",
       "      <td>0.1025</td>\n",
       "      <td>0.1025</td>\n",
       "      <td>0.102500</td>\n",
       "      <td>0.062500</td>\n",
       "      <td>0.000000</td>\n",
       "      <td>0.00</td>\n",
       "      <td>0.0</td>\n",
       "    </tr>\n",
       "    <tr>\n",
       "      <th>3</th>\n",
       "      <td>0.04</td>\n",
       "      <td>0.04</td>\n",
       "      <td>0.1025</td>\n",
       "      <td>0.1025</td>\n",
       "      <td>0.102500</td>\n",
       "      <td>0.062500</td>\n",
       "      <td>0.000000</td>\n",
       "      <td>0.00</td>\n",
       "      <td>0.0</td>\n",
       "    </tr>\n",
       "    <tr>\n",
       "      <th>4</th>\n",
       "      <td>0.04</td>\n",
       "      <td>0.04</td>\n",
       "      <td>0.1025</td>\n",
       "      <td>0.1025</td>\n",
       "      <td>0.213611</td>\n",
       "      <td>0.173611</td>\n",
       "      <td>0.111111</td>\n",
       "      <td>0.00</td>\n",
       "      <td>0.0</td>\n",
       "    </tr>\n",
       "    <tr>\n",
       "      <th>5</th>\n",
       "      <td>0.00</td>\n",
       "      <td>0.00</td>\n",
       "      <td>0.0625</td>\n",
       "      <td>0.0625</td>\n",
       "      <td>0.173611</td>\n",
       "      <td>0.173611</td>\n",
       "      <td>0.111111</td>\n",
       "      <td>0.00</td>\n",
       "      <td>0.0</td>\n",
       "    </tr>\n",
       "    <tr>\n",
       "      <th>6</th>\n",
       "      <td>0.00</td>\n",
       "      <td>0.00</td>\n",
       "      <td>0.0000</td>\n",
       "      <td>0.0000</td>\n",
       "      <td>0.111111</td>\n",
       "      <td>0.111111</td>\n",
       "      <td>0.361111</td>\n",
       "      <td>0.25</td>\n",
       "      <td>0.0</td>\n",
       "    </tr>\n",
       "    <tr>\n",
       "      <th>7</th>\n",
       "      <td>0.00</td>\n",
       "      <td>0.00</td>\n",
       "      <td>0.0000</td>\n",
       "      <td>0.0000</td>\n",
       "      <td>0.000000</td>\n",
       "      <td>0.000000</td>\n",
       "      <td>0.250000</td>\n",
       "      <td>0.25</td>\n",
       "      <td>0.0</td>\n",
       "    </tr>\n",
       "    <tr>\n",
       "      <th>8</th>\n",
       "      <td>0.00</td>\n",
       "      <td>0.00</td>\n",
       "      <td>0.0000</td>\n",
       "      <td>0.0000</td>\n",
       "      <td>0.000000</td>\n",
       "      <td>0.000000</td>\n",
       "      <td>0.000000</td>\n",
       "      <td>0.00</td>\n",
       "      <td>1.0</td>\n",
       "    </tr>\n",
       "  </tbody>\n",
       "</table>\n",
       "</div>"
      ],
      "text/plain": [
       "        v                                                               \n",
       "        0     1       2       3         4         5         6     7    8\n",
       "v 0  0.04  0.04  0.0400  0.0400  0.040000  0.000000  0.000000  0.00  0.0\n",
       "  1  0.04  0.04  0.0400  0.0400  0.040000  0.000000  0.000000  0.00  0.0\n",
       "  2  0.04  0.04  0.1025  0.1025  0.102500  0.062500  0.000000  0.00  0.0\n",
       "  3  0.04  0.04  0.1025  0.1025  0.102500  0.062500  0.000000  0.00  0.0\n",
       "  4  0.04  0.04  0.1025  0.1025  0.213611  0.173611  0.111111  0.00  0.0\n",
       "  5  0.00  0.00  0.0625  0.0625  0.173611  0.173611  0.111111  0.00  0.0\n",
       "  6  0.00  0.00  0.0000  0.0000  0.111111  0.111111  0.361111  0.25  0.0\n",
       "  7  0.00  0.00  0.0000  0.0000  0.000000  0.000000  0.250000  0.25  0.0\n",
       "  8  0.00  0.00  0.0000  0.0000  0.000000  0.000000  0.000000  0.00  1.0"
      ]
     },
     "execution_count": 43,
     "metadata": {},
     "output_type": "execute_result"
    }
   ],
   "source": [
    "BNT = csr_matrix.transpose(BN)\n",
    "GN2 = BNT * BN\n",
    "GN2 = GN2.tocsr()\n",
    "pd.DataFrame(GN2.toarray(), index=[['v']*len(letters.index), letters.index], columns=[['v']*len(letters.index), letters.index])"
   ]
  },
  {
   "cell_type": "markdown",
   "metadata": {},
   "source": [
    "$G^\\mathrm{N2}$ is a **fully normalized co-occurrence matrix**. The sum of its weights is equal to the number of nodes in $U$, the number of works in the authorship example:"
   ]
  },
  {
   "cell_type": "code",
   "execution_count": 44,
   "metadata": {},
   "outputs": [
    {
     "data": {
      "text/plain": [
       "5.0"
      ]
     },
     "execution_count": 44,
     "metadata": {},
     "output_type": "execute_result"
    }
   ],
   "source": [
    "GN2.sum()"
   ]
  },
  {
   "cell_type": "markdown",
   "metadata": {},
   "source": [
    "Due to full normalization, weights $g_{ij}^\\mathrm{N2}\\in \\mathbb{R}_{[0,1]}$, which means, they are similarity scores of nodes $i$ and $j$ between 0 and 1. They are equal to the contribution of the corresponding edge to the size of $U$. In terms of the authorship example, weights give the contribution of a co-authorship relation to the number of works in the field.\n",
    "\n",
    "It follows that the row sum of $G^\\mathrm{N2}$ gives a node $i$'s contribution to its own occurrence (an author's contribution to the works he has authored), which we have called its self-occurrence above:"
   ]
  },
  {
   "cell_type": "code",
   "execution_count": 45,
   "metadata": {},
   "outputs": [
    {
     "data": {
      "text/plain": [
       "[0.20000000000000004,\n",
       " 0.20000000000000004,\n",
       " 0.45000000000000007,\n",
       " 0.45000000000000007,\n",
       " 0.7833333333333334,\n",
       " 0.5833333333333333,\n",
       " 0.8333333333333333,\n",
       " 0.5,\n",
       " 1.0]"
      ]
     },
     "execution_count": 45,
     "metadata": {},
     "output_type": "execute_result"
    }
   ],
   "source": [
    "GN2.sum(axis=0).tolist()[0]"
   ]
  },
  {
   "cell_type": "markdown",
   "metadata": {},
   "source": [
    "### Summary\n",
    "\n"
   ]
  },
  {
   "cell_type": "code",
   "execution_count": null,
   "metadata": {},
   "outputs": [],
   "source": []
  },
  {
   "cell_type": "markdown",
   "metadata": {},
   "source": [
    "FROM HERE ON: REFINE TEXT"
   ]
  },
  {
   "cell_type": "markdown",
   "metadata": {},
   "source": [
    "<div class='alert alert-warning'>\n",
    "<big><b>Caution</b></big>\n",
    "\n",
    "It is important to understand the effects of matrix normalization as we have discussed it so far. For example, a strong co-selection of two facts can result from few transactions in which few facts are co-selected or from many transactions in which many facts are co-selected. Matrix normalization complicates interpretability when the number of selections per transaction exhibits large variance. In small-data settings, it may therefore be advised to not use matrix normalization. In big-data settings, it may be possible to remove outlier transactions with exceptionally many selections (e.g., publications with either very short or very long reference lists).\n",
    "</div>"
   ]
  },
  {
   "cell_type": "markdown",
   "metadata": {},
   "source": [
    "## Cumulative co-occurrence fractions\n",
    "Sometimes it is can be helpful to filter graphs, e.g., to uncover a pattern that may otherwise be hidden in relational \"noise\". An observer of a meaning structure may neglect weak ties to identify the core facts of the field. Hence, removing weakly selected nodes or edges is not only a step we can do as network analysts, but an analytical step towards understanding what an observer in a field may have observed as he or she was trying to reduce uncertainty.\n",
    "\n",
    "As an alternative to simply filtering edges with small weights, one can keep those co-selections that collectively account for a specified amount of attention in the field. For this purpose we enrich edges by **cumulative fractions** of total matrix weights.\n",
    "\n",
    "First, distinct edge weights and the weight (attention) they collectively account for are identified. In the toy example, a single co-selection tie with a ``weight == 1`` also accounts for a total weight of 1. But 16 co-selection ties with ``weight == 0.2`` account for a total weight of 3.2:"
   ]
  },
  {
   "cell_type": "markdown",
   "metadata": {},
   "source": [
    "The edge list of $G^\\mathrm{N1}$ is:"
   ]
  },
  {
   "cell_type": "code",
   "execution_count": 46,
   "metadata": {},
   "outputs": [
    {
     "data": {
      "text/html": [
       "<div>\n",
       "<style scoped>\n",
       "    .dataframe tbody tr th:only-of-type {\n",
       "        vertical-align: middle;\n",
       "    }\n",
       "\n",
       "    .dataframe tbody tr th {\n",
       "        vertical-align: top;\n",
       "    }\n",
       "\n",
       "    .dataframe thead th {\n",
       "        text-align: right;\n",
       "    }\n",
       "</style>\n",
       "<table border=\"1\" class=\"dataframe\">\n",
       "  <thead>\n",
       "    <tr style=\"text-align: right;\">\n",
       "      <th></th>\n",
       "      <th>letter_id_i</th>\n",
       "      <th>letter_id_j</th>\n",
       "      <th>weight</th>\n",
       "    </tr>\n",
       "  </thead>\n",
       "  <tbody>\n",
       "    <tr>\n",
       "      <th>0</th>\n",
       "      <td>0</td>\n",
       "      <td>0</td>\n",
       "      <td>0.2</td>\n",
       "    </tr>\n",
       "    <tr>\n",
       "      <th>1</th>\n",
       "      <td>0</td>\n",
       "      <td>1</td>\n",
       "      <td>0.2</td>\n",
       "    </tr>\n",
       "    <tr>\n",
       "      <th>2</th>\n",
       "      <td>0</td>\n",
       "      <td>2</td>\n",
       "      <td>0.2</td>\n",
       "    </tr>\n",
       "    <tr>\n",
       "      <th>3</th>\n",
       "      <td>0</td>\n",
       "      <td>3</td>\n",
       "      <td>0.2</td>\n",
       "    </tr>\n",
       "    <tr>\n",
       "      <th>4</th>\n",
       "      <td>0</td>\n",
       "      <td>4</td>\n",
       "      <td>0.2</td>\n",
       "    </tr>\n",
       "  </tbody>\n",
       "</table>\n",
       "</div>"
      ],
      "text/plain": [
       "   letter_id_i  letter_id_j  weight\n",
       "0            0            0     0.2\n",
       "1            0            1     0.2\n",
       "2            0            2     0.2\n",
       "3            0            3     0.2\n",
       "4            0            4     0.2"
      ]
     },
     "execution_count": 46,
     "metadata": {},
     "output_type": "execute_result"
    }
   ],
   "source": [
    "co_occurrences_letters_n1 = pd.concat([\n",
    "    pd.Series(GN1.nonzero()[0]), \n",
    "    pd.Series(GN1.nonzero()[1]), \n",
    "    pd.Series(GN1.data)\n",
    "], axis=1)\n",
    "co_occurrences_letters_n1.columns = ['letter_id_i', 'letter_id_j', 'weight']\n",
    "co_occurrences_letters_n1.head()"
   ]
  },
  {
   "cell_type": "code",
   "execution_count": 47,
   "metadata": {},
   "outputs": [
    {
     "data": {
      "text/html": [
       "<div>\n",
       "<style scoped>\n",
       "    .dataframe tbody tr th:only-of-type {\n",
       "        vertical-align: middle;\n",
       "    }\n",
       "\n",
       "    .dataframe tbody tr th {\n",
       "        vertical-align: top;\n",
       "    }\n",
       "\n",
       "    .dataframe thead th {\n",
       "        text-align: right;\n",
       "    }\n",
       "</style>\n",
       "<table border=\"1\" class=\"dataframe\">\n",
       "  <thead>\n",
       "    <tr style=\"text-align: right;\">\n",
       "      <th></th>\n",
       "      <th>letter_id_i</th>\n",
       "      <th>letter_id_j</th>\n",
       "      <th>weight</th>\n",
       "    </tr>\n",
       "  </thead>\n",
       "  <tbody>\n",
       "    <tr>\n",
       "      <th>0</th>\n",
       "      <td>0</td>\n",
       "      <td>0</td>\n",
       "      <td>0.2</td>\n",
       "    </tr>\n",
       "    <tr>\n",
       "      <th>1</th>\n",
       "      <td>0</td>\n",
       "      <td>1</td>\n",
       "      <td>0.2</td>\n",
       "    </tr>\n",
       "    <tr>\n",
       "      <th>2</th>\n",
       "      <td>0</td>\n",
       "      <td>2</td>\n",
       "      <td>0.2</td>\n",
       "    </tr>\n",
       "    <tr>\n",
       "      <th>3</th>\n",
       "      <td>0</td>\n",
       "      <td>3</td>\n",
       "      <td>0.2</td>\n",
       "    </tr>\n",
       "    <tr>\n",
       "      <th>4</th>\n",
       "      <td>0</td>\n",
       "      <td>4</td>\n",
       "      <td>0.2</td>\n",
       "    </tr>\n",
       "  </tbody>\n",
       "</table>\n",
       "</div>"
      ],
      "text/plain": [
       "   letter_id_i  letter_id_j  weight\n",
       "0            0            0     0.2\n",
       "1            0            1     0.2\n",
       "2            0            2     0.2\n",
       "3            0            3     0.2\n",
       "4            0            4     0.2"
      ]
     },
     "execution_count": 47,
     "metadata": {},
     "output_type": "execute_result"
    }
   ],
   "source": [
    "directed = False\n",
    "remove_self_loops = False\n",
    "\n",
    "if directed == False:\n",
    "    co_occurrences_letters_n1 = co_occurrences_letters_n1[co_occurrences_letters_n1['letter_id_j'] >= co_occurrences_letters_n1['letter_id_i']]\n",
    "if remove_self_loops == True:\n",
    "    co_occurrences_letters_n1 = co_occurrences_letters_n1[co_occurrences_letters_n1['letter_id_j'] != co_occurrences_letters_n1['letter_id_i']]\n",
    "\n",
    "co_occurrences_letters_n1.head()"
   ]
  },
  {
   "cell_type": "code",
   "execution_count": 48,
   "metadata": {},
   "outputs": [
    {
     "data": {
      "text/plain": [
       "weight\n",
       "1.000000    1.000000\n",
       "0.833333    0.833333\n",
       "0.783333    0.783333\n",
       "0.583333    1.166667\n",
       "0.500000    1.000000\n",
       "0.450000    2.250000\n",
       "0.333333    0.666667\n",
       "0.250000    0.500000\n",
       "0.200000    1.800000\n",
       "Name: weight, dtype: float64"
      ]
     },
     "execution_count": 48,
     "metadata": {},
     "output_type": "execute_result"
    }
   ],
   "source": [
    "co_occurrences_letters_n1_cumfrac = co_occurrences_letters_n1['weight'].groupby(co_occurrences_letters_n1['weight']).sum().sort_index(ascending=False)\n",
    "co_occurrences_letters_n1_cumfrac"
   ]
  },
  {
   "cell_type": "markdown",
   "metadata": {},
   "source": [
    "Second, the summed weights are turned into cumulative co-selection fractions ``cumfrac`` such that all weights at least as strong as the smallest one account for 100 percent of the attention in the whole field. In the toy example, if we wanted to keep those co-selections that account for no more than 75 percent of the attention (``cumfrac <= .75``), we would have to remove all edges with ``weight < 0.3333``:"
   ]
  },
  {
   "cell_type": "code",
   "execution_count": 49,
   "metadata": {},
   "outputs": [
    {
     "data": {
      "text/plain": [
       "weight\n",
       "1.000000    0.100000\n",
       "0.833333    0.183333\n",
       "0.783333    0.261667\n",
       "0.583333    0.378333\n",
       "0.500000    0.478333\n",
       "0.450000    0.703333\n",
       "0.333333    0.770000\n",
       "0.250000    0.820000\n",
       "0.200000    1.000000\n",
       "Name: cumfrac, dtype: float64"
      ]
     },
     "execution_count": 49,
     "metadata": {},
     "output_type": "execute_result"
    }
   ],
   "source": [
    "co_occurrences_letters_n1_cumfrac = co_occurrences_letters_n1_cumfrac.cumsum() / sum(co_occurrences_letters_n1_cumfrac)\n",
    "co_occurrences_letters_n1_cumfrac = co_occurrences_letters_n1_cumfrac.round(6)\n",
    "co_occurrences_letters_n1_cumfrac.rename('cumfrac', inplace=True)"
   ]
  },
  {
   "cell_type": "markdown",
   "metadata": {},
   "source": [
    "The cumulative fractions can then be merged back into the co-selection dataframe:"
   ]
  },
  {
   "cell_type": "code",
   "execution_count": 50,
   "metadata": {},
   "outputs": [
    {
     "data": {
      "text/html": [
       "<div>\n",
       "<style scoped>\n",
       "    .dataframe tbody tr th:only-of-type {\n",
       "        vertical-align: middle;\n",
       "    }\n",
       "\n",
       "    .dataframe tbody tr th {\n",
       "        vertical-align: top;\n",
       "    }\n",
       "\n",
       "    .dataframe thead th {\n",
       "        text-align: right;\n",
       "    }\n",
       "</style>\n",
       "<table border=\"1\" class=\"dataframe\">\n",
       "  <thead>\n",
       "    <tr style=\"text-align: right;\">\n",
       "      <th></th>\n",
       "      <th>letter_id_i</th>\n",
       "      <th>letter_id_j</th>\n",
       "      <th>weight</th>\n",
       "      <th>cumfrac</th>\n",
       "    </tr>\n",
       "  </thead>\n",
       "  <tbody>\n",
       "    <tr>\n",
       "      <th>0</th>\n",
       "      <td>0</td>\n",
       "      <td>0</td>\n",
       "      <td>0.2</td>\n",
       "      <td>1.0</td>\n",
       "    </tr>\n",
       "    <tr>\n",
       "      <th>1</th>\n",
       "      <td>0</td>\n",
       "      <td>1</td>\n",
       "      <td>0.2</td>\n",
       "      <td>1.0</td>\n",
       "    </tr>\n",
       "    <tr>\n",
       "      <th>2</th>\n",
       "      <td>0</td>\n",
       "      <td>2</td>\n",
       "      <td>0.2</td>\n",
       "      <td>1.0</td>\n",
       "    </tr>\n",
       "    <tr>\n",
       "      <th>3</th>\n",
       "      <td>0</td>\n",
       "      <td>3</td>\n",
       "      <td>0.2</td>\n",
       "      <td>1.0</td>\n",
       "    </tr>\n",
       "    <tr>\n",
       "      <th>4</th>\n",
       "      <td>0</td>\n",
       "      <td>4</td>\n",
       "      <td>0.2</td>\n",
       "      <td>1.0</td>\n",
       "    </tr>\n",
       "  </tbody>\n",
       "</table>\n",
       "</div>"
      ],
      "text/plain": [
       "   letter_id_i  letter_id_j  weight  cumfrac\n",
       "0            0            0     0.2      1.0\n",
       "1            0            1     0.2      1.0\n",
       "2            0            2     0.2      1.0\n",
       "3            0            3     0.2      1.0\n",
       "4            0            4     0.2      1.0"
      ]
     },
     "execution_count": 50,
     "metadata": {},
     "output_type": "execute_result"
    }
   ],
   "source": [
    "co_occurrences_letters_n1 = pd.merge(left=co_occurrences_letters_n1, right=co_occurrences_letters_n1_cumfrac, left_on='weight', right_on=co_occurrences_letters_n1_cumfrac.index)\n",
    "co_occurrences_letters_n1.head()"
   ]
  },
  {
   "cell_type": "markdown",
   "metadata": {},
   "source": [
    "Apply the edge filter, construct and draw the filtered graph:"
   ]
  },
  {
   "cell_type": "code",
   "execution_count": 51,
   "metadata": {},
   "outputs": [],
   "source": [
    "gn1_filter = cs.construct_graph(\n",
    "    node_list = letters, \n",
    "    edge_list = co_occurrences_letters_n1[co_occurrences_letters_n1['cumfrac'] <= .75], \n",
    "    node_identifier = 'letter_id', \n",
    "    directed = directed, \n",
    "    graph_name = 'gn1_filter', \n",
    "    node_properties = ['letter'], \n",
    "    node_property_types = ['string'], \n",
    "    edge_properties = ['weight'], \n",
    "    edge_property_types = ['double']\n",
    ")"
   ]
  },
  {
   "cell_type": "code",
   "execution_count": 52,
   "metadata": {},
   "outputs": [
    {
     "data": {
      "image/png": "[encoded data removed]",
      "text/plain": [
       "<IPython.core.display.Image object>"
      ]
     },
     "metadata": {
      "image/png": {
       "height": 200,
       "width": 185
      }
     },
     "output_type": "display_data"
    },
    {
     "data": {
      "text/plain": [
       "<VertexPropertyMap object with value type 'vector<double>', for Graph 0x7f186da2eb90, at 0x7f18c67b0bd0>"
      ]
     },
     "execution_count": 52,
     "metadata": {},
     "output_type": "execute_result"
    }
   ],
   "source": [
    "#from matplotlib.cm import get_cmap\n",
    "\n",
    "gt.graph_draw(\n",
    "    g = gn1_filter, \n",
    "    vertex_text = gn1_filter.vp.letter, \n",
    "    vertex_fill_color = 'white', \n",
    "    edge_pen_width = gt.prop_to_size(gn1_filter.ep.weight, 1, 5), \n",
    "    #edge_color = gn1_filter.ep.weight, \n",
    "    #ecmap = get_cmap('binary'), \n",
    "    output_size = (200, 200)\n",
    ")"
   ]
  },
  {
   "cell_type": "markdown",
   "metadata": {},
   "source": [
    "## Function\n",
    "\n",
    "..."
   ]
  },
  {
   "cell_type": "code",
   "execution_count": 53,
   "metadata": {},
   "outputs": [],
   "source": [
    "#def co_occurrence(\n",
    "#    node_list_u, \n",
    "#    node_list_v, \n",
    "#    edge_list, \n",
    "#    node_u_identifier, \n",
    "#    node_v_identifier, \n",
    "#    weight, \n",
    "#    norm, \n",
    "#    directed = False, \n",
    "#    remove_self_loops = True, \n",
    "#    enrich_node_list_v = True\n",
    "#):\n",
    "#    '''\n",
    "#    Description: Constructs a unipartite co-occurrence matrix from pandas node lists \n",
    "#        representing the two sets U and V and an edge list E representing a bipartite \n",
    "#        occurrence matrix by projecting E to the V side, possibly using normalization.\n",
    "#    \n",
    "#    Inputs:\n",
    "#        node_list_u: pandas dataframe containing the identifiers and properties of node in \n",
    "#            the set U; must contain a continuous identifier from 0 to N-1 where N is the \n",
    "#            number of vertices; node attributes must be in additional columns.\n",
    "#        node_list_v: pandas dataframe containing the identifiers and properties of node in \n",
    "#            the set V; must contain a continuous identifier from 0 to N-1 where N is the \n",
    "#            number of vertices; node attributes must be in additional columns.\n",
    "#        edge_list: pandas dataframe representing the occurrence matrix; must contain a U \n",
    "#            and V node identifier pair per occurrence or edge.\n",
    "#        node_u_identifier: Column name of the U node list that contains the node identifier.\n",
    "#        node_v_identifier: Column name of the V node list that contains the node identifier.\n",
    "#        weight: Column name of the edge list that contains the weight of an occurrence; \n",
    "#            if None, it is set to 1.\n",
    "#        norm: Kind of normalization to be used in projecting the co-occurrence matrix; \n",
    "#            if None, no normalization is used; if 'partial', partial row normalization is \n",
    "#            used; if 'full', full row normalization is used.\n",
    "#        directed: If co-occurrence should be directed (boolean); set to False by default.\n",
    "#        remove_self_loops: If values in the diagonal of the co-occurrence matrix should \n",
    "#            be removed (boolean); set to True by default.\n",
    "#        enrich_node_list_v: If node attributes from matrix projection (e.g., occurrence, \n",
    "#            self-occurrence) should be stored in the node list representing V.\n",
    "#    \n",
    "#    Output: Unipartite matrix in form of a pandas dataframe or edge list giving weighted \n",
    "#        co-occurrences.\n",
    "#    '''\n",
    "#    import pandas as pd\n",
    "#    from scipy.sparse import coo_matrix, csr_matrix\n",
    "#    \n",
    "#    # node list checks\n",
    "#    node_list_u = node_list_u.sort_values(node_u_identifier, ascending=True).reset_index(drop=True)\n",
    "#    node_list_v = node_list_v.sort_values(node_v_identifier, ascending=True).reset_index(drop=True)\n",
    "#    check_u = node_list_u[node_u_identifier] == node_list_u.index\n",
    "#    check_v = node_list_v[node_v_identifier] == node_list_v.index\n",
    "#    if (sum(check_u) == len(node_list_u)) == False:\n",
    "#        print('The node list dataframe of set U does not meet the requirements. Check if the'+node_identifier+'column contains integers from zero to N-1 where N is the number of vertices in the graph.')\n",
    "#    if (sum(check_v) == len(node_list_v)) == False:\n",
    "#        print('The node list dataframe of set V does not meet the requirements. Check if the'+node_identifier+'column contains integers from zero to N-1 where N is the number of vertices in the graph.')\n",
    "#    \n",
    "#    # construct occurrence matrix\n",
    "#    rows = edge_list[node_u_identifier].tolist()\n",
    "#    columns = edge_list[node_v_identifier].tolist()\n",
    "#    if weight:\n",
    "#        weights = edge_list[weight].tolist()\n",
    "#    else:\n",
    "#        weights = [1] * len(edge_list)\n",
    "#    B = coo_matrix((weights, (rows, columns)), shape=(len(node_list_u), len(node_list_v))).tocsr()\n",
    "#    BT = csr_matrix.transpose(B)\n",
    "#    \n",
    "#    # construct co-occurrence matrix\n",
    "#    if norm == None:\n",
    "#        G = (BT * B).tocsr()\n",
    "#        if enrich_node_list_v:\n",
    "#            node_list_v.loc[:, 'occurrence'] = G.diagonal().tolist()\n",
    "#    elif norm == 'partial':\n",
    "#        from sklearn.preprocessing import normalize\n",
    "#        BN = normalize(B, norm='l1', axis=1)\n",
    "#        G = (BT * BN).tocsr()\n",
    "#        if enrich_node_list_v:\n",
    "#            node_list_v.loc[:, 'occurrence'] = G.sum(axis=0).tolist()[0]\n",
    "#            node_list_v.loc[:, 'self-occurrence'] = G.diagonal().tolist()\n",
    "#            node_list_v.loc[:, 'self-sufficiency'] = node_list_v['self-occurrence'] / node_list_v['occurrence']\n",
    "#            node_list_v.loc[:, 'embeddedness'] = 1 - node_list_v['self-sufficiency']\n",
    "#    elif norm == 'full':\n",
    "#        from sklearn.preprocessing import normalize\n",
    "#        BN = normalize(B, norm='l1', axis=1)\n",
    "#        BNT = csr_matrix.transpose(BN)\n",
    "#        G = (BNT * BN).tocsr()\n",
    "#        if enrich_node_list_v:\n",
    "#            node_list_v.loc[:, 'self-occurrence'] = G.sum(axis=0).tolist()[0]\n",
    "#    \n",
    "#    # construct co-occurrence edge list with cumulative fractions\n",
    "#    edge_list_v = pd.concat([pd.Series(G.nonzero()[0]), pd.Series(G.nonzero()[1]), pd.Series(G.data)], axis=1)\n",
    "#    edge_list_v.columns = [node_v_identifier+'_i', node_v_identifier+'_j', 'weight']\n",
    "#    if directed == False:\n",
    "#        edge_list_v = edge_list_v[edge_list_v[node_v_identifier+'_j'] >= edge_list_v[node_v_identifier+'_i']]\n",
    "#    if remove_self_loops == True:\n",
    "#        edge_list_v = edge_list_v[edge_list_v[node_v_identifier+'_j'] != edge_list_v[node_v_identifier+'_i']]\n",
    "#    edge_list_v_cumfrac = edge_list_v['weight'].groupby(edge_list_v['weight']).sum().sort_index(ascending=False)\n",
    "#    edge_list_v_cumfrac = (edge_list_v_cumfrac.cumsum() / sum(edge_list_v_cumfrac)).round(6)\n",
    "#    edge_list_v_cumfrac.rename('cumfrac', inplace=True)\n",
    "#    edge_list_v = pd.merge(left=edge_list_v, right=edge_list_v_cumfrac, left_on='weight', right_on=edge_list_v_cumfrac.index)\n",
    "#    \n",
    "#    return edge_list_v\n",
    "#\n",
    "#def co_occurrence_category(\n",
    "#    node_list_u, \n",
    "#    node_list_v, \n",
    "#    edge_list, \n",
    "#    node_u_identifier, \n",
    "#    node_v_identifier, \n",
    "#    category_identifier, \n",
    "#    weight, \n",
    "#    norm, \n",
    "#    directed = False, \n",
    "#    remove_self_loops = True\n",
    "#):\n",
    "#    '''\n",
    "#    Description: Constructs a unipartite co-occurrence matrix from pandas node lists \n",
    "#        representing the two sets U and V and an edge list E representing a bipartite \n",
    "#        occurrence matrix by projecting E to the V side, possibly using normalization, \n",
    "#        for the special case where occurrences belong to distinct categories.\n",
    "#    \n",
    "#    Inputs:\n",
    "#        node_list_u: pandas dataframe containing the identifiers and properties of node in \n",
    "#            the set U; must contain a continuous identifier from 0 to N-1 where N is the \n",
    "#            number of vertices; node attributes must be in additional columns.\n",
    "#        node_list_v: pandas dataframe containing the identifiers and properties of node in \n",
    "#            the set V; must contain a continuous identifier from 0 to N-1 where N is the \n",
    "#            number of vertices; node attributes must be in additional columns.\n",
    "#        edge_list: pandas dataframe representing the occurrence matrix; must contain a U \n",
    "#            and V node identifier pair per occurrence or edge.\n",
    "#        node_u_identifier: Column name of the U node list that contains the node identifier.\n",
    "#        node_v_identifier: Column name of the V node list that contains the node identifier.\n",
    "#        category_identifier: Column name of the edge list that tells which category an \n",
    "#            occurrence belongs to.\n",
    "#        weight: Column name of the edge list that contains the weight of an occurrence; \n",
    "#            if None, it is set to 1.\n",
    "#        norm: Kind of normalization to be used in projecting the co-occurrence matrix; \n",
    "#            if None, no normalization is used; if 'partial', partial row normalization is \n",
    "#            used; if 'full', full row normalization is used.\n",
    "#        directed: If co-occurrence should be directed (boolean); set to False by default.\n",
    "#        remove_self_loops: If values in the diagonal of the co-occurrence matrix should \n",
    "#            be removed (boolean); set to True by default.\n",
    "#    \n",
    "#    Output: Unipartite matrix in form of a pandas dataframe or edge list giving weighted \n",
    "#        and categorized co-occurrences.\n",
    "#    '''\n",
    "#    import pandas as pd\n",
    "#    \n",
    "#    categories = edge_list[category_identifier].drop_duplicates().sort_values().tolist()\n",
    "#    edge_list_v = pd.DataFrame(columns=[node_v_identifier+'_i', node_v_identifier+'_j', category_identifier, 'weight', 'cumfrac'], dtype='int')\n",
    "#    for category in categories:\n",
    "#        edge_list_v_category = co_occurrence(node_list_u=node_list_u, node_list_v=node_list_v, edge_list=edge_list[edge_list[category_identifier]==category], node_u_identifier=node_u_identifier, node_v_identifier=node_v_identifier, weight=weight, norm=norm, directed=directed, remove_self_loops=remove_self_loops, enrich_node_list_v=False)\n",
    "#        edge_list_v_category.loc[:, category_identifier] = category\n",
    "#        edge_list_v_category = edge_list_v_category[[node_v_identifier+'_i', node_v_identifier+'_j', category_identifier, 'weight', 'cumfrac']]\n",
    "#        edge_list_v = pd.concat([edge_list_v, edge_list_v_category])\n",
    "#    \n",
    "#    return edge_list_v\n",
    "\n",
    "def co_occurrence(\n",
    "    node_list_u, \n",
    "    node_list_v, \n",
    "    edge_list, \n",
    "    node_u_identifier, \n",
    "    node_v_identifier, \n",
    "    weight, \n",
    "    norm, \n",
    "    category_identifier = None, \n",
    "    directed = False, \n",
    "    remove_self_loops = True, \n",
    "    enrich_node_list_v = False\n",
    "):\n",
    "    '''\n",
    "    Description: Constructs a unipartite co-occurrence matrix from pandas node lists \n",
    "        representing the two sets U and V and an edge list E representing a bipartite \n",
    "        occurrence matrix by projecting E to the V side, possibly using normalization.\n",
    "    \n",
    "    Inputs:\n",
    "        node_list_u: pandas dataframe containing the identifiers and properties of node in \n",
    "            the set U; must contain a continuous identifier from 0 to N-1 where N is the \n",
    "            number of vertices; node attributes must be in additional columns.\n",
    "        node_list_v: pandas dataframe containing the identifiers and properties of node in \n",
    "            the set V; must contain a continuous identifier from 0 to N-1 where N is the \n",
    "            number of vertices; node attributes must be in additional columns.\n",
    "        edge_list: pandas dataframe representing the occurrence matrix; must contain a U \n",
    "            and V node identifier pair per occurrence or edge.\n",
    "        node_u_identifier: Column name of the U node list that contains the node identifier.\n",
    "        node_v_identifier: Column name of the V node list that contains the node identifier.\n",
    "        weight: Column name of the edge list that contains the weight of an occurrence; \n",
    "            if None, it is set to 1.\n",
    "        norm: Kind of normalization to be used in projecting the co-occurrence matrix; \n",
    "            if None, no normalization is used; if 'partial', partial row normalization is \n",
    "            used; if 'full', full row normalization is used.\n",
    "        category_identifier: Column name of the edge list that tells which category an \n",
    "            occurrence belongs to; set to None by default.\n",
    "        directed: If co-occurrence should be directed (boolean); set to False by default.\n",
    "        remove_self_loops: If values in the diagonal of the co-occurrence matrix should \n",
    "            be removed (boolean); set to True by default.\n",
    "        enrich_node_list_v: If node attributes from matrix projection (e.g., occurrence, \n",
    "            self-occurrence) should be stored in the node list representing V; set to False \n",
    "            by default.\n",
    "    \n",
    "    Output: Unipartite matrix in form of a pandas dataframe or edge list giving weighted \n",
    "        co-occurrences.\n",
    "    '''\n",
    "    import pandas as pd\n",
    "    from scipy.sparse import coo_matrix, csr_matrix\n",
    "    \n",
    "    if category_identifier:\n",
    "        import compsoc as cs\n",
    "        \n",
    "        # call compsoc function\n",
    "        if enrich_node_list_v:\n",
    "            print(\"Node list can't be enriched because co-occurrences are computed for categories.\")\n",
    "        categories = edge_list[category_identifier].drop_duplicates().sort_values().tolist()\n",
    "        edge_list_v = pd.DataFrame(columns=[node_v_identifier+'_i', node_v_identifier+'_j', category_identifier, 'weight', 'cumfrac'], dtype='int')\n",
    "        for category in categories:\n",
    "            edge_list_v_category = cs.co_occurrence(node_list_u=node_list_u, node_list_v=node_list_v, edge_list=edge_list[edge_list[category_identifier]==category], node_u_identifier=node_u_identifier, node_v_identifier=node_v_identifier, category_identifier=None, weight=weight, norm=norm, directed=directed, remove_self_loops=remove_self_loops, enrich_node_list_v=False)\n",
    "            edge_list_v_category.loc[:, category_identifier] = category\n",
    "            edge_list_v_category = edge_list_v_category[[node_v_identifier+'_i', node_v_identifier+'_j', category_identifier, 'weight', 'cumfrac']]\n",
    "            edge_list_v = pd.concat([edge_list_v, edge_list_v_category])\n",
    "    else:\n",
    "        # node list checks\n",
    "        node_list_u = node_list_u.sort_values(node_u_identifier, ascending=True).reset_index(drop=True)\n",
    "        node_list_v = node_list_v.sort_values(node_v_identifier, ascending=True).reset_index(drop=True)\n",
    "        check_u = node_list_u[node_u_identifier] == node_list_u.index\n",
    "        check_v = node_list_v[node_v_identifier] == node_list_v.index\n",
    "        if (sum(check_u) == len(node_list_u)) == False:\n",
    "            print('The node list dataframe of set U does not meet the requirements. Check if the'+node_identifier+'column contains integers from zero to N-1 where N is the number of vertices in the graph.')\n",
    "        if (sum(check_v) == len(node_list_v)) == False:\n",
    "            print('The node list dataframe of set V does not meet the requirements. Check if the'+node_identifier+'column contains integers from zero to N-1 where N is the number of vertices in the graph.')\n",
    "        \n",
    "        # construct occurrence matrix\n",
    "        rows = edge_list[node_u_identifier].tolist()\n",
    "        columns = edge_list[node_v_identifier].tolist()\n",
    "        if weight:\n",
    "            weights = edge_list[weight].tolist()\n",
    "        else:\n",
    "            weights = [1] * len(edge_list)\n",
    "        B = coo_matrix((weights, (rows, columns)), shape=(len(node_list_u), len(node_list_v))).tocsr()\n",
    "        BT = csr_matrix.transpose(B)\n",
    "        \n",
    "        # construct co-occurrence matrix\n",
    "        if norm == None:\n",
    "            G = (BT * B).tocsr()\n",
    "            if enrich_node_list_v:\n",
    "                print('Enriching...')\n",
    "                node_list_v.loc[:, 'occurrence'] = G.diagonal().tolist()\n",
    "        elif norm == 'partial':\n",
    "            from sklearn.preprocessing import normalize\n",
    "            BN = normalize(B, norm='l1', axis=1)\n",
    "            G = (BT * BN).tocsr()\n",
    "            if enrich_node_list_v:\n",
    "                print('Enriching...')\n",
    "                node_list_v.loc[:, 'occurrence'] = G.sum(axis=0).tolist()[0]\n",
    "                node_list_v.loc[:, 'self-occurrence'] = G.diagonal().tolist()\n",
    "                node_list_v.loc[:, 'self-sufficiency'] = node_list_v['self-occurrence'] / node_list_v['occurrence']\n",
    "                node_list_v.loc[:, 'embeddedness'] = 1 - node_list_v['self-sufficiency']\n",
    "        elif norm == 'full':\n",
    "            from sklearn.preprocessing import normalize\n",
    "            BN = normalize(B, norm='l1', axis=1)\n",
    "            BNT = csr_matrix.transpose(BN)\n",
    "            G = (BNT * BN).tocsr()\n",
    "            if enrich_node_list_v:\n",
    "                print('Enriching...')\n",
    "                node_list_v.loc[:, 'self-occurrence'] = G.sum(axis=0).tolist()[0]\n",
    "        \n",
    "        # construct co-occurrence edge list with cumulative fractions\n",
    "        edge_list_v = pd.concat([pd.Series(G.nonzero()[0]), pd.Series(G.nonzero()[1]), pd.Series(G.data)], axis=1)\n",
    "        edge_list_v.columns = [node_v_identifier+'_i', node_v_identifier+'_j', 'weight']\n",
    "        if directed == False:\n",
    "            edge_list_v = edge_list_v[edge_list_v[node_v_identifier+'_j'] >= edge_list_v[node_v_identifier+'_i']]\n",
    "        if remove_self_loops == True:\n",
    "            edge_list_v = edge_list_v[edge_list_v[node_v_identifier+'_j'] != edge_list_v[node_v_identifier+'_i']]\n",
    "        edge_list_v_cumfrac = edge_list_v['weight'].groupby(edge_list_v['weight']).sum().sort_index(ascending=False)\n",
    "        edge_list_v_cumfrac = (edge_list_v_cumfrac.cumsum() / sum(edge_list_v_cumfrac)).round(6)\n",
    "        edge_list_v_cumfrac.rename('cumfrac', inplace=True)\n",
    "        edge_list_v = pd.merge(left=edge_list_v, right=edge_list_v_cumfrac, left_on='weight', right_on=edge_list_v_cumfrac.index)\n",
    "    \n",
    "    return edge_list_v"
   ]
  },
  {
   "cell_type": "markdown",
   "metadata": {},
   "source": [
    "## Using the function"
   ]
  },
  {
   "cell_type": "code",
   "execution_count": 54,
   "metadata": {},
   "outputs": [],
   "source": [
    "panelists, browsing, top_level_domains, category_names_top = cs.web_browsing_collection()"
   ]
  },
  {
   "cell_type": "code",
   "execution_count": 55,
   "metadata": {},
   "outputs": [],
   "source": [
    "browsing_sum = browsing[['panelist_id', 'top_level_domain_id', 'active_seconds']].groupby(['panelist_id', 'top_level_domain_id']).sum().reset_index()"
   ]
  },
  {
   "cell_type": "code",
   "execution_count": 56,
   "metadata": {},
   "outputs": [
    {
     "name": "stdout",
     "output_type": "stream",
     "text": [
      "Enriching...\n"
     ]
    }
   ],
   "source": [
    "co_browsing = cs.co_occurrence(\n",
    "    node_list_u = panelists, \n",
    "    node_list_v = top_level_domains, \n",
    "    edge_list = browsing_sum, \n",
    "    node_u_identifier = 'panelist_id', \n",
    "    node_v_identifier = 'top_level_domain_id', \n",
    "    weight = 'active_seconds', \n",
    "    norm = None, \n",
    "    category_identifier = None, \n",
    "    directed = False, \n",
    "    remove_self_loops = True, \n",
    "    enrich_node_list_v = True\n",
    ")"
   ]
  },
  {
   "cell_type": "markdown",
   "metadata": {},
   "source": [
    "WHY DOESN'T ENRICHMENT WORK?"
   ]
  },
  {
   "cell_type": "code",
   "execution_count": 57,
   "metadata": {},
   "outputs": [],
   "source": [
    "g_co_browsing = cs.construct_graph(\n",
    "    node_list = top_level_domains, \n",
    "    node_identifier = 'top_level_domain_id', \n",
    "    edge_list = co_browsing[co_browsing['cumfrac'] < .1], \n",
    "    directed = False, \n",
    "    graph_name = 'g_co_browsing', \n",
    "    node_properties = ['top_level_domain'], \n",
    "    node_property_types = ['string'], \n",
    "    edge_properties = ['weight'], \n",
    "    edge_property_types = ['float']\n",
    ")\n",
    "g_co_browsing_lcc = gt.extract_largest_component(g_co_browsing)"
   ]
  },
  {
   "cell_type": "code",
   "execution_count": 58,
   "metadata": {},
   "outputs": [
    {
     "data": {
      "text/plain": [
       "<GraphView object, undirected, with 12 vertices and 14 edges, 1 internal vertex property, 1 internal edge property, 1 internal graph property, edges filtered by (<EdgePropertyMap object with value type 'bool', for Graph 0x7f1803221a50, at 0x7f180321b4d0>, False), vertices filtered by (<VertexPropertyMap object with value type 'bool', for Graph 0x7f1803221a50, at 0x7f18032269d0>, False), at 0x7f1803221a50>"
      ]
     },
     "execution_count": 58,
     "metadata": {},
     "output_type": "execute_result"
    }
   ],
   "source": [
    "g_co_browsing_lcc"
   ]
  },
  {
   "cell_type": "code",
   "execution_count": 59,
   "metadata": {},
   "outputs": [
    {
     "data": {
      "image/png": "[encoded data removed]",
      "text/plain": [
       "<IPython.core.display.Image object>"
      ]
     },
     "metadata": {
      "image/png": {
       "height": 316,
       "width": 600
      }
     },
     "output_type": "display_data"
    },
    {
     "data": {
      "text/plain": [
       "<VertexPropertyMap object with value type 'vector<double>', for Graph 0x7f1803221a50, at 0x7f18032128d0>"
      ]
     },
     "execution_count": 59,
     "metadata": {},
     "output_type": "execute_result"
    }
   ],
   "source": [
    "gt.graph_draw(\n",
    "    g = g_co_browsing_lcc, \n",
    "    vertex_text = g_co_browsing_lcc.vp.top_level_domain, \n",
    "    vertex_text_position = -2, \n",
    "    vertex_fill_color = 'white', \n",
    "    edge_pen_width = gt.prop_to_size(prop=g_co_browsing_lcc.ep.weight, mi=1, ma=10)\n",
    ")"
   ]
  },
  {
   "cell_type": "code",
   "execution_count": 60,
   "metadata": {},
   "outputs": [],
   "source": [
    "browsing_cat_sum = browsing[['panelist_id', 'top_level_domain_id', 'category_name_top_id', 'active_seconds']].groupby(['panelist_id', 'top_level_domain_id', 'category_name_top_id']).sum().reset_index()"
   ]
  },
  {
   "cell_type": "markdown",
   "metadata": {},
   "source": [
    "DEBUG:"
   ]
  },
  {
   "cell_type": "code",
   "execution_count": 62,
   "metadata": {},
   "outputs": [
    {
     "ename": "ValueError",
     "evalue": "cannot set a frame with no defined index and a scalar",
     "output_type": "error",
     "traceback": [
      "\u001b[0;31m---------------------------------------------------------------------------\u001b[0m",
      "\u001b[0;31mValueError\u001b[0m                                Traceback (most recent call last)",
      "Cell \u001b[0;32mIn[62], line 1\u001b[0m\n\u001b[0;32m----> 1\u001b[0m co_browsing_cat \u001b[38;5;241m=\u001b[39m cs\u001b[38;5;241m.\u001b[39mco_occurrence(\n\u001b[1;32m      2\u001b[0m     node_list_u \u001b[38;5;241m=\u001b[39m panelists, \n\u001b[1;32m      3\u001b[0m     node_list_v \u001b[38;5;241m=\u001b[39m top_level_domains, \n\u001b[1;32m      4\u001b[0m     edge_list \u001b[38;5;241m=\u001b[39m browsing_cat_sum, \n\u001b[1;32m      5\u001b[0m     node_u_identifier \u001b[38;5;241m=\u001b[39m \u001b[38;5;124m'\u001b[39m\u001b[38;5;124mpanelist_id\u001b[39m\u001b[38;5;124m'\u001b[39m, \n\u001b[1;32m      6\u001b[0m     node_v_identifier \u001b[38;5;241m=\u001b[39m \u001b[38;5;124m'\u001b[39m\u001b[38;5;124mtop_level_domain_id\u001b[39m\u001b[38;5;124m'\u001b[39m, \n\u001b[1;32m      7\u001b[0m     weight \u001b[38;5;241m=\u001b[39m \u001b[38;5;124m'\u001b[39m\u001b[38;5;124mactive_seconds\u001b[39m\u001b[38;5;124m'\u001b[39m, \n\u001b[1;32m      8\u001b[0m     norm \u001b[38;5;241m=\u001b[39m \u001b[38;5;28;01mNone\u001b[39;00m, \n\u001b[1;32m      9\u001b[0m     category_identifier \u001b[38;5;241m=\u001b[39m \u001b[38;5;124m'\u001b[39m\u001b[38;5;124mcategory_name_top_id\u001b[39m\u001b[38;5;124m'\u001b[39m, \n\u001b[1;32m     10\u001b[0m     directed \u001b[38;5;241m=\u001b[39m \u001b[38;5;28;01mFalse\u001b[39;00m, \n\u001b[1;32m     11\u001b[0m     remove_self_loops \u001b[38;5;241m=\u001b[39m \u001b[38;5;28;01mTrue\u001b[39;00m, \n\u001b[1;32m     12\u001b[0m     enrich_node_list_v \u001b[38;5;241m=\u001b[39m \u001b[38;5;28;01mFalse\u001b[39;00m\n\u001b[1;32m     13\u001b[0m )\n",
      "File \u001b[0;32m~/compsoc/compsoc.py:297\u001b[0m, in \u001b[0;36mco_occurrence\u001b[0;34m(node_list_u, node_list_v, edge_list, node_u_identifier, node_v_identifier, weight, norm, category_identifier, directed, remove_self_loops, enrich_node_list_v)\u001b[0m\n\u001b[1;32m    295\u001b[0m \u001b[38;5;28;01mfor\u001b[39;00m category \u001b[38;5;129;01min\u001b[39;00m categories:\n\u001b[1;32m    296\u001b[0m     edge_list_v_category \u001b[38;5;241m=\u001b[39m cs\u001b[38;5;241m.\u001b[39mco_occurrence(node_list_u\u001b[38;5;241m=\u001b[39mnode_list_u, node_list_v\u001b[38;5;241m=\u001b[39mnode_list_v, edge_list\u001b[38;5;241m=\u001b[39medge_list[edge_list[category_identifier]\u001b[38;5;241m==\u001b[39mcategory], node_u_identifier\u001b[38;5;241m=\u001b[39mnode_u_identifier, node_v_identifier\u001b[38;5;241m=\u001b[39mnode_v_identifier, category_identifier\u001b[38;5;241m=\u001b[39m\u001b[38;5;28;01mNone\u001b[39;00m, weight\u001b[38;5;241m=\u001b[39mweight, norm\u001b[38;5;241m=\u001b[39mnorm, directed\u001b[38;5;241m=\u001b[39mdirected, remove_self_loops\u001b[38;5;241m=\u001b[39mremove_self_loops, enrich_node_list_v\u001b[38;5;241m=\u001b[39m\u001b[38;5;28;01mFalse\u001b[39;00m)\n\u001b[0;32m--> 297\u001b[0m     edge_list_v_category\u001b[38;5;241m.\u001b[39mloc[:, category_identifier] \u001b[38;5;241m=\u001b[39m category\n\u001b[1;32m    298\u001b[0m     edge_list_v_category \u001b[38;5;241m=\u001b[39m edge_list_v_category[[node_v_identifier\u001b[38;5;241m+\u001b[39m\u001b[38;5;124m'\u001b[39m\u001b[38;5;124m_i\u001b[39m\u001b[38;5;124m'\u001b[39m, node_v_identifier\u001b[38;5;241m+\u001b[39m\u001b[38;5;124m'\u001b[39m\u001b[38;5;124m_j\u001b[39m\u001b[38;5;124m'\u001b[39m, category_identifier, \u001b[38;5;124m'\u001b[39m\u001b[38;5;124mweight\u001b[39m\u001b[38;5;124m'\u001b[39m, \u001b[38;5;124m'\u001b[39m\u001b[38;5;124mcumfrac\u001b[39m\u001b[38;5;124m'\u001b[39m]]\n\u001b[1;32m    299\u001b[0m     edge_list_v \u001b[38;5;241m=\u001b[39m pd\u001b[38;5;241m.\u001b[39mconcat([edge_list_v, edge_list_v_category])\n",
      "File \u001b[0;32m~/.conda/envs/compsoc/lib/python3.11/site-packages/pandas/core/indexing.py:849\u001b[0m, in \u001b[0;36m_LocationIndexer.__setitem__\u001b[0;34m(self, key, value)\u001b[0m\n\u001b[1;32m    846\u001b[0m \u001b[38;5;28mself\u001b[39m\u001b[38;5;241m.\u001b[39m_has_valid_setitem_indexer(key)\n\u001b[1;32m    848\u001b[0m iloc \u001b[38;5;241m=\u001b[39m \u001b[38;5;28mself\u001b[39m \u001b[38;5;28;01mif\u001b[39;00m \u001b[38;5;28mself\u001b[39m\u001b[38;5;241m.\u001b[39mname \u001b[38;5;241m==\u001b[39m \u001b[38;5;124m\"\u001b[39m\u001b[38;5;124miloc\u001b[39m\u001b[38;5;124m\"\u001b[39m \u001b[38;5;28;01melse\u001b[39;00m \u001b[38;5;28mself\u001b[39m\u001b[38;5;241m.\u001b[39mobj\u001b[38;5;241m.\u001b[39miloc\n\u001b[0;32m--> 849\u001b[0m iloc\u001b[38;5;241m.\u001b[39m_setitem_with_indexer(indexer, value, \u001b[38;5;28mself\u001b[39m\u001b[38;5;241m.\u001b[39mname)\n",
      "File \u001b[0;32m~/.conda/envs/compsoc/lib/python3.11/site-packages/pandas/core/indexing.py:1751\u001b[0m, in \u001b[0;36m_iLocIndexer._setitem_with_indexer\u001b[0;34m(self, indexer, value, name)\u001b[0m\n\u001b[1;32m   1749\u001b[0m \u001b[38;5;28;01mif\u001b[39;00m \u001b[38;5;129;01mnot\u001b[39;00m \u001b[38;5;28mlen\u001b[39m(\u001b[38;5;28mself\u001b[39m\u001b[38;5;241m.\u001b[39mobj):\n\u001b[1;32m   1750\u001b[0m     \u001b[38;5;28;01mif\u001b[39;00m \u001b[38;5;129;01mnot\u001b[39;00m is_list_like_indexer(value):\n\u001b[0;32m-> 1751\u001b[0m         \u001b[38;5;28;01mraise\u001b[39;00m \u001b[38;5;167;01mValueError\u001b[39;00m(\n\u001b[1;32m   1752\u001b[0m             \u001b[38;5;124m\"\u001b[39m\u001b[38;5;124mcannot set a frame with no \u001b[39m\u001b[38;5;124m\"\u001b[39m\n\u001b[1;32m   1753\u001b[0m             \u001b[38;5;124m\"\u001b[39m\u001b[38;5;124mdefined index and a scalar\u001b[39m\u001b[38;5;124m\"\u001b[39m\n\u001b[1;32m   1754\u001b[0m         )\n\u001b[1;32m   1755\u001b[0m     \u001b[38;5;28mself\u001b[39m\u001b[38;5;241m.\u001b[39mobj[key] \u001b[38;5;241m=\u001b[39m value\n\u001b[1;32m   1756\u001b[0m     \u001b[38;5;28;01mreturn\u001b[39;00m\n",
      "\u001b[0;31mValueError\u001b[0m: cannot set a frame with no defined index and a scalar"
     ]
    }
   ],
   "source": [
    "co_browsing_cat = cs.co_occurrence(\n",
    "    node_list_u = panelists, \n",
    "    node_list_v = top_level_domains, \n",
    "    edge_list = browsing_cat_sum, \n",
    "    node_u_identifier = 'panelist_id', \n",
    "    node_v_identifier = 'top_level_domain_id', \n",
    "    weight = 'active_seconds', \n",
    "    norm = None, \n",
    "    category_identifier = 'category_name_top_id', \n",
    "    directed = False, \n",
    "    remove_self_loops = True, \n",
    "    enrich_node_list_v = False\n",
    ")"
   ]
  },
  {
   "cell_type": "code",
   "execution_count": null,
   "metadata": {},
   "outputs": [],
   "source": []
  },
  {
   "cell_type": "markdown",
   "metadata": {},
   "source": [
    "***"
   ]
  },
  {
   "cell_type": "markdown",
   "metadata": {},
   "source": [
    "## About this tutorial\n",
    "\n",
    "**License**: CC BY 4.0. Distribute, remix, adapt, and build upon ``compsoc``, even commercially, as long as you credit us for the original creation.\n",
    "\n",
    "**Suggested citation**: Lietz, H. (2025). Projecting bipartite occurrences to co-occurrences. Version 1.0 (XX.XX.XXXX). *compsoc – Computational Social Methods in Python*. Cologne: GESIS – Leibniz Institute for the Social Sciences. https://github.com/gesiscss/compsoc"
   ]
  },
  {
   "cell_type": "code",
   "execution_count": null,
   "metadata": {},
   "outputs": [],
   "source": []
  }
 ],
 "metadata": {
  "kernelspec": {
   "display_name": "compsoc",
   "language": "python",
   "name": "compsoc"
  },
  "language_info": {
   "codemirror_mode": {
    "name": "ipython",
    "version": 3
   },
   "file_extension": ".py",
   "mimetype": "text/x-python",
   "name": "python",
   "nbconvert_exporter": "python",
   "pygments_lexer": "ipython3",
   "version": "3.11.5"
  }
 },
 "nbformat": 4,
 "nbformat_minor": 4
}
