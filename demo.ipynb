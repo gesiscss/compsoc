{
 "cells": [
  {
   "cell_type": "markdown",
   "metadata": {},
   "source": [
    "[Home](index.ipynb) > [Data Collections](data_collections.ipynb) > Elite families"
   ]
  },
  {
   "cell_type": "markdown",
   "metadata": {},
   "source": [
    "<img style='float: left;' src='https://www.gesis.org/fileadmin/styles/img/gs_home_logo_en.svg'>"
   ]
  },
  {
   "cell_type": "markdown",
   "metadata": {},
   "source": [
    "### ``compsoc`` – *Notebooks for Computational Sociology* (alpha)"
   ]
  },
  {
   "cell_type": "markdown",
   "metadata": {},
   "source": [
    "# `compsoc` demo: Transactional analysis of socio-cultural systems\n",
    "Authors: [Haiko Lietz](https://www.gesis.org/person/haiko.lietz)\n",
    "\n",
    "Please cite as: Lietz, Haiko (2020). compsoc demo: Transactional analysis of socio-cultural systems. *compsoc – Notebooks for Computational Sociology*. GESIS. url:[github.com/gesiscss/compsoc](https://github.com/gesiscss/compsoc)"
   ]
  },
  {
   "cell_type": "markdown",
   "metadata": {},
   "source": [
    "<div class=\"alert alert-info\">\n",
    "<big><b>Significance</b></big>\n",
    "\n",
    "`compsoc` aims at user friendliness. This notebooks demonstrates how far the amount of programming a user needs to know is currently reduced. Core `compsoc` tools for network construction and drawing are applied to three data collections and simple analyses are performed.\n",
    "</div>"
   ]
  },
  {
   "cell_type": "markdown",
   "metadata": {},
   "source": [
    "## Dependencies and settings"
   ]
  },
  {
   "cell_type": "code",
   "execution_count": null,
   "metadata": {},
   "outputs": [],
   "source": [
    "import compsoc as cs\n",
    "import networkx as nx\n",
    "import numpy as np\n",
    "import pandas as pd"
   ]
  },
  {
   "cell_type": "markdown",
   "metadata": {},
   "source": [
    "## Elite families data collection\n",
    "### Data management using dataframes"
   ]
  },
  {
   "cell_type": "markdown",
   "metadata": {},
   "source": [
    "|<img src='images/data_model.png' style='float: none; width: 460px'>|\n",
    "|:--|\n",
    "|<em style='float: center'>**Figure 1**: Unified model for digital behaioral data</em>|"
   ]
  },
  {
   "cell_type": "markdown",
   "metadata": {},
   "source": [
    "Each data collection has its own notebook where it is decribed and brought into the form of the unified data model (figure 1), if necessary. The elite families collection's notebook is [here](elite_families.ipynb). Collections are loaded by a simple function:"
   ]
  },
  {
   "cell_type": "code",
   "execution_count": null,
   "metadata": {},
   "outputs": [],
   "source": [
    "families, parties, relations, domains = cs.elite_families_collection()"
   ]
  },
  {
   "cell_type": "markdown",
   "metadata": {},
   "source": [
    "Data is managed in `pandas` dataframes because we are used to the rectangular kind of data organization and, once normalized, this form is both efficient and clear. The elite families collection is aggregated into family relationships, i.e., there is no `transactions` table. The `families` table will be used as a **node list** in the step of network construction:"
   ]
  },
  {
   "cell_type": "code",
   "execution_count": null,
   "metadata": {},
   "outputs": [],
   "source": [
    "families.head()"
   ]
  },
  {
   "cell_type": "markdown",
   "metadata": {},
   "source": [
    "Note that data normalization means storing the party in a separate table and linking to it via a `party_id`:"
   ]
  },
  {
   "cell_type": "code",
   "execution_count": null,
   "metadata": {},
   "outputs": [],
   "source": [
    "parties"
   ]
  },
  {
   "cell_type": "markdown",
   "metadata": {},
   "source": [
    "There are multiplex relations among the families, described in more detail in the notebvook of the [collection](elite_families.ipynb). This dataframe will be used as an **edge list** when constructing the network:"
   ]
  },
  {
   "cell_type": "code",
   "execution_count": null,
   "metadata": {},
   "outputs": [],
   "source": [
    "relations.head()"
   ]
  },
  {
   "cell_type": "markdown",
   "metadata": {},
   "source": [
    "Finally, the types of these multiplex ties are described in a separate table:"
   ]
  },
  {
   "cell_type": "code",
   "execution_count": null,
   "metadata": {},
   "outputs": [],
   "source": [
    "domains = pd.read_csv('data/elite_families/domains.txt', sep='\\t', encoding='utf-8')\n",
    "domains.head()"
   ]
  },
  {
   "cell_type": "markdown",
   "metadata": {},
   "source": [
    "### Workflow: From data to network construction, visualization and analysis\n",
    "#### Network construction\n",
    "`compsoc` provides functions that can be used in the various staps on an analytical process. First, the `construct_graph()` function, again described in its [own notebook](construct_graph.ipynb), builds networks from data in the normal form. It basically takes a node list and an edge list and lets the user specify **default attributes** for node position, node size, node color, etc. Since the elite families network is supposed to be a directed multiplex graph, set `directed=True` and `multiplex=True`. The node list must be a dataframe in the above form form, i.e., the node identifier must be an integer from 0 to $N-1$ for a graph of $N$ nodes. The edge list must be a dataframe that use these identifiers in the first two columns. The third column must contain an edge weight. If `multiplex=True`, the fourth column must be an integer from 0 to $L-1$ for $L$ network layers or domains. All parameters `node_...` expect as input a column name of the node list. `layer_color` is a dictionary of colors for edge layers. Below we override the default dictionary by custom colors:"
   ]
  },
  {
   "cell_type": "code",
   "execution_count": null,
   "metadata": {},
   "outputs": [],
   "source": [
    "G = cs.construct_graph(\n",
    "    directed=True, \n",
    "    multiplex=True, \n",
    "    graph_name='elite_families', \n",
    "    node_list=families, \n",
    "    edge_list=relations, \n",
    "    node_pos=['pos_x', 'pos_y'], \n",
    "    node_size='gross_wealth_mean', \n",
    "    node_color='partisanship_color', \n",
    "    node_shape='party_id', \n",
    "    node_border_color='status_color', \n",
    "    node_label='family', \n",
    "    layer_color={0: '#984ea3', 1: '#ff7f00', 2: '#4daf4a', 3: '#a65628'}\n",
    ")"
   ]
  },
  {
   "cell_type": "markdown",
   "metadata": {},
   "source": [
    "Get a basic description of the network:"
   ]
  },
  {
   "cell_type": "code",
   "execution_count": null,
   "metadata": {},
   "outputs": [],
   "source": [
    "print(nx.info(G))"
   ]
  },
  {
   "cell_type": "markdown",
   "metadata": {},
   "source": [
    "#### Network visualization\n",
    "Having constructed the network, the next step is to visualize it. The `draw_graph()` function described [here](draw_graph.ipynb) takes the graph just created and uses the attributes stored in it as default values. Both functions work in tandem. They are part of the `compsoc `backbone. The network uses many attributes: gross wealth for node size, partisanship for node color, status for node border color, edge width for the strength of family relations, and edge color for the tye of tie. Since these attributes are already internalized in the graph object, drawing only requires a fine tuning of sizes:"
   ]
  },
  {
   "cell_type": "code",
   "execution_count": null,
   "metadata": {},
   "outputs": [],
   "source": [
    "cs.draw_graph(\n",
    "    G, \n",
    "    node_size_factor=0.02, \n",
    "    node_border_width=4, \n",
    "    curved_edges=True, \n",
    "    labels='text', \n",
    "    font_size_factor=.0002, \n",
    "    label_transparency=.75, \n",
    "    figsize='large', \n",
    "    png='elite_families'\n",
    ")"
   ]
  },
  {
   "cell_type": "markdown",
   "metadata": {},
   "source": [
    "If we want to draw a simpler version of the graph with fewer attributes visualized, we can set the corresponding parameters to `None`:"
   ]
  },
  {
   "cell_type": "code",
   "execution_count": null,
   "metadata": {},
   "outputs": [],
   "source": [
    "cs.draw_graph(\n",
    "    G, \n",
    "    node_size=None, \n",
    "    node_size_factor=.3, \n",
    "    node_color=None, \n",
    "    node_shape=None, \n",
    "    node_border_color=None, \n",
    "    node_border_width=1, \n",
    "    edge_width=None, \n",
    "    edge_color=None, \n",
    "    figsize='medium'\n",
    ")"
   ]
  },
  {
   "cell_type": "markdown",
   "metadata": {},
   "source": [
    "#### Network analysis\n",
    "The elite families graph has often been used to teach centrality analysi, i.e., the analysis of nodes in terms of a atructural ranking. The way `compsoc` is contructed, all we need to do is to plug the respective centrality score into the parameter for node size. We see, e.g., that the Medici family is both central in terms of being **close** to all other families in the power game..."
   ]
  },
  {
   "cell_type": "code",
   "execution_count": null,
   "metadata": {},
   "outputs": [],
   "source": [
    "cs.draw_graph(\n",
    "    G, \n",
    "    node_size=nx.closeness_centrality(G), \n",
    "    node_size_factor=2500, \n",
    "    node_border_color=None, \n",
    "    curved_edges=True, \n",
    "    labels='text', \n",
    "    font_size=None, \n",
    "    label_transparency=.75, \n",
    "    figsize='large', \n",
    "    png='elite_families'\n",
    ")"
   ]
  },
  {
   "cell_type": "markdown",
   "metadata": {},
   "source": [
    "... as well as most central in terms of being **between** other families:"
   ]
  },
  {
   "cell_type": "code",
   "execution_count": null,
   "metadata": {},
   "outputs": [],
   "source": [
    "cs.draw_graph(\n",
    "    G, \n",
    "    node_size=nx.betweenness_centrality(nx.DiGraph(G)), \n",
    "    node_size_factor=2500, \n",
    "    node_border_color=None, \n",
    "    curved_edges=True, \n",
    "    labels='text', \n",
    "    font_size=None, \n",
    "    label_transparency=.75, \n",
    "    figsize='large', \n",
    "    png='elite_families'\n",
    ")"
   ]
  },
  {
   "cell_type": "markdown",
   "metadata": {},
   "source": [
    "## Copenhagen Networks Study data collection\n",
    "The Copenhagen Networks Study [collection](copenhagen.ipynb) is one of the premier datasets in the realm of digital behavioral data because it contains four types of relations among 845 university students. Bringing it into the standard form already takes some effort, but this is done when we load the dataset:"
   ]
  },
  {
   "cell_type": "code",
   "execution_count": null,
   "metadata": {},
   "outputs": [],
   "source": [
    "users, genders, bluetooth, calls, sms, facebook_friends = cs.copenhagen_collection()"
   ]
  },
  {
   "cell_type": "markdown",
   "metadata": {},
   "source": [
    "As with the elite families collection there is no transactions table of transactions. Certainly calls and short messages are transactions with a sender, a receiver, and a content, but storing data as simple relations among users is preferred because there are no metadata of the transactions.\n",
    "\n",
    "In principle, it would be possible to construct a multiplex graph from the **four types of tie**. But this step needs care because the four layers operate no **different time scales**. Bluetooth user proximity is measured every 5 minutes, users make 0.15 calls per day on average, they send 1 text message per day on average, and the Facebook friendship network is a static snapshot at the end of the 4 week observation period. Therefore, we construct the networks layer by layer. These steps require that a `compsoc` user has basic knowledge how to preprocess dataframes in `pandas`.\n",
    "### Network construction and visualization\n",
    "#### Network of physical proximity\n",
    "Preprocess data (extract day 1):"
   ]
  },
  {
   "cell_type": "code",
   "execution_count": null,
   "metadata": {},
   "outputs": [],
   "source": [
    "bluetooth_preprocessed = bluetooth[bluetooth['day'] == 0]\n",
    "bluetooth_preprocessed = bluetooth_preprocessed[['user_id_from', 'user_id_to', 'strength']].groupby(['user_id_from', 'user_id_to']).max().reset_index()"
   ]
  },
  {
   "cell_type": "markdown",
   "metadata": {},
   "source": [
    "Construct graph:"
   ]
  },
  {
   "cell_type": "code",
   "execution_count": null,
   "metadata": {},
   "outputs": [],
   "source": [
    "H_bluetooth_preprocessed = cs.construct_graph(\n",
    "    directed=False, \n",
    "    multiplex=False, \n",
    "    graph_name='bluetooth_preprocessed', \n",
    "    node_list=users, \n",
    "    edge_list=bluetooth_preprocessed, \n",
    "    node_color='gender_id', \n",
    "    node_label='user'\n",
    ")"
   ]
  },
  {
   "cell_type": "markdown",
   "metadata": {},
   "source": [
    "Draw graph with periphery removed:"
   ]
  },
  {
   "cell_type": "code",
   "execution_count": null,
   "metadata": {},
   "outputs": [],
   "source": [
    "cs.draw_graph(\n",
    "    H_bluetooth_preprocessed.subgraph(max(nx.connected_components(nx.to_undirected(H_bluetooth_preprocessed)))), \n",
    "    edge_color='#e41a1c', \n",
    "    edge_width_factor=.05\n",
    ")"
   ]
  },
  {
   "cell_type": "markdown",
   "metadata": {},
   "source": [
    "#### Network of phone calls\n",
    "Preprocess data:"
   ]
  },
  {
   "cell_type": "code",
   "execution_count": null,
   "metadata": {},
   "outputs": [],
   "source": [
    "calls_preprocessed = calls[['user_id_from', 'user_id_to', 'duration']].groupby(['user_id_from', 'user_id_to']).sum().reset_index()\n",
    "calls_preprocessed = calls_preprocessed[calls_preprocessed['duration'] > 1]\n",
    "calls_preprocessed.loc[:, 'duration_log'] = np.log10(calls_preprocessed['duration'])\n",
    "calls_preprocessed = calls_preprocessed[['user_id_from', 'user_id_to', 'duration_log']]"
   ]
  },
  {
   "cell_type": "markdown",
   "metadata": {},
   "source": [
    "Construct graph:"
   ]
  },
  {
   "cell_type": "code",
   "execution_count": null,
   "metadata": {},
   "outputs": [],
   "source": [
    "H_calls_preprocessed = cs.construct_graph(\n",
    "    directed=True, \n",
    "    multiplex=False, \n",
    "    graph_name='calls_preprocessed', \n",
    "    node_list=users, \n",
    "    edge_list=calls_preprocessed, \n",
    "    node_color='gender_id', \n",
    "    node_label='user'\n",
    ")"
   ]
  },
  {
   "cell_type": "markdown",
   "metadata": {},
   "source": [
    "Draw graph with periphery removed:"
   ]
  },
  {
   "cell_type": "code",
   "execution_count": null,
   "metadata": {},
   "outputs": [],
   "source": [
    "cs.draw_graph(\n",
    "    H_calls_preprocessed.subgraph(max(nx.connected_components(nx.to_undirected(H_calls_preprocessed)), key=len)), \n",
    "    edge_color='#377eb8'\n",
    ")"
   ]
  },
  {
   "cell_type": "markdown",
   "metadata": {},
   "source": [
    "#### Network of text messages\n",
    "Preprocess data:"
   ]
  },
  {
   "cell_type": "code",
   "execution_count": null,
   "metadata": {},
   "outputs": [],
   "source": [
    "sms_preprocessed = sms.groupby(['user_id_from', 'user_id_to']).size().reset_index()\n",
    "sms_preprocessed.rename(columns={0: 'size'}, inplace=True)\n",
    "sms_preprocessed = sms_preprocessed[sms_preprocessed['size'] > 1]\n",
    "sms_preprocessed.loc[:, 'size_log'] = np.log10(sms_preprocessed['size'])\n",
    "sms_preprocessed = sms_preprocessed[['user_id_from', 'user_id_to', 'size_log']]"
   ]
  },
  {
   "cell_type": "markdown",
   "metadata": {},
   "source": [
    "Construct graph:"
   ]
  },
  {
   "cell_type": "code",
   "execution_count": null,
   "metadata": {},
   "outputs": [],
   "source": [
    "H_sms_preprocessed = cs.construct_graph(\n",
    "    directed=True, \n",
    "    multiplex=False, \n",
    "    graph_name='sms_preprocessed', \n",
    "    node_list=users, \n",
    "    edge_list=sms_preprocessed, \n",
    "    node_color='gender_id', \n",
    "    node_label='user'\n",
    ")"
   ]
  },
  {
   "cell_type": "markdown",
   "metadata": {},
   "source": [
    "Draw graph with periphery removed:"
   ]
  },
  {
   "cell_type": "code",
   "execution_count": null,
   "metadata": {},
   "outputs": [],
   "source": [
    "cs.draw_graph(\n",
    "    H_sms_preprocessed.subgraph(max(nx.connected_components(nx.to_undirected(H_sms_preprocessed)), key=len)), \n",
    "    edge_color='#4daf4a'\n",
    ")"
   ]
  },
  {
   "cell_type": "markdown",
   "metadata": {},
   "source": [
    "#### Network of Facebook friendships\n",
    "Preprocess data:"
   ]
  },
  {
   "cell_type": "code",
   "execution_count": null,
   "metadata": {},
   "outputs": [],
   "source": [
    "facebook_friends['weight'] = 1"
   ]
  },
  {
   "cell_type": "code",
   "execution_count": null,
   "metadata": {},
   "outputs": [],
   "source": [
    "H_facebook_friends = cs.construct_graph(\n",
    "    directed=False, \n",
    "    multiplex=False, \n",
    "    graph_name='facebook_friends', \n",
    "    node_list=users, \n",
    "    edge_list=facebook_friends, \n",
    "    node_color='gender_id', \n",
    "    node_label='user'\n",
    ")"
   ]
  },
  {
   "cell_type": "markdown",
   "metadata": {},
   "source": [
    "Construct graph:"
   ]
  },
  {
   "cell_type": "code",
   "execution_count": null,
   "metadata": {},
   "outputs": [],
   "source": [
    "cs.draw_graph(\n",
    "    H_facebook_friends.subgraph(max(nx.connected_components(nx.to_undirected(H_facebook_friends)), key=len)), \n",
    "    node_color=None, \n",
    "    edge_width_factor=.2, \n",
    "    edge_color='#984ea3'\n",
    ")"
   ]
  },
  {
   "cell_type": "markdown",
   "metadata": {},
   "source": [
    "### Network analysis\n",
    "Since there is a gender attribute, we may want to know if, for example, there are signs of homophily in these graphs, i.e., if users tend to connect with those of the same gender. A simple measure (that would need to be adjusted for size differences) is the assortativity coefficient:"
   ]
  },
  {
   "cell_type": "code",
   "execution_count": null,
   "metadata": {},
   "outputs": [],
   "source": [
    "print('bluetooth: ', nx.attribute_assortativity_coefficient(H_bluetooth_preprocessed, 'node_color'))\n",
    "print('calls: ', nx.attribute_assortativity_coefficient(H_calls_preprocessed, 'node_color'))\n",
    "print('sms: ', nx.attribute_assortativity_coefficient(H_sms_preprocessed, 'node_color'))\n",
    "print('facebook_friends: ', nx.attribute_assortativity_coefficient(H_facebook_friends, 'node_color'))"
   ]
  },
  {
   "cell_type": "code",
   "execution_count": null,
   "metadata": {},
   "outputs": [],
   "source": []
  }
 ],
 "metadata": {
  "kernelspec": {
   "display_name": "Python 3",
   "language": "python",
   "name": "python3"
  },
  "language_info": {
   "codemirror_mode": {
    "name": "ipython",
    "version": 3
   },
   "file_extension": ".py",
   "mimetype": "text/x-python",
   "name": "python",
   "nbconvert_exporter": "python",
   "pygments_lexer": "ipython3",
   "version": "3.8.3"
  }
 },
 "nbformat": 4,
 "nbformat_minor": 2
}
