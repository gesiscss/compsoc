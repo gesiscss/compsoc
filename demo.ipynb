{
 "cells": [
  {
   "cell_type": "markdown",
   "metadata": {},
   "source": [
    "[Home](index.ipynb) > [Data Collections](data_collections.ipynb) > Elite families"
   ]
  },
  {
   "cell_type": "markdown",
   "metadata": {},
   "source": [
    "<img style='float: left;' src='https://www.gesis.org/fileadmin/styles/img/gs_home_logo_en.svg'>"
   ]
  },
  {
   "cell_type": "markdown",
   "metadata": {},
   "source": [
    "### ``compsoc`` – *Notebooks for Computational Sociology* (alpha)"
   ]
  },
  {
   "cell_type": "markdown",
   "metadata": {},
   "source": [
    "# `compsoc` demo: Transactional analysis of socio-cultural systems\n",
    "Authors: [Haiko Lietz](https://www.gesis.org/person/haiko.lietz)\n",
    "\n",
    "Please cite as: Lietz, Haiko (2020). compsoc demo: Transactional analysis of socio-cultural systems. *compsoc – Notebooks for Computational Sociology*. GESIS. url:[github.com/gesiscss/compsoc](https://github.com/gesiscss/compsoc)"
   ]
  },
  {
   "cell_type": "markdown",
   "metadata": {},
   "source": [
    "<div class=\"alert alert-info\">\n",
    "<big><b>Significance</b></big>\n",
    "\n",
    "`compsoc` aims at user friendliness. This notebooks demonstrates how far the amount of programming a user needs to know is currently reduced. Core `compsoc` tools for network construction and drawing are applied to three data collections and simple analyses are performed.\n",
    "</div>"
   ]
  },
  {
   "cell_type": "markdown",
   "metadata": {},
   "source": [
    "## Dependencies and settings"
   ]
  },
  {
   "cell_type": "code",
   "execution_count": 1,
   "metadata": {},
   "outputs": [],
   "source": [
    "import compsoc as cs\n",
    "import networkx as nx\n",
    "import numpy as np\n",
    "import pandas as pd"
   ]
  },
  {
   "cell_type": "markdown",
   "metadata": {},
   "source": [
    "## Elite families data collection\n",
    "### Data management using dataframes"
   ]
  },
  {
   "cell_type": "markdown",
   "metadata": {},
   "source": [
    "|<img src='images/data_model.png' style='float: none; width: 460px'>|\n",
    "|:--|\n",
    "|<em style='float: center'>**Figure 1**: Unified model for digital behaioral data</em>|"
   ]
  },
  {
   "cell_type": "markdown",
   "metadata": {},
   "source": [
    "Each data collection has its own notebook where it is decribed and brought into the form of the unified data model (figure 1), if necessary. The elite families collection's notebook is [here](elite_families.ipynb). Collections are loaded by a simple function:"
   ]
  },
  {
   "cell_type": "code",
   "execution_count": 2,
   "metadata": {},
   "outputs": [],
   "source": [
    "families, parties, relations, domains = cs.elite_families_collection()"
   ]
  },
  {
   "cell_type": "markdown",
   "metadata": {},
   "source": [
    "Data is managed in `pandas` dataframes because we are used to the rectangular kind of data organization and, once normalized, this form is both efficient and clear. The elite families collection is aggregated into family relationships, i.e., there is no `transactions` table. The `families` table will be used as a **node list** in the step of network construction:"
   ]
  },
  {
   "cell_type": "code",
   "execution_count": 3,
   "metadata": {},
   "outputs": [
    {
     "data": {
      "text/html": [
       "<div>\n",
       "<style scoped>\n",
       "    .dataframe tbody tr th:only-of-type {\n",
       "        vertical-align: middle;\n",
       "    }\n",
       "\n",
       "    .dataframe tbody tr th {\n",
       "        vertical-align: top;\n",
       "    }\n",
       "\n",
       "    .dataframe thead th {\n",
       "        text-align: right;\n",
       "    }\n",
       "</style>\n",
       "<table border=\"1\" class=\"dataframe\">\n",
       "  <thead>\n",
       "    <tr style=\"text-align: right;\">\n",
       "      <th></th>\n",
       "      <th>family_id</th>\n",
       "      <th>family</th>\n",
       "      <th>party_id</th>\n",
       "      <th>gross_wealth_mean</th>\n",
       "      <th>date_of_first_prior_mean</th>\n",
       "      <th>block_size</th>\n",
       "      <th>numbers_active_medici</th>\n",
       "      <th>numbers_active_oligarch</th>\n",
       "      <th>numbers_active_neutral</th>\n",
       "      <th>pos_x</th>\n",
       "      <th>pos_y</th>\n",
       "      <th>partisanship_color</th>\n",
       "      <th>status_color</th>\n",
       "    </tr>\n",
       "  </thead>\n",
       "  <tbody>\n",
       "    <tr>\n",
       "      <th>0</th>\n",
       "      <td>0</td>\n",
       "      <td>MEDICI</td>\n",
       "      <td>0</td>\n",
       "      <td>82702</td>\n",
       "      <td>1318</td>\n",
       "      <td>3</td>\n",
       "      <td>7</td>\n",
       "      <td>0</td>\n",
       "      <td>0</td>\n",
       "      <td>-0.0776</td>\n",
       "      <td>0.0391</td>\n",
       "      <td>#387db8</td>\n",
       "      <td>#b6b6b6</td>\n",
       "    </tr>\n",
       "    <tr>\n",
       "      <th>1</th>\n",
       "      <td>1</td>\n",
       "      <td>TORNABUONI</td>\n",
       "      <td>0</td>\n",
       "      <td>42840</td>\n",
       "      <td>1303</td>\n",
       "      <td>7</td>\n",
       "      <td>8</td>\n",
       "      <td>1</td>\n",
       "      <td>1</td>\n",
       "      <td>0.0776</td>\n",
       "      <td>0.1251</td>\n",
       "      <td>#5c82b0</td>\n",
       "      <td>#d4d4d4</td>\n",
       "    </tr>\n",
       "    <tr>\n",
       "      <th>2</th>\n",
       "      <td>2</td>\n",
       "      <td>GUICCIARDINI</td>\n",
       "      <td>0</td>\n",
       "      <td>40617</td>\n",
       "      <td>1289</td>\n",
       "      <td>5</td>\n",
       "      <td>6</td>\n",
       "      <td>0</td>\n",
       "      <td>0</td>\n",
       "      <td>-0.1761</td>\n",
       "      <td>-0.0705</td>\n",
       "      <td>#387db8</td>\n",
       "      <td>#f1f1f1</td>\n",
       "    </tr>\n",
       "    <tr>\n",
       "      <th>3</th>\n",
       "      <td>3</td>\n",
       "      <td>GINORI</td>\n",
       "      <td>0</td>\n",
       "      <td>21167</td>\n",
       "      <td>1344</td>\n",
       "      <td>2</td>\n",
       "      <td>11</td>\n",
       "      <td>0</td>\n",
       "      <td>0</td>\n",
       "      <td>-0.2381</td>\n",
       "      <td>0.1034</td>\n",
       "      <td>#387db8</td>\n",
       "      <td>#818181</td>\n",
       "    </tr>\n",
       "    <tr>\n",
       "      <th>4</th>\n",
       "      <td>4</td>\n",
       "      <td>DIETISALVI</td>\n",
       "      <td>0</td>\n",
       "      <td>13137</td>\n",
       "      <td>1340</td>\n",
       "      <td>2</td>\n",
       "      <td>3</td>\n",
       "      <td>0</td>\n",
       "      <td>0</td>\n",
       "      <td>-0.4000</td>\n",
       "      <td>0.1282</td>\n",
       "      <td>#387db8</td>\n",
       "      <td>#898989</td>\n",
       "    </tr>\n",
       "  </tbody>\n",
       "</table>\n",
       "</div>"
      ],
      "text/plain": [
       "   family_id        family  party_id  gross_wealth_mean  \\\n",
       "0          0        MEDICI         0              82702   \n",
       "1          1    TORNABUONI         0              42840   \n",
       "2          2  GUICCIARDINI         0              40617   \n",
       "3          3        GINORI         0              21167   \n",
       "4          4    DIETISALVI         0              13137   \n",
       "\n",
       "   date_of_first_prior_mean  block_size  numbers_active_medici  \\\n",
       "0                      1318           3                      7   \n",
       "1                      1303           7                      8   \n",
       "2                      1289           5                      6   \n",
       "3                      1344           2                     11   \n",
       "4                      1340           2                      3   \n",
       "\n",
       "   numbers_active_oligarch  numbers_active_neutral   pos_x   pos_y  \\\n",
       "0                        0                       0 -0.0776  0.0391   \n",
       "1                        1                       1  0.0776  0.1251   \n",
       "2                        0                       0 -0.1761 -0.0705   \n",
       "3                        0                       0 -0.2381  0.1034   \n",
       "4                        0                       0 -0.4000  0.1282   \n",
       "\n",
       "  partisanship_color status_color  \n",
       "0            #387db8      #b6b6b6  \n",
       "1            #5c82b0      #d4d4d4  \n",
       "2            #387db8      #f1f1f1  \n",
       "3            #387db8      #818181  \n",
       "4            #387db8      #898989  "
      ]
     },
     "execution_count": 3,
     "metadata": {},
     "output_type": "execute_result"
    }
   ],
   "source": [
    "families.head()"
   ]
  },
  {
   "cell_type": "markdown",
   "metadata": {},
   "source": [
    "Note that data normalization means storing the party in a separate table and linking to it via a `party_id`:"
   ]
  },
  {
   "cell_type": "code",
   "execution_count": 4,
   "metadata": {},
   "outputs": [
    {
     "data": {
      "text/html": [
       "<div>\n",
       "<style scoped>\n",
       "    .dataframe tbody tr th:only-of-type {\n",
       "        vertical-align: middle;\n",
       "    }\n",
       "\n",
       "    .dataframe tbody tr th {\n",
       "        vertical-align: top;\n",
       "    }\n",
       "\n",
       "    .dataframe thead th {\n",
       "        text-align: right;\n",
       "    }\n",
       "</style>\n",
       "<table border=\"1\" class=\"dataframe\">\n",
       "  <thead>\n",
       "    <tr style=\"text-align: right;\">\n",
       "      <th></th>\n",
       "      <th>party_id</th>\n",
       "      <th>party</th>\n",
       "    </tr>\n",
       "  </thead>\n",
       "  <tbody>\n",
       "    <tr>\n",
       "      <th>0</th>\n",
       "      <td>0</td>\n",
       "      <td>Medici</td>\n",
       "    </tr>\n",
       "    <tr>\n",
       "      <th>1</th>\n",
       "      <td>1</td>\n",
       "      <td>Oligarch</td>\n",
       "    </tr>\n",
       "  </tbody>\n",
       "</table>\n",
       "</div>"
      ],
      "text/plain": [
       "   party_id     party\n",
       "0         0    Medici\n",
       "1         1  Oligarch"
      ]
     },
     "execution_count": 4,
     "metadata": {},
     "output_type": "execute_result"
    }
   ],
   "source": [
    "parties"
   ]
  },
  {
   "cell_type": "markdown",
   "metadata": {},
   "source": [
    "There are multiplex relations among the families, described in more detail in the notebvook of the [collection](elite_families.ipynb). This dataframe will be used as an **edge list** when constructing the network:"
   ]
  },
  {
   "cell_type": "code",
   "execution_count": 5,
   "metadata": {},
   "outputs": [
    {
     "data": {
      "text/html": [
       "<div>\n",
       "<style scoped>\n",
       "    .dataframe tbody tr th:only-of-type {\n",
       "        vertical-align: middle;\n",
       "    }\n",
       "\n",
       "    .dataframe tbody tr th {\n",
       "        vertical-align: top;\n",
       "    }\n",
       "\n",
       "    .dataframe thead th {\n",
       "        text-align: right;\n",
       "    }\n",
       "</style>\n",
       "<table border=\"1\" class=\"dataframe\">\n",
       "  <thead>\n",
       "    <tr style=\"text-align: right;\">\n",
       "      <th></th>\n",
       "      <th>family_id_from</th>\n",
       "      <th>family_id_to</th>\n",
       "      <th>weight</th>\n",
       "      <th>domain_id</th>\n",
       "    </tr>\n",
       "  </thead>\n",
       "  <tbody>\n",
       "    <tr>\n",
       "      <th>0</th>\n",
       "      <td>0</td>\n",
       "      <td>1</td>\n",
       "      <td>1</td>\n",
       "      <td>0</td>\n",
       "    </tr>\n",
       "    <tr>\n",
       "      <th>1</th>\n",
       "      <td>0</td>\n",
       "      <td>23</td>\n",
       "      <td>1</td>\n",
       "      <td>0</td>\n",
       "    </tr>\n",
       "    <tr>\n",
       "      <th>2</th>\n",
       "      <td>2</td>\n",
       "      <td>0</td>\n",
       "      <td>1</td>\n",
       "      <td>0</td>\n",
       "    </tr>\n",
       "    <tr>\n",
       "      <th>3</th>\n",
       "      <td>3</td>\n",
       "      <td>4</td>\n",
       "      <td>1</td>\n",
       "      <td>0</td>\n",
       "    </tr>\n",
       "    <tr>\n",
       "      <th>4</th>\n",
       "      <td>5</td>\n",
       "      <td>3</td>\n",
       "      <td>1</td>\n",
       "      <td>0</td>\n",
       "    </tr>\n",
       "  </tbody>\n",
       "</table>\n",
       "</div>"
      ],
      "text/plain": [
       "   family_id_from  family_id_to  weight  domain_id\n",
       "0               0             1       1          0\n",
       "1               0            23       1          0\n",
       "2               2             0       1          0\n",
       "3               3             4       1          0\n",
       "4               5             3       1          0"
      ]
     },
     "execution_count": 5,
     "metadata": {},
     "output_type": "execute_result"
    }
   ],
   "source": [
    "relations.head()"
   ]
  },
  {
   "cell_type": "markdown",
   "metadata": {},
   "source": [
    "Finally, the types of these multiplex ties are described in a separate table:"
   ]
  },
  {
   "cell_type": "code",
   "execution_count": 6,
   "metadata": {},
   "outputs": [
    {
     "data": {
      "text/html": [
       "<div>\n",
       "<style scoped>\n",
       "    .dataframe tbody tr th:only-of-type {\n",
       "        vertical-align: middle;\n",
       "    }\n",
       "\n",
       "    .dataframe tbody tr th {\n",
       "        vertical-align: top;\n",
       "    }\n",
       "\n",
       "    .dataframe thead th {\n",
       "        text-align: right;\n",
       "    }\n",
       "</style>\n",
       "<table border=\"1\" class=\"dataframe\">\n",
       "  <thead>\n",
       "    <tr style=\"text-align: right;\">\n",
       "      <th></th>\n",
       "      <th>domain_id</th>\n",
       "      <th>domain</th>\n",
       "    </tr>\n",
       "  </thead>\n",
       "  <tbody>\n",
       "    <tr>\n",
       "      <th>0</th>\n",
       "      <td>0</td>\n",
       "      <td>Marriage</td>\n",
       "    </tr>\n",
       "    <tr>\n",
       "      <th>1</th>\n",
       "      <td>1</td>\n",
       "      <td>Economic</td>\n",
       "    </tr>\n",
       "    <tr>\n",
       "      <th>2</th>\n",
       "      <td>2</td>\n",
       "      <td>Political</td>\n",
       "    </tr>\n",
       "    <tr>\n",
       "      <th>3</th>\n",
       "      <td>3</td>\n",
       "      <td>Friendship</td>\n",
       "    </tr>\n",
       "  </tbody>\n",
       "</table>\n",
       "</div>"
      ],
      "text/plain": [
       "   domain_id      domain\n",
       "0          0    Marriage\n",
       "1          1    Economic\n",
       "2          2   Political\n",
       "3          3  Friendship"
      ]
     },
     "execution_count": 6,
     "metadata": {},
     "output_type": "execute_result"
    }
   ],
   "source": [
    "domains = pd.read_csv('data/elite_families/domains.txt', sep='\\t', encoding='utf-8')\n",
    "domains.head()"
   ]
  },
  {
   "cell_type": "markdown",
   "metadata": {},
   "source": [
    "### Workflow: From data to network construction, visualization and analysis\n",
    "#### Network construction\n",
    "`compsoc` provides functions that can be used in the various staps on an analytical process. First, the `construct_graph()` function, again described in its [own notebook](construct_graph.ipynb), builds networks from data in the normal form. It basically takes a node list and an edge list and lets the user specify **default attributes** for node position, node size, node color, etc. Since the elite families network is supposed to be a directed multiplex graph, set `directed=True` and `multiplex=True`. The node list must be a dataframe in the above form form, i.e., the node identifier must be an integer from 0 to $N-1$ for a graph of $N$ nodes. The edge list must be a dataframe that use these identifiers in the first two columns. The third column must contain an edge weight. If `multiplex=True`, the fourth column must be an integer from 0 to $L-1$ for $L$ network layers or domains. All parameters `node_...` expect as input a column name of the node list. `layer_color` is a dictionary of colors for edge layers. Below we override the default dictionary by custom colors:"
   ]
  },
  {
   "cell_type": "code",
   "execution_count": 7,
   "metadata": {},
   "outputs": [],
   "source": [
    "G = cs.construct_graph(\n",
    "    directed=True, \n",
    "    multiplex=True, \n",
    "    graph_name='elite_families', \n",
    "    node_list=families, \n",
    "    edge_list=relations, \n",
    "    node_pos=['pos_x', 'pos_y'], \n",
    "    node_size='gross_wealth_mean', \n",
    "    node_color='partisanship_color', \n",
    "    node_shape='party_id', \n",
    "    node_border_color='status_color', \n",
    "    node_label='family', \n",
    "    layer_color={0: '#984ea3', 1: '#ff7f00', 2: '#4daf4a', 3: '#a65628'}\n",
    ")"
   ]
  },
  {
   "cell_type": "markdown",
   "metadata": {},
   "source": [
    "Get a basic description of the network:"
   ]
  },
  {
   "cell_type": "code",
   "execution_count": 8,
   "metadata": {},
   "outputs": [
    {
     "name": "stdout",
     "output_type": "stream",
     "text": [
      "Name: elite_families\n",
      "Type: MultiDiGraph\n",
      "Number of nodes: 33\n",
      "Number of edges: 86\n",
      "Average in degree:   2.6061\n",
      "Average out degree:   2.6061\n"
     ]
    }
   ],
   "source": [
    "print(nx.info(G))"
   ]
  },
  {
   "cell_type": "markdown",
   "metadata": {},
   "source": [
    "#### Network visualization\n",
    "Having constructed the network, the next step is to visualize it. The `draw_graph()` function described [here](draw_graph.ipynb) takes the graph just created and uses the attributes stored in it as default values. Both functions work in tandem. They are part of the `compsoc `backbone. The network uses many attributes: gross wealth for node size, partisanship for node color, status for node border color, edge width for the strength of family relations, and edge color for the tye of tie. Since these attributes are already internalized in the graph object, drawing only requires a fine tuning of sizes:"
   ]
  },
  {
   "cell_type": "code",
   "execution_count": 9,
   "metadata": {},
   "outputs": [
    {
     "data": {
      "image/png": "[encoded data removed]",
      "text/plain": [
       "<Figure size 864x864 with 1 Axes>"
      ]
     },
     "metadata": {},
     "output_type": "display_data"
    }
   ],
   "source": [
    "cs.draw_graph(\n",
    "    G, \n",
    "    node_size_factor=0.02, \n",
    "    node_border_width=4, \n",
    "    curved_edges=True, \n",
    "    labels='text', \n",
    "    font_size_factor=.0002, \n",
    "    label_transparency=.75, \n",
    "    figsize='large', \n",
    "    png='elite_families'\n",
    ")"
   ]
  },
  {
   "cell_type": "markdown",
   "metadata": {},
   "source": [
    "If we want to draw a simpler version of the graph with fewer attributes visualized, we can set the corresponding parameters to `None`:"
   ]
  },
  {
   "cell_type": "code",
   "execution_count": null,
   "metadata": {},
   "outputs": [],
   "source": [
    "cs.draw_graph(\n",
    "    G, \n",
    "    node_size=None, \n",
    "    node_size_factor=.3, \n",
    "    node_color=None, \n",
    "    node_shape=None, \n",
    "    node_border_color=None, \n",
    "    node_border_width=1, \n",
    "    edge_width=None, \n",
    "    edge_color=None, \n",
    "    figsize='medium'\n",
    ")"
   ]
  },
  {
   "cell_type": "markdown",
   "metadata": {},
   "source": [
    "#### Network analysis\n",
    "The elite families graph has often been used to teach centrality analysi, i.e., the analysis of nodes in terms of a atructural ranking. The way `compsoc` is contructed, all we need to do is to plug the respective centrality score into the parameter for node size. We see, e.g., that the Medici family is both central in terms of being **close** to all other families in the power game..."
   ]
  },
  {
   "cell_type": "code",
   "execution_count": null,
   "metadata": {},
   "outputs": [],
   "source": [
    "cs.draw_graph(\n",
    "    G, \n",
    "    node_size=nx.closeness_centrality(G), \n",
    "    node_size_factor=2500, \n",
    "    node_border_color=None, \n",
    "    curved_edges=True, \n",
    "    labels='text', \n",
    "    font_size=None, \n",
    "    label_transparency=.75, \n",
    "    figsize='large', \n",
    "    png='elite_families'\n",
    ")"
   ]
  },
  {
   "cell_type": "markdown",
   "metadata": {},
   "source": [
    "... as well as most central in terms of being **between** other families:"
   ]
  },
  {
   "cell_type": "code",
   "execution_count": null,
   "metadata": {},
   "outputs": [],
   "source": [
    "cs.draw_graph(\n",
    "    G, \n",
    "    node_size=nx.betweenness_centrality(nx.DiGraph(G)), \n",
    "    node_size_factor=2500, \n",
    "    node_border_color=None, \n",
    "    curved_edges=True, \n",
    "    labels='text', \n",
    "    font_size=None, \n",
    "    label_transparency=.75, \n",
    "    figsize='large', \n",
    "    png='elite_families'\n",
    ")"
   ]
  },
  {
   "cell_type": "markdown",
   "metadata": {},
   "source": [
    "## Copenhagen Networks Study data collection\n",
    "The Copenhagen Networks Study [collection](copenhagen.ipynb) is one of the premier datasets in the realm of digital behavioral data because it contains four types of relations among 845 university students. Bringing it into the standard form already takes some effort, but this is done when we load the dataset:"
   ]
  },
  {
   "cell_type": "code",
   "execution_count": null,
   "metadata": {},
   "outputs": [],
   "source": [
    "users, genders, bluetooth, calls, sms, facebook_friends = cs.copenhagen_collection()"
   ]
  },
  {
   "cell_type": "markdown",
   "metadata": {},
   "source": [
    "As with the elite families collection there is no transactions table of transactions. Certainly calls and short messages are transactions with a sender, a receiver, and a content, but storing data as simple relations among users is preferred because there are no metadata of the transactions.\n",
    "\n",
    "In principle, it would be possible to construct a multiplex graph from the **four types of tie**. But this step needs care because the four layers operate no **different time scales**. Bluetooth user proximity is measured every 5 minutes, users make 0.15 calls per day on average, they send 1 text message per day on average, and the Facebook friendship network is a static snapshot at the end of the 4 week observation period. Therefore, we construct the networks layer by layer. These steps require that a `compsoc` user has basic knowledge how to preprocess dataframes in `pandas`.\n",
    "### Network construction and visualization\n",
    "#### Network of physical proximity\n",
    "Preprocess data (extract day 1):"
   ]
  },
  {
   "cell_type": "code",
   "execution_count": null,
   "metadata": {},
   "outputs": [],
   "source": [
    "bluetooth_preprocessed = bluetooth[bluetooth['day'] == 0]\n",
    "bluetooth_preprocessed = bluetooth_preprocessed[['user_id_from', 'user_id_to', 'strength']].groupby(['user_id_from', 'user_id_to']).max().reset_index()"
   ]
  },
  {
   "cell_type": "markdown",
   "metadata": {},
   "source": [
    "Construct graph:"
   ]
  },
  {
   "cell_type": "code",
   "execution_count": null,
   "metadata": {},
   "outputs": [],
   "source": [
    "H_bluetooth_preprocessed = cs.construct_graph(\n",
    "    directed=False, \n",
    "    multiplex=False, \n",
    "    graph_name='bluetooth_preprocessed', \n",
    "    node_list=users, \n",
    "    edge_list=bluetooth_preprocessed, \n",
    "    node_color='gender_id', \n",
    "    node_label='user'\n",
    ")"
   ]
  },
  {
   "cell_type": "markdown",
   "metadata": {},
   "source": [
    "Draw graph with periphery removed:"
   ]
  },
  {
   "cell_type": "code",
   "execution_count": null,
   "metadata": {},
   "outputs": [],
   "source": [
    "cs.draw_graph(\n",
    "    H_bluetooth_preprocessed.subgraph(max(nx.connected_components(nx.to_undirected(H_bluetooth_preprocessed)))), \n",
    "    edge_color='#e41a1c', \n",
    "    edge_width_factor=.05\n",
    ")"
   ]
  },
  {
   "cell_type": "markdown",
   "metadata": {},
   "source": [
    "#### Network of phone calls\n",
    "Preprocess data:"
   ]
  },
  {
   "cell_type": "code",
   "execution_count": null,
   "metadata": {},
   "outputs": [],
   "source": [
    "calls_preprocessed = calls[['user_id_from', 'user_id_to', 'duration']].groupby(['user_id_from', 'user_id_to']).sum().reset_index()\n",
    "calls_preprocessed = calls_preprocessed[calls_preprocessed['duration'] > 1]\n",
    "calls_preprocessed.loc[:, 'duration_log'] = np.log10(calls_preprocessed['duration'])\n",
    "calls_preprocessed = calls_preprocessed[['user_id_from', 'user_id_to', 'duration_log']]"
   ]
  },
  {
   "cell_type": "markdown",
   "metadata": {},
   "source": [
    "Construct graph:"
   ]
  },
  {
   "cell_type": "code",
   "execution_count": null,
   "metadata": {},
   "outputs": [],
   "source": [
    "H_calls_preprocessed = cs.construct_graph(\n",
    "    directed=True, \n",
    "    multiplex=False, \n",
    "    graph_name='calls_preprocessed', \n",
    "    node_list=users, \n",
    "    edge_list=calls_preprocessed, \n",
    "    node_color='gender_id', \n",
    "    node_label='user'\n",
    ")"
   ]
  },
  {
   "cell_type": "markdown",
   "metadata": {},
   "source": [
    "Draw graph with periphery removed:"
   ]
  },
  {
   "cell_type": "code",
   "execution_count": null,
   "metadata": {},
   "outputs": [],
   "source": [
    "cs.draw_graph(\n",
    "    H_calls_preprocessed.subgraph(max(nx.connected_components(nx.to_undirected(H_calls_preprocessed)), key=len)), \n",
    "    edge_color='#377eb8'\n",
    ")"
   ]
  },
  {
   "cell_type": "markdown",
   "metadata": {},
   "source": [
    "#### Network of text messages\n",
    "Preprocess data:"
   ]
  },
  {
   "cell_type": "code",
   "execution_count": null,
   "metadata": {},
   "outputs": [],
   "source": [
    "sms_preprocessed = sms.groupby(['user_id_from', 'user_id_to']).size().reset_index()\n",
    "sms_preprocessed.rename(columns={0: 'size'}, inplace=True)\n",
    "sms_preprocessed = sms_preprocessed[sms_preprocessed['size'] > 1]\n",
    "sms_preprocessed.loc[:, 'size_log'] = np.log10(sms_preprocessed['size'])\n",
    "sms_preprocessed = sms_preprocessed[['user_id_from', 'user_id_to', 'size_log']]"
   ]
  },
  {
   "cell_type": "markdown",
   "metadata": {},
   "source": [
    "Construct graph:"
   ]
  },
  {
   "cell_type": "code",
   "execution_count": null,
   "metadata": {},
   "outputs": [],
   "source": [
    "H_sms_preprocessed = cs.construct_graph(\n",
    "    directed=True, \n",
    "    multiplex=False, \n",
    "    graph_name='sms_preprocessed', \n",
    "    node_list=users, \n",
    "    edge_list=sms_preprocessed, \n",
    "    node_color='gender_id', \n",
    "    node_label='user'\n",
    ")"
   ]
  },
  {
   "cell_type": "markdown",
   "metadata": {},
   "source": [
    "Draw graph with periphery removed:"
   ]
  },
  {
   "cell_type": "code",
   "execution_count": null,
   "metadata": {},
   "outputs": [],
   "source": [
    "cs.draw_graph(\n",
    "    H_sms_preprocessed.subgraph(max(nx.connected_components(nx.to_undirected(H_sms_preprocessed)), key=len)), \n",
    "    edge_color='#4daf4a'\n",
    ")"
   ]
  },
  {
   "cell_type": "markdown",
   "metadata": {},
   "source": [
    "#### Network of Facebook friendships\n",
    "Preprocess data:"
   ]
  },
  {
   "cell_type": "code",
   "execution_count": null,
   "metadata": {},
   "outputs": [],
   "source": [
    "facebook_friends['weight'] = 1"
   ]
  },
  {
   "cell_type": "code",
   "execution_count": null,
   "metadata": {},
   "outputs": [],
   "source": [
    "H_facebook_friends = cs.construct_graph(\n",
    "    directed=False, \n",
    "    multiplex=False, \n",
    "    graph_name='facebook_friends', \n",
    "    node_list=users, \n",
    "    edge_list=facebook_friends, \n",
    "    node_color='gender_id', \n",
    "    node_label='user'\n",
    ")"
   ]
  },
  {
   "cell_type": "markdown",
   "metadata": {},
   "source": [
    "Construct graph:"
   ]
  },
  {
   "cell_type": "code",
   "execution_count": null,
   "metadata": {},
   "outputs": [],
   "source": [
    "cs.draw_graph(\n",
    "    H_facebook_friends.subgraph(max(nx.connected_components(nx.to_undirected(H_facebook_friends)), key=len)), \n",
    "    node_color=None, \n",
    "    edge_width_factor=.2, \n",
    "    edge_color='#984ea3'\n",
    ")"
   ]
  },
  {
   "cell_type": "markdown",
   "metadata": {},
   "source": [
    "### Network analysis\n",
    "Since there is a gender attribute, we may want to know if, for example, there are signs of homophily in these graphs, i.e., if users tend to connect with those of the same gender. A simple measure (that would need to be adjusted for size differences) is the assortativity coefficient:"
   ]
  },
  {
   "cell_type": "code",
   "execution_count": null,
   "metadata": {},
   "outputs": [],
   "source": [
    "print('bluetooth: ', nx.attribute_assortativity_coefficient(H_bluetooth_preprocessed, 'node_color'))\n",
    "print('calls: ', nx.attribute_assortativity_coefficient(H_calls_preprocessed, 'node_color'))\n",
    "print('sms: ', nx.attribute_assortativity_coefficient(H_sms_preprocessed, 'node_color'))\n",
    "print('facebook_friends: ', nx.attribute_assortativity_coefficient(H_facebook_friends, 'node_color'))"
   ]
  },
  {
   "cell_type": "code",
   "execution_count": null,
   "metadata": {},
   "outputs": [],
   "source": []
  }
 ],
 "metadata": {
  "kernelspec": {
   "display_name": "Python 3",
   "language": "python",
   "name": "python3"
  },
  "language_info": {
   "codemirror_mode": {
    "name": "ipython",
    "version": 3
   },
   "file_extension": ".py",
   "mimetype": "text/x-python",
   "name": "python",
   "nbconvert_exporter": "python",
   "pygments_lexer": "ipython3",
   "version": "3.8.3"
  }
 },
 "nbformat": 4,
 "nbformat_minor": 2
}
